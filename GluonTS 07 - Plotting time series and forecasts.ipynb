{
 "cells": [
  {
   "cell_type": "markdown",
   "metadata": {},
   "source": [
    "# Plotting Time Series and Forecasts in GluonTS\n",
    "\n",
    "Contents: \n",
    "\n",
    "- Exploring individual time series from low-frequency built-in datasets `[m4_yearly, m4_quarterly, m4_monthly]`\n",
    "- Plotting a time series from a built-in dataset\n",
    "- Forecasting a model using gluon \n",
    "- Plotting the forecast and intervals for one series"
   ]
  },
  {
   "cell_type": "code",
   "execution_count": 2,
   "metadata": {},
   "outputs": [],
   "source": [
    "### Imports\n",
    "# visualization \n",
    "%matplotlib inline\n",
    "import matplotlib.pyplot as plt\n",
    "\n",
    "# standard imports\n",
    "import numpy as np\n",
    "import pandas as pd\n",
    "\n",
    "# mxnet imports \n",
    "import mxnet as mx\n",
    "from mxnet import gluon\n",
    "\n",
    "# json library\n",
    "import json\n",
    "\n",
    "# gluon imports\n",
    "from gluonts.dataset.repository.datasets import get_dataset, dataset_recipes\n",
    "from gluonts.dataset.util import to_pandas"
   ]
  }
 ],
 "metadata": {
  "kernelspec": {
   "display_name": "Python 3",
   "language": "python",
   "name": "python3"
  },
  "language_info": {
   "codemirror_mode": {
    "name": "ipython",
    "version": 3
   },
   "file_extension": ".py",
   "mimetype": "text/x-python",
   "name": "python",
   "nbconvert_exporter": "python",
   "pygments_lexer": "ipython3",
   "version": "3.6.9"
  }
 },
 "nbformat": 4,
 "nbformat_minor": 2
}
