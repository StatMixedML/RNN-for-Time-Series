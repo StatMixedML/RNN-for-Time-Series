{
 "cells": [
  {
   "cell_type": "markdown",
   "metadata": {},
   "source": [
    "# Plotting Time Series and Forecasts in GluonTS\n",
    "\n",
    "Contents: \n",
    "\n",
    "- Exploring individual time series from low-frequency built-in datasets `[m4_yearly, m4_quarterly, m4_monthly]`\n",
    "- Plotting a time series from a built-in dataset\n",
    "- Forecasting a model using gluon \n",
    "- Plotting the forecast and intervals for one series"
   ]
  }
 ],
 "metadata": {
  "kernelspec": {
   "display_name": "Python 3",
   "language": "python",
   "name": "python3"
  },
  "language_info": {
   "codemirror_mode": {
    "name": "ipython",
    "version": 3
   },
   "file_extension": ".py",
   "mimetype": "text/x-python",
   "name": "python",
   "nbconvert_exporter": "python",
   "pygments_lexer": "ipython3",
   "version": "3.6.9"
  }
 },
 "nbformat": 4,
 "nbformat_minor": 2
}
