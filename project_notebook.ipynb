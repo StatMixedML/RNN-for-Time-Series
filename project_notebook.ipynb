{
 "cells": [
  {
   "cell_type": "markdown",
   "metadata": {},
   "source": [
    "# MLND Project notebook\n",
    "\n",
    "This notebook is the base version of my project. Seeds, algorithms, epochs, etc. can be modified to validate the results from my project paper. I used this notebook on my personal computer in addition to running another version on an AWS instance to get all the results. Total CPU running time exceeds 100+ CPU hours. Moreover, I used a GPU instance for the more complex calculations. \n",
    "\n",
    "Note that the current version of `MXNet` as well as `gluonts` is required to be installed on the computer or the AWS instance. After installing `MXNet` using pip or conda (not necessary on AWS SageMaker instances), the most recent version of the  `gluonts` library can installed by directly accessing the github code using \n",
    "\n",
    "`!pip install git+https://github.com/awslabs/gluon-ts.git`\n",
    "\n",
    "The github of the project in conjunction with the GluonTS documentation was very helpful. Moreover, note that I used Ubuntu Linux instances.\n",
    "\n",
    "## Imports\n",
    "\n",
    "After making sure that `MXNet` is installed on the computer or instance, run the following command to install the most recent version of gluonts. \n",
    "\n",
    "For more information follow the installation guide: \n",
    "\n",
    "- [Installation guide](http://gluon-ts-staging.s3-accelerate.dualstack.amazonaws.com/PR-271/4/install.html)\n",
    "\n",
    "\n",
    "The gluonts version that I used for the project:\n",
    "\n",
    "- `0.3.4.dev68+ga894aee`\n"
   ]
  },
  {
   "cell_type": "code",
   "execution_count": 1,
   "metadata": {},
   "outputs": [
    {
     "data": {
      "text/plain": [
       "'0.3.3'"
      ]
     },
     "execution_count": 1,
     "metadata": {},
     "output_type": "execute_result"
    }
   ],
   "source": [
    "import gluonts\n",
    "gluonts.__version__"
   ]
  },
  {
   "cell_type": "markdown",
   "metadata": {},
   "source": [
    "**If gluonts version is <= 0.3.3 uncomment the following line and install gluonts github version directly**\n",
    "\n",
    "Note that this may require additional dependencies."
   ]
  },
  {
   "cell_type": "code",
   "execution_count": 2,
   "metadata": {},
   "outputs": [],
   "source": [
    "# If gluonts version is <= 0.3.3: uncomment the following line\n",
    "# !pip install git+https://github.com/awslabs/gluon-ts.git"
   ]
  },
  {
   "cell_type": "code",
   "execution_count": 9,
   "metadata": {},
   "outputs": [
    {
     "name": "stderr",
     "output_type": "stream",
     "text": [
      "INFO:root:Using CPU\n"
     ]
    }
   ],
   "source": [
    "# vis\n",
    "%matplotlib inline\n",
    "import matplotlib.pyplot as plt\n",
    "\n",
    "# standard imports\n",
    "import numpy as np\n",
    "import pandas as pd\n",
    "import random\n",
    "\n",
    "# printing\n",
    "from pprint import pprint\n",
    "\n",
    "# mxnet imports \n",
    "import mxnet as mx\n",
    "from mxnet import gluon\n",
    "\n",
    "# json library\n",
    "import json\n",
    "\n",
    "# gluon imports\n",
    "from gluonts.dataset.repository.datasets import get_dataset, dataset_recipes\n",
    "from gluonts.dataset.util import to_pandas\n",
    "from gluonts.trainer import Trainer\n",
    "from gluonts.evaluation.backtest import make_evaluation_predictions\n",
    "from gluonts.evaluation import Evaluator\n",
    "\n",
    "# gluon algorithms\n",
    "from gluonts.model.deepstate import DeepStateEstimator\n",
    "from gluonts.model.deep_factor import DeepFactorEstimator\n",
    "from gluonts.model.deepar import DeepAREstimator\n"
   ]
  },
  {
   "cell_type": "markdown",
   "metadata": {},
   "source": [
    "## The data\n",
    "\n",
    "There are various ways to work with the M4 data in python. Initially I downloaded the data from the original website and had to prepare them in order to use them. I later realised that there is a neat library that has a built-in function.\n",
    "\n",
    "The data can be loaded using the `get_dataset(...)` function. This project coverst the performance of the following data: \n",
    "\n",
    "- `m4_hourly`\n",
    "- `m4_daily`\n",
    "- `m4_weekly`\n",
    "- `m4_daily`\n",
    "\n",
    "Built-in datasets of gluonts are objects that consists of three parts: \n",
    "\n",
    "- `dataset.train` - is an iterable collection of data entries used for training. Each entry is one series as a dictionary.\n",
    "- `dataset.test`- The test dataset is an extended version of the train dataset that contains a window in the end of each time series that was not seen during training. This window has length equal to the recommended prediction length (forecasting horizon in the M4 competition). \n",
    "- `dataset.metadata` - contains metadata of the dataset such as the frequency of the time series, a recommended prediction horizon (forecast horizon), associated features, etc. "
   ]
  },
  {
   "cell_type": "code",
   "execution_count": 4,
   "metadata": {},
   "outputs": [
    {
     "name": "stderr",
     "output_type": "stream",
     "text": [
      "INFO:root:using dataset already processed in path C:\\Users\\TM\\.mxnet\\gluon-ts\\datasets\\m4_hourly.\n"
     ]
    }
   ],
   "source": [
    "# load data\n",
    "dataset = get_dataset(\"m4_hourly\")"
   ]
  },
  {
   "cell_type": "markdown",
   "metadata": {},
   "source": [
    "Each entry consists of at least a starting timestamp with respective  frequency of the series, and the target time series. In the case of the M4 data the starting time is a generic starting time which is equal for all time series as the starting dates were not known during the competition.  "
   ]
  },
  {
   "cell_type": "code",
   "execution_count": 5,
   "metadata": {},
   "outputs": [
    {
     "name": "stdout",
     "output_type": "stream",
     "text": [
      "Start:\n",
      " 1750-01-01 00:00:00\n",
      "First ten observations:\n",
      " [605. 586. 586. 559. 511. 443. 422. 395. 382. 370.]\n"
     ]
    }
   ],
   "source": [
    "entry = list(dataset.train)[0]\n",
    "\n",
    "print(\"Start:\\n\", entry[\"start\"])\n",
    "print(\"First ten observations:\\n\", entry[\"target\"][:10])"
   ]
  },
  {
   "cell_type": "code",
   "execution_count": 6,
   "metadata": {},
   "outputs": [
    {
     "data": {
      "text/plain": [
       "array([605., 586., 586., 559., 511.], dtype=float32)"
      ]
     },
     "execution_count": 6,
     "metadata": {},
     "output_type": "execute_result"
    }
   ],
   "source": [
    "entry[\"target\"][:5]"
   ]
  },
  {
   "cell_type": "markdown",
   "metadata": {},
   "source": [
    "## Example plot"
   ]
  },
  {
   "cell_type": "code",
   "execution_count": 7,
   "metadata": {},
   "outputs": [
    {
     "name": "stdout",
     "output_type": "stream",
     "text": [
      "Series No.: 405\n"
     ]
    },
    {
     "data": {
      "image/png": "[encoded data removed]",
      "text/plain": [
       "<Figure size 432x288 with 1 Axes>"
      ]
     },
     "metadata": {
      "needs_background": "light"
     },
     "output_type": "display_data"
    }
   ],
   "source": [
    "rn = random.randint(0, len(dataset.train))\n",
    "print(\"Series No.:\", rn)\n",
    "train_series = to_pandas(list(dataset.train)[rn])\n",
    "test_series = to_pandas(list(dataset.test)[rn])\n",
    "\n",
    "test_series.plot()\n",
    "plt.axvline(train_series.index[-1], color='r') # end of train dataset\n",
    "plt.grid(which=\"both\")\n",
    "plt.legend([\"test series\", \"end of train series\"], loc=\"upper left\")\n",
    "plt.show()"
   ]
  },
  {
   "cell_type": "markdown",
   "metadata": {},
   "source": [
    "## Implementation\n",
    "\n",
    "### DeepAR \n",
    "\n",
    "The **DeepAR** algorithm uses autoregressive features that are used as the inputs to a recurrent neural network. The RNN uses LSTM cells as default but can also changed to GRU cells. In both cases previous time points are taken as input. \n",
    "\n",
    "- [`DeepAREestimator`](https://gluon-ts.mxnet.io/api/gluonts/gluonts.model.deepar.html)\n",
    "\n",
    "Approach: \n",
    "\n",
    "1. Define a function that implements DeepAR on a dataset using a specific seed, number of epochs, and batches. The function prints out results for the specified measures of accuracy \n",
    "2. Write a loop that iteratively applies this for a range of seeds\n"
   ]
  },
  {
   "cell_type": "code",
   "execution_count": 10,
   "metadata": {},
   "outputs": [],
   "source": [
    "# 1. deepar function\n",
    "def deepar(data=\"m4_weekly\", seed=42, epochs=100, batches=50):\n",
    "    \n",
    "    dataset = get_dataset(data, regenerate=False)\n",
    "    mx.random.seed(seed)\n",
    "    np.random.seed(seed)\n",
    "    \n",
    "    trainer = Trainer(\n",
    "        ctx=mx.cpu(0),\n",
    "        epochs=epochs,      \n",
    "        num_batches_per_epoch=batches,      \n",
    "        learning_rate=1e-3,\n",
    "    )\n",
    "    \n",
    "    cardinality = int(dataset.metadata.feat_static_cat[0].cardinality)\n",
    "    estimator = DeepAREstimator(\n",
    "        trainer=trainer,\n",
    "        cardinality=[cardinality],\n",
    "#         context_length=dataset.metadata.prediction_length,\n",
    "        prediction_length=dataset.metadata.prediction_length,\n",
    "        freq=dataset.metadata.freq,\n",
    "        use_feat_static_cat=True   \n",
    "    )\n",
    "        \n",
    "    predictor = estimator.train(dataset.train)\n",
    "    \n",
    "    forecast_it, ts_it = make_evaluation_predictions(\n",
    "        dataset.test, predictor=predictor, num_eval_samples=100\n",
    "    )\n",
    "    \n",
    "    agg_metrics, item_metrics = Evaluator()(\n",
    "        ts_it, forecast_it, num_series=len(dataset.test)\n",
    "    )\n",
    "    \n",
    "    metrics = [\"MASE\", \"sMAPE\", \"MSIS\", \"wQuantileLoss[0.5]\", \"wQuantileLoss[0.9]\"]\n",
    "    output = {key: round(value, 8) for key, value in agg_metrics.items() if key in metrics}\n",
    "    output[\"epochs\"] = epochs\n",
    "    output[\"seed\"] = seed\n",
    "    return(output)\n"
   ]
  },
  {
   "cell_type": "markdown",
   "metadata": {},
   "source": [
    "#### Example - Simple Implementation\n",
    "\n",
    "- Writing a function that applies the algorithm and prints the respective measures."
   ]
  },
  {
   "cell_type": "code",
   "execution_count": 11,
   "metadata": {},
   "outputs": [
    {
     "name": "stderr",
     "output_type": "stream",
     "text": [
      "INFO:root:using dataset already processed in path C:\\Users\\TM\\.mxnet\\gluon-ts\\datasets\\m4_weekly.\n",
      "INFO:root:Start model training\n",
      "INFO:root:Number of parameters in DeepARTrainingNetwork: 20623\n",
      "INFO:root:Epoch[0] Learning rate is 0.001\n",
      "100%|██████████| 50/50 [00:03<00:00, 13.35it/s, avg_epoch_loss=7.69]\n",
      "INFO:root:Epoch[0] Elapsed time 3.759 seconds\n",
      "INFO:root:Epoch[0] Evaluation metric 'epoch_loss'=7.689772\n",
      "INFO:root:Loading parameters from best epoch (0)\n",
      "INFO:root:Final loss: 7.689771537780762 (occurred at epoch 0)\n",
      "INFO:root:End model training\n",
      "Running evaluation: 100%|██████████| 359/359 [00:30<00:00, 11.88it/s]\n"
     ]
    },
    {
     "name": "stdout",
     "output_type": "stream",
     "text": [
      "{'MASE': 5.54378962,\n",
      " 'MSIS': 54.72282354,\n",
      " 'epochs': 1,\n",
      " 'sMAPE': 0.12889508,\n",
      " 'seed': 42,\n",
      " 'wQuantileLoss[0.5]': 0.09491686,\n",
      " 'wQuantileLoss[0.9]': 0.07740071}\n",
      "Wall time: 34.3 s\n"
     ]
    }
   ],
   "source": [
    "%%time\n",
    "res = deepar(data=\"m4_weekly\", seed=42, epochs=1, batches=50)\n",
    "pprint(res)"
   ]
  },
  {
   "cell_type": "markdown",
   "metadata": {},
   "source": [
    "##### Next: How to apply the function to a range of seeds\n",
    "\n",
    "The algorithm is not very stable and results depend on the used random numbers. By fixing the seeds and running the algorihtm various times (in particular for seeds 42, 43, 44) the results can be reproduced using the same seeds\n"
   ]
  },
  {
   "cell_type": "code",
   "execution_count": null,
   "metadata": {},
   "outputs": [],
   "source": [
    "# 2. \n",
    "%%time\n",
    "results = []\n",
    "\n",
    "if __name__ == \"__main__\":\n",
    "    for i in range(42, 45):\n",
    "        print(\"Seed:\", i)\n",
    "        res = deepar(data=\"m4_monthly\", seed=i, epochs=100, batches=50)\n",
    "        pprint(res)\n",
    "        results.append(res)\n",
    "    \n",
    "results"
   ]
  },
  {
   "cell_type": "markdown",
   "metadata": {},
   "source": [
    "### Deep State Space Models (Rangapuram et al., 2018)\n",
    "\n",
    "**DeepState** combines state space models (SSM) with a recurrent neural network (RNN). The SSM is applied *locally* to the individual time series that is parametrized using a *global* representation in form of a RNN. The RNN is trained on the entire dataset. \n",
    "\n",
    "- [`DeepStateEstimator`](http://gluon-ts.mxnet.io/master/api/gluonts/gluonts.model.deepstate.html#gluonts.model.deepstate.DeepStateEstimator)\n",
    "\n",
    "Approach: \n",
    "\n",
    "1. Define a function that implements DeepState on a dataset using a specific seed, number of epochs, and batches. The function prints out results for the specified measures of accuracy \n",
    "2. Write a loop that iteratively applies this for a range of seeds\n"
   ]
  },
  {
   "cell_type": "code",
   "execution_count": 12,
   "metadata": {},
   "outputs": [],
   "source": [
    "# 1. DeepState function\n",
    "def deep_state(seed=42, data=\"m4_weekly\", epochs=25, batches=50):\n",
    "    dataset = get_dataset(data)\n",
    "\n",
    "    mx.random.seed(seed)\n",
    "    np.random.seed(seed)\n",
    "    \n",
    "    trainer = Trainer(\n",
    "        ctx=mx.cpu(0),\n",
    "#         ctx=mx.gpu(0),\n",
    "        epochs=epochs,\n",
    "        num_batches_per_epoch=batches,\n",
    "        learning_rate=1e-3,\n",
    "    )\n",
    "\n",
    "    cardinality = int(dataset.metadata.feat_static_cat[0].cardinality)\n",
    "    estimator = DeepStateEstimator(\n",
    "        trainer=trainer,\n",
    "        prediction_length=dataset.metadata.prediction_length,\n",
    "        freq=dataset.metadata.freq,\n",
    "#         past_length=48,\n",
    "        use_feat_static_cat=True,\n",
    "        cardinality=[cardinality],\n",
    "    )\n",
    "\n",
    "    predictor = estimator.train(dataset.train)\n",
    "\n",
    "    forecast_it, ts_it = make_evaluation_predictions(\n",
    "        dataset.test, predictor=predictor, num_eval_samples=100\n",
    "    )\n",
    "\n",
    "    agg_metrics, item_metrics = Evaluator()(\n",
    "        ts_it, forecast_it, num_series=len(dataset.test)\n",
    "    )\n",
    "    metrics = [\"MASE\", \"sMAPE\", \"MSIS\", \"wQuantileLoss[0.5]\", \"wQuantileLoss[0.9]\"]\n",
    "    output = {key: round(value, 8) for key, value in agg_metrics.items() if key in metrics}\n",
    "    output[\"epochs\"] = epochs\n",
    "    output[\"seed\"] = seed\n",
    "\n",
    "    pprint(output)\n"
   ]
  },
  {
   "cell_type": "code",
   "execution_count": null,
   "metadata": {},
   "outputs": [],
   "source": [
    "# 2.\n",
    "%%time\n",
    "results = []\n",
    "\n",
    "if __name__ == \"__main__\":\n",
    "    for i in range(42, 45):\n",
    "        print(\"Seed:\", i)\n",
    "        res = deep_state(data=\"m4_monthly\", seed=i, epochs=100, batches=1000)\n",
    "        pprint(res)\n",
    "        results.append(res)\n",
    "    \n",
    "results"
   ]
  },
  {
   "cell_type": "markdown",
   "metadata": {},
   "source": [
    "### Deep Factor (Wang et al.,  2019)\n",
    "\n",
    "Hybrid method that uses *local* methods that are specific to each time series in the dataset as well as a *global* representation trained on the entire data. The latter is a RNN to learn universal pattern. The current version uses another RNN as local model -> **DeepFactor-RNN (DF-RNN)**\n",
    "\n",
    "- [`DeepFactorEstimator`](http://gluon-ts.mxnet.io/master/api/gluonts/gluonts.model.deep_factor.html?highlight=deepfactorestimator#gluonts.model.deep_factor.DeepFactorEstimator)\n",
    "- [Wang et al. (2019)](https://arxiv.org/abs/1905.12417)\n",
    "\n",
    "Approach: \n",
    "\n",
    "1. Define a function that implements DeepFactor on a dataset using a specific seed, number of epochs, and batches. The function prints out results for the specified measures of accuracy \n",
    "2. Write a loop that iteratively applies this for a range of seeds\n"
   ]
  },
  {
   "cell_type": "code",
   "execution_count": 13,
   "metadata": {},
   "outputs": [],
   "source": [
    "# 1.\n",
    "def deepfactor(seed=42, data=\"m4_daily\", epochs=100, batches=50):\n",
    "    \n",
    "    mx.random.seed(seed)\n",
    "    np.random.seed(seed)\n",
    "    \n",
    "    dataset = get_dataset(data)\n",
    "    trainer = Trainer(\n",
    "        ctx=mx.cpu(0),\n",
    "        epochs=epochs,\n",
    "        num_batches_per_epoch=batches,\n",
    "        learning_rate=1e-3,\n",
    "    )\n",
    "\n",
    "    cardinality = int(dataset.metadata.feat_static_cat[0].cardinality)\n",
    "    estimator = DeepFactorEstimator(\n",
    "        trainer=trainer,\n",
    "        cardinality=[cardinality],\n",
    "        prediction_length=dataset.metadata.prediction_length,\n",
    "        freq=dataset.metadata.freq,\n",
    "#         num_layers_global=2,\n",
    "#         num_layers_local=2\n",
    "    )\n",
    "\n",
    "    predictor = estimator.train(dataset.train)\n",
    "\n",
    "    forecast_it, ts_it = make_evaluation_predictions(\n",
    "        dataset.test, predictor=predictor, num_eval_samples=100\n",
    "    )\n",
    "\n",
    "    agg_metrics, item_metrics = Evaluator()(\n",
    "        ts_it, forecast_it, num_series=len(dataset.test)\n",
    "    )\n",
    "    metrics = [\"MASE\", \"sMAPE\", \"MSIS\", \"wQuantileLoss[0.5]\", \"wQuantileLoss[0.9]\"]\n",
    "    output = {key: round(value, 8) for key, value in agg_metrics.items() if key in metrics}\n",
    "\n",
    "    pprint(output)"
   ]
  },
  {
   "cell_type": "code",
   "execution_count": null,
   "metadata": {},
   "outputs": [],
   "source": [
    "%%time\n",
    "if __name__ == \"__main__\":\n",
    "    deepfactor(seed=42, data=\"m4_daily\", epochs=1, batches=250)"
   ]
  },
  {
   "cell_type": "code",
   "execution_count": null,
   "metadata": {},
   "outputs": [],
   "source": [
    "# 2.\n",
    "%%time\n",
    "results = []\n",
    "\n",
    "if __name__ == \"__main__\":\n",
    "    for i in range(42, 45):\n",
    "        print(\"Seed:\", i)\n",
    "        res = deepfactor(data=\"m4_monthly\", seed=i, epochs=100, batches=1000)\n",
    "        pprint(res)\n",
    "        results.append(res)\n",
    "    \n",
    "results"
   ]
  }
 ],
 "metadata": {
  "kernelspec": {
   "display_name": "Python 3",
   "language": "python",
   "name": "python3"
  },
  "language_info": {
   "codemirror_mode": {
    "name": "ipython",
    "version": 3
   },
   "file_extension": ".py",
   "mimetype": "text/x-python",
   "name": "python",
   "nbconvert_exporter": "python",
   "pygments_lexer": "ipython3",
   "version": "3.6.9"
  }
 },
 "nbformat": 4,
 "nbformat_minor": 2
}
