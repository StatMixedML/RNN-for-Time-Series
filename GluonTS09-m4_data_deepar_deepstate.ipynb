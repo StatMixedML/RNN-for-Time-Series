{
 "cells": [
  {
   "cell_type": "code",
   "execution_count": 2,
   "metadata": {},
   "outputs": [],
   "source": [
    "# check version of gluonts\n",
    "# import gluonts\n",
    "# gluonts.__version__"
   ]
  },
  {
   "cell_type": "code",
   "execution_count": 1,
   "metadata": {},
   "outputs": [
    {
     "data": {
      "text/plain": [
       "'0.4.1'"
      ]
     },
     "execution_count": 1,
     "metadata": {},
     "output_type": "execute_result"
    }
   ],
   "source": [
    "# !pip install gluonts==\"0.4.1\"\n",
    "# change to 0.4.0 if any problems occur\n",
    "import gluonts\n",
    "gluonts.__version__"
   ]
  },
  {
   "cell_type": "code",
   "execution_count": 2,
   "metadata": {},
   "outputs": [
    {
     "name": "stderr",
     "output_type": "stream",
     "text": [
      "INFO:root:Using CPU\n",
      "INFO:root:Using CPU\n"
     ]
    }
   ],
   "source": [
    "# Imports\n",
    "import pprint\n",
    "from functools import partial\n",
    "\n",
    "import pandas as pd\n",
    "\n",
    "from gluonts.dataset.repository.datasets import get_dataset\n",
    "from gluonts.distribution.piecewise_linear import PiecewiseLinearOutput\n",
    "from gluonts.evaluation import Evaluator\n",
    "from gluonts.evaluation.backtest import make_evaluation_predictions\n",
    "\n",
    "from gluonts.model.deepar import DeepAREstimator\n",
    "from gluonts.model.deepstate import DeepStateEstimator\n",
    "\n",
    "from gluonts.trainer import Trainer\n",
    "\n",
    "import mxnet as mx\n",
    "import numpy as np"
   ]
  },
  {
   "cell_type": "code",
   "execution_count": 4,
   "metadata": {},
   "outputs": [
    {
     "name": "stderr",
     "output_type": "stream",
     "text": [
      "INFO:root:using dataset already processed in path C:\\Users\\TM\\.mxnet\\gluon-ts\\datasets\\m4_weekly.\n"
     ]
    },
    {
     "name": "stdout",
     "output_type": "stream",
     "text": [
      "evaluating gluonts.model.deepar._estimator.DeepAREstimator(cardinality=[359], cell_type=\"lstm\", context_length=None, distr_output=gluonts.distribution.student_t.StudentTOutput(), dropout_rate=0.1, embedding_dimension=None, freq=\"W\", lags_seq=None, num_cells=40, num_layers=2, num_parallel_samples=100, prediction_length=13, scaling=True, time_features=None, trainer=gluonts.trainer._base.Trainer(batch_size=32, clip_gradient=10.0, ctx=mxnet.context.Context(\"cpu\", 0), epochs=1, hybridize=True, init=\"xavier\", learning_rate=0.001, learning_rate_decay_factor=0.5, minimum_learning_rate=5e-05, num_batches_per_epoch=5, patience=10, weight_decay=1e-08), use_feat_dynamic_real=False, use_feat_static_cat=True, use_feat_static_real=False) on TrainDatasets(metadata=<MetaData freq='W' target=None feat_static_cat=[<CategoricalFeatureInfo name='feat_static_cat' cardinality='359'>] feat_static_real=[] feat_dynamic_real=[] feat_dynamic_cat=[] prediction_length=13>, train=<gluonts.dataset.common.FileDataset object at 0x000002438AE04320>, test=<gluonts.dataset.common.FileDataset object at 0x000002438AE04828>)\n"
     ]
    },
    {
     "name": "stderr",
     "output_type": "stream",
     "text": [
      "INFO:root:Start model training\n",
      "INFO:root:Epoch[0] Learning rate is 0.001\n",
      "  0%|          | 0/5 [00:00<?, ?it/s]INFO:root:Number of parameters in DeepARTrainingNetwork: 49593\n",
      "100%|██████████| 5/5 [00:03<00:00,  1.40it/s, avg_epoch_loss=8.89]\n",
      "INFO:root:Epoch[0] Elapsed time 3.683 seconds\n",
      "INFO:root:Epoch[0] Evaluation metric 'epoch_loss'=8.891572\n",
      "0it [00:00, ?it/s]INFO:root:Number of parameters in DeepARTrainingNetwork: 49593\n",
      "11it [00:06,  1.72it/s, validation_avg_epoch_loss=8.6]\n",
      "INFO:root:Epoch[0] Elapsed time 6.422 seconds\n",
      "INFO:root:Epoch[0] Evaluation metric 'validation_epoch_loss'=8.598819\n",
      "INFO:root:Loading parameters from best epoch (0)\n",
      "INFO:root:Final loss: 8.598819047976763 (occurred at epoch 0)\n",
      "INFO:root:End model training\n",
      "Running evaluation: 100%|██████████| 359/359 [00:50<00:00,  7.08it/s]\n"
     ]
    },
    {
     "name": "stdout",
     "output_type": "stream",
     "text": [
      "{'Coverage[0.1]': 0.0,\n",
      " 'Coverage[0.2]': 0.0006428112277694451,\n",
      " 'Coverage[0.3]': 0.057424469680737035,\n",
      " 'Coverage[0.4]': 0.3634026140989921,\n",
      " 'Coverage[0.5]': 0.6989500749946436,\n",
      " 'Coverage[0.6]': 0.8322262695521745,\n",
      " 'Coverage[0.7]': 0.9286479537175917,\n",
      " 'Coverage[0.8]': 0.9712877651596312,\n",
      " 'Coverage[0.9]': 0.9869295050353545,\n",
      " 'MAE_Coverage': 0.1662857414946552,\n",
      " 'MASE': 18.100461257103195,\n",
      " 'MSE': 3339515.580839159,\n",
      " 'MSIS': 217.2803119465804,\n",
      " 'ND': 0.18986661310966307,\n",
      " 'NRMSE': 0.3329301626481846,\n",
      " 'QuantileLoss[0.1]': 4969770.461747741,\n",
      " 'QuantileLoss[0.2]': 5451670.840563965,\n",
      " 'QuantileLoss[0.3]': 4326091.933265686,\n",
      " 'QuantileLoss[0.4]': 3422400.47399292,\n",
      " 'QuantileLoss[0.5]': 4863792.010505676,\n",
      " 'QuantileLoss[0.6]': 6500976.791189576,\n",
      " 'QuantileLoss[0.7]': 7642628.755805971,\n",
      " 'QuantileLoss[0.8]': 7688629.8313385,\n",
      " 'QuantileLoss[0.9]': 6106946.0082534775,\n",
      " 'RMSE': 1827.4341522580667,\n",
      " 'abs_error': 4863792.048233032,\n",
      " 'abs_target_mean': 5488.941397566194,\n",
      " 'abs_target_sum': 25616889.502441406,\n",
      " 'mean_wQuantileLoss': 0.2210907122289403,\n",
      " 'sMAPE': 0.19986388677262598,\n",
      " 'seasonal_error': 216.54813922503882,\n",
      " 'wQuantileLoss[0.1]': 0.1940036654830439,\n",
      " 'wQuantileLoss[0.2]': 0.21281548800233518,\n",
      " 'wQuantileLoss[0.3]': 0.16887655048257869,\n",
      " 'wQuantileLoss[0.4]': 0.13359937683561268,\n",
      " 'wQuantileLoss[0.5]': 0.18986661163690988,\n",
      " 'wQuantileLoss[0.6]': 0.2537769775120435,\n",
      " 'wQuantileLoss[0.7]': 0.2983433548822387,\n",
      " 'wQuantileLoss[0.8]': 0.30013908716769605,\n",
      " 'wQuantileLoss[0.9]': 0.2383952980580042}\n"
     ]
    },
    {
     "name": "stderr",
     "output_type": "stream",
     "text": [
      "INFO:root:using dataset already processed in path C:\\Users\\TM\\.mxnet\\gluon-ts\\datasets\\m4_weekly.\n"
     ]
    },
    {
     "name": "stdout",
     "output_type": "stream",
     "text": [
      "evaluating gluonts.model.deepstate._estimator.DeepStateEstimator(add_trend=False, cardinality=[359], cell_type=\"lstm\", dropout_rate=0.1, embedding_dimension=None, freq=\"W\", innovation_bounds=gluonts.distribution.lds.ParameterBounds(lower=1e-06, upper=0.01), issm=None, noise_std_bounds=gluonts.distribution.lds.ParameterBounds(lower=1e-06, upper=1.0), num_cells=40, num_layers=2, num_parallel_samples=100, num_periods_to_train=4, past_length=None, prediction_length=13, prior_cov_bounds=gluonts.distribution.lds.ParameterBounds(lower=1e-06, upper=1.0), scaling=True, time_features=None, trainer=gluonts.trainer._base.Trainer(batch_size=32, clip_gradient=10.0, ctx=mxnet.context.Context(\"cpu\", 0), epochs=1, hybridize=True, init=\"xavier\", learning_rate=0.001, learning_rate_decay_factor=0.5, minimum_learning_rate=5e-05, num_batches_per_epoch=5, patience=10, weight_decay=1e-08), use_feat_dynamic_real=False, use_feat_static_cat=True) on TrainDatasets(metadata=<MetaData freq='W' target=None feat_static_cat=[<CategoricalFeatureInfo name='feat_static_cat' cardinality='359'>] feat_static_real=[] feat_dynamic_real=[] feat_dynamic_cat=[] prediction_length=13>, train=<gluonts.dataset.common.FileDataset object at 0x000002438AE04C50>, test=<gluonts.dataset.common.FileDataset object at 0x000002438AE89B00>)\n"
     ]
    },
    {
     "name": "stderr",
     "output_type": "stream",
     "text": [
      "INFO:root:Start model training\n",
      "INFO:root:Epoch[0] Learning rate is 0.001\n",
      "  0%|          | 0/5 [00:00<?, ?it/s]INFO:root:Number of parameters in DeepStateTrainingNetwork: 50821\n",
      "100%|██████████| 5/5 [01:28<00:00, 17.63s/it, avg_epoch_loss=0.486]\n",
      "INFO:root:Epoch[0] Elapsed time 88.162 seconds\n",
      "INFO:root:Epoch[0] Evaluation metric 'epoch_loss'=0.486151\n",
      "0it [00:00, ?it/s]INFO:root:Number of parameters in DeepStateTrainingNetwork: 50821\n",
      "12it [02:50, 14.18s/it, validation_avg_epoch_loss=0.416]\n",
      "INFO:root:Epoch[0] Elapsed time 170.454 seconds\n",
      "INFO:root:Epoch[0] Evaluation metric 'validation_epoch_loss'=0.415844\n",
      "INFO:root:Loading parameters from best epoch (0)\n",
      "INFO:root:Final loss: 0.415844344827126 (occurred at epoch 0)\n",
      "INFO:root:End model training\n",
      "Running evaluation: 100%|██████████| 359/359 [03:27<00:00,  1.73it/s] \n"
     ]
    },
    {
     "name": "stdout",
     "output_type": "stream",
     "text": [
      "{'Coverage[0.1]': 0.018427255196057427,\n",
      " 'Coverage[0.2]': 0.05785301049925003,\n",
      " 'Coverage[0.3]': 0.14913220484251138,\n",
      " 'Coverage[0.4]': 0.28069423612599104,\n",
      " 'Coverage[0.5]': 0.47396614527533765,\n",
      " 'Coverage[0.6]': 0.7008785086779517,\n",
      " 'Coverage[0.7]': 0.8782944075423179,\n",
      " 'Coverage[0.8]': 0.9335761731304905,\n",
      " 'Coverage[0.9]': 0.9558602956931649,\n",
      " 'MAE_Coverage': 0.10983739256719749,\n",
      " 'MASE': 12.03790902786159,\n",
      " 'MSE': 2377691.19072159,\n",
      " 'MSIS': 128.18162978678365,\n",
      " 'ND': 0.15186060234158183,\n",
      " 'NRMSE': 0.28092418545177844,\n",
      " 'QuantileLoss[0.1]': 2716411.7707992555,\n",
      " 'QuantileLoss[0.2]': 3856060.539926148,\n",
      " 'QuantileLoss[0.3]': 4243706.650212097,\n",
      " 'QuantileLoss[0.4]': 4176491.4996490483,\n",
      " 'QuantileLoss[0.5]': 3890196.273864746,\n",
      " 'QuantileLoss[0.6]': 3754677.283862305,\n",
      " 'QuantileLoss[0.7]': 3862798.9599197386,\n",
      " 'QuantileLoss[0.8]': 3723629.969848633,\n",
      " 'QuantileLoss[0.9]': 2742259.542593383,\n",
      " 'RMSE': 1541.9763911038294,\n",
      " 'abs_error': 3890196.269958496,\n",
      " 'abs_target_mean': 5488.941397566194,\n",
      " 'abs_target_sum': 25616889.502441406,\n",
      " 'mean_wQuantileLoss': 0.14298827032989536,\n",
      " 'sMAPE': 0.1679488198372,\n",
      " 'seasonal_error': 216.54813922503882,\n",
      " 'wQuantileLoss[0.1]': 0.10603987539316079,\n",
      " 'wQuantileLoss[0.2]': 0.1505280545305334,\n",
      " 'wQuantileLoss[0.3]': 0.16566049714223316,\n",
      " 'wQuantileLoss[0.4]': 0.1630366364054859,\n",
      " 'wQuantileLoss[0.5]': 0.1518606024940691,\n",
      " 'wQuantileLoss[0.6]': 0.14657038214981047,\n",
      " 'wQuantileLoss[0.7]': 0.15079110051794525,\n",
      " 'wQuantileLoss[0.8]': 0.14535839604936243,\n",
      " 'wQuantileLoss[0.9]': 0.10704888828645778}\n",
      "     dataset           estimator         RMSE  mean_wQuantileLoss       MASE     sMAPE        MSIS\n",
      "0  m4_weekly     DeepAREstimator  1827.434152            0.221091  18.100461  0.199864  217.280312\n",
      "1  m4_weekly  DeepStateEstimator  1541.976391            0.142988  12.037909  0.167949  128.181630\n"
     ]
    }
   ],
   "source": [
    "datasets = [\n",
    "#     \"m4_hourly\",\n",
    "#     \"m4_daily\",\n",
    "    \"m4_weekly\",\n",
    "#     \"m4_monthly\",\n",
    "#     \"m4_quarterly\",\n",
    "#     \"m4_yearly\",\n",
    "]\n",
    "\n",
    "epochs = 1\n",
    "num_batches_per_epoch = 5\n",
    "seed = 42\n",
    "\n",
    "estimators = [\n",
    "    partial(\n",
    "        DeepAREstimator,\n",
    "        trainer=Trainer(\n",
    "            epochs=epochs, \n",
    "            num_batches_per_epoch=num_batches_per_epoch,\n",
    "            ctx=\"cpu\"\n",
    "        ),\n",
    "    ),\n",
    "    partial(\n",
    "        DeepStateEstimator,\n",
    "        trainer=Trainer(\n",
    "            epochs=epochs, \n",
    "            num_batches_per_epoch=num_batches_per_epoch,\n",
    "            ctx='cpu'\n",
    "        ),\n",
    "    ),\n",
    "#     partial(\n",
    "#         MQCNNEstimator,\n",
    "#         trainer=Trainer(\n",
    "#             epochs=epochs, num_batches_per_epoch=num_batches_per_epoch\n",
    "#         ),\n",
    "#     ),\n",
    "]\n",
    "\n",
    "\n",
    "def evaluate(dataset_name, estimator):\n",
    "    dataset = get_dataset(dataset_name)\n",
    "    estimator = estimator(\n",
    "        prediction_length=dataset.metadata.prediction_length,\n",
    "        freq=dataset.metadata.freq,\n",
    "        use_feat_static_cat=True,\n",
    "        cardinality=[\n",
    "            feat_static_cat.cardinality\n",
    "            for feat_static_cat in dataset.metadata.feat_static_cat\n",
    "        ],\n",
    "    )\n",
    "\n",
    "    print(f\"evaluating {estimator} on {dataset}\")\n",
    "\n",
    "    predictor = estimator.train(training_data=dataset.train, \n",
    "                                validation_data=dataset.test)\n",
    "\n",
    "    forecast_it, ts_it = make_evaluation_predictions(\n",
    "        dataset.test, predictor=predictor, num_samples=100\n",
    "    )\n",
    "\n",
    "    agg_metrics, item_metrics = Evaluator()(\n",
    "        ts_it, forecast_it, num_series=len(dataset.test)\n",
    "    )\n",
    "\n",
    "    pprint.pprint(agg_metrics)\n",
    "\n",
    "    eval_dict = agg_metrics\n",
    "    eval_dict[\"dataset\"] = dataset_name\n",
    "    eval_dict[\"estimator\"] = type(estimator).__name__\n",
    "    return eval_dict\n",
    "\n",
    "\n",
    "if __name__ == \"__main__\":\n",
    "    \n",
    "    mx.random.seed(seed)\n",
    "    np.random.seed(seed)\n",
    "\n",
    "\n",
    "    results = []\n",
    "    for dataset_name in datasets:\n",
    "        for estimator in estimators:\n",
    "            # catch exceptions that are happening during training to avoid failing the whole evaluation\n",
    "            try:\n",
    "                results.append(evaluate(dataset_name, estimator))\n",
    "            except Exception as e:\n",
    "                print(str(e))\n",
    "\n",
    "    df = pd.DataFrame(results)\n",
    "\n",
    "    sub_df = df[\n",
    "        [\n",
    "            \"dataset\",\n",
    "            \"estimator\",\n",
    "            \"RMSE\",\n",
    "            \"mean_wQuantileLoss\",\n",
    "            \"MASE\",\n",
    "            \"sMAPE\",\n",
    "            \"MSIS\",\n",
    "        ]\n",
    "    ]\n",
    "\n",
    "    print(sub_df.to_string())"
   ]
  },
  {
   "cell_type": "code",
   "execution_count": 5,
   "metadata": {},
   "outputs": [
    {
     "data": {
      "text/html": [
       "<div>\n",
       "<style scoped>\n",
       "    .dataframe tbody tr th:only-of-type {\n",
       "        vertical-align: middle;\n",
       "    }\n",
       "\n",
       "    .dataframe tbody tr th {\n",
       "        vertical-align: top;\n",
       "    }\n",
       "\n",
       "    .dataframe thead th {\n",
       "        text-align: right;\n",
       "    }\n",
       "</style>\n",
       "<table border=\"1\" class=\"dataframe\">\n",
       "  <thead>\n",
       "    <tr style=\"text-align: right;\">\n",
       "      <th></th>\n",
       "      <th>dataset</th>\n",
       "      <th>estimator</th>\n",
       "      <th>MASE</th>\n",
       "      <th>sMAPE</th>\n",
       "      <th>wQuantileLoss[0.5]</th>\n",
       "      <th>wQuantileLoss[0.9]</th>\n",
       "    </tr>\n",
       "  </thead>\n",
       "  <tbody>\n",
       "    <tr>\n",
       "      <td>0</td>\n",
       "      <td>m4_weekly</td>\n",
       "      <td>DeepAREstimator</td>\n",
       "      <td>18.100461</td>\n",
       "      <td>0.199864</td>\n",
       "      <td>0.189867</td>\n",
       "      <td>0.238395</td>\n",
       "    </tr>\n",
       "    <tr>\n",
       "      <td>1</td>\n",
       "      <td>m4_weekly</td>\n",
       "      <td>DeepStateEstimator</td>\n",
       "      <td>12.037909</td>\n",
       "      <td>0.167949</td>\n",
       "      <td>0.151861</td>\n",
       "      <td>0.107049</td>\n",
       "    </tr>\n",
       "  </tbody>\n",
       "</table>\n",
       "</div>"
      ],
      "text/plain": [
       "     dataset           estimator       MASE     sMAPE  wQuantileLoss[0.5]  \\\n",
       "0  m4_weekly     DeepAREstimator  18.100461  0.199864            0.189867   \n",
       "1  m4_weekly  DeepStateEstimator  12.037909  0.167949            0.151861   \n",
       "\n",
       "   wQuantileLoss[0.9]  \n",
       "0            0.238395  \n",
       "1            0.107049  "
      ]
     },
     "execution_count": 5,
     "metadata": {},
     "output_type": "execute_result"
    }
   ],
   "source": [
    "df[[\"dataset\", \"estimator\", \"MASE\", \"sMAPE\", \"wQuantileLoss[0.5]\", \"wQuantileLoss[0.9]\"]]"
   ]
  },
  {
   "cell_type": "code",
   "execution_count": 6,
   "metadata": {},
   "outputs": [
    {
     "name": "stdout",
     "output_type": "stream",
     "text": [
      "Done!\n"
     ]
    }
   ],
   "source": [
    "print(\"Done!\")"
   ]
  },
  {
   "cell_type": "code",
   "execution_count": null,
   "metadata": {},
   "outputs": [],
   "source": []
  }
 ],
 "metadata": {
  "kernelspec": {
   "display_name": "Python 3",
   "language": "python",
   "name": "python3"
  },
  "language_info": {
   "codemirror_mode": {
    "name": "ipython",
    "version": 3
   },
   "file_extension": ".py",
   "mimetype": "text/x-python",
   "name": "python",
   "nbconvert_exporter": "python",
   "pygments_lexer": "ipython3",
   "version": "3.6.9"
  }
 },
 "nbformat": 4,
 "nbformat_minor": 2
}
