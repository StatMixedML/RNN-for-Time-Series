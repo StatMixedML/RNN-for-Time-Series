{
 "cells": [
  {
   "cell_type": "code",
   "execution_count": 1,
   "metadata": {},
   "outputs": [
    {
     "name": "stdout",
     "output_type": "stream",
     "text": [
      "Collecting mxnet==1.4.1\n",
      "\u001b[?25l  Downloading https://files.pythonhosted.org/packages/58/f4/bc147a1ba7175f9890523ff8f1a928a43ac8a79d5897a067158cac4d092f/mxnet-1.4.1-py2.py3-none-manylinux1_x86_64.whl (28.4MB)\n",
      "\u001b[K    100% |████████████████████████████████| 28.4MB 1.9MB/s eta 0:00:011\n",
      "\u001b[?25hCollecting graphviz<0.9.0,>=0.8.1 (from mxnet==1.4.1)\n",
      "  Downloading https://files.pythonhosted.org/packages/53/39/4ab213673844e0c004bed8a0781a0721a3f6bb23eb8854ee75c236428892/graphviz-0.8.4-py2.py3-none-any.whl\n",
      "Requirement already satisfied: numpy<1.15.0,>=1.8.2 in /home/ec2-user/anaconda3/envs/python3/lib/python3.6/site-packages (from mxnet==1.4.1) (1.14.3)\n",
      "Requirement already satisfied: requests>=2.20.0 in /home/ec2-user/anaconda3/envs/python3/lib/python3.6/site-packages (from mxnet==1.4.1) (2.20.0)\n",
      "Requirement already satisfied: urllib3<1.25,>=1.21.1 in /home/ec2-user/anaconda3/envs/python3/lib/python3.6/site-packages (from requests>=2.20.0->mxnet==1.4.1) (1.23)\n",
      "Requirement already satisfied: certifi>=2017.4.17 in /home/ec2-user/anaconda3/envs/python3/lib/python3.6/site-packages (from requests>=2.20.0->mxnet==1.4.1) (2019.9.11)\n",
      "Requirement already satisfied: idna<2.8,>=2.5 in /home/ec2-user/anaconda3/envs/python3/lib/python3.6/site-packages (from requests>=2.20.0->mxnet==1.4.1) (2.6)\n",
      "Requirement already satisfied: chardet<3.1.0,>=3.0.2 in /home/ec2-user/anaconda3/envs/python3/lib/python3.6/site-packages (from requests>=2.20.0->mxnet==1.4.1) (3.0.4)\n",
      "Installing collected packages: graphviz, mxnet\n",
      "Successfully installed graphviz-0.8.4 mxnet-1.4.1\n",
      "\u001b[33mYou are using pip version 10.0.1, however version 19.3.1 is available.\n",
      "You should consider upgrading via the 'pip install --upgrade pip' command.\u001b[0m\n"
     ]
    }
   ],
   "source": [
    "!pip install mxnet==\"1.4.1\""
   ]
  },
  {
   "cell_type": "code",
   "execution_count": 13,
   "metadata": {},
   "outputs": [
    {
     "name": "stdout",
     "output_type": "stream",
     "text": [
      "Collecting gluonts==0.4.1\n",
      "\u001b[?25l  Downloading https://files.pythonhosted.org/packages/04/23/9ab41dbd19dd39bb0ce881cefa3f2a004564cba6888d014a42b2ea57105f/gluonts-0.4.1-py3-none-any.whl (322kB)\n",
      "\u001b[K    100% |████████████████████████████████| 327kB 49.0MB/s ta 0:00:01\n",
      "\u001b[?25hRequirement already satisfied: tqdm>=4.23.0 in /home/ec2-user/anaconda3/envs/python3/lib/python3.6/site-packages (from gluonts==0.4.1) (4.39.0)\n",
      "Requirement already satisfied: numpy==1.14.* in /home/ec2-user/anaconda3/envs/python3/lib/python3.6/site-packages (from gluonts==0.4.1) (1.14.3)\n",
      "Collecting pydantic==0.28.* (from gluonts==0.4.1)\n",
      "\u001b[?25l  Downloading https://files.pythonhosted.org/packages/0a/bc/fe7d98f0b4b1e72d0c444f343a798461c1f9d8656fb1c335416dbb8b7976/pydantic-0.28-cp36-cp36m-manylinux1_x86_64.whl (4.8MB)\n",
      "\u001b[K    100% |████████████████████████████████| 4.8MB 11.4MB/s ta 0:00:011\n",
      "\u001b[?25hRequirement already satisfied: matplotlib==3.* in /home/ec2-user/anaconda3/envs/python3/lib/python3.6/site-packages (from gluonts==0.4.1) (3.0.3)\n",
      "Requirement already satisfied: holidays==0.9.* in /home/ec2-user/anaconda3/envs/python3/lib/python3.6/site-packages (from gluonts==0.4.1) (0.9.11)\n",
      "Requirement already satisfied: boto3==1.* in /home/ec2-user/anaconda3/envs/python3/lib/python3.6/site-packages (from gluonts==0.4.1) (1.10.19)\n",
      "Requirement already satisfied: python-dateutil==2.8.0 in /home/ec2-user/anaconda3/envs/python3/lib/python3.6/site-packages (from gluonts==0.4.1) (2.8.0)\n",
      "Requirement already satisfied: ujson>=1.35 in /home/ec2-user/anaconda3/envs/python3/lib/python3.6/site-packages (from gluonts==0.4.1) (1.35)\n",
      "Requirement already satisfied: pandas>=0.25.0 in /home/ec2-user/anaconda3/envs/python3/lib/python3.6/site-packages (from gluonts==0.4.1) (0.25.3)\n",
      "Requirement already satisfied: dataclasses>=0.6; python_version < \"3.7\" in /home/ec2-user/anaconda3/envs/python3/lib/python3.6/site-packages (from pydantic==0.28.*->gluonts==0.4.1) (0.7)\n",
      "Requirement already satisfied: cycler>=0.10 in /home/ec2-user/anaconda3/envs/python3/lib/python3.6/site-packages (from matplotlib==3.*->gluonts==0.4.1) (0.10.0)\n",
      "Requirement already satisfied: pyparsing!=2.0.4,!=2.1.2,!=2.1.6,>=2.0.1 in /home/ec2-user/anaconda3/envs/python3/lib/python3.6/site-packages (from matplotlib==3.*->gluonts==0.4.1) (2.2.0)\n",
      "Requirement already satisfied: kiwisolver>=1.0.1 in /home/ec2-user/anaconda3/envs/python3/lib/python3.6/site-packages (from matplotlib==3.*->gluonts==0.4.1) (1.0.1)\n",
      "Requirement already satisfied: six in /home/ec2-user/anaconda3/envs/python3/lib/python3.6/site-packages (from holidays==0.9.*->gluonts==0.4.1) (1.11.0)\n",
      "Requirement already satisfied: jmespath<1.0.0,>=0.7.1 in /home/ec2-user/anaconda3/envs/python3/lib/python3.6/site-packages (from boto3==1.*->gluonts==0.4.1) (0.9.4)\n",
      "Requirement already satisfied: botocore<1.14.0,>=1.13.19 in /home/ec2-user/anaconda3/envs/python3/lib/python3.6/site-packages (from boto3==1.*->gluonts==0.4.1) (1.13.19)\n",
      "Requirement already satisfied: s3transfer<0.3.0,>=0.2.0 in /home/ec2-user/anaconda3/envs/python3/lib/python3.6/site-packages (from boto3==1.*->gluonts==0.4.1) (0.2.1)\n",
      "Requirement already satisfied: pytz>=2017.2 in /home/ec2-user/anaconda3/envs/python3/lib/python3.6/site-packages (from pandas>=0.25.0->gluonts==0.4.1) (2018.4)\n",
      "Requirement already satisfied: setuptools in /home/ec2-user/anaconda3/envs/python3/lib/python3.6/site-packages (from kiwisolver>=1.0.1->matplotlib==3.*->gluonts==0.4.1) (39.1.0)\n",
      "Requirement already satisfied: docutils<0.16,>=0.10 in /home/ec2-user/anaconda3/envs/python3/lib/python3.6/site-packages (from botocore<1.14.0,>=1.13.19->boto3==1.*->gluonts==0.4.1) (0.14)\n",
      "Requirement already satisfied: urllib3<1.26,>=1.20; python_version >= \"3.4\" in /home/ec2-user/anaconda3/envs/python3/lib/python3.6/site-packages (from botocore<1.14.0,>=1.13.19->boto3==1.*->gluonts==0.4.1) (1.23)\n",
      "Installing collected packages: pydantic, gluonts\n",
      "  Found existing installation: pydantic 1.1.1\n",
      "    Uninstalling pydantic-1.1.1:\n",
      "      Successfully uninstalled pydantic-1.1.1\n",
      "  Found existing installation: gluonts 0.4.2\n",
      "    Uninstalling gluonts-0.4.2:\n",
      "      Successfully uninstalled gluonts-0.4.2\n",
      "Successfully installed gluonts-0.4.1 pydantic-0.28\n",
      "\u001b[33mYou are using pip version 10.0.1, however version 19.3.1 is available.\n",
      "You should consider upgrading via the 'pip install --upgrade pip' command.\u001b[0m\n"
     ]
    }
   ],
   "source": [
    "!pip install gluonts==\"0.4.1\""
   ]
  },
  {
   "cell_type": "code",
   "execution_count": 1,
   "metadata": {},
   "outputs": [
    {
     "data": {
      "text/plain": [
       "'0.4.1'"
      ]
     },
     "execution_count": 1,
     "metadata": {},
     "output_type": "execute_result"
    }
   ],
   "source": [
    "import gluonts\n",
    "gluonts.__version__"
   ]
  },
  {
   "cell_type": "code",
   "execution_count": 2,
   "metadata": {},
   "outputs": [
    {
     "data": {
      "text/plain": [
       "'1.4.1'"
      ]
     },
     "execution_count": 2,
     "metadata": {},
     "output_type": "execute_result"
    }
   ],
   "source": [
    "import mxnet\n",
    "mxnet.__version__"
   ]
  },
  {
   "cell_type": "code",
   "execution_count": 3,
   "metadata": {},
   "outputs": [
    {
     "name": "stderr",
     "output_type": "stream",
     "text": [
      "INFO:root:Using CPU\n"
     ]
    }
   ],
   "source": [
    "# standard imports\n",
    "import numpy as np\n",
    "import pandas as pd\n",
    "\n",
    "# Vis\n",
    "%matplotlib inline\n",
    "import matplotlib.pyplot as plt\n",
    "from pprint import pprint\n",
    "\n",
    "# mxnet\n",
    "import mxnet as mx\n",
    "\n",
    "# gluonts\n",
    "from gluonts.dataset.util import to_pandas\n",
    "\n",
    "# imports from utility function\n",
    "import utils_gluonts10 as utils\n",
    "from utils_gluonts10 import get_dataset, dataset_recipes\n",
    "from utils_gluonts10_deepar import deepar\n",
    "# from utils_gluonts11_deepstate import deep_state\n"
   ]
  },
  {
   "cell_type": "code",
   "execution_count": 4,
   "metadata": {},
   "outputs": [
    {
     "name": "stdout",
     "output_type": "stream",
     "text": [
      "Available datasets: ['m4_daily', 'm4_hourly', 'm4_monthly', 'm4_monthly_atm', 'm4_monthly_dates', 'm4_monthly_demographic', 'm4_monthly_finance', 'm4_monthly_industry', 'm4_monthly_macro', 'm4_monthly_micro', 'm4_monthly_other', 'm4_quarterly', 'm4_quarterly_atm', 'm4_quarterly_dates', 'm4_quarterly_demographic', 'm4_quarterly_finance', 'm4_quarterly_industry', 'm4_quarterly_macro', 'm4_quarterly_micro', 'm4_quarterly_other', 'm4_weekly', 'my_weekly_tm', 'm4_yearly', 'm4_yearly_industry', 'm4_yearly_macro', 'm4_yearly_micro']\n"
     ]
    }
   ],
   "source": [
    "print(f\"Available datasets: {list(dataset_recipes.keys())}\")"
   ]
  },
  {
   "cell_type": "markdown",
   "metadata": {},
   "source": [
    "#### Note\n",
    "\n",
    "In SageMaker data are saved into the following folders (example shows m4_weekly):\n",
    "\n",
    "```\n",
    "saving time-series into /home/ec2-user/.mxnet/gluon-ts/datasets/m4_weekly/train/data.json\n",
    "saving time-series into /home/ec2-user/.mxnet/gluon-ts/datasets/m4_weekly/test/data.json\n",
    "```"
   ]
  },
  {
   "cell_type": "code",
   "execution_count": 9,
   "metadata": {},
   "outputs": [
    {
     "name": "stderr",
     "output_type": "stream",
     "text": [
      "INFO:root:using dataset already processed in path C:\\Users\\TM\\.mxnet\\gluon-ts\\datasets\\m4_monthly_other.\n"
     ]
    }
   ],
   "source": [
    "dataname = \"m4_monthly_other\"\n",
    "dataset = get_dataset(dataname, regenerate=False)"
   ]
  },
  {
   "cell_type": "code",
   "execution_count": 10,
   "metadata": {},
   "outputs": [
    {
     "name": "stdout",
     "output_type": "stream",
     "text": [
      "dict_keys(['start', 'target', 'feat_static_cat', 'source'])\n",
      "dict_keys(['start', 'target', 'feat_static_cat', 'source'])\n"
     ]
    }
   ],
   "source": [
    "# get the first time series in the training set\n",
    "train_entry = next(iter(dataset.train))\n",
    "test_entry = next(iter(dataset.test))\n",
    "\n",
    "# check keys\n",
    "print(train_entry.keys())\n",
    "print(test_entry.keys())"
   ]
  },
  {
   "cell_type": "code",
   "execution_count": 11,
   "metadata": {},
   "outputs": [
    {
     "data": {
      "text/plain": [
       "{'start': Timestamp('1750-01-31 00:00:00', freq='M'),\n",
       " 'target': array([  504.63,   498.05,   497.33,   500.58,   501.12,   503.37,\n",
       "          508.02,   506.61,   507.22,   506.6 ,   508.77,   515.04,\n",
       "          506.61,   496.09,   494.82,   496.56,   497.34,   500.15,\n",
       "          504.55,   502.79,   499.2 ,   501.3 ,   502.51,   497.63,\n",
       "          491.03,   484.41,   483.62,   484.55,   484.94,   488.75,\n",
       "          492.16,   493.34,   495.99,   500.32,   504.84,   512.81,\n",
       "          506.03,   498.41,   500.24,   503.65,   505.43,   509.08,\n",
       "          513.14,   511.75,   513.22,   515.52,   513.44,   522.57,\n",
       "          516.35,   510.13,   512.06,   514.89,   517.02,   521.95,\n",
       "          527.68,   526.  ,   529.1 ,   531.17,   537.75,   549.13,\n",
       "          542.38,   534.72,   538.3 ,   540.52,   542.73,   549.4 ,\n",
       "          554.26,   554.27,   558.87,   561.62,   567.86,   577.37,\n",
       "          571.38,   565.08,   566.96,   570.89,   571.65,   577.61,\n",
       "          584.07,   581.92,   585.74,   591.37,   596.14,   610.22,\n",
       "          605.2 ,   597.51,   599.33,   605.1 ,   606.31,   611.02,\n",
       "          620.64,   617.34,   623.59,   626.03,   629.93,   641.85,\n",
       "          638.5 ,   632.82,   631.66,   632.74,   633.82,   640.05,\n",
       "          648.21,   646.99,   652.25,   658.94,   664.53,   678.18,\n",
       "          676.98,   672.13,   675.21,   679.53,   680.77,   688.74,\n",
       "          697.  ,   698.87,   700.48,   708.3 ,   717.27,   731.39,\n",
       "          728.65,   719.78,   717.68,   723.61,   733.58,   735.09,\n",
       "          737.25,   737.73,   737.8 ,   744.36,   755.69,   767.52,\n",
       "          763.98,   752.37,   752.76,   762.94,   766.49,   769.  ,\n",
       "          779.6 ,   782.27,   786.84,   786.91,   794.68,   809.87,\n",
       "          811.7 ,   805.65,   807.88,   816.41,   824.05,   828.94,\n",
       "          841.84,   840.79,   844.31,   846.92,   854.91,   867.98,\n",
       "          872.2 ,   860.81,   866.56,   878.88,   885.43,   888.96,\n",
       "          900.75,   900.98,   901.93,   914.23,   905.31,   913.81,\n",
       "          916.88,   902.75,   911.18,   925.86,   931.18,   937.32,\n",
       "          955.75,   958.28,   962.26,   974.84,   983.43,  1001.43,\n",
       "         1003.76,   990.63,   996.04,  1017.43,  1027.77,  1035.97,\n",
       "         1050.54,  1050.46,  1052.92,  1057.04,  1069.33,  1086.4 ,\n",
       "         1077.45,  1055.11,  1056.93,  1068.16,  1069.89,  1084.23,\n",
       "         1095.01,  1090.92,  1092.03,  1096.75,  1110.96,  1131.25,\n",
       "         1119.25,  1105.58,  1112.55,  1130.93,  1135.66,  1144.11,\n",
       "         1155.79,  1155.33,  1155.73,  1165.54,  1183.43,  1203.37,\n",
       "         1196.77,  1178.18,  1187.19,  1206.46,  1209.79,  1218.04,\n",
       "         1240.91,  1241.8 ,  1244.25,  1257.49,  1276.07,  1299.15,\n",
       "         1302.11,  1286.71,  1291.1 ,  1311.77,  1322.55,  1336.06,\n",
       "         1357.08,  1352.09,  1362.11,  1375.72,  1407.34,  1447.21,\n",
       "         1443.28,  1416.06,  1422.93,  1444.1 ,  1444.94,  1458.89,\n",
       "         1481.36,  1485.68,  1495.85,  1515.33,  1538.09,  1566.53,\n",
       "         1559.95,  1538.96,  1550.32,  1578.58,  1579.15,  1589.22,\n",
       "         1599.4 ,  1583.88,  1593.91,  1609.25,  1620.49,  1633.76,\n",
       "         1610.8 ,  1589.82,  1597.65,  1623.71,  1632.  ,  1639.29,\n",
       "         1660.41,  1661.16,  1646.86,  1649.72,  1672.3 ,  1706.81,\n",
       "         1698.11,  1674.9 ,  1662.19,  1687.03,  1700.45,  1716.79,\n",
       "         1733.81,  1739.75,  1733.83,  1749.57,  1774.69,  1807.17,\n",
       "         1788.99,  1770.44,  1773.2 ,  1800.38,  1813.86,  1833.2 ,\n",
       "         1852.79,  1854.38,  1849.36,  1864.16,  1890.64,  1921.91,\n",
       "         1913.5 ,  1868.39,  1891.22,  1922.49,  1928.2 ,  1956.95,\n",
       "         1974.92,  1967.35,  1978.98,  1980.76,  2005.92,  2048.12,\n",
       "         2031.77,  2002.24,  2027.19,  2055.11,  2066.91,  2102.5 ,\n",
       "         2122.77,  2128.02,  2146.74,  2160.  ,  2194.98,  2247.22,\n",
       "         2216.97,  2177.59,  2213.55,  2250.63,  2264.23,  2301.41,\n",
       "         2329.92,  2332.36,  2351.1 ,  2370.05,  2419.53,  2486.25,\n",
       "         2469.71,  2424.53,  2447.74,  2495.79,  2505.93,  2528.59,\n",
       "         2548.02,  2545.59,  2562.58,  2581.12,  2623.58,  2668.78,\n",
       "         2662.52,  2607.24,  2633.88,  2684.48,  2688.23,  2730.81,\n",
       "         2758.36,  2748.08,  2752.31,  2754.4 ,  2791.59,  2837.89,\n",
       "         2821.65,  2752.71,  2787.88,  2816.3 ,  2805.83,  2836.71,\n",
       "         2857.01,  2838.54,  2840.36,  2842.38,  2878.14,  2943.23,\n",
       "         2931.32,  2877.19,  2924.02,  2974.04,  2972.79,  3017.42,\n",
       "         3038.88,  3051.47,  3080.33,  3087.64,  3136.7 ,  3152.7 ,\n",
       "         3095.97,  3069.45,  3110.89,  3140.68,  3143.39,  3180.71,\n",
       "         3199.87,  3200.51,  3218.25,  3230.57,  3284.15,  3354.15,\n",
       "         3331.49,  3312.42,  3355.95,  3331.24,  3345.41,  3370.98,\n",
       "         3404.24,  3427.27,  3469.03,  3498.08,  3559.24,  3619.03,\n",
       "         3606.5 ,  3595.33,  3627.23,  3688.49,  3708.45,  3758.41,\n",
       "         3791.21,  3808.92,  3847.05,  3882.26,  3919.6 ,  3986.38,\n",
       "         3977.86,  3979.26,  4007.52,  4069.48,  4070.88,  4115.91,\n",
       "         4150.1 ,  4152.63,  4168.66,  4186.79,  4230.63,  4284.89,\n",
       "         4262.22,  4228.95,  4277.27,  4335.4 ,  4340.08,  4348.46,\n",
       "         4359.15,  4355.46,  4363.32,  4365.7 ,  4390.93,  4458.4 ,\n",
       "         4417.33,  4357.14,  4404.55,  4433.76,  4430.14,  4464.23,\n",
       "         4498.31,  4509.11,  4519.54,  4524.96,  4570.1 ,  4649.55,\n",
       "         4625.05,  4599.14,  4623.  ,  4654.78,  4670.38,  4698.16,\n",
       "         4731.11,  4743.23,  4754.41,  4776.67,  4846.18,  4930.78,\n",
       "         4912.35,  4884.2 ,  4910.07,  4941.18,  4952.31,  4981.08,\n",
       "         5024.46,  5048.66,  5085.91,  5125.52,  5183.49,  5264.35,\n",
       "         5278.7 ,  5263.87,  5310.13,  5351.71,  5406.2 ,  5440.16,\n",
       "         5488.17,  5513.61,  5568.28,  5646.65,  5827.58,  6124.99,\n",
       "         6018.68,  5780.3 ,  5771.05,  5785.88,  5805.56,  5819.6 ,\n",
       "         5842.22,  5834.23,  5837.52,  5852.52,  5902.77,  5983.05,\n",
       "         5986.66,  5958.73,  5991.06,  6017.27,  6059.19,  6090.96,\n",
       "         6159.84,  6224.27,  6472.23,  6351.54,  6394.65,  6507.75,\n",
       "         6537.6 ,  6546.39,  6589.56,  6634.01,  6686.06,  6739.66,\n",
       "         6793.1 ,  6797.65,  6803.97,  6818.55,  6884.94,  6992.16,\n",
       "         6992.62,  7009.58,  7052.69,  7095.52,  7137.11,  7149.79,\n",
       "         7176.14,  7209.22,  7210.62,  7247.56,  7306.37,  7394.08,\n",
       "         7364.38,  7352.87,  7367.8 ,  7412.07,  7450.39,  7506.97,\n",
       "         7573.04,  7571.81,  7622.33,  7638.76,  7704.93,  7762.79,\n",
       "         7752.22,  7728.82,  7734.81,  7755.37,  7763.56,  7806.69,\n",
       "         7828.6 ,  7827.27,  7879.43,  7872.16,  7934.72,  8031.24,\n",
       "         8041.72,  8048.55,  8101.46,  8091.91,  8125.61,  8123.66,\n",
       "         8115.05,  8097.14,  8104.01,  8098.39,  8167.86,  8267.31,\n",
       "         8229.78,  8200.44,  8209.14,  8229.78,  8256.98,  8271.58,\n",
       "         8289.38,  8296.02,  8274.18,  8290.39,  8343.15,  8371.92,\n",
       "         8306.32,  8295.27,  8329.99,  8302.34,  8346.75,  8401.75,\n",
       "         8470.18,  8476.28,  9096.87, 11364.12, 14422.51, 16663.65,\n",
       "        17120.14, 15616.99, 16473.05, 17532.46, 17751.04, 16837.04,\n",
       "        16735.98, 17107.73, 18011.65, 19363.14, 20246.08, 20262.2 ,\n",
       "        19949.62, 21151.82, 20795.91, 20144.49, 20123.31, 20024.33,\n",
       "        19942.98, 19936.64, 19612.26, 19617.2 , 19731.39, 20170.  ,\n",
       "        20479.17, 22116.05, 23953.3 , 24965.74, 25671.85, 26485.48,\n",
       "        26848.01, 26576.78, 26376.8 , 26377.57, 26054.2 , 26195.86,\n",
       "        26407.64, 26944.22, 26552.19, 26398.5 , 26164.77, 26187.55,\n",
       "        26477.52, 26507.5 , 25949.09, 26117.75, 26468.09, 26759.45,\n",
       "        27417.43, 28452.51, 29350.36, 30117.37, 31169.32, 32014.72,\n",
       "        32908.98, 33989.3 , 34869.2 , 35895.15, 36845.63, 37174.5 ,\n",
       "        37284.83, 38333.54, 38858.77, 39306.81, 39115.25, 39486.91,\n",
       "        39890.84, 40750.39, 40491.89, 40014.51, 38304.24, 39344.55,\n",
       "        40171.03, 38404.64, 40306.32, 40593.74, 39493.72, 39196.49],\n",
       "       dtype=float32),\n",
       " 'feat_static_cat': array([1]),\n",
       " 'source': SourceContext(source=Span(path=WindowsPath('C:/Users/TM/.mxnet/gluon-ts/datasets/m4_monthly_other/train/m4_monthly_other_train.json'), line=1), row=1)}"
      ]
     },
     "execution_count": 11,
     "metadata": {},
     "output_type": "execute_result"
    }
   ],
   "source": [
    "train_entry"
   ]
  },
  {
   "cell_type": "code",
   "execution_count": 12,
   "metadata": {},
   "outputs": [
    {
     "data": {
      "text/plain": [
       "277"
      ]
     },
     "execution_count": 12,
     "metadata": {},
     "output_type": "execute_result"
    }
   ],
   "source": [
    "len(dataset.train)"
   ]
  },
  {
   "cell_type": "markdown",
   "metadata": {},
   "source": [
    "## Plot Series"
   ]
  },
  {
   "cell_type": "code",
   "execution_count": 13,
   "metadata": {},
   "outputs": [
    {
     "data": {
      "image/png": "[encoded data removed]",
      "text/plain": [
       "<Figure size 720x504 with 2 Axes>"
      ]
     },
     "metadata": {
      "needs_background": "light"
     },
     "output_type": "display_data"
    }
   ],
   "source": [
    "test_series = to_pandas(test_entry)\n",
    "train_series = to_pandas(train_entry)\n",
    "\n",
    "fig, ax = plt.subplots(2, 1, sharex=True, sharey=True, figsize=(10, 7))\n",
    "\n",
    "train_series.plot(ax=ax[0])\n",
    "ax[0].grid(which=\"both\")\n",
    "ax[0].legend([\"train series\"], loc=\"upper left\")\n",
    "\n",
    "test_series.plot(ax=ax[1])\n",
    "ax[1].axvline(train_series.index[-1], color='r') # end of train dataset\n",
    "ax[1].grid(which=\"both\")\n",
    "ax[1].legend([\"test series\", \"end of train series\"], loc=\"upper left\")\n",
    "\n",
    "plt.show()"
   ]
  },
  {
   "cell_type": "code",
   "execution_count": 14,
   "metadata": {},
   "outputs": [
    {
     "name": "stderr",
     "output_type": "stream",
     "text": [
      "INFO:root:Using CPU\n"
     ]
    }
   ],
   "source": [
    "from gluonts.trainer import Trainer\n",
    "from gluonts.evaluation.backtest import make_evaluation_predictions\n",
    "from gluonts.evaluation import Evaluator\n",
    "\n",
    "from gluonts.model.deepstate import DeepStateEstimator"
   ]
  },
  {
   "cell_type": "code",
   "execution_count": 15,
   "metadata": {},
   "outputs": [
    {
     "name": "stderr",
     "output_type": "stream",
     "text": [
      "INFO:root:using dataset already processed in path C:\\Users\\TM\\.mxnet\\gluon-ts\\datasets\\m4_monthly_other.\n",
      "INFO:root:Start model training\n",
      "INFO:root:Epoch[0] Learning rate is 0.001\n",
      "  0%|          | 0/1 [00:00<?, ?it/s]INFO:root:Number of parameters in DeepStateTrainingNetwork: 43199\n",
      "100%|██████████| 1/1 [00:01<00:00,  1.87s/it, avg_epoch_loss=0.634]\n",
      "INFO:root:Epoch[0] Elapsed time 1.879 seconds\n",
      "INFO:root:Epoch[0] Evaluation metric 'epoch_loss'=0.634168\n",
      "INFO:root:Loading parameters from best epoch (0)\n",
      "INFO:root:Final loss: 0.6341680884361267 (occurred at epoch 0)\n",
      "INFO:root:End model training\n",
      "Running evaluation: 100%|██████████| 277/277 [00:20<00:00, 13.31it/s]\n"
     ]
    },
    {
     "data": {
      "text/html": [
       "<div>\n",
       "<style scoped>\n",
       "    .dataframe tbody tr th:only-of-type {\n",
       "        vertical-align: middle;\n",
       "    }\n",
       "\n",
       "    .dataframe tbody tr th {\n",
       "        vertical-align: top;\n",
       "    }\n",
       "\n",
       "    .dataframe thead th {\n",
       "        text-align: right;\n",
       "    }\n",
       "</style>\n",
       "<table border=\"1\" class=\"dataframe\">\n",
       "  <thead>\n",
       "    <tr style=\"text-align: right;\">\n",
       "      <th></th>\n",
       "      <th>MASE</th>\n",
       "      <th>sMAPE</th>\n",
       "      <th>MSIS</th>\n",
       "      <th>wQuantileLoss[0.5]</th>\n",
       "      <th>wQuantileLoss[0.9]</th>\n",
       "      <th>epochs</th>\n",
       "      <th>seed</th>\n",
       "      <th>num_batches</th>\n",
       "    </tr>\n",
       "  </thead>\n",
       "  <tbody>\n",
       "    <tr>\n",
       "      <td>0</td>\n",
       "      <td>2.134054</td>\n",
       "      <td>0.209322</td>\n",
       "      <td>22.421174</td>\n",
       "      <td>0.183862</td>\n",
       "      <td>0.13354</td>\n",
       "      <td>1</td>\n",
       "      <td>42</td>\n",
       "      <td>1</td>\n",
       "    </tr>\n",
       "  </tbody>\n",
       "</table>\n",
       "</div>"
      ],
      "text/plain": [
       "       MASE     sMAPE       MSIS  wQuantileLoss[0.5]  wQuantileLoss[0.9]  \\\n",
       "0  2.134054  0.209322  22.421174            0.183862             0.13354   \n",
       "\n",
       "   epochs  seed  num_batches  \n",
       "0       1    42            1  "
      ]
     },
     "execution_count": 15,
     "metadata": {},
     "output_type": "execute_result"
    }
   ],
   "source": [
    "#########################\n",
    "### deepstate wrapper ###\n",
    "\n",
    "data = \"m4_monthly_other\"\n",
    "seed = 42\n",
    "epochs = 1\n",
    "batches = 1\n",
    "\n",
    "mx.random.seed(seed)\n",
    "np.random.seed(seed)\n",
    "\n",
    "dataset = get_dataset(data)\n",
    "\n",
    "trainer = Trainer(\n",
    "    ctx=mx.cpu(0),\n",
    "#     ctx=mx.gpu(0),\n",
    "    epochs=epochs,\n",
    "    num_batches_per_epoch=batches,\n",
    "    learning_rate=1e-3,\n",
    "    )\n",
    "\n",
    "cardinality = int(dataset.metadata.feat_static_cat[0].cardinality)\n",
    "\n",
    "cardinality = int(dataset.metadata.feat_static_cat[0].cardinality)\n",
    "estimator = DeepStateEstimator(\n",
    "    trainer=trainer,\n",
    "    cardinality=[cardinality],\n",
    "    prediction_length=dataset.metadata.prediction_length,\n",
    "    freq=dataset.metadata.freq,\n",
    "    use_feat_static_cat=True,\n",
    "    )\n",
    "\n",
    "predictor=estimator.train(dataset.train)\n",
    "\n",
    "forecast_it, ts_it = make_evaluation_predictions(\n",
    "        dataset.test, predictor=predictor, num_samples=100\n",
    "    )\n",
    "\n",
    "agg_metrics, item_metrics = Evaluator()(\n",
    "    ts_it, forecast_it, num_series=len(dataset.test)\n",
    ")\n",
    "\n",
    "metrics = [\"MASE\", \"sMAPE\", \"MSIS\", \"wQuantileLoss[0.5]\", \"wQuantileLoss[0.9]\"]\n",
    "output = {key: round(value, 8) for key, value in agg_metrics.items() if key in metrics}\n",
    "output[\"epochs\"] = epochs\n",
    "output[\"seed\"] = seed\n",
    "output[\"epochs\"] = epochs\n",
    "output[\"num_batches\"] = batches\n",
    "\n",
    "pd.DataFrame([output])"
   ]
  },
  {
   "cell_type": "code",
   "execution_count": null,
   "metadata": {},
   "outputs": [],
   "source": []
  },
  {
   "cell_type": "code",
   "execution_count": null,
   "metadata": {},
   "outputs": [],
   "source": []
  },
  {
   "cell_type": "code",
   "execution_count": null,
   "metadata": {},
   "outputs": [],
   "source": []
  },
  {
   "cell_type": "code",
   "execution_count": null,
   "metadata": {},
   "outputs": [],
   "source": []
  }
 ],
 "metadata": {
  "kernelspec": {
   "display_name": "Python 3",
   "language": "python",
   "name": "python3"
  },
  "language_info": {
   "codemirror_mode": {
    "name": "ipython",
    "version": 3
   },
   "file_extension": ".py",
   "mimetype": "text/x-python",
   "name": "python",
   "nbconvert_exporter": "python",
   "pygments_lexer": "ipython3",
   "version": "3.6.9"
  }
 },
 "nbformat": 4,
 "nbformat_minor": 4
}
