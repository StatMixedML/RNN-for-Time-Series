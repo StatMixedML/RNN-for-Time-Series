{
 "cells": [
  {
   "cell_type": "code",
   "execution_count": 1,
   "metadata": {},
   "outputs": [
    {
     "name": "stdout",
     "output_type": "stream",
     "text": [
      "Collecting mxnet==1.4.1\n",
      "\u001b[?25l  Downloading https://files.pythonhosted.org/packages/58/f4/bc147a1ba7175f9890523ff8f1a928a43ac8a79d5897a067158cac4d092f/mxnet-1.4.1-py2.py3-none-manylinux1_x86_64.whl (28.4MB)\n",
      "\u001b[K    100% |████████████████████████████████| 28.4MB 1.9MB/s eta 0:00:011    55% |█████████████████▉              | 15.8MB 102.3MB/s eta 0:00:01\n",
      "\u001b[?25hCollecting graphviz<0.9.0,>=0.8.1 (from mxnet==1.4.1)\n",
      "  Downloading https://files.pythonhosted.org/packages/53/39/4ab213673844e0c004bed8a0781a0721a3f6bb23eb8854ee75c236428892/graphviz-0.8.4-py2.py3-none-any.whl\n",
      "Requirement already satisfied: numpy<1.15.0,>=1.8.2 in /home/ec2-user/anaconda3/envs/python3/lib/python3.6/site-packages (from mxnet==1.4.1) (1.14.3)\n",
      "Requirement already satisfied: requests>=2.20.0 in /home/ec2-user/anaconda3/envs/python3/lib/python3.6/site-packages (from mxnet==1.4.1) (2.20.0)\n",
      "Requirement already satisfied: urllib3<1.25,>=1.21.1 in /home/ec2-user/anaconda3/envs/python3/lib/python3.6/site-packages (from requests>=2.20.0->mxnet==1.4.1) (1.23)\n",
      "Requirement already satisfied: chardet<3.1.0,>=3.0.2 in /home/ec2-user/anaconda3/envs/python3/lib/python3.6/site-packages (from requests>=2.20.0->mxnet==1.4.1) (3.0.4)\n",
      "Requirement already satisfied: certifi>=2017.4.17 in /home/ec2-user/anaconda3/envs/python3/lib/python3.6/site-packages (from requests>=2.20.0->mxnet==1.4.1) (2019.9.11)\n",
      "Requirement already satisfied: idna<2.8,>=2.5 in /home/ec2-user/anaconda3/envs/python3/lib/python3.6/site-packages (from requests>=2.20.0->mxnet==1.4.1) (2.6)\n",
      "Installing collected packages: graphviz, mxnet\n",
      "Successfully installed graphviz-0.8.4 mxnet-1.4.1\n",
      "\u001b[33mYou are using pip version 10.0.1, however version 19.3.1 is available.\n",
      "You should consider upgrading via the 'pip install --upgrade pip' command.\u001b[0m\n"
     ]
    }
   ],
   "source": [
    "!pip install mxnet==\"1.4.1\""
   ]
  },
  {
   "cell_type": "code",
   "execution_count": 2,
   "metadata": {},
   "outputs": [
    {
     "name": "stdout",
     "output_type": "stream",
     "text": [
      "Collecting gluonts\n",
      "\u001b[?25l  Downloading https://files.pythonhosted.org/packages/98/c8/113009b077ca127308470dcd4851e53a6b4ad905fe61f36f28d22ff3a4a5/gluonts-0.4.2-py3-none-any.whl (323kB)\n",
      "\u001b[K    100% |████████████████████████████████| 327kB 37.0MB/s ta 0:00:01\n",
      "\u001b[?25hCollecting holidays<0.10,>=0.9 (from gluonts)\n",
      "\u001b[?25l  Downloading https://files.pythonhosted.org/packages/d0/17/a452275a0b3e811a381137ff6a61649086af4c5bf2a25755f518cc64b39e/holidays-0.9.11.tar.gz (81kB)\n",
      "\u001b[K    100% |████████████████████████████████| 81kB 53.2MB/s ta 0:00:01\n",
      "\u001b[?25hRequirement already satisfied: matplotlib~=3.0 in /home/ec2-user/anaconda3/envs/python3/lib/python3.6/site-packages (from gluonts) (3.0.3)\n",
      "Requirement already satisfied: numpy~=1.14 in /home/ec2-user/anaconda3/envs/python3/lib/python3.6/site-packages (from gluonts) (1.14.3)\n",
      "Collecting pandas<0.26,>=0.25 (from gluonts)\n",
      "\u001b[?25l  Downloading https://files.pythonhosted.org/packages/52/3f/f6a428599e0d4497e1595030965b5ba455fd8ade6e977e3c819973c4b41d/pandas-0.25.3-cp36-cp36m-manylinux1_x86_64.whl (10.4MB)\n",
      "\u001b[K    100% |████████████████████████████████| 10.4MB 5.0MB/s eta 0:00:01\n",
      "\u001b[?25hCollecting python-dateutil==2.8.0 (from gluonts)\n",
      "  Using cached https://files.pythonhosted.org/packages/41/17/c62faccbfbd163c7f57f3844689e3a78bae1f403648a6afb1d0866d87fbb/python_dateutil-2.8.0-py2.py3-none-any.whl\n",
      "Collecting pydantic~=1.1 (from gluonts)\n",
      "\u001b[?25l  Downloading https://files.pythonhosted.org/packages/c9/5e/0f54f9b340dc4a2153411be072d7af5e91f4a259aea880c9e9637b88f6de/pydantic-1.2-cp36-cp36m-manylinux1_x86_64.whl (7.1MB)\n",
      "\u001b[K    100% |████████████████████████████████| 7.1MB 7.4MB/s eta 0:00:011\n",
      "\u001b[?25hCollecting ujson~=1.35 (from gluonts)\n",
      "\u001b[?25l  Downloading https://files.pythonhosted.org/packages/16/c4/79f3409bc710559015464e5f49b9879430d8f87498ecdc335899732e5377/ujson-1.35.tar.gz (192kB)\n",
      "\u001b[K    100% |████████████████████████████████| 194kB 61.5MB/s eta 0:00:01\n",
      "\u001b[?25hRequirement already satisfied: boto3~=1.0 in /home/ec2-user/anaconda3/envs/python3/lib/python3.6/site-packages (from gluonts) (1.10.19)\n",
      "Collecting tqdm~=4.23 (from gluonts)\n",
      "\u001b[?25l  Downloading https://files.pythonhosted.org/packages/a5/13/cd55c23e3e158ed5b87cae415ee3844fc54cb43803fa3a0a064d23ecb883/tqdm-4.40.0-py2.py3-none-any.whl (54kB)\n",
      "\u001b[K    100% |████████████████████████████████| 61kB 41.0MB/s ta 0:00:01\n",
      "\u001b[?25hRequirement already satisfied: six in /home/ec2-user/anaconda3/envs/python3/lib/python3.6/site-packages (from holidays<0.10,>=0.9->gluonts) (1.11.0)\n",
      "Requirement already satisfied: kiwisolver>=1.0.1 in /home/ec2-user/anaconda3/envs/python3/lib/python3.6/site-packages (from matplotlib~=3.0->gluonts) (1.0.1)\n",
      "Requirement already satisfied: pyparsing!=2.0.4,!=2.1.2,!=2.1.6,>=2.0.1 in /home/ec2-user/anaconda3/envs/python3/lib/python3.6/site-packages (from matplotlib~=3.0->gluonts) (2.2.0)\n",
      "Requirement already satisfied: cycler>=0.10 in /home/ec2-user/anaconda3/envs/python3/lib/python3.6/site-packages (from matplotlib~=3.0->gluonts) (0.10.0)\n",
      "Requirement already satisfied: pytz>=2017.2 in /home/ec2-user/anaconda3/envs/python3/lib/python3.6/site-packages (from pandas<0.26,>=0.25->gluonts) (2018.4)\n",
      "Collecting dataclasses>=0.6; python_version < \"3.7\" (from pydantic~=1.1->gluonts)\n",
      "  Downloading https://files.pythonhosted.org/packages/e1/d2/6f02df2616fd4016075f60157c7a0452b38d8f7938ae94343911e0fb0b09/dataclasses-0.7-py3-none-any.whl\n",
      "Requirement already satisfied: s3transfer<0.3.0,>=0.2.0 in /home/ec2-user/anaconda3/envs/python3/lib/python3.6/site-packages (from boto3~=1.0->gluonts) (0.2.1)\n",
      "Requirement already satisfied: botocore<1.14.0,>=1.13.19 in /home/ec2-user/anaconda3/envs/python3/lib/python3.6/site-packages (from boto3~=1.0->gluonts) (1.13.19)\n",
      "Requirement already satisfied: jmespath<1.0.0,>=0.7.1 in /home/ec2-user/anaconda3/envs/python3/lib/python3.6/site-packages (from boto3~=1.0->gluonts) (0.9.4)\n",
      "Requirement already satisfied: setuptools in /home/ec2-user/anaconda3/envs/python3/lib/python3.6/site-packages (from kiwisolver>=1.0.1->matplotlib~=3.0->gluonts) (39.1.0)\n",
      "Requirement already satisfied: docutils<0.16,>=0.10 in /home/ec2-user/anaconda3/envs/python3/lib/python3.6/site-packages (from botocore<1.14.0,>=1.13.19->boto3~=1.0->gluonts) (0.14)\n",
      "Requirement already satisfied: urllib3<1.26,>=1.20; python_version >= \"3.4\" in /home/ec2-user/anaconda3/envs/python3/lib/python3.6/site-packages (from botocore<1.14.0,>=1.13.19->boto3~=1.0->gluonts) (1.23)\n",
      "Building wheels for collected packages: holidays, ujson\n",
      "  Running setup.py bdist_wheel for holidays ... \u001b[?25ldone\n",
      "\u001b[?25h  Stored in directory: /home/ec2-user/.cache/pip/wheels/40/a9/2b/94ac5464363d37564a87dc93a9d21a5850aac14a4608197003\n",
      "  Running setup.py bdist_wheel for ujson ... \u001b[?25ldone\n",
      "\u001b[?25h  Stored in directory: /home/ec2-user/.cache/pip/wheels/28/77/e4/0311145b9c2e2f01470e744855131f9e34d6919687550f87d1\n",
      "Successfully built holidays ujson\n",
      "Installing collected packages: python-dateutil, holidays, pandas, dataclasses, pydantic, ujson, tqdm, gluonts\n",
      "  Found existing installation: python-dateutil 2.7.3\n",
      "    Uninstalling python-dateutil-2.7.3:\n",
      "      Successfully uninstalled python-dateutil-2.7.3\n",
      "  Found existing installation: pandas 0.24.2\n",
      "    Uninstalling pandas-0.24.2:\n",
      "      Successfully uninstalled pandas-0.24.2\n",
      "Successfully installed dataclasses-0.7 gluonts-0.4.2 holidays-0.9.11 pandas-0.25.3 pydantic-1.2 python-dateutil-2.8.0 tqdm-4.40.0 ujson-1.35\n",
      "\u001b[33mYou are using pip version 10.0.1, however version 19.3.1 is available.\n",
      "You should consider upgrading via the 'pip install --upgrade pip' command.\u001b[0m\n"
     ]
    }
   ],
   "source": [
    "!pip install gluonts"
   ]
  },
  {
   "cell_type": "code",
   "execution_count": 3,
   "metadata": {},
   "outputs": [],
   "source": [
    "# !pip install gluonts==\"0.4.1\""
   ]
  },
  {
   "cell_type": "code",
   "execution_count": 4,
   "metadata": {},
   "outputs": [
    {
     "data": {
      "text/plain": [
       "'0.4.2'"
      ]
     },
     "execution_count": 4,
     "metadata": {},
     "output_type": "execute_result"
    }
   ],
   "source": [
    "import gluonts\n",
    "gluonts.__version__"
   ]
  },
  {
   "cell_type": "code",
   "execution_count": 5,
   "metadata": {},
   "outputs": [
    {
     "data": {
      "text/plain": [
       "'1.4.1'"
      ]
     },
     "execution_count": 5,
     "metadata": {},
     "output_type": "execute_result"
    }
   ],
   "source": [
    "import mxnet\n",
    "mxnet.__version__"
   ]
  },
  {
   "cell_type": "code",
   "execution_count": 6,
   "metadata": {},
   "outputs": [
    {
     "name": "stderr",
     "output_type": "stream",
     "text": [
      "INFO:root:Using CPU\n"
     ]
    }
   ],
   "source": [
    "# standard imports\n",
    "import numpy as np\n",
    "import pandas as pd\n",
    "\n",
    "# Vis\n",
    "%matplotlib inline\n",
    "import matplotlib.pyplot as plt\n",
    "from pprint import pprint\n",
    "\n",
    "# mxnet\n",
    "import mxnet as mx\n",
    "\n",
    "# gluonts\n",
    "from gluonts.dataset.util import to_pandas\n",
    "\n",
    "# imports from utility function\n",
    "import utils_gluonts10 as utils\n",
    "from utils_gluonts10 import get_dataset, dataset_recipes\n",
    "from utils_gluonts10_deepar import deepar\n",
    "# from utils_gluonts11_deepstate import deep_state\n"
   ]
  },
  {
   "cell_type": "code",
   "execution_count": 7,
   "metadata": {},
   "outputs": [
    {
     "name": "stdout",
     "output_type": "stream",
     "text": [
      "Available datasets: ['m4_daily', 'm4_hourly', 'm4_monthly', 'm4_monthly_atm', 'm4_monthly_dates', 'm4_monthly_demographic', 'm4_monthly_finance', 'm4_monthly_industry', 'm4_monthly_macro', 'm4_monthly_micro', 'm4_monthly_other', 'm4_quarterly', 'm4_quarterly_atm', 'm4_quarterly_dates', 'm4_quarterly_demographic', 'm4_quarterly_finance', 'm4_quarterly_industry', 'm4_quarterly_macro', 'm4_quarterly_micro', 'm4_quarterly_other', 'm4_weekly', 'my_weekly_tm', 'm4_yearly', 'm4_yearly_industry', 'm4_yearly_macro', 'm4_yearly_micro']\n"
     ]
    }
   ],
   "source": [
    "print(f\"Available datasets: {list(dataset_recipes.keys())}\")"
   ]
  },
  {
   "cell_type": "markdown",
   "metadata": {},
   "source": [
    "#### Note\n",
    "\n",
    "In SageMaker data are saved into the following folders (example shows m4_weekly):\n",
    "\n",
    "```\n",
    "saving time-series into /home/ec2-user/.mxnet/gluon-ts/datasets/m4_weekly/train/data.json\n",
    "saving time-series into /home/ec2-user/.mxnet/gluon-ts/datasets/m4_weekly/test/data.json\n",
    "```"
   ]
  },
  {
   "cell_type": "code",
   "execution_count": 33,
   "metadata": {},
   "outputs": [
    {
     "name": "stderr",
     "output_type": "stream",
     "text": [
      "INFO:root:using dataset already processed in path /home/ec2-user/.mxnet/gluon-ts/datasets/m4_monthly_micro.\n"
     ]
    }
   ],
   "source": [
    "dataname = \"m4_monthly_micro\"\n",
    "dataset = get_dataset(dataname, regenerate=False)"
   ]
  },
  {
   "cell_type": "code",
   "execution_count": 34,
   "metadata": {},
   "outputs": [
    {
     "name": "stdout",
     "output_type": "stream",
     "text": [
      "dict_keys(['start', 'target', 'feat_static_cat', 'source'])\n",
      "dict_keys(['start', 'target', 'feat_static_cat', 'source'])\n"
     ]
    }
   ],
   "source": [
    "# get the first time series in the training set\n",
    "train_entry = next(iter(dataset.train))\n",
    "test_entry = next(iter(dataset.test))\n",
    "\n",
    "# check keys\n",
    "print(train_entry.keys())\n",
    "print(test_entry.keys())"
   ]
  },
  {
   "cell_type": "code",
   "execution_count": 35,
   "metadata": {},
   "outputs": [
    {
     "data": {
      "text/plain": [
       "{'start': Timestamp('1750-01-31 00:00:00', freq='M'),\n",
       " 'target': array([ 3396.89,  3257.99,  3158.49,  3176.81,  3157.27,  3108.64,\n",
       "         3063.8 ,  3098.17,  3106.87,  3096.37,  3193.22,  3230.99,\n",
       "         3329.66,  3278.32,  3228.59,  3196.76,  3178.63,  3210.04,\n",
       "         3236.73,  3281.7 ,  3298.  ,  3292.78,  3283.29,  3283.5 ,\n",
       "         3266.97,  3238.75,  3228.64,  3275.36,  3289.36,  3304.42,\n",
       "         3386.32,  3449.33,  3480.2 ,  3488.49,  3489.8 ,  3514.08,\n",
       "         3509.89,  3507.85,  3535.43,  3557.9 ,  3569.59,  3581.05,\n",
       "         3568.18,  3565.69,  3606.74,  3631.37,  3675.48,  3681.79,\n",
       "         3677.63,  3697.65,  3706.94,  3697.  ,  3702.05,  3703.11,\n",
       "         3677.1 ,  3703.61,  3716.26,  3688.9 ,  3665.12,  3615.87,\n",
       "         3594.32,  3593.57,  3573.24,  3569.07,  3599.18,  3554.01,\n",
       "         3484.06,  3424.86,  3433.06,  3373.05,  3448.19,  3465.57,\n",
       "         3465.6 ,  3485.96,  3497.15,  3530.69,  3557.28,  3557.31,\n",
       "         3504.81,  3521.84,  3527.23,  3572.4 ,  3621.29,  3588.5 ,\n",
       "         3586.  ,  3620.89,  3714.65,  3743.26,  3625.9 ,  3569.22,\n",
       "         3570.21,  3610.26,  3588.11,  3605.36,  3676.53,  3713.58,\n",
       "         3706.37,  3805.  ,  3829.59,  3903.99,  4014.49,  4094.63,\n",
       "         4183.42,  4251.19,  4183.78,  4173.82,  4123.52,  4142.73,\n",
       "         4211.04,  4355.98,  4482.49,  4528.75,  4486.53,  4681.01,\n",
       "         4752.19,  4866.51,  4910.17,  4988.21,  5007.8 ,  4929.39,\n",
       "         4929.86,  5011.62,  5079.47,  5150.31,  5168.1 ,  5272.68,\n",
       "         5325.55,  5425.  ,  5458.8 ,  5436.01,  5513.89,  5596.62,\n",
       "         5665.98,  5648.16,  5627.79,  5701.3 ,  5831.56,  5900.32,\n",
       "         6079.86,  6115.34,  6285.06,  6384.9 ,  6377.35,  6514.75,\n",
       "         6651.87,  6853.37,  6923.67,  6780.08,  6835.59,  6820.42,\n",
       "         6702.58,  6702.63,  6777.18,  6543.88,  6491.68,  6503.81,\n",
       "         6497.83,  6357.47,  6293.31,  6271.22,  6181.18,  6232.51,\n",
       "         6145.61,  6090.89,  6119.42,  6149.34,  6237.02,  6242.67,\n",
       "         6084.62,  6052.91,  6047.73,  5970.43,  5963.25,  6057.82,\n",
       "         6160.28,  6163.8 ,  6093.87,  6103.68,  5947.14,  5864.31,\n",
       "         5910.4 ,  5978.02,  5929.01,  5900.75,  5943.92,  6054.03,\n",
       "         6218.86,  6307.68,  6337.27,  6234.4 ,  6136.02,  6155.91,\n",
       "         6290.25,  6328.56,  6430.96,  6483.69,  6643.  ,  6803.55,\n",
       "         6738.19,  6828.19,  6943.26,  6895.28,  6939.45,  6961.01,\n",
       "         7013.45,  7112.32,  7295.46,  7339.41,  7296.2 ,  7322.49,\n",
       "         7209.06,  7101.47,  7050.77,  6934.48,  6947.16,  7069.34,\n",
       "         7107.38,  7070.05,  7338.24,  7455.44,  7508.27,  7625.85,\n",
       "         7640.8 ,  7589.28,  7511.96,  7510.15,  7447.26,  7412.6 ,\n",
       "         7440.82,  7564.35,  7733.68,  7742.42,  7708.66,  7624.43,\n",
       "         7530.25,  7511.83,  7587.31,  7752.71,  8015.83,  8084.99,\n",
       "         8200.23,  8254.43,  8240.72,  8150.63,  8186.94,  8271.97,\n",
       "         8406.34,  8424.2 ,  8440.05,  8545.85,  8667.15,  8751.8 ,\n",
       "         9038.8 ,  9047.05,  9099.11,  9165.41,  9172.19,  9201.66,\n",
       "         9084.65,  9084.  ,  9000.52,  8954.26,  8996.78,  9204.18,\n",
       "         9408.71,  9362.75,  9273.8 ,  9014.88,  9013.69,  9030.97,\n",
       "         9034.52,  9248.34,  9384.48,  9366.17,  9488.35,  9556.7 ,\n",
       "         9645.01,  9660.93,  9660.07,  9689.03,  9735.37,  9781.28,\n",
       "         9768.23,  9726.  ,  9779.27,  9824.34,  9785.98,  9892.96,\n",
       "        10000.  , 10185.16, 10265.46, 10345.2 , 10244.14, 10209.55,\n",
       "        10329.68, 10517.86, 10566.41, 10627.41, 10800.39, 11223.93,\n",
       "        11599.06, 11444.75, 11417.86, 11393.45, 11482.02, 11736.93,\n",
       "        11768.59, 11960.39, 11820.07, 11506.99, 11505.56, 11430.04,\n",
       "        11446.94, 11606.21, 11745.56, 11685.27, 11662.83, 11726.29,\n",
       "        11734.26, 11628.66, 11560.93, 11509.42, 11537.18, 11543.66,\n",
       "        11523.26, 11668.14, 11667.22, 11733.05, 11992.9 , 11870.24,\n",
       "        11903.28, 11981.87, 12129.28, 12301.9 , 12396.86, 12298.93,\n",
       "        12285.08, 12354.01, 12556.43, 12653.3 , 12639.18, 12724.34,\n",
       "        12766.92, 12557.02, 12592.6 , 12676.64, 12728.59, 12736.3 ,\n",
       "        12894.88, 12968.72, 12894.23, 12856.62, 12700.69, 12556.98,\n",
       "        12380.81, 12523.47, 12615.94, 12706.67, 12578.27, 12513.44,\n",
       "        12358.93, 12343.54, 12296.23, 12198.68, 11801.48, 11737.41,\n",
       "        11858.45, 11989.17, 11855.07, 11620.85, 11607.67, 11450.57,\n",
       "        11260.34, 11314.22, 11425.74, 11506.72, 11693.81, 11582.8 ,\n",
       "        11501.68, 11518.44, 11471.23, 11310.34, 11022.69, 10901.01,\n",
       "        10957.56, 10978.75, 10919.1 , 11011.39, 11059.25, 11167.51,\n",
       "        11211.66, 11068.15, 11058.9 , 11163.14, 11240.71, 11169.55,\n",
       "        11016.41, 11041.09, 11057.59, 10980.32, 10755.93, 10883.42,\n",
       "        10856.4 , 10784.47, 10811.39, 10838.46, 10749.87, 10667.59,\n",
       "        10769.78, 10733.06, 10678.6 , 10543.81, 10454.5 , 10428.37,\n",
       "        10294.7 , 10352.37, 10208.26, 10006.74,  9865.38,  9947.84,\n",
       "         9864.65,  9782.89,  9590.95,  9553.81,  9589.95,  9607.65,\n",
       "         9537.17,  9788.7 , 10030.52, 10695.85, 10964.07, 10849.23,\n",
       "        10916.85, 11185.57, 11234.16, 10955.35, 10640.26, 10504.01,\n",
       "        10464.58, 10339.4 , 10261.45, 10115.04, 10067.  , 10111.94,\n",
       "        10140.6 , 10292.84, 10204.69, 10153.86, 10435.45, 10492.54,\n",
       "        10328.91, 10248.54, 10148.5 ,  9884.69,  9912.99,  9978.85,\n",
       "         9863.53,  9788.3 ,  9694.55,  9533.86,  9530.14,  9527.64,\n",
       "         9462.34,  9516.42,  9801.18,  9891.75,  9955.27, 10049.23,\n",
       "         9986.99,  9813.61,  9873.25,  9905.17, 10077.72, 10222.03,\n",
       "        10173.97, 10085.64,  9927.67,  9899.8 ,  9963.11,  9905.49,\n",
       "         9896.91,  9978.22, 10065.6 , 10029.55, 10073.01, 10154.28,\n",
       "        10209.96, 10198.05, 10176.76, 10074.46, 10163.96, 10180.26,\n",
       "        10277.13, 10302.08, 10293.36, 10254.36, 10221.86, 10236.99,\n",
       "        10212.8 , 10304.65, 10460.18, 10595.11, 10774.82, 11038.85,\n",
       "        11273.95, 11418.13, 11624.78, 11510.96, 11422.39, 11510.57,\n",
       "        11709.83], dtype=float32),\n",
       " 'feat_static_cat': array([1], dtype=int32),\n",
       " 'source': SourceContext(source=Span(path=PosixPath('/home/ec2-user/.mxnet/gluon-ts/datasets/m4_monthly_micro/train/m4_monthly_micro_train.json'), line=1), row=1)}"
      ]
     },
     "execution_count": 35,
     "metadata": {},
     "output_type": "execute_result"
    }
   ],
   "source": [
    "train_entry"
   ]
  },
  {
   "cell_type": "markdown",
   "metadata": {},
   "source": [
    "## Plot Series"
   ]
  },
  {
   "cell_type": "code",
   "execution_count": 36,
   "metadata": {},
   "outputs": [
    {
     "data": {
      "image/png": "[encoded data removed]",
      "text/plain": [
       "<Figure size 720x504 with 2 Axes>"
      ]
     },
     "metadata": {},
     "output_type": "display_data"
    }
   ],
   "source": [
    "test_series = to_pandas(test_entry)\n",
    "train_series = to_pandas(train_entry)\n",
    "\n",
    "fig, ax = plt.subplots(2, 1, sharex=True, sharey=True, figsize=(10, 7))\n",
    "\n",
    "train_series.plot(ax=ax[0])\n",
    "ax[0].grid(which=\"both\")\n",
    "ax[0].legend([\"train series\"], loc=\"upper left\")\n",
    "\n",
    "test_series.plot(ax=ax[1])\n",
    "ax[1].axvline(train_series.index[-1], color='r') # end of train dataset\n",
    "ax[1].grid(which=\"both\")\n",
    "ax[1].legend([\"test series\", \"end of train series\"], loc=\"upper left\")\n",
    "\n",
    "plt.show()"
   ]
  },
  {
   "cell_type": "code",
   "execution_count": 39,
   "metadata": {},
   "outputs": [
    {
     "name": "stdout",
     "output_type": "stream",
     "text": [
      "start: 1750-01-31 00:00:00\n",
      "target: [3396.89 3257.99 3158.49 3176.81 3157.27 3108.64 3063.8 ]\n",
      "feat_static_cat: [1]\n",
      "length: 10975\n"
     ]
    }
   ],
   "source": [
    "print(\"start:\", dict(train_entry)[\"start\"])\n",
    "print(\"target:\", dict(train_entry)[\"target\"][:7])\n",
    "print(\"feat_static_cat:\", dict(train_entry)[\"feat_static_cat\"])\n",
    "print(\"length:\", len(dataset.train))"
   ]
  },
  {
   "cell_type": "code",
   "execution_count": 38,
   "metadata": {},
   "outputs": [],
   "source": [
    "from gluonts.trainer import Trainer\n",
    "from gluonts.evaluation.backtest import make_evaluation_predictions\n",
    "from gluonts.evaluation import Evaluator\n",
    "\n",
    "from gluonts.model.deepstate import DeepStateEstimator"
   ]
  },
  {
   "cell_type": "markdown",
   "metadata": {},
   "source": [
    "# Study 1:`epochs=100, num_batches=50`"
   ]
  },
  {
   "cell_type": "code",
   "execution_count": null,
   "metadata": {},
   "outputs": [],
   "source": [
    "#########################\n",
    "### deepstate wrapper ###\n",
    "\n",
    "data = \"m4_monthly_micro\"\n",
    "seed = 42\n",
    "epochs = 100\n",
    "num_batches = 50\n",
    "batch_size = 32\n",
    "\n",
    "\n",
    "mx.random.seed(seed)\n",
    "np.random.seed(seed)\n",
    "\n",
    "dataset = get_dataset(data)\n",
    "\n",
    "trainer = Trainer(\n",
    "    ctx=mx.cpu(0),\n",
    "#     ctx=mx.gpu(0),\n",
    "    epochs=epochs,\n",
    "    num_batches_per_epoch=num_batches,\n",
    "    learning_rate=1e-3,\n",
    "    batch_size=batch_size,\n",
    "    )\n",
    "\n",
    "cardinality = int(dataset.metadata.feat_static_cat[0].cardinality)\n",
    "estimator = DeepStateEstimator(\n",
    "    trainer=trainer,\n",
    "    cardinality=[cardinality],\n",
    "    prediction_length=dataset.metadata.prediction_length,\n",
    "    freq=dataset.metadata.freq,\n",
    "    use_feat_static_cat=True,\n",
    "    )\n",
    "\n",
    "predictor=estimator.train(dataset.train)\n",
    "\n",
    "forecast_it, ts_it = make_evaluation_predictions(\n",
    "        dataset.test, predictor=predictor, num_samples=100\n",
    "    )\n",
    "\n",
    "agg_metrics, item_metrics = Evaluator()(\n",
    "    ts_it, forecast_it, num_series=len(dataset.test)\n",
    ")\n",
    "\n",
    "metrics = [\"MASE\", \"sMAPE\", \"MSIS\", \"wQuantileLoss[0.5]\", \"wQuantileLoss[0.9]\"]\n",
    "output = {key: round(value, 8) for key, value in agg_metrics.items() if key in metrics}\n",
    "\n",
    "output[\"seed\"] = seed\n",
    "output[\"epochs\"] = epochs\n",
    "output[\"num_batches\"] = num_batches\n",
    "# output[\"batch_size\"] = batch_size\n",
    "\n",
    "pd.DataFrame([output])"
   ]
  },
  {
   "cell_type": "code",
   "execution_count": null,
   "metadata": {},
   "outputs": [],
   "source": []
  },
  {
   "cell_type": "code",
   "execution_count": null,
   "metadata": {},
   "outputs": [],
   "source": []
  },
  {
   "cell_type": "code",
   "execution_count": 43,
   "metadata": {},
   "outputs": [
    {
     "name": "stdout",
     "output_type": "stream",
     "text": [
      "[NbConvertApp] Converting notebook gluonts11-own-m4_subsets_sagemaker.ipynb to html\n",
      "[NbConvertApp] Writing 493797 bytes to ../html_outputs/gluonts11-own-m4_subsets_sagemaker.html\n"
     ]
    }
   ],
   "source": [
    "!jupyter nbconvert --output-dir=\"../html_outputs\" --to html gluonts11-own-m4_subsets_sagemaker.ipynb"
   ]
  },
  {
   "cell_type": "markdown",
   "metadata": {},
   "source": [
    "# Study 2: Increase `num_batches=100` "
   ]
  },
  {
   "cell_type": "code",
   "execution_count": null,
   "metadata": {},
   "outputs": [],
   "source": []
  },
  {
   "cell_type": "code",
   "execution_count": null,
   "metadata": {},
   "outputs": [],
   "source": []
  },
  {
   "cell_type": "code",
   "execution_count": null,
   "metadata": {},
   "outputs": [],
   "source": []
  },
  {
   "cell_type": "code",
   "execution_count": 47,
   "metadata": {},
   "outputs": [
    {
     "name": "stdout",
     "output_type": "stream",
     "text": [
      "[NbConvertApp] Converting notebook gluonts11-own-m4_subsets_sagemaker.ipynb to html\n",
      "[NbConvertApp] Writing 570462 bytes to ../html_outputs/gluonts11-own-m4_subsets_sagemaker.html\n"
     ]
    }
   ],
   "source": [
    "!jupyter nbconvert --output-dir=\"../html_outputs\" --to html gluonts11-own-m4_subsets_sagemaker.ipynb"
   ]
  },
  {
   "cell_type": "markdown",
   "metadata": {},
   "source": [
    "# Study 3: `passes=100`"
   ]
  },
  {
   "cell_type": "code",
   "execution_count": null,
   "metadata": {},
   "outputs": [],
   "source": []
  },
  {
   "cell_type": "code",
   "execution_count": null,
   "metadata": {},
   "outputs": [],
   "source": []
  },
  {
   "cell_type": "code",
   "execution_count": null,
   "metadata": {},
   "outputs": [],
   "source": []
  },
  {
   "cell_type": "code",
   "execution_count": null,
   "metadata": {},
   "outputs": [],
   "source": [
    "!jupyter nbconvert --output-dir=\"../html_outputs\" --to html gluonts11-own-m4_subsets_sagemaker.ipynb"
   ]
  }
 ],
 "metadata": {
  "kernelspec": {
   "display_name": "conda_python3",
   "language": "python",
   "name": "conda_python3"
  },
  "language_info": {
   "codemirror_mode": {
    "name": "ipython",
    "version": 3
   },
   "file_extension": ".py",
   "mimetype": "text/x-python",
   "name": "python",
   "nbconvert_exporter": "python",
   "pygments_lexer": "ipython3",
   "version": "3.6.5"
  }
 },
 "nbformat": 4,
 "nbformat_minor": 4
}
