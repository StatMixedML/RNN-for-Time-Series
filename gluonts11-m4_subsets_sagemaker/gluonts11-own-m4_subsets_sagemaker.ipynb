{
 "cells": [
  {
   "cell_type": "code",
   "execution_count": 1,
   "metadata": {},
   "outputs": [
    {
     "name": "stdout",
     "output_type": "stream",
     "text": [
      "Collecting mxnet==1.4.1\n",
      "\u001b[?25l  Downloading https://files.pythonhosted.org/packages/58/f4/bc147a1ba7175f9890523ff8f1a928a43ac8a79d5897a067158cac4d092f/mxnet-1.4.1-py2.py3-none-manylinux1_x86_64.whl (28.4MB)\n",
      "\u001b[K    100% |████████████████████████████████| 28.4MB 1.9MB/s eta 0:00:011\n",
      "\u001b[?25hRequirement already satisfied: requests>=2.20.0 in /home/ec2-user/anaconda3/envs/python3/lib/python3.6/site-packages (from mxnet==1.4.1) (2.20.0)\n",
      "Requirement already satisfied: numpy<1.15.0,>=1.8.2 in /home/ec2-user/anaconda3/envs/python3/lib/python3.6/site-packages (from mxnet==1.4.1) (1.14.3)\n",
      "Collecting graphviz<0.9.0,>=0.8.1 (from mxnet==1.4.1)\n",
      "  Downloading https://files.pythonhosted.org/packages/53/39/4ab213673844e0c004bed8a0781a0721a3f6bb23eb8854ee75c236428892/graphviz-0.8.4-py2.py3-none-any.whl\n",
      "Requirement already satisfied: urllib3<1.25,>=1.21.1 in /home/ec2-user/anaconda3/envs/python3/lib/python3.6/site-packages (from requests>=2.20.0->mxnet==1.4.1) (1.23)\n",
      "Requirement already satisfied: certifi>=2017.4.17 in /home/ec2-user/anaconda3/envs/python3/lib/python3.6/site-packages (from requests>=2.20.0->mxnet==1.4.1) (2019.9.11)\n",
      "Requirement already satisfied: chardet<3.1.0,>=3.0.2 in /home/ec2-user/anaconda3/envs/python3/lib/python3.6/site-packages (from requests>=2.20.0->mxnet==1.4.1) (3.0.4)\n",
      "Requirement already satisfied: idna<2.8,>=2.5 in /home/ec2-user/anaconda3/envs/python3/lib/python3.6/site-packages (from requests>=2.20.0->mxnet==1.4.1) (2.6)\n",
      "Installing collected packages: graphviz, mxnet\n",
      "Successfully installed graphviz-0.8.4 mxnet-1.4.1\n",
      "\u001b[33mYou are using pip version 10.0.1, however version 19.3.1 is available.\n",
      "You should consider upgrading via the 'pip install --upgrade pip' command.\u001b[0m\n"
     ]
    }
   ],
   "source": [
    "!pip install mxnet==\"1.4.1\""
   ]
  },
  {
   "cell_type": "code",
   "execution_count": 2,
   "metadata": {},
   "outputs": [
    {
     "name": "stdout",
     "output_type": "stream",
     "text": [
      "Collecting gluonts\n",
      "\u001b[?25l  Downloading https://files.pythonhosted.org/packages/98/c8/113009b077ca127308470dcd4851e53a6b4ad905fe61f36f28d22ff3a4a5/gluonts-0.4.2-py3-none-any.whl (323kB)\n",
      "\u001b[K    100% |████████████████████████████████| 327kB 43.7MB/s ta 0:00:01\n",
      "\u001b[?25hCollecting python-dateutil==2.8.0 (from gluonts)\n",
      "  Using cached https://files.pythonhosted.org/packages/41/17/c62faccbfbd163c7f57f3844689e3a78bae1f403648a6afb1d0866d87fbb/python_dateutil-2.8.0-py2.py3-none-any.whl\n",
      "Requirement already satisfied: boto3~=1.0 in /home/ec2-user/anaconda3/envs/python3/lib/python3.6/site-packages (from gluonts) (1.10.19)\n",
      "Collecting ujson~=1.35 (from gluonts)\n",
      "\u001b[?25l  Downloading https://files.pythonhosted.org/packages/16/c4/79f3409bc710559015464e5f49b9879430d8f87498ecdc335899732e5377/ujson-1.35.tar.gz (192kB)\n",
      "\u001b[K    100% |████████████████████████████████| 194kB 59.3MB/s eta 0:00:01\n",
      "\u001b[?25hCollecting pandas<0.26,>=0.25 (from gluonts)\n",
      "\u001b[?25l  Downloading https://files.pythonhosted.org/packages/52/3f/f6a428599e0d4497e1595030965b5ba455fd8ade6e977e3c819973c4b41d/pandas-0.25.3-cp36-cp36m-manylinux1_x86_64.whl (10.4MB)\n",
      "\u001b[K    100% |████████████████████████████████| 10.4MB 5.2MB/s eta 0:00:011\n",
      "\u001b[?25hRequirement already satisfied: matplotlib~=3.0 in /home/ec2-user/anaconda3/envs/python3/lib/python3.6/site-packages (from gluonts) (3.0.3)\n",
      "Collecting pydantic~=1.1 (from gluonts)\n",
      "\u001b[?25l  Downloading https://files.pythonhosted.org/packages/c9/5e/0f54f9b340dc4a2153411be072d7af5e91f4a259aea880c9e9637b88f6de/pydantic-1.2-cp36-cp36m-manylinux1_x86_64.whl (7.1MB)\n",
      "\u001b[K    100% |████████████████████████████████| 7.1MB 7.4MB/s eta 0:00:011\n",
      "\u001b[?25hCollecting tqdm~=4.23 (from gluonts)\n",
      "\u001b[?25l  Downloading https://files.pythonhosted.org/packages/a5/13/cd55c23e3e158ed5b87cae415ee3844fc54cb43803fa3a0a064d23ecb883/tqdm-4.40.0-py2.py3-none-any.whl (54kB)\n",
      "\u001b[K    100% |████████████████████████████████| 61kB 44.6MB/s ta 0:00:01\n",
      "\u001b[?25hCollecting holidays<0.10,>=0.9 (from gluonts)\n",
      "\u001b[?25l  Downloading https://files.pythonhosted.org/packages/d0/17/a452275a0b3e811a381137ff6a61649086af4c5bf2a25755f518cc64b39e/holidays-0.9.11.tar.gz (81kB)\n",
      "\u001b[K    100% |████████████████████████████████| 81kB 51.8MB/s ta 0:00:01\n",
      "\u001b[?25hRequirement already satisfied: numpy~=1.14 in /home/ec2-user/anaconda3/envs/python3/lib/python3.6/site-packages (from gluonts) (1.14.3)\n",
      "Requirement already satisfied: six>=1.5 in /home/ec2-user/anaconda3/envs/python3/lib/python3.6/site-packages (from python-dateutil==2.8.0->gluonts) (1.11.0)\n",
      "Requirement already satisfied: botocore<1.14.0,>=1.13.19 in /home/ec2-user/anaconda3/envs/python3/lib/python3.6/site-packages (from boto3~=1.0->gluonts) (1.13.19)\n",
      "Requirement already satisfied: s3transfer<0.3.0,>=0.2.0 in /home/ec2-user/anaconda3/envs/python3/lib/python3.6/site-packages (from boto3~=1.0->gluonts) (0.2.1)\n",
      "Requirement already satisfied: jmespath<1.0.0,>=0.7.1 in /home/ec2-user/anaconda3/envs/python3/lib/python3.6/site-packages (from boto3~=1.0->gluonts) (0.9.4)\n",
      "Requirement already satisfied: pytz>=2017.2 in /home/ec2-user/anaconda3/envs/python3/lib/python3.6/site-packages (from pandas<0.26,>=0.25->gluonts) (2018.4)\n",
      "Requirement already satisfied: cycler>=0.10 in /home/ec2-user/anaconda3/envs/python3/lib/python3.6/site-packages (from matplotlib~=3.0->gluonts) (0.10.0)\n",
      "Requirement already satisfied: kiwisolver>=1.0.1 in /home/ec2-user/anaconda3/envs/python3/lib/python3.6/site-packages (from matplotlib~=3.0->gluonts) (1.0.1)\n",
      "Requirement already satisfied: pyparsing!=2.0.4,!=2.1.2,!=2.1.6,>=2.0.1 in /home/ec2-user/anaconda3/envs/python3/lib/python3.6/site-packages (from matplotlib~=3.0->gluonts) (2.2.0)\n",
      "Collecting dataclasses>=0.6; python_version < \"3.7\" (from pydantic~=1.1->gluonts)\n",
      "  Downloading https://files.pythonhosted.org/packages/e1/d2/6f02df2616fd4016075f60157c7a0452b38d8f7938ae94343911e0fb0b09/dataclasses-0.7-py3-none-any.whl\n",
      "Requirement already satisfied: urllib3<1.26,>=1.20; python_version >= \"3.4\" in /home/ec2-user/anaconda3/envs/python3/lib/python3.6/site-packages (from botocore<1.14.0,>=1.13.19->boto3~=1.0->gluonts) (1.23)\n",
      "Requirement already satisfied: docutils<0.16,>=0.10 in /home/ec2-user/anaconda3/envs/python3/lib/python3.6/site-packages (from botocore<1.14.0,>=1.13.19->boto3~=1.0->gluonts) (0.14)\n",
      "Requirement already satisfied: setuptools in /home/ec2-user/anaconda3/envs/python3/lib/python3.6/site-packages (from kiwisolver>=1.0.1->matplotlib~=3.0->gluonts) (39.1.0)\n",
      "Building wheels for collected packages: ujson, holidays\n",
      "  Running setup.py bdist_wheel for ujson ... \u001b[?25ldone\n",
      "\u001b[?25h  Stored in directory: /home/ec2-user/.cache/pip/wheels/28/77/e4/0311145b9c2e2f01470e744855131f9e34d6919687550f87d1\n",
      "  Running setup.py bdist_wheel for holidays ... \u001b[?25ldone\n",
      "\u001b[?25h  Stored in directory: /home/ec2-user/.cache/pip/wheels/40/a9/2b/94ac5464363d37564a87dc93a9d21a5850aac14a4608197003\n",
      "Successfully built ujson holidays\n",
      "Installing collected packages: python-dateutil, ujson, pandas, dataclasses, pydantic, tqdm, holidays, gluonts\n",
      "  Found existing installation: python-dateutil 2.7.3\n",
      "    Uninstalling python-dateutil-2.7.3:\n",
      "      Successfully uninstalled python-dateutil-2.7.3\n",
      "  Found existing installation: pandas 0.24.2\n",
      "    Uninstalling pandas-0.24.2:\n",
      "      Successfully uninstalled pandas-0.24.2\n",
      "Successfully installed dataclasses-0.7 gluonts-0.4.2 holidays-0.9.11 pandas-0.25.3 pydantic-1.2 python-dateutil-2.8.0 tqdm-4.40.0 ujson-1.35\n",
      "\u001b[33mYou are using pip version 10.0.1, however version 19.3.1 is available.\n",
      "You should consider upgrading via the 'pip install --upgrade pip' command.\u001b[0m\n"
     ]
    }
   ],
   "source": [
    "!pip install gluonts"
   ]
  },
  {
   "cell_type": "code",
   "execution_count": 3,
   "metadata": {},
   "outputs": [],
   "source": [
    "# !pip install gluonts==\"0.4.1\""
   ]
  },
  {
   "cell_type": "code",
   "execution_count": 33,
   "metadata": {},
   "outputs": [
    {
     "data": {
      "text/plain": [
       "'0.4.2'"
      ]
     },
     "execution_count": 33,
     "metadata": {},
     "output_type": "execute_result"
    }
   ],
   "source": [
    "import gluonts\n",
    "gluonts.__version__"
   ]
  },
  {
   "cell_type": "code",
   "execution_count": 34,
   "metadata": {},
   "outputs": [
    {
     "data": {
      "text/plain": [
       "'1.4.1'"
      ]
     },
     "execution_count": 34,
     "metadata": {},
     "output_type": "execute_result"
    }
   ],
   "source": [
    "import mxnet\n",
    "mxnet.__version__"
   ]
  },
  {
   "cell_type": "code",
   "execution_count": 35,
   "metadata": {},
   "outputs": [],
   "source": [
    "# standard imports\n",
    "import numpy as np\n",
    "import pandas as pd\n",
    "\n",
    "# Vis\n",
    "%matplotlib inline\n",
    "import matplotlib.pyplot as plt\n",
    "from pprint import pprint\n",
    "\n",
    "# mxnet\n",
    "import mxnet as mx\n",
    "\n",
    "# gluonts\n",
    "from gluonts.dataset.util import to_pandas\n",
    "\n",
    "# imports from utility function\n",
    "import utils_gluonts10 as utils\n",
    "from utils_gluonts10 import get_dataset, dataset_recipes\n",
    "from utils_gluonts10_deepar import deepar\n",
    "# from utils_gluonts11_deepstate import deep_state\n"
   ]
  },
  {
   "cell_type": "code",
   "execution_count": 36,
   "metadata": {},
   "outputs": [
    {
     "name": "stdout",
     "output_type": "stream",
     "text": [
      "Available datasets: ['m4_daily', 'm4_hourly', 'm4_monthly', 'm4_monthly_atm', 'm4_monthly_dates', 'm4_monthly_demographic', 'm4_monthly_finance', 'm4_monthly_industry', 'm4_monthly_macro', 'm4_monthly_micro', 'm4_monthly_other', 'm4_quarterly', 'm4_quarterly_atm', 'm4_quarterly_dates', 'm4_quarterly_demographic', 'm4_quarterly_finance', 'm4_quarterly_industry', 'm4_quarterly_macro', 'm4_quarterly_micro', 'm4_quarterly_other', 'm4_weekly', 'my_weekly_tm', 'm4_yearly', 'm4_yearly_demographic', 'm4_yearly_finance', 'm4_yearly_industry', 'm4_yearly_macro', 'm4_yearly_micro', 'm4_yearly_other']\n"
     ]
    }
   ],
   "source": [
    "print(f\"Available datasets: {list(dataset_recipes.keys())}\")"
   ]
  },
  {
   "cell_type": "markdown",
   "metadata": {},
   "source": [
    "#### Note\n",
    "\n",
    "In SageMaker data are saved into the following folders (example shows m4_weekly):\n",
    "\n",
    "```\n",
    "saving time-series into /home/ec2-user/.mxnet/gluon-ts/datasets/m4_weekly/train/data.json\n",
    "saving time-series into /home/ec2-user/.mxnet/gluon-ts/datasets/m4_weekly/test/data.json\n",
    "```"
   ]
  },
  {
   "cell_type": "code",
   "execution_count": 37,
   "metadata": {},
   "outputs": [
    {
     "name": "stderr",
     "output_type": "stream",
     "text": [
      "INFO:root:using dataset already processed in path /home/ec2-user/.mxnet/gluon-ts/datasets/m4_yearly_other.\n"
     ]
    }
   ],
   "source": [
    "dataname = \"m4_yearly_other\"\n",
    "dataset = get_dataset(dataname, regenerate=False)"
   ]
  },
  {
   "cell_type": "code",
   "execution_count": 38,
   "metadata": {},
   "outputs": [
    {
     "name": "stdout",
     "output_type": "stream",
     "text": [
      "dict_keys(['start', 'target', 'feat_static_cat', 'source'])\n",
      "dict_keys(['start', 'target', 'feat_static_cat', 'source'])\n"
     ]
    }
   ],
   "source": [
    "# get the first time series in the training set\n",
    "train_entry = next(iter(dataset.train))\n",
    "test_entry = next(iter(dataset.test))\n",
    "\n",
    "# check keys\n",
    "print(train_entry.keys())\n",
    "print(test_entry.keys())"
   ]
  },
  {
   "cell_type": "code",
   "execution_count": 39,
   "metadata": {},
   "outputs": [
    {
     "data": {
      "text/plain": [
       "{'start': Timestamp('1750-01-31 00:00:00', freq='12M'),\n",
       " 'target': array([ 459.,  543.,  512.,  443.,  528.,  644.,  493.,  493.,  517.,\n",
       "         395.,  407.,  392.,  636.,  651.,  808.,  885., 1389., 1285.,\n",
       "        1395., 1426., 1591., 1563., 1704., 2281., 2082., 2348., 1807.,\n",
       "        2113., 2029., 2562., 1849., 1271., 2464., 2956., 2706., 2743.,\n",
       "        4103., 3101., 3150., 3223., 2881., 3200., 4497., 2645., 1448.,\n",
       "         875.,  753., 1179., 1631., 2533., 3301., 2026.], dtype=float32),\n",
       " 'feat_static_cat': array([1], dtype=int32),\n",
       " 'source': SourceContext(source=Span(path=PosixPath('/home/ec2-user/.mxnet/gluon-ts/datasets/m4_yearly_other/train/m4_yearly_other_train.json'), line=1), row=1)}"
      ]
     },
     "execution_count": 39,
     "metadata": {},
     "output_type": "execute_result"
    }
   ],
   "source": [
    "train_entry"
   ]
  },
  {
   "cell_type": "markdown",
   "metadata": {},
   "source": [
    "## Plot Series"
   ]
  },
  {
   "cell_type": "code",
   "execution_count": 40,
   "metadata": {},
   "outputs": [
    {
     "data": {
      "image/png": "[encoded data removed]",
      "text/plain": [
       "<Figure size 720x504 with 2 Axes>"
      ]
     },
     "metadata": {},
     "output_type": "display_data"
    }
   ],
   "source": [
    "test_series = to_pandas(test_entry)\n",
    "train_series = to_pandas(train_entry)\n",
    "\n",
    "fig, ax = plt.subplots(2, 1, sharex=True, sharey=True, figsize=(10, 7))\n",
    "\n",
    "train_series.plot(ax=ax[0])\n",
    "ax[0].grid(which=\"both\")\n",
    "ax[0].legend([\"train series\"], loc=\"upper left\")\n",
    "\n",
    "test_series.plot(ax=ax[1])\n",
    "ax[1].axvline(train_series.index[-1], color='r') # end of train dataset\n",
    "ax[1].grid(which=\"both\")\n",
    "ax[1].legend([\"test series\", \"end of train series\"], loc=\"upper left\")\n",
    "\n",
    "plt.show()"
   ]
  },
  {
   "cell_type": "code",
   "execution_count": 41,
   "metadata": {},
   "outputs": [
    {
     "name": "stdout",
     "output_type": "stream",
     "text": [
      "start: 1750-01-31 00:00:00\n",
      "target: [459. 543. 512. 443. 528. 644. 493.]\n",
      "feat_static_cat: [1]\n",
      "length: 1236\n"
     ]
    }
   ],
   "source": [
    "print(\"start:\", dict(train_entry)[\"start\"])\n",
    "print(\"target:\", dict(train_entry)[\"target\"][:7])\n",
    "print(\"feat_static_cat:\", dict(train_entry)[\"feat_static_cat\"])\n",
    "print(\"length:\", len(dataset.train))"
   ]
  },
  {
   "cell_type": "code",
   "execution_count": 42,
   "metadata": {},
   "outputs": [],
   "source": [
    "from gluonts.trainer import Trainer\n",
    "from gluonts.evaluation.backtest import make_evaluation_predictions\n",
    "from gluonts.evaluation import Evaluator\n",
    "\n",
    "from gluonts.model.deepstate import DeepStateEstimator"
   ]
  },
  {
   "cell_type": "markdown",
   "metadata": {},
   "source": [
    "# Study 1:`epochs=100, num_batches=50`"
   ]
  },
  {
   "cell_type": "code",
   "execution_count": null,
   "metadata": {},
   "outputs": [],
   "source": []
  },
  {
   "cell_type": "code",
   "execution_count": null,
   "metadata": {},
   "outputs": [],
   "source": []
  },
  {
   "cell_type": "code",
   "execution_count": null,
   "metadata": {},
   "outputs": [],
   "source": []
  },
  {
   "cell_type": "code",
   "execution_count": 23,
   "metadata": {},
   "outputs": [
    {
     "name": "stdout",
     "output_type": "stream",
     "text": [
      "[NbConvertApp] Converting notebook gluonts11-own-m4_subsets_sagemaker.ipynb to html\n",
      "[NbConvertApp] Writing 466870 bytes to ../html_outputs/gluonts11-own-m4_subsets_sagemaker.html\n"
     ]
    }
   ],
   "source": [
    "!jupyter nbconvert --output-dir=\"../html_outputs\" --to html gluonts11-own-m4_subsets_sagemaker.ipynb"
   ]
  },
  {
   "cell_type": "markdown",
   "metadata": {},
   "source": [
    "# Study 2: Increase `num_batches=100` "
   ]
  },
  {
   "cell_type": "code",
   "execution_count": null,
   "metadata": {},
   "outputs": [],
   "source": []
  },
  {
   "cell_type": "code",
   "execution_count": null,
   "metadata": {},
   "outputs": [],
   "source": []
  },
  {
   "cell_type": "code",
   "execution_count": null,
   "metadata": {},
   "outputs": [],
   "source": []
  },
  {
   "cell_type": "code",
   "execution_count": 27,
   "metadata": {},
   "outputs": [
    {
     "name": "stdout",
     "output_type": "stream",
     "text": [
      "[NbConvertApp] Converting notebook gluonts11-own-m4_subsets_sagemaker.ipynb to html\n",
      "[NbConvertApp] Writing 529109 bytes to ../html_outputs/gluonts11-own-m4_subsets_sagemaker.html\n"
     ]
    }
   ],
   "source": [
    "!jupyter nbconvert --output-dir=\"../html_outputs\" --to html gluonts11-own-m4_subsets_sagemaker.ipynb"
   ]
  },
  {
   "cell_type": "markdown",
   "metadata": {},
   "source": [
    "# Study 3: `passes>=100`"
   ]
  },
  {
   "cell_type": "code",
   "execution_count": 45,
   "metadata": {},
   "outputs": [
    {
     "name": "stderr",
     "output_type": "stream",
     "text": [
      "INFO:root:using dataset already processed in path /home/ec2-user/.mxnet/gluon-ts/datasets/m4_yearly_other.\n",
      "INFO:root:Start model training\n",
      "INFO:root:Epoch[0] Learning rate is 0.001\n",
      "  0%|          | 0/100 [00:00<?, ?it/s]INFO:root:Number of parameters in DeepStateTrainingNetwork: 91149\n",
      "100%|██████████| 100/100 [00:02<00:00, 42.86it/s, avg_epoch_loss=0.248]\n",
      "INFO:root:Epoch[0] Elapsed time 2.339 seconds\n",
      "INFO:root:Epoch[0] Evaluation metric 'epoch_loss'=0.248387\n",
      "INFO:root:Epoch[1] Learning rate is 0.001\n",
      "100%|██████████| 100/100 [00:02<00:00, 43.84it/s, avg_epoch_loss=-.156]\n",
      "INFO:root:Epoch[1] Elapsed time 2.283 seconds\n",
      "INFO:root:Epoch[1] Evaluation metric 'epoch_loss'=-0.155997\n",
      "INFO:root:Epoch[2] Learning rate is 0.001\n",
      "100%|██████████| 100/100 [00:02<00:00, 43.61it/s, avg_epoch_loss=-.801]\n",
      "INFO:root:Epoch[2] Elapsed time 2.296 seconds\n",
      "INFO:root:Epoch[2] Evaluation metric 'epoch_loss'=-0.801356\n",
      "INFO:root:Epoch[3] Learning rate is 0.001\n",
      "100%|██████████| 100/100 [00:02<00:00, 43.80it/s, avg_epoch_loss=-1.3]\n",
      "INFO:root:Epoch[3] Elapsed time 2.285 seconds\n",
      "INFO:root:Epoch[3] Evaluation metric 'epoch_loss'=-1.296156\n",
      "INFO:root:Epoch[4] Learning rate is 0.001\n",
      "100%|██████████| 100/100 [00:02<00:00, 42.84it/s, avg_epoch_loss=-1.53]\n",
      "INFO:root:Epoch[4] Elapsed time 2.337 seconds\n",
      "INFO:root:Epoch[4] Evaluation metric 'epoch_loss'=-1.525242\n",
      "INFO:root:Epoch[5] Learning rate is 0.001\n",
      "100%|██████████| 100/100 [00:02<00:00, 42.88it/s, avg_epoch_loss=-1.68]\n",
      "INFO:root:Epoch[5] Elapsed time 2.336 seconds\n",
      "INFO:root:Epoch[5] Evaluation metric 'epoch_loss'=-1.679378\n",
      "INFO:root:Epoch[6] Learning rate is 0.001\n",
      "100%|██████████| 100/100 [00:02<00:00, 41.50it/s, avg_epoch_loss=-1.7]\n",
      "INFO:root:Epoch[6] Elapsed time 2.413 seconds\n",
      "INFO:root:Epoch[6] Evaluation metric 'epoch_loss'=-1.704107\n",
      "INFO:root:Epoch[7] Learning rate is 0.001\n",
      "100%|██████████| 100/100 [00:02<00:00, 41.47it/s, avg_epoch_loss=-1.9]\n",
      "INFO:root:Epoch[7] Elapsed time 2.415 seconds\n",
      "INFO:root:Epoch[7] Evaluation metric 'epoch_loss'=-1.898811\n",
      "INFO:root:Epoch[8] Learning rate is 0.001\n",
      "100%|██████████| 100/100 [00:02<00:00, 41.26it/s, avg_epoch_loss=-1.94]\n",
      "INFO:root:Epoch[8] Elapsed time 2.426 seconds\n",
      "INFO:root:Epoch[8] Evaluation metric 'epoch_loss'=-1.944734\n",
      "INFO:root:Epoch[9] Learning rate is 0.001\n",
      "100%|██████████| 100/100 [00:02<00:00, 42.51it/s, avg_epoch_loss=-1.98]\n",
      "INFO:root:Epoch[9] Elapsed time 2.362 seconds\n",
      "INFO:root:Epoch[9] Evaluation metric 'epoch_loss'=-1.979075\n",
      "INFO:root:Epoch[10] Learning rate is 0.001\n",
      "100%|██████████| 100/100 [00:02<00:00, 43.02it/s, avg_epoch_loss=-2.11]\n",
      "INFO:root:Epoch[10] Elapsed time 2.328 seconds\n",
      "INFO:root:Epoch[10] Evaluation metric 'epoch_loss'=-2.106394\n",
      "INFO:root:Epoch[11] Learning rate is 0.001\n",
      "100%|██████████| 100/100 [00:02<00:00, 42.82it/s, avg_epoch_loss=-2.05]\n",
      "INFO:root:Epoch[11] Elapsed time 2.338 seconds\n",
      "INFO:root:Epoch[11] Evaluation metric 'epoch_loss'=-2.047010\n",
      "INFO:root:Epoch[12] Learning rate is 0.001\n",
      "100%|██████████| 100/100 [00:02<00:00, 42.59it/s, avg_epoch_loss=-2.22]\n",
      "INFO:root:Epoch[12] Elapsed time 2.353 seconds\n",
      "INFO:root:Epoch[12] Evaluation metric 'epoch_loss'=-2.220190\n",
      "INFO:root:Epoch[13] Learning rate is 0.001\n",
      "100%|██████████| 100/100 [00:02<00:00, 43.35it/s, avg_epoch_loss=-2.17]\n",
      "INFO:root:Epoch[13] Elapsed time 2.309 seconds\n",
      "INFO:root:Epoch[13] Evaluation metric 'epoch_loss'=-2.170089\n",
      "INFO:root:Epoch[14] Learning rate is 0.001\n",
      "100%|██████████| 100/100 [00:02<00:00, 43.57it/s, avg_epoch_loss=-2.23]\n",
      "INFO:root:Epoch[14] Elapsed time 2.299 seconds\n",
      "INFO:root:Epoch[14] Evaluation metric 'epoch_loss'=-2.230450\n",
      "INFO:root:Epoch[15] Learning rate is 0.001\n",
      "100%|██████████| 100/100 [00:02<00:00, 42.27it/s, avg_epoch_loss=-2.22]\n",
      "INFO:root:Epoch[15] Elapsed time 2.369 seconds\n",
      "INFO:root:Epoch[15] Evaluation metric 'epoch_loss'=-2.216449\n",
      "INFO:root:Epoch[16] Learning rate is 0.001\n",
      "100%|██████████| 100/100 [00:02<00:00, 41.82it/s, avg_epoch_loss=-2.23]\n",
      "INFO:root:Epoch[16] Elapsed time 2.397 seconds\n",
      "INFO:root:Epoch[16] Evaluation metric 'epoch_loss'=-2.228906\n",
      "INFO:root:Epoch[17] Learning rate is 0.001\n",
      "100%|██████████| 100/100 [00:03<00:00, 30.22it/s, avg_epoch_loss=-2.37]\n",
      "INFO:root:Epoch[17] Elapsed time 3.313 seconds\n",
      "INFO:root:Epoch[17] Evaluation metric 'epoch_loss'=-2.369685\n",
      "INFO:root:Epoch[18] Learning rate is 0.001\n",
      "100%|██████████| 100/100 [00:02<00:00, 35.74it/s, avg_epoch_loss=-2.33]\n",
      "INFO:root:Epoch[18] Elapsed time 2.803 seconds\n",
      "INFO:root:Epoch[18] Evaluation metric 'epoch_loss'=-2.328640\n",
      "INFO:root:Epoch[19] Learning rate is 0.001\n",
      "100%|██████████| 100/100 [00:02<00:00, 41.41it/s, avg_epoch_loss=-2.47]\n",
      "INFO:root:Epoch[19] Elapsed time 2.422 seconds\n",
      "INFO:root:Epoch[19] Evaluation metric 'epoch_loss'=-2.465630\n",
      "INFO:root:Epoch[20] Learning rate is 0.001\n",
      "100%|██████████| 100/100 [00:02<00:00, 42.51it/s, avg_epoch_loss=-2.34]\n",
      "INFO:root:Epoch[20] Elapsed time 2.356 seconds\n",
      "INFO:root:Epoch[20] Evaluation metric 'epoch_loss'=-2.337000\n",
      "INFO:root:Epoch[21] Learning rate is 0.001\n",
      "  0%|          | 0/100 [00:00<?, ?it/s, avg_epoch_loss=-2.45]\n"
     ]
    },
    {
     "ename": "KeyboardInterrupt",
     "evalue": "",
     "output_type": "error",
     "traceback": [
      "\u001b[0;31m---------------------------------------------------------------------------\u001b[0m",
      "\u001b[0;31mKeyboardInterrupt\u001b[0m                         Traceback (most recent call last)",
      "\u001b[0;32m<ipython-input-45-e724086a6c27>\u001b[0m in \u001b[0;36m<module>\u001b[0;34m()\u001b[0m\n\u001b[1;32m     32\u001b[0m     )\n\u001b[1;32m     33\u001b[0m \u001b[0;34m\u001b[0m\u001b[0m\n\u001b[0;32m---> 34\u001b[0;31m \u001b[0mpredictor\u001b[0m\u001b[0;34m=\u001b[0m\u001b[0mestimator\u001b[0m\u001b[0;34m.\u001b[0m\u001b[0mtrain\u001b[0m\u001b[0;34m(\u001b[0m\u001b[0mdataset\u001b[0m\u001b[0;34m.\u001b[0m\u001b[0mtrain\u001b[0m\u001b[0;34m)\u001b[0m\u001b[0;34m\u001b[0m\u001b[0m\n\u001b[0m\u001b[1;32m     35\u001b[0m \u001b[0;34m\u001b[0m\u001b[0m\n\u001b[1;32m     36\u001b[0m forecast_it, ts_it = make_evaluation_predictions(\n",
      "\u001b[0;32m~/anaconda3/envs/python3/lib/python3.6/site-packages/gluonts/model/estimator.py\u001b[0m in \u001b[0;36mtrain\u001b[0;34m(self, training_data, validation_data)\u001b[0m\n\u001b[1;32m    221\u001b[0m         \u001b[0mself\u001b[0m\u001b[0;34m,\u001b[0m \u001b[0mtraining_data\u001b[0m\u001b[0;34m:\u001b[0m \u001b[0mDataset\u001b[0m\u001b[0;34m,\u001b[0m \u001b[0mvalidation_data\u001b[0m\u001b[0;34m:\u001b[0m \u001b[0mOptional\u001b[0m\u001b[0;34m[\u001b[0m\u001b[0mDataset\u001b[0m\u001b[0;34m]\u001b[0m \u001b[0;34m=\u001b[0m \u001b[0;32mNone\u001b[0m\u001b[0;34m\u001b[0m\u001b[0m\n\u001b[1;32m    222\u001b[0m     ) -> Predictor:\n\u001b[0;32m--> 223\u001b[0;31m         \u001b[0;32mreturn\u001b[0m \u001b[0mself\u001b[0m\u001b[0;34m.\u001b[0m\u001b[0mtrain_model\u001b[0m\u001b[0;34m(\u001b[0m\u001b[0mtraining_data\u001b[0m\u001b[0;34m,\u001b[0m \u001b[0mvalidation_data\u001b[0m\u001b[0;34m)\u001b[0m\u001b[0;34m.\u001b[0m\u001b[0mpredictor\u001b[0m\u001b[0;34m\u001b[0m\u001b[0m\n\u001b[0m",
      "\u001b[0;32m~/anaconda3/envs/python3/lib/python3.6/site-packages/gluonts/model/estimator.py\u001b[0m in \u001b[0;36mtrain_model\u001b[0;34m(self, training_data, validation_data)\u001b[0m\n\u001b[1;32m    206\u001b[0m             \u001b[0minput_names\u001b[0m\u001b[0;34m=\u001b[0m\u001b[0mget_hybrid_forward_input_names\u001b[0m\u001b[0;34m(\u001b[0m\u001b[0mtrained_net\u001b[0m\u001b[0;34m)\u001b[0m\u001b[0;34m,\u001b[0m\u001b[0;34m\u001b[0m\u001b[0m\n\u001b[1;32m    207\u001b[0m             \u001b[0mtrain_iter\u001b[0m\u001b[0;34m=\u001b[0m\u001b[0mtraining_data_loader\u001b[0m\u001b[0;34m,\u001b[0m\u001b[0;34m\u001b[0m\u001b[0m\n\u001b[0;32m--> 208\u001b[0;31m             \u001b[0mvalidation_iter\u001b[0m\u001b[0;34m=\u001b[0m\u001b[0mvalidation_data_loader\u001b[0m\u001b[0;34m,\u001b[0m\u001b[0;34m\u001b[0m\u001b[0m\n\u001b[0m\u001b[1;32m    209\u001b[0m         )\n\u001b[1;32m    210\u001b[0m \u001b[0;34m\u001b[0m\u001b[0m\n",
      "\u001b[0;32m~/anaconda3/envs/python3/lib/python3.6/site-packages/gluonts/trainer/_base.py\u001b[0m in \u001b[0;36m__call__\u001b[0;34m(self, net, input_names, train_iter, validation_iter)\u001b[0m\n\u001b[1;32m    295\u001b[0m                     )\n\u001b[1;32m    296\u001b[0m \u001b[0;34m\u001b[0m\u001b[0m\n\u001b[0;32m--> 297\u001b[0;31m                     \u001b[0mepoch_loss\u001b[0m \u001b[0;34m=\u001b[0m \u001b[0mloop\u001b[0m\u001b[0;34m(\u001b[0m\u001b[0mepoch_no\u001b[0m\u001b[0;34m,\u001b[0m \u001b[0mtrain_iter\u001b[0m\u001b[0;34m)\u001b[0m\u001b[0;34m\u001b[0m\u001b[0m\n\u001b[0m\u001b[1;32m    298\u001b[0m                     \u001b[0;32mif\u001b[0m \u001b[0mis_validation_available\u001b[0m\u001b[0;34m:\u001b[0m\u001b[0;34m\u001b[0m\u001b[0m\n\u001b[1;32m    299\u001b[0m                         epoch_loss = loop(\n",
      "\u001b[0;32m~/anaconda3/envs/python3/lib/python3.6/site-packages/gluonts/trainer/_base.py\u001b[0m in \u001b[0;36mloop\u001b[0;34m(epoch_no, batch_iter, is_training)\u001b[0m\n\u001b[1;32m    250\u001b[0m                                 \u001b[0mtrainer\u001b[0m\u001b[0;34m.\u001b[0m\u001b[0mstep\u001b[0m\u001b[0;34m(\u001b[0m\u001b[0mbatch_size\u001b[0m\u001b[0;34m)\u001b[0m\u001b[0;34m\u001b[0m\u001b[0m\n\u001b[1;32m    251\u001b[0m \u001b[0;34m\u001b[0m\u001b[0m\n\u001b[0;32m--> 252\u001b[0;31m                             \u001b[0mepoch_loss\u001b[0m\u001b[0;34m.\u001b[0m\u001b[0mupdate\u001b[0m\u001b[0;34m(\u001b[0m\u001b[0;32mNone\u001b[0m\u001b[0;34m,\u001b[0m \u001b[0mpreds\u001b[0m\u001b[0;34m=\u001b[0m\u001b[0mloss\u001b[0m\u001b[0;34m)\u001b[0m\u001b[0;34m\u001b[0m\u001b[0m\n\u001b[0m\u001b[1;32m    253\u001b[0m                             it.set_postfix(\n\u001b[1;32m    254\u001b[0m                                 ordered_dict={\n",
      "\u001b[0;32m~/anaconda3/envs/python3/lib/python3.6/site-packages/mxnet/metric.py\u001b[0m in \u001b[0;36mupdate\u001b[0;34m(self, _, preds)\u001b[0m\n\u001b[1;32m   1287\u001b[0m \u001b[0;34m\u001b[0m\u001b[0m\n\u001b[1;32m   1288\u001b[0m         \u001b[0;32mfor\u001b[0m \u001b[0mpred\u001b[0m \u001b[0;32min\u001b[0m \u001b[0mpreds\u001b[0m\u001b[0;34m:\u001b[0m\u001b[0;34m\u001b[0m\u001b[0m\n\u001b[0;32m-> 1289\u001b[0;31m             \u001b[0mself\u001b[0m\u001b[0;34m.\u001b[0m\u001b[0msum_metric\u001b[0m \u001b[0;34m+=\u001b[0m \u001b[0mndarray\u001b[0m\u001b[0;34m.\u001b[0m\u001b[0msum\u001b[0m\u001b[0;34m(\u001b[0m\u001b[0mpred\u001b[0m\u001b[0;34m)\u001b[0m\u001b[0;34m.\u001b[0m\u001b[0masscalar\u001b[0m\u001b[0;34m(\u001b[0m\u001b[0;34m)\u001b[0m\u001b[0;34m\u001b[0m\u001b[0m\n\u001b[0m\u001b[1;32m   1290\u001b[0m             \u001b[0mself\u001b[0m\u001b[0;34m.\u001b[0m\u001b[0mnum_inst\u001b[0m \u001b[0;34m+=\u001b[0m \u001b[0mpred\u001b[0m\u001b[0;34m.\u001b[0m\u001b[0msize\u001b[0m\u001b[0;34m\u001b[0m\u001b[0m\n\u001b[1;32m   1291\u001b[0m \u001b[0;34m\u001b[0m\u001b[0m\n",
      "\u001b[0;32m~/anaconda3/envs/python3/lib/python3.6/site-packages/mxnet/ndarray/ndarray.py\u001b[0m in \u001b[0;36masscalar\u001b[0;34m(self)\u001b[0m\n\u001b[1;32m   1996\u001b[0m         \u001b[0;32mif\u001b[0m \u001b[0mself\u001b[0m\u001b[0;34m.\u001b[0m\u001b[0mshape\u001b[0m \u001b[0;34m!=\u001b[0m \u001b[0;34m(\u001b[0m\u001b[0;36m1\u001b[0m\u001b[0;34m,\u001b[0m\u001b[0;34m)\u001b[0m\u001b[0;34m:\u001b[0m\u001b[0;34m\u001b[0m\u001b[0m\n\u001b[1;32m   1997\u001b[0m             \u001b[0;32mraise\u001b[0m \u001b[0mValueError\u001b[0m\u001b[0;34m(\u001b[0m\u001b[0;34m\"The current array is not a scalar\"\u001b[0m\u001b[0;34m)\u001b[0m\u001b[0;34m\u001b[0m\u001b[0m\n\u001b[0;32m-> 1998\u001b[0;31m         \u001b[0;32mreturn\u001b[0m \u001b[0mself\u001b[0m\u001b[0;34m.\u001b[0m\u001b[0masnumpy\u001b[0m\u001b[0;34m(\u001b[0m\u001b[0;34m)\u001b[0m\u001b[0;34m[\u001b[0m\u001b[0;36m0\u001b[0m\u001b[0;34m]\u001b[0m\u001b[0;34m\u001b[0m\u001b[0m\n\u001b[0m\u001b[1;32m   1999\u001b[0m \u001b[0;34m\u001b[0m\u001b[0m\n\u001b[1;32m   2000\u001b[0m     \u001b[0;32mdef\u001b[0m \u001b[0mastype\u001b[0m\u001b[0;34m(\u001b[0m\u001b[0mself\u001b[0m\u001b[0;34m,\u001b[0m \u001b[0mdtype\u001b[0m\u001b[0;34m,\u001b[0m \u001b[0mcopy\u001b[0m\u001b[0;34m=\u001b[0m\u001b[0;32mTrue\u001b[0m\u001b[0;34m)\u001b[0m\u001b[0;34m:\u001b[0m\u001b[0;34m\u001b[0m\u001b[0m\n",
      "\u001b[0;32m~/anaconda3/envs/python3/lib/python3.6/site-packages/mxnet/ndarray/ndarray.py\u001b[0m in \u001b[0;36masnumpy\u001b[0;34m(self)\u001b[0m\n\u001b[1;32m   1978\u001b[0m             \u001b[0mself\u001b[0m\u001b[0;34m.\u001b[0m\u001b[0mhandle\u001b[0m\u001b[0;34m,\u001b[0m\u001b[0;34m\u001b[0m\u001b[0m\n\u001b[1;32m   1979\u001b[0m             \u001b[0mdata\u001b[0m\u001b[0;34m.\u001b[0m\u001b[0mctypes\u001b[0m\u001b[0;34m.\u001b[0m\u001b[0mdata_as\u001b[0m\u001b[0;34m(\u001b[0m\u001b[0mctypes\u001b[0m\u001b[0;34m.\u001b[0m\u001b[0mc_void_p\u001b[0m\u001b[0;34m)\u001b[0m\u001b[0;34m,\u001b[0m\u001b[0;34m\u001b[0m\u001b[0m\n\u001b[0;32m-> 1980\u001b[0;31m             ctypes.c_size_t(data.size)))\n\u001b[0m\u001b[1;32m   1981\u001b[0m         \u001b[0;32mreturn\u001b[0m \u001b[0mdata\u001b[0m\u001b[0;34m\u001b[0m\u001b[0m\n\u001b[1;32m   1982\u001b[0m \u001b[0;34m\u001b[0m\u001b[0m\n",
      "\u001b[0;31mKeyboardInterrupt\u001b[0m: "
     ]
    }
   ],
   "source": [
    "#########################\n",
    "### deepstate wrapper ###\n",
    "\n",
    "data = \"m4_yearly_other\"\n",
    "seed = 44\n",
    "epochs = 500\n",
    "num_batches = 100\n",
    "batch_size = 32\n",
    "\n",
    "\n",
    "mx.random.seed(seed)\n",
    "np.random.seed(seed)\n",
    "\n",
    "dataset = get_dataset(data)\n",
    "\n",
    "trainer = Trainer(\n",
    "    ctx=mx.cpu(0),\n",
    "#     ctx=mx.gpu(0),\n",
    "    epochs=epochs,\n",
    "    num_batches_per_epoch=num_batches,\n",
    "    learning_rate=1e-3,\n",
    "    batch_size=batch_size,\n",
    "    )\n",
    "\n",
    "cardinality = int(dataset.metadata.feat_static_cat[0].cardinality)\n",
    "estimator = DeepStateEstimator(\n",
    "    trainer=trainer,\n",
    "    cardinality=[cardinality],\n",
    "    prediction_length=dataset.metadata.prediction_length,\n",
    "    freq=dataset.metadata.freq,\n",
    "    use_feat_static_cat=True,\n",
    "    )\n",
    "\n",
    "predictor=estimator.train(dataset.train)\n",
    "\n",
    "forecast_it, ts_it = make_evaluation_predictions(\n",
    "        dataset.test, predictor=predictor, num_samples=100\n",
    "    )\n",
    "\n",
    "agg_metrics, item_metrics = Evaluator()(\n",
    "    ts_it, forecast_it, num_series=len(dataset.test)\n",
    ")\n",
    "\n",
    "metrics = [\"MASE\", \"sMAPE\", \"MSIS\", \"wQuantileLoss[0.5]\", \"wQuantileLoss[0.9]\"]\n",
    "output = {key: round(value, 8) for key, value in agg_metrics.items() if key in metrics}\n",
    "\n",
    "output[\"seed\"] = seed\n",
    "output[\"epochs\"] = epochs\n",
    "output[\"num_batches\"] = num_batches\n",
    "# output[\"batch_size\"] = batch_size\n",
    "\n",
    "pd.DataFrame([output])"
   ]
  },
  {
   "cell_type": "markdown",
   "metadata": {},
   "source": [
    "## Include validation dataset"
   ]
  },
  {
   "cell_type": "code",
   "execution_count": null,
   "metadata": {},
   "outputs": [],
   "source": [
    "#########################\n",
    "### deepstate wrapper ###\n",
    "\n",
    "data = \"m4_yearly_other\"\n",
    "seed = 42\n",
    "epochs = 500\n",
    "num_batches = 100\n",
    "batch_size = 32\n",
    "\n",
    "\n",
    "mx.random.seed(seed)\n",
    "np.random.seed(seed)\n",
    "\n",
    "dataset = get_dataset(data)\n",
    "\n",
    "trainer = Trainer(\n",
    "    ctx=mx.cpu(0),\n",
    "#     ctx=mx.gpu(0),\n",
    "    epochs=epochs,\n",
    "    num_batches_per_epoch=num_batches,\n",
    "    learning_rate=1e-3,\n",
    "    batch_size=batch_size,\n",
    "    )\n",
    "\n",
    "cardinality = int(dataset.metadata.feat_static_cat[0].cardinality)\n",
    "estimator = DeepStateEstimator(\n",
    "    trainer=trainer,\n",
    "    cardinality=[cardinality],\n",
    "    prediction_length=dataset.metadata.prediction_length,\n",
    "    freq=dataset.metadata.freq,\n",
    "    use_feat_static_cat=True,\n",
    "    )\n",
    "\n",
    "predictor=estimator.train(training_data=dataset.train, validation_data=dataset.test)\n",
    "\n",
    "forecast_it, ts_it = make_evaluation_predictions(\n",
    "        dataset.test, predictor=predictor, num_samples=100\n",
    "    )\n",
    "\n",
    "agg_metrics, item_metrics = Evaluator()(\n",
    "    ts_it, forecast_it, num_series=len(dataset.test)\n",
    ")\n",
    "\n",
    "metrics = [\"MASE\", \"sMAPE\", \"MSIS\", \"wQuantileLoss[0.5]\", \"wQuantileLoss[0.9]\"]\n",
    "output = {key: round(value, 8) for key, value in agg_metrics.items() if key in metrics}\n",
    "\n",
    "output[\"seed\"] = seed\n",
    "output[\"epochs\"] = epochs\n",
    "output[\"num_batches\"] = num_batches\n",
    "# output[\"batch_size\"] = batch_size\n",
    "\n",
    "pd.DataFrame([output])"
   ]
  },
  {
   "cell_type": "code",
   "execution_count": null,
   "metadata": {},
   "outputs": [],
   "source": [
    "!jupyter nbconvert --output-dir=\"../html_outputs\" --to html gluonts11-own-m4_subsets_sagemaker.ipynb"
   ]
  },
  {
   "cell_type": "code",
   "execution_count": null,
   "metadata": {},
   "outputs": [],
   "source": []
  }
 ],
 "metadata": {
  "kernelspec": {
   "display_name": "conda_python3",
   "language": "python",
   "name": "conda_python3"
  }
 },
 "nbformat": 4,
 "nbformat_minor": 4
}
