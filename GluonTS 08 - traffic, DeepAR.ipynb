{
 "cells": [
  {
   "cell_type": "code",
   "execution_count": 3,
   "metadata": {},
   "outputs": [
    {
     "name": "stderr",
     "output_type": "stream",
     "text": [
      "INFO:root:downloading and processing traffic\n"
     ]
    },
    {
     "name": "stdout",
     "output_type": "stream",
     "text": [
      "saving time-series into C:\\Users\\TM\\.mxnet\\gluon-ts\\datasets\\traffic\\train\\data.json\n"
     ]
    },
    {
     "name": "stderr",
     "output_type": "stream",
     "text": [
      "C:\\Users\\TM\\Anaconda3\\lib\\site-packages\\gluonts\\dataset\\repository\\_lstnet.py:178: FutureWarning: Addition/subtraction of integers and integer-arrays to Timestamp is deprecated, will be removed in a future version.  Instead of adding/subtracting `n`, use `n * self.freq`\n",
      "  for i in range(ds_info.rolling_evaluations)\n",
      "C:\\Users\\TM\\Anaconda3\\lib\\site-packages\\gluonts\\dataset\\repository\\_lstnet.py:186: FutureWarning: Addition/subtraction of integers and integer-arrays to Timestamp is deprecated, will be removed in a future version.  Instead of adding/subtracting `n`, use `n * self.freq`\n",
      "  prediction_start_date + ds_info.prediction_length\n"
     ]
    },
    {
     "name": "stdout",
     "output_type": "stream",
     "text": [
      "saving time-series into C:\\Users\\TM\\.mxnet\\gluon-ts\\datasets\\traffic\\test\\data.json\n"
     ]
    },
    {
     "name": "stderr",
     "output_type": "stream",
     "text": [
      "INFO:root:Start model training\n",
      "INFO:root:Number of parameters in DeepARTrainingNetwork: 13463\n",
      "INFO:root:Epoch[0] Learning rate is 0.001\n",
      "100%|██████████| 50/50 [00:13<00:00,  3.58it/s, avg_epoch_loss=-2.6] \n",
      "INFO:root:Epoch[0] Elapsed time 14.021 seconds\n",
      "INFO:root:Epoch[0] Evaluation metric 'epoch_loss'=-2.604499\n",
      "INFO:root:Loading parameters from best epoch (0)\n",
      "INFO:root:Final loss: -2.604499158859253 (occurred at epoch 0)\n",
      "INFO:root:End model training\n",
      "Running evaluation: 100%|██████████| 6034/6034 [10:31<00:00,  9.56it/s]\n"
     ]
    },
    {
     "name": "stdout",
     "output_type": "stream",
     "text": [
      "{'Coverage[0.1]': 0.09655701027510778,\n",
      " 'Coverage[0.2]': 0.19414981769970188,\n",
      " 'Coverage[0.3]': 0.2914595072367698,\n",
      " 'Coverage[0.4]': 0.3895633079217784,\n",
      " 'Coverage[0.5]': 0.4855333664788433,\n",
      " 'Coverage[0.6]': 0.5710625897690861,\n",
      " 'Coverage[0.7]': 0.6706372224063643,\n",
      " 'Coverage[0.8]': 0.7736437962656056,\n",
      " 'Coverage[0.9]': 0.8775687769307243,\n",
      " 'MAE_Coverage': 0.016647178335113175,\n",
      " 'MASE': 0.742451905724714,\n",
      " 'MSE': 0.0007151450595443807,\n",
      " 'MSIS': 10.894706606583467,\n",
      " 'ND': 0.18953742190893755,\n",
      " 'NRMSE': 0.4465455384411746,\n",
      " 'QuantileLoss[0.1]': 725.0411207142602,\n",
      " 'QuantileLoss[0.2]': 1105.52386259583,\n",
      " 'QuantileLoss[0.3]': 1367.4625352565763,\n",
      " 'QuantileLoss[0.4]': 1543.0273230252546,\n",
      " 'QuantileLoss[0.5]': 1643.7767490323963,\n",
      " 'QuantileLoss[0.6]': 1670.693721266507,\n",
      " 'QuantileLoss[0.7]': 1611.8757008633747,\n",
      " 'QuantileLoss[0.8]': 1446.6211025180355,\n",
      " 'QuantileLoss[0.9]': 1109.2117654037397,\n",
      " 'RMSE': 0.026742196236367363,\n",
      " 'abs_error': 1643.7767500635237,\n",
      " 'abs_target_mean': 0.05988682885450042,\n",
      " 'abs_target_sum': 8672.5710073933,\n",
      " 'mean_wQuantileLoss': 0.1566014387999919,\n",
      " 'sMAPE': 0.2177565922767643,\n",
      " 'seasonal_error': 0.015220711169889612,\n",
      " 'wQuantileLoss[0.1]': 0.08360163555837918,\n",
      " 'wQuantileLoss[0.2]': 0.12747360173279404,\n",
      " 'wQuantileLoss[0.3]': 0.15767671825238733,\n",
      " 'wQuantileLoss[0.4]': 0.17792040234779694,\n",
      " 'wQuantileLoss[0.5]': 0.18953742179004232,\n",
      " 'wQuantileLoss[0.6]': 0.19264111182742158,\n",
      " 'wQuantileLoss[0.7]': 0.18585903758980618,\n",
      " 'wQuantileLoss[0.8]': 0.1668041808230572,\n",
      " 'wQuantileLoss[0.9]': 0.1278988392782423}\n"
     ]
    }
   ],
   "source": [
    "# python script DeepAR\n",
    "\n",
    "# standard imports\n",
    "import numpy as np\n",
    "import pandas as pd\n",
    "\n",
    "# json\n",
    "import json\n",
    "\n",
    "# gluon data\n",
    "from gluonts.dataset.repository.datasets import get_dataset, dataset_recipes\n",
    "from gluonts.dataset.util import to_pandas\n",
    "\n",
    "# gluon imports\n",
    "from gluonts.trainer import Trainer\n",
    "from gluonts.evaluation.backtest import make_evaluation_predictions\n",
    "from gluonts.evaluation import Evaluator\n",
    "\n",
    "\n",
    "# model imports\n",
    "# from gluonts.model.deepstate import DeepStateEstimator\n",
    "# from gluonts.model.deep_factor import DeepFactorEstimator\n",
    "from gluonts.model.deepar import DeepAREstimator\n",
    "\n",
    "import mxnet as mx\n",
    "from pprint import pprint\n",
    "\n",
    "# seeds\n",
    "mx.random.seed(42)\n",
    "np.random.seed(42)\n",
    "\n",
    "if __name__ == \"__main__\":\n",
    "\n",
    "    dataset = get_dataset(\"traffic\", regenerate=False)\n",
    "\n",
    "    trainer = Trainer(\n",
    "        ctx=mx.cpu(0),\n",
    "        epochs=100,      # default: 100\n",
    "        num_batches_per_epoch=50,      #default: 50\n",
    "        learning_rate=1e-3,\n",
    "        # hybridize=False,\n",
    "    )\n",
    "\n",
    "    # cardinality = int(dataset.metadata.feat_static_cat[0].cardinality)\n",
    "    estimator = DeepAREstimator(\n",
    "        trainer=trainer,\n",
    "        # context_length=168,\n",
    "        # cardinality=[cardinality],\n",
    "        prediction_length=dataset.metadata.prediction_length,\n",
    "        freq=dataset.metadata.freq,\n",
    "    )\n",
    "\n",
    "    predictor = estimator.train(dataset.train)\n",
    "    \n",
    "    forecast_it, ts_it = make_evaluation_predictions(\n",
    "    dataset.test, predictor=predictor, num_eval_samples=100\n",
    "    )\n",
    "    \n",
    "    agg_metrics, item_metrics = Evaluator()(\n",
    "    ts_it, forecast_it, num_series=len(dataset.test)\n",
    "    )\n",
    "    \n",
    "    pprint(agg_metrics)\n",
    "    \n"
   ]
  },
  {
   "cell_type": "code",
   "execution_count": null,
   "metadata": {},
   "outputs": [],
   "source": []
  }
 ],
 "metadata": {
  "kernelspec": {
   "display_name": "Python 3",
   "language": "python",
   "name": "python3"
  },
  "language_info": {
   "codemirror_mode": {
    "name": "ipython",
    "version": 3
   },
   "file_extension": ".py",
   "mimetype": "text/x-python",
   "name": "python",
   "nbconvert_exporter": "python",
   "pygments_lexer": "ipython3",
   "version": "3.6.9"
  }
 },
 "nbformat": 4,
 "nbformat_minor": 2
}
