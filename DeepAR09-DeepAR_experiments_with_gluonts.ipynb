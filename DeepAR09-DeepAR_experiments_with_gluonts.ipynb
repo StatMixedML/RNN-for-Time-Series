{
 "cells": [
  {
   "cell_type": "markdown",
   "metadata": {},
   "source": [
    "# DeepAR - Experiments\n",
    "\n",
    "### DeepAR (Salinas et al., 2017)\n",
    "\n",
    "The **DeepAR** algorithm uses autoregressive features that are used as the inputs to a recurrent neural network. The RNN uses LSTM cells as default but can also changed to GRU cells. In both cases previous time points are taken as input. \n",
    "\n",
    "- [`DeepAREestimator`](https://gluon-ts.mxnet.io/api/gluonts/gluonts.model.deepar.html)"
   ]
  },
  {
   "cell_type": "code",
   "execution_count": 1,
   "metadata": {},
   "outputs": [
    {
     "data": {
      "text/plain": [
       "'0.4.1'"
      ]
     },
     "execution_count": 1,
     "metadata": {},
     "output_type": "execute_result"
    }
   ],
   "source": [
    "import gluonts\n",
    "gluonts.__version__"
   ]
  },
  {
   "cell_type": "code",
   "execution_count": 2,
   "metadata": {},
   "outputs": [
    {
     "data": {
      "text/plain": [
       "'1.4.1'"
      ]
     },
     "execution_count": 2,
     "metadata": {},
     "output_type": "execute_result"
    }
   ],
   "source": [
    "import mxnet\n",
    "mxnet.__version__"
   ]
  },
  {
   "cell_type": "code",
   "execution_count": 2,
   "metadata": {},
   "outputs": [],
   "source": [
    "# !pip install gluonts"
   ]
  },
  {
   "cell_type": "code",
   "execution_count": 3,
   "metadata": {},
   "outputs": [
    {
     "name": "stderr",
     "output_type": "stream",
     "text": [
      "INFO:root:Using CPU\n"
     ]
    }
   ],
   "source": [
    "# standard imports\n",
    "import numpy as np\n",
    "import pandas as pd\n",
    "\n",
    "# json\n",
    "import json\n",
    "\n",
    "# gluon data\n",
    "from gluonts.dataset.repository.datasets import get_dataset, dataset_recipes\n",
    "from gluonts.dataset.util import to_pandas\n",
    "\n",
    "# gluon imports\n",
    "from gluonts.trainer import Trainer\n",
    "from gluonts.evaluation.backtest import make_evaluation_predictions\n",
    "from gluonts.evaluation import Evaluator\n",
    "\n",
    "# model imports\n",
    "# from gluonts.model.deepstate import DeepStateEstimator\n",
    "# from gluonts.model.deep_factor import DeepFactorEstimator\n",
    "from gluonts.model.deepar import DeepAREstimator\n",
    "\n",
    "import mxnet as mx\n",
    "from pprint import pprint\n"
   ]
  },
  {
   "cell_type": "code",
   "execution_count": 6,
   "metadata": {},
   "outputs": [],
   "source": [
    "def deepar(data=\"m4_quarterly\", seed=42, epochs=100, batches=50):\n",
    "    \n",
    "    dataset = get_dataset(data, regenerate=False)\n",
    "    mx.random.seed(seed)\n",
    "    np.random.seed(seed)\n",
    "    \n",
    "    trainer = Trainer(\n",
    "        ctx=mx.cpu(0),\n",
    "        epochs=epochs,      \n",
    "        num_batches_per_epoch=batches,      \n",
    "        learning_rate=1e-3,\n",
    "    )\n",
    "    \n",
    "    cardinality = int(dataset.metadata.feat_static_cat[0].cardinality)\n",
    "    estimator = DeepAREstimator(\n",
    "        trainer=trainer,\n",
    "        cardinality=[cardinality],\n",
    "        context_length=dataset.metadata.prediction_length,\n",
    "        prediction_length=dataset.metadata.prediction_length,\n",
    "        freq=dataset.metadata.freq,\n",
    "        use_feat_static_cat=True   \n",
    "    )\n",
    "        \n",
    "    predictor = estimator.train(training_data=dataset.train, \n",
    "                                validation_data=dataset.test)\n",
    "    \n",
    "    forecast_it, ts_it = make_evaluation_predictions(\n",
    "        dataset.test, predictor=predictor, num_samples=100\n",
    "    )\n",
    "    \n",
    "    agg_metrics, item_metrics = Evaluator()(\n",
    "        ts_it, forecast_it, num_series=len(dataset.test)\n",
    "    )\n",
    "    \n",
    "    metrics = [\"MASE\", \"sMAPE\", \"MSIS\", \"wQuantileLoss[0.5]\", \"wQuantileLoss[0.9]\"]\n",
    "    output = {key: round(value, 8) for key, value in agg_metrics.items() if key in metrics}\n",
    "    output[\"epochs\"] = epochs\n",
    "    output[\"seed\"] = seed\n",
    "    return(output)\n"
   ]
  },
  {
   "cell_type": "code",
   "execution_count": 7,
   "metadata": {},
   "outputs": [
    {
     "name": "stderr",
     "output_type": "stream",
     "text": [
      "INFO:root:using dataset already processed in path C:\\Users\\TM\\.mxnet\\gluon-ts\\datasets\\m4_quarterly.\n",
      "INFO:root:Start model training\n",
      "INFO:root:Epoch[0] Learning rate is 0.001\n",
      "  0%|          | 0/200 [00:00<?, ?it/s]INFO:root:Number of parameters in DeepARTrainingNetwork: 1230523\n",
      "100%|██████████| 200/200 [00:21<00:00,  9.29it/s, avg_epoch_loss=7.68]\n",
      "INFO:root:Epoch[0] Elapsed time 21.538 seconds\n",
      "INFO:root:Epoch[0] Evaluation metric 'epoch_loss'=7.682600\n",
      "0it [00:00, ?it/s]INFO:root:Number of parameters in DeepARTrainingNetwork: 1230523\n",
      "771it [02:32,  5.06it/s, validation_avg_epoch_loss=7.37]\n",
      "INFO:root:Epoch[0] Elapsed time 152.420 seconds\n",
      "INFO:root:Epoch[0] Evaluation metric 'validation_epoch_loss'=7.365896\n",
      "INFO:root:Epoch[1] Learning rate is 0.001\n",
      "100%|██████████| 200/200 [00:22<00:00,  8.97it/s, avg_epoch_loss=7.17]\n",
      "INFO:root:Epoch[1] Elapsed time 22.334 seconds\n",
      "INFO:root:Epoch[1] Evaluation metric 'epoch_loss'=7.169172\n",
      "769it [00:52, 14.63it/s, validation_avg_epoch_loss=7.24]\n",
      "INFO:root:Epoch[1] Elapsed time 52.559 seconds\n",
      "INFO:root:Epoch[1] Evaluation metric 'validation_epoch_loss'=7.238403\n",
      "INFO:root:Epoch[2] Learning rate is 0.001\n",
      "100%|██████████| 200/200 [00:27<00:00,  7.17it/s, avg_epoch_loss=7.16]\n",
      "INFO:root:Epoch[2] Elapsed time 29.749 seconds\n",
      "INFO:root:Epoch[2] Evaluation metric 'epoch_loss'=7.155569\n",
      "769it [01:15, 10.24it/s, validation_avg_epoch_loss=7.1] \n",
      "INFO:root:Epoch[2] Elapsed time 75.139 seconds\n",
      "INFO:root:Epoch[2] Evaluation metric 'validation_epoch_loss'=7.101753\n",
      "INFO:root:Epoch[3] Learning rate is 0.001\n",
      "100%|██████████| 200/200 [00:25<00:00,  7.98it/s, avg_epoch_loss=7.05]\n",
      "INFO:root:Epoch[3] Elapsed time 25.057 seconds\n",
      "INFO:root:Epoch[3] Evaluation metric 'epoch_loss'=7.052155\n",
      "769it [00:42, 18.08it/s, validation_avg_epoch_loss=7.1] \n",
      "INFO:root:Epoch[3] Elapsed time 42.551 seconds\n",
      "INFO:root:Epoch[3] Evaluation metric 'validation_epoch_loss'=7.104915\n",
      "INFO:root:Epoch[4] Learning rate is 0.001\n",
      "100%|██████████| 200/200 [00:21<00:00,  9.39it/s, avg_epoch_loss=6.95]\n",
      "INFO:root:Epoch[4] Elapsed time 21.315 seconds\n",
      "INFO:root:Epoch[4] Evaluation metric 'epoch_loss'=6.952269\n",
      "766it [02:06,  6.05it/s, validation_avg_epoch_loss=6.94]\n",
      "INFO:root:Epoch[4] Elapsed time 126.690 seconds\n",
      "INFO:root:Epoch[4] Evaluation metric 'validation_epoch_loss'=6.944232\n",
      "INFO:root:Loading parameters from best epoch (4)\n",
      "INFO:root:Final loss: 6.9442323817603775 (occurred at epoch 4)\n",
      "INFO:root:End model training\n",
      "Running evaluation: 100%|██████████| 24000/24000 [25:14<00:00, 15.85it/s] \n"
     ]
    },
    {
     "name": "stdout",
     "output_type": "stream",
     "text": [
      "{'MASE': 1.43804045,\n",
      " 'MSIS': 14.86544584,\n",
      " 'epochs': 5,\n",
      " 'sMAPE': 0.11262409,\n",
      " 'seed': 42,\n",
      " 'wQuantileLoss[0.5]': 0.10476292,\n",
      " 'wQuantileLoss[0.9]': 0.0653894}\n",
      "Wall time: 34min 47s\n"
     ]
    }
   ],
   "source": [
    "%%time\n",
    "res = deepar(data=\"m4_quarterly\", seed=42, epochs=1000, batches=200)\n",
    "pprint(res)"
   ]
  },
  {
   "cell_type": "code",
   "execution_count": null,
   "metadata": {},
   "outputs": [],
   "source": [
    "%%time\n",
    "res = deepar(data=\"m4_yearly\", seed=42, epochs=1000, batches=200)\n",
    "pprint(res)"
   ]
  },
  {
   "cell_type": "code",
   "execution_count": null,
   "metadata": {},
   "outputs": [],
   "source": [
    "!jupyter nbconvert --output-dir=\"./html_outputs\" --to html \"DeepAR 09 - DeepAR experiments with gluonts\".ipynb"
   ]
  },
  {
   "cell_type": "code",
   "execution_count": null,
   "metadata": {},
   "outputs": [],
   "source": [
    "print(\"Done!\")"
   ]
  },
  {
   "cell_type": "code",
   "execution_count": null,
   "metadata": {},
   "outputs": [],
   "source": []
  },
  {
   "cell_type": "code",
   "execution_count": null,
   "metadata": {},
   "outputs": [],
   "source": []
  },
  {
   "cell_type": "code",
   "execution_count": 12,
   "metadata": {},
   "outputs": [],
   "source": [
    "# %%time\n",
    "# results = []\n",
    "\n",
    "# if __name__ == \"__main__\":\n",
    "#     for i in range(42, 45):\n",
    "#         print(\"Seed:\", i)\n",
    "#         res = deepar(data=\"m4_monthly\", seed=i, epochs=100, batches=1000)\n",
    "#         pprint(res)\n",
    "#         results.append(res)\n",
    "    \n",
    "# results"
   ]
  }
 ],
 "metadata": {
  "kernelspec": {
   "display_name": "Python 3",
   "language": "python",
   "name": "python3"
  },
  "language_info": {
   "codemirror_mode": {
    "name": "ipython",
    "version": 3
   },
   "file_extension": ".py",
   "mimetype": "text/x-python",
   "name": "python",
   "nbconvert_exporter": "python",
   "pygments_lexer": "ipython3",
   "version": "3.6.9"
  }
 },
 "nbformat": 4,
 "nbformat_minor": 4
}
