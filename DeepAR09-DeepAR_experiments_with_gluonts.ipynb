{
 "cells": [
  {
   "cell_type": "markdown",
   "metadata": {},
   "source": [
    "# DeepAR - Experiments\n",
    "\n",
    "### DeepAR (Salinas et al., 2017)\n",
    "\n",
    "The **DeepAR** algorithm uses autoregressive features that are used as the inputs to a recurrent neural network. The RNN uses LSTM cells as default but can also changed to GRU cells. In both cases previous time points are taken as input. \n",
    "\n",
    "- [`DeepAREestimator`](https://gluon-ts.mxnet.io/api/gluonts/gluonts.model.deepar.html)"
   ]
  },
  {
   "cell_type": "code",
   "execution_count": 1,
   "metadata": {},
   "outputs": [
    {
     "data": {
      "text/plain": [
       "'0.4.1'"
      ]
     },
     "execution_count": 1,
     "metadata": {},
     "output_type": "execute_result"
    }
   ],
   "source": [
    "import gluonts\n",
    "gluonts.__version__"
   ]
  },
  {
   "cell_type": "code",
   "execution_count": 2,
   "metadata": {},
   "outputs": [
    {
     "data": {
      "text/plain": [
       "'1.4.1'"
      ]
     },
     "execution_count": 2,
     "metadata": {},
     "output_type": "execute_result"
    }
   ],
   "source": [
    "import mxnet\n",
    "mxnet.__version__"
   ]
  },
  {
   "cell_type": "code",
   "execution_count": 2,
   "metadata": {},
   "outputs": [],
   "source": [
    "# !pip install gluonts"
   ]
  },
  {
   "cell_type": "code",
   "execution_count": 3,
   "metadata": {},
   "outputs": [
    {
     "name": "stderr",
     "output_type": "stream",
     "text": [
      "INFO:root:Using CPU\n"
     ]
    }
   ],
   "source": [
    "# standard imports\n",
    "import numpy as np\n",
    "import pandas as pd\n",
    "\n",
    "# json\n",
    "import json\n",
    "\n",
    "# gluon data\n",
    "from gluonts.dataset.repository.datasets import get_dataset, dataset_recipes\n",
    "from gluonts.dataset.util import to_pandas\n",
    "\n",
    "# gluon imports\n",
    "from gluonts.trainer import Trainer\n",
    "from gluonts.evaluation.backtest import make_evaluation_predictions\n",
    "from gluonts.evaluation import Evaluator\n",
    "\n",
    "# model imports\n",
    "# from gluonts.model.deepstate import DeepStateEstimator\n",
    "# from gluonts.model.deep_factor import DeepFactorEstimator\n",
    "from gluonts.model.deepar import DeepAREstimator\n",
    "\n",
    "import mxnet as mx\n",
    "from pprint import pprint\n"
   ]
  },
  {
   "cell_type": "code",
   "execution_count": 4,
   "metadata": {},
   "outputs": [],
   "source": [
    "def deepar(data=\"m4_quarterly\", seed=42, epochs=100, batches=50):\n",
    "    \n",
    "    dataset = get_dataset(data, regenerate=False)\n",
    "    mx.random.seed(seed)\n",
    "    np.random.seed(seed)\n",
    "    \n",
    "    trainer = Trainer(\n",
    "        ctx=mx.cpu(0),\n",
    "        epochs=epochs,      \n",
    "        num_batches_per_epoch=batches,      \n",
    "        learning_rate=1e-3,\n",
    "    )\n",
    "    \n",
    "    cardinality = int(dataset.metadata.feat_static_cat[0].cardinality)\n",
    "    estimator = DeepAREstimator(\n",
    "        trainer=trainer,\n",
    "        cardinality=[cardinality],\n",
    "        context_length=dataset.metadata.prediction_length,\n",
    "        prediction_length=dataset.metadata.prediction_length,\n",
    "        freq=dataset.metadata.freq,\n",
    "        use_feat_static_cat=True   \n",
    "    )\n",
    "        \n",
    "    predictor = estimator.train(training_data=dataset.train, \n",
    "                                validation_data=dataset.test)\n",
    "    \n",
    "    forecast_it, ts_it = make_evaluation_predictions(\n",
    "        dataset.test, predictor=predictor, num_samples=100\n",
    "    )\n",
    "    \n",
    "    agg_metrics, item_metrics = Evaluator()(\n",
    "        ts_it, forecast_it, num_series=len(dataset.test)\n",
    "    )\n",
    "    \n",
    "    metrics = [\"MASE\", \"sMAPE\", \"MSIS\", \"wQuantileLoss[0.5]\", \"wQuantileLoss[0.9]\"]\n",
    "    output = {key: round(value, 8) for key, value in agg_metrics.items() if key in metrics}\n",
    "    output[\"epochs\"] = epochs\n",
    "    output[\"seed\"] = seed\n",
    "    return(output)\n"
   ]
  },
  {
   "cell_type": "code",
   "execution_count": null,
   "metadata": {},
   "outputs": [
    {
     "name": "stderr",
     "output_type": "stream",
     "text": [
      "INFO:root:downloading and processing m4_quarterly\n"
     ]
    },
    {
     "name": "stdout",
     "output_type": "stream",
     "text": [
      "saving time-series into /home/ec2-user/.mxnet/gluon-ts/datasets/m4_quarterly/train/data.json\n",
      "saving time-series into /home/ec2-user/.mxnet/gluon-ts/datasets/m4_quarterly/test/data.json\n"
     ]
    },
    {
     "name": "stderr",
     "output_type": "stream",
     "text": [
      "INFO:root:Start model training\n",
      "INFO:root:Epoch[0] Learning rate is 0.001\n",
      "  0%|          | 0/200 [00:00<?, ?it/s]INFO:root:Number of parameters in DeepARTrainingNetwork: 1230523\n",
      "100%|██████████| 200/200 [00:04<00:00, 47.73it/s, avg_epoch_loss=7.68]\n",
      "INFO:root:Epoch[0] Elapsed time 4.192 seconds\n",
      "INFO:root:Epoch[0] Evaluation metric 'epoch_loss'=7.682601\n",
      "0it [00:00, ?it/s]INFO:root:Number of parameters in DeepARTrainingNetwork: 1230523\n",
      "771it [00:13, 56.06it/s, validation_avg_epoch_loss=7.37]\n",
      "INFO:root:Epoch[0] Elapsed time 13.758 seconds\n",
      "INFO:root:Epoch[0] Evaluation metric 'validation_epoch_loss'=7.365897\n",
      "INFO:root:Epoch[1] Learning rate is 0.001\n",
      "100%|██████████| 200/200 [00:07<00:00, 28.13it/s, avg_epoch_loss=7.17]\n",
      "INFO:root:Epoch[1] Elapsed time 7.115 seconds\n",
      "INFO:root:Epoch[1] Evaluation metric 'epoch_loss'=7.169173\n",
      "769it [00:13, 56.95it/s, validation_avg_epoch_loss=7.24]\n",
      "INFO:root:Epoch[1] Elapsed time 13.516 seconds\n",
      "INFO:root:Epoch[1] Evaluation metric 'validation_epoch_loss'=7.238400\n",
      "INFO:root:Epoch[2] Learning rate is 0.001\n",
      "100%|██████████| 200/200 [00:06<00:00, 29.16it/s, avg_epoch_loss=7.16]\n",
      "INFO:root:Epoch[2] Elapsed time 6.866 seconds\n",
      "INFO:root:Epoch[2] Evaluation metric 'epoch_loss'=7.155512\n",
      "769it [00:14, 53.81it/s, validation_avg_epoch_loss=7.1] \n",
      "INFO:root:Epoch[2] Elapsed time 14.299 seconds\n",
      "INFO:root:Epoch[2] Evaluation metric 'validation_epoch_loss'=7.101707\n",
      "INFO:root:Epoch[3] Learning rate is 0.001\n",
      "100%|██████████| 200/200 [00:07<00:00, 27.98it/s, avg_epoch_loss=7.05]\n",
      "INFO:root:Epoch[3] Elapsed time 7.153 seconds\n",
      "INFO:root:Epoch[3] Evaluation metric 'epoch_loss'=7.052071\n",
      "769it [00:13, 57.23it/s, validation_avg_epoch_loss=7.11]\n",
      "INFO:root:Epoch[3] Elapsed time 13.445 seconds\n",
      "INFO:root:Epoch[3] Evaluation metric 'validation_epoch_loss'=7.109680\n",
      "INFO:root:Epoch[4] Learning rate is 0.001\n",
      "100%|██████████| 200/200 [00:07<00:00, 27.96it/s, avg_epoch_loss=6.95]\n",
      "INFO:root:Epoch[4] Elapsed time 7.157 seconds\n",
      "INFO:root:Epoch[4] Evaluation metric 'epoch_loss'=6.946543\n",
      "766it [00:13, 56.85it/s, validation_avg_epoch_loss=6.95]\n",
      "INFO:root:Epoch[4] Elapsed time 13.483 seconds\n",
      "INFO:root:Epoch[4] Evaluation metric 'validation_epoch_loss'=6.951547\n",
      "INFO:root:Epoch[5] Learning rate is 0.001\n",
      "  0%|          | 0/200 [00:00<?, ?it/s]"
     ]
    }
   ],
   "source": [
    "%%time\n",
    "res = deepar(data=\"m4_quarterly\", seed=42, epochs=1000, batches=200)\n",
    "pprint(res)"
   ]
  },
  {
   "cell_type": "code",
   "execution_count": null,
   "metadata": {},
   "outputs": [],
   "source": [
    "%%time\n",
    "res = deepar(data=\"m4_yearly\", seed=42, epochs=1000, batches=200)\n",
    "pprint(res)"
   ]
  },
  {
   "cell_type": "code",
   "execution_count": null,
   "metadata": {},
   "outputs": [],
   "source": [
    "!jupyter nbconvert --output-dir=\"./html_outputs\" --to html \"DeepAR 09 - DeepAR experiments with gluonts\".ipynb"
   ]
  },
  {
   "cell_type": "code",
   "execution_count": null,
   "metadata": {},
   "outputs": [],
   "source": [
    "print(\"Done!\")"
   ]
  },
  {
   "cell_type": "code",
   "execution_count": null,
   "metadata": {},
   "outputs": [],
   "source": []
  },
  {
   "cell_type": "code",
   "execution_count": null,
   "metadata": {},
   "outputs": [],
   "source": []
  },
  {
   "cell_type": "code",
   "execution_count": 12,
   "metadata": {},
   "outputs": [],
   "source": [
    "# %%time\n",
    "# results = []\n",
    "\n",
    "# if __name__ == \"__main__\":\n",
    "#     for i in range(42, 45):\n",
    "#         print(\"Seed:\", i)\n",
    "#         res = deepar(data=\"m4_monthly\", seed=i, epochs=100, batches=1000)\n",
    "#         pprint(res)\n",
    "#         results.append(res)\n",
    "    \n",
    "# results"
   ]
  }
 ],
 "metadata": {
  "kernelspec": {
   "display_name": "Python 3",
   "language": "python",
   "name": "python3"
  },
  "language_info": {
   "codemirror_mode": {
    "name": "ipython",
    "version": 3
   },
   "file_extension": ".py",
   "mimetype": "text/x-python",
   "name": "python",
   "nbconvert_exporter": "python",
   "pygments_lexer": "ipython3",
   "version": "3.6.9"
  }
 },
 "nbformat": 4,
 "nbformat_minor": 4
}
