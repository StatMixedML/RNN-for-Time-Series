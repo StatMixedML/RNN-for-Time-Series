{
 "cells": [
  {
   "cell_type": "markdown",
   "metadata": {},
   "source": [
    "# M4_weekly\n",
    "\n",
    "Comparison of three RNN-based algorithms."
   ]
  },
  {
   "cell_type": "code",
   "execution_count": 1,
   "metadata": {
    "scrolled": true
   },
   "outputs": [
    {
     "name": "stdout",
     "output_type": "stream",
     "text": [
      "Collecting git+https://github.com/awslabs/gluon-ts.git\n",
      "  Cloning https://github.com/awslabs/gluon-ts.git to c:\\users\\tm\\appdata\\local\\temp\\pip-req-build-lf83pi4c\n",
      "  Installing build dependencies: started\n",
      "  Installing build dependencies: finished with status 'done'\n",
      "  Getting requirements to build wheel: started\n",
      "  Getting requirements to build wheel: finished with status 'error'\n"
     ]
    },
    {
     "name": "stderr",
     "output_type": "stream",
     "text": [
      "  Running command git clone -q https://github.com/awslabs/gluon-ts.git 'C:\\Users\\TM\\AppData\\Local\\Temp\\pip-req-build-lf83pi4c'\n",
      "  ERROR: Command errored out with exit status 1:\n",
      "   command: 'c:\\users\\tm\\anaconda3\\python.exe' 'c:\\users\\tm\\anaconda3\\lib\\site-packages\\pip\\_vendor\\pep517\\_in_process.py' get_requires_for_build_wheel 'C:\\Users\\TM\\AppData\\Local\\Temp\\tmp3so718zw'\n",
      "       cwd: C:\\Users\\TM\\AppData\\Local\\Temp\\pip-req-build-lf83pi4c\n",
      "  Complete output (18 lines):\n",
      "  Traceback (most recent call last):\n",
      "    File \"c:\\users\\tm\\anaconda3\\lib\\site-packages\\pip\\_vendor\\pep517\\_in_process.py\", line 207, in <module>\n",
      "      main()\n",
      "    File \"c:\\users\\tm\\anaconda3\\lib\\site-packages\\pip\\_vendor\\pep517\\_in_process.py\", line 197, in main\n",
      "      json_out['return_val'] = hook(**hook_input['kwargs'])\n",
      "    File \"c:\\users\\tm\\anaconda3\\lib\\site-packages\\pip\\_vendor\\pep517\\_in_process.py\", line 54, in get_requires_for_build_wheel\n",
      "      return hook(config_settings)\n",
      "    File \"C:\\Users\\TM\\AppData\\Local\\Temp\\pip-build-env-cilh9uj3\\overlay\\Lib\\site-packages\\setuptools\\build_meta.py\", line 146, in get_requires_for_build_wheel\n",
      "      return self._get_build_requires(config_settings, requirements=['wheel'])\n",
      "    File \"C:\\Users\\TM\\AppData\\Local\\Temp\\pip-build-env-cilh9uj3\\overlay\\Lib\\site-packages\\setuptools\\build_meta.py\", line 127, in _get_build_requires\n",
      "      self.run_setup()\n",
      "    File \"C:\\Users\\TM\\AppData\\Local\\Temp\\pip-build-env-cilh9uj3\\overlay\\Lib\\site-packages\\setuptools\\build_meta.py\", line 237, in run_setup\n",
      "      self).run_setup(setup_script=setup_script)\n",
      "    File \"C:\\Users\\TM\\AppData\\Local\\Temp\\pip-build-env-cilh9uj3\\overlay\\Lib\\site-packages\\setuptools\\build_meta.py\", line 142, in run_setup\n",
      "      exec(compile(code, __file__, 'exec'), locals())\n",
      "    File \"setup.py\", line 24, in <module>\n",
      "      stdout=open(\"/dev/null\", \"w\"),\n",
      "  FileNotFoundError: [Errno 2] No such file or directory: '/dev/null'\n",
      "  ----------------------------------------\n",
      "ERROR: Command errored out with exit status 1: 'c:\\users\\tm\\anaconda3\\python.exe' 'c:\\users\\tm\\anaconda3\\lib\\site-packages\\pip\\_vendor\\pep517\\_in_process.py' get_requires_for_build_wheel 'C:\\Users\\TM\\AppData\\Local\\Temp\\tmp3so718zw' Check the logs for full command output.\n"
     ]
    },
    {
     "name": "stdout",
     "output_type": "stream",
     "text": [
      "0.3.3\n"
     ]
    }
   ],
   "source": [
    "# GluonTS\n",
    "!pip install git+https://github.com/awslabs/gluon-ts.git\n",
    "import gluonts\n",
    "print(gluonts.__version__)"
   ]
  },
  {
   "cell_type": "markdown",
   "metadata": {},
   "source": [
    "## Methods \n",
    "\n",
    "\n",
    "### DeepAR (Salinas et al., 2017)\n",
    "\n",
    "The **DeepAR** algorithm uses autoregressive features that are used as the inputs to a recurrent neural network. The RNN uses LSTM cells as default but can also changed to GRU cells. In both cases previous time points are taken as input. \n",
    "\n",
    "- [`DeepAREestimator`](https://gluon-ts.mxnet.io/api/gluonts/gluonts.model.deepar.html)\n",
    "\n",
    "### Deep State Space Models (Rangapuram et al., 2018)\n",
    "\n",
    "**DeepState** combines state space models (SSM) with a recurrent neural network (RNN). The SSM is applied *locally* to the individual time series that is parametrized using a *global* representation in form of a RNN. The RNN is trained on the entire dataset. \n",
    "\n",
    "- [`DeepStateEstimator`](http://gluon-ts.mxnet.io/master/api/gluonts/gluonts.model.deepstate.html#gluonts.model.deepstate.DeepStateEstimator)\n",
    "\n",
    "### Deep Factor (Wang et al.,  2019)\n",
    "\n",
    "Hybrid method that uses *local* methods that are specific to each time series in the dataset as well as a *global* representation trained on the entire data. The latter is a RNN to learn universal pattern. The current version uses another RNN as local model -> **DeepFactor-RNN (DF-RNN)**\n",
    "\n",
    "- [`DeepFactorEstimator`](http://gluon-ts.mxnet.io/master/api/gluonts/gluonts.model.deep_factor.html?highlight=deepfactorestimator#gluonts.model.deep_factor.DeepFactorEstimator)\n",
    "- [Wang et al. (2019)](https://arxiv.org/abs/1905.12417)\n"
   ]
  },
  {
   "cell_type": "code",
   "execution_count": 9,
   "metadata": {},
   "outputs": [],
   "source": [
    "# imports\n",
    "import pandas as pd\n",
    "\n",
    "from functools import partial\n",
    "\n",
    "# GluonTS utils\n",
    "from gluonts.dataset.repository.datasets import get_dataset\n",
    "from gluonts.evaluation import Evaluator\n",
    "from gluonts.evaluation.backtest import make_evaluation_predictions\n",
    "from gluonts.trainer import Trainer\n",
    "\n",
    "# GluonTS methods \n",
    "from gluonts.model.deepar import DeepAREstimator\n",
    "from gluonts.model.seq2seq import MQRNNEstimator\n",
    "from gluonts.model.simple_feedforward import SimpleFeedForwardEstimator\n",
    "# from gluonts.model.deepstate import DeepStateEstimator\n",
    "from \n",
    "\n",
    "import pprint\n",
    "\n"
   ]
  },
  {
   "cell_type": "code",
   "execution_count": 1,
   "metadata": {},
   "outputs": [
    {
     "ename": "NameError",
     "evalue": "name 'gluonts' is not defined",
     "output_type": "error",
     "traceback": [
      "\u001b[1;31m---------------------------------------------------------------------------\u001b[0m",
      "\u001b[1;31mNameError\u001b[0m                                 Traceback (most recent call last)",
      "\u001b[1;32m<ipython-input-1-48db36039ff8>\u001b[0m in \u001b[0;36m<module>\u001b[1;34m()\u001b[0m\n\u001b[1;32m----> 1\u001b[1;33m \u001b[0mgluonts\u001b[0m\u001b[1;33m.\u001b[0m\u001b[0m__version__\u001b[0m\u001b[1;33m\u001b[0m\u001b[1;33m\u001b[0m\u001b[0m\n\u001b[0m",
      "\u001b[1;31mNameError\u001b[0m: name 'gluonts' is not defined"
     ]
    }
   ],
   "source": [
    "gluonts.__version__"
   ]
  },
  {
   "cell_type": "code",
   "execution_count": null,
   "metadata": {},
   "outputs": [],
   "source": []
  }
 ],
 "metadata": {
  "kernelspec": {
   "display_name": "Python [conda env:Anaconda3]",
   "language": "python",
   "name": "conda-env-Anaconda3-py"
  },
  "language_info": {
   "codemirror_mode": {
    "name": "ipython",
    "version": 3
   },
   "file_extension": ".py",
   "mimetype": "text/x-python",
   "name": "python",
   "nbconvert_exporter": "python",
   "pygments_lexer": "ipython3",
   "version": "3.6.8"
  }
 },
 "nbformat": 4,
 "nbformat_minor": 2
}
