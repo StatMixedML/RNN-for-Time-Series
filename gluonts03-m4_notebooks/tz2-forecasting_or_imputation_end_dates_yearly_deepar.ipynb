{
 "cells": [
  {
   "cell_type": "markdown",
   "metadata": {},
   "source": [
    "# gluonts12-end_dates (yearly, deepar)"
   ]
  },
  {
   "cell_type": "markdown",
   "metadata": {},
   "source": [
    "This notebook is used to check the performance of `deepar` on the yearly subsets of the m4 data with the same end dates. "
   ]
  },
  {
   "cell_type": "code",
   "execution_count": 1,
   "metadata": {},
   "outputs": [
    {
     "name": "stdout",
     "output_type": "stream",
     "text": [
      "Requirement already satisfied: mxnet==1.4.1 in /home/ec2-user/anaconda3/envs/python3/lib/python3.6/site-packages (1.4.1)\n",
      "Requirement already satisfied: numpy<1.15.0,>=1.8.2 in /home/ec2-user/anaconda3/envs/python3/lib/python3.6/site-packages (from mxnet==1.4.1) (1.14.3)\n",
      "Requirement already satisfied: requests>=2.20.0 in /home/ec2-user/anaconda3/envs/python3/lib/python3.6/site-packages (from mxnet==1.4.1) (2.20.0)\n",
      "Requirement already satisfied: graphviz<0.9.0,>=0.8.1 in /home/ec2-user/anaconda3/envs/python3/lib/python3.6/site-packages (from mxnet==1.4.1) (0.8.4)\n",
      "Requirement already satisfied: idna<2.8,>=2.5 in /home/ec2-user/anaconda3/envs/python3/lib/python3.6/site-packages (from requests>=2.20.0->mxnet==1.4.1) (2.6)\n",
      "Requirement already satisfied: chardet<3.1.0,>=3.0.2 in /home/ec2-user/anaconda3/envs/python3/lib/python3.6/site-packages (from requests>=2.20.0->mxnet==1.4.1) (3.0.4)\n",
      "Requirement already satisfied: urllib3<1.25,>=1.21.1 in /home/ec2-user/anaconda3/envs/python3/lib/python3.6/site-packages (from requests>=2.20.0->mxnet==1.4.1) (1.23)\n",
      "Requirement already satisfied: certifi>=2017.4.17 in /home/ec2-user/anaconda3/envs/python3/lib/python3.6/site-packages (from requests>=2.20.0->mxnet==1.4.1) (2019.9.11)\n",
      "\u001b[33mYou are using pip version 10.0.1, however version 19.3.1 is available.\n",
      "You should consider upgrading via the 'pip install --upgrade pip' command.\u001b[0m\n"
     ]
    }
   ],
   "source": [
    "!pip install mxnet==\"1.4.1\""
   ]
  },
  {
   "cell_type": "code",
   "execution_count": 2,
   "metadata": {},
   "outputs": [
    {
     "name": "stdout",
     "output_type": "stream",
     "text": [
      "Requirement already satisfied: gluonts in /home/ec2-user/anaconda3/envs/python3/lib/python3.6/site-packages (0.4.2)\n",
      "Requirement already satisfied: python-dateutil==2.8.0 in /home/ec2-user/anaconda3/envs/python3/lib/python3.6/site-packages (from gluonts) (2.8.0)\n",
      "Requirement already satisfied: boto3~=1.0 in /home/ec2-user/anaconda3/envs/python3/lib/python3.6/site-packages (from gluonts) (1.10.19)\n",
      "Requirement already satisfied: tqdm~=4.23 in /home/ec2-user/anaconda3/envs/python3/lib/python3.6/site-packages (from gluonts) (4.41.0)\n",
      "Requirement already satisfied: ujson~=1.35 in /home/ec2-user/anaconda3/envs/python3/lib/python3.6/site-packages (from gluonts) (1.35)\n",
      "Requirement already satisfied: pandas<0.26,>=0.25 in /home/ec2-user/anaconda3/envs/python3/lib/python3.6/site-packages (from gluonts) (0.25.3)\n",
      "Requirement already satisfied: numpy~=1.14 in /home/ec2-user/anaconda3/envs/python3/lib/python3.6/site-packages (from gluonts) (1.14.3)\n",
      "Requirement already satisfied: holidays<0.10,>=0.9 in /home/ec2-user/anaconda3/envs/python3/lib/python3.6/site-packages (from gluonts) (0.9.12)\n",
      "Requirement already satisfied: matplotlib~=3.0 in /home/ec2-user/anaconda3/envs/python3/lib/python3.6/site-packages (from gluonts) (3.0.3)\n",
      "Requirement already satisfied: pydantic~=1.1 in /home/ec2-user/anaconda3/envs/python3/lib/python3.6/site-packages (from gluonts) (1.3)\n",
      "Requirement already satisfied: six>=1.5 in /home/ec2-user/anaconda3/envs/python3/lib/python3.6/site-packages (from python-dateutil==2.8.0->gluonts) (1.11.0)\n",
      "Requirement already satisfied: jmespath<1.0.0,>=0.7.1 in /home/ec2-user/anaconda3/envs/python3/lib/python3.6/site-packages (from boto3~=1.0->gluonts) (0.9.4)\n",
      "Requirement already satisfied: botocore<1.14.0,>=1.13.19 in /home/ec2-user/anaconda3/envs/python3/lib/python3.6/site-packages (from boto3~=1.0->gluonts) (1.13.19)\n",
      "Requirement already satisfied: s3transfer<0.3.0,>=0.2.0 in /home/ec2-user/anaconda3/envs/python3/lib/python3.6/site-packages (from boto3~=1.0->gluonts) (0.2.1)\n",
      "Requirement already satisfied: pytz>=2017.2 in /home/ec2-user/anaconda3/envs/python3/lib/python3.6/site-packages (from pandas<0.26,>=0.25->gluonts) (2018.4)\n",
      "Requirement already satisfied: kiwisolver>=1.0.1 in /home/ec2-user/anaconda3/envs/python3/lib/python3.6/site-packages (from matplotlib~=3.0->gluonts) (1.0.1)\n",
      "Requirement already satisfied: pyparsing!=2.0.4,!=2.1.2,!=2.1.6,>=2.0.1 in /home/ec2-user/anaconda3/envs/python3/lib/python3.6/site-packages (from matplotlib~=3.0->gluonts) (2.2.0)\n",
      "Requirement already satisfied: cycler>=0.10 in /home/ec2-user/anaconda3/envs/python3/lib/python3.6/site-packages (from matplotlib~=3.0->gluonts) (0.10.0)\n",
      "Requirement already satisfied: dataclasses>=0.6; python_version < \"3.7\" in /home/ec2-user/anaconda3/envs/python3/lib/python3.6/site-packages (from pydantic~=1.1->gluonts) (0.7)\n",
      "Requirement already satisfied: docutils<0.16,>=0.10 in /home/ec2-user/anaconda3/envs/python3/lib/python3.6/site-packages (from botocore<1.14.0,>=1.13.19->boto3~=1.0->gluonts) (0.14)\n",
      "Requirement already satisfied: urllib3<1.26,>=1.20; python_version >= \"3.4\" in /home/ec2-user/anaconda3/envs/python3/lib/python3.6/site-packages (from botocore<1.14.0,>=1.13.19->boto3~=1.0->gluonts) (1.23)\n",
      "Requirement already satisfied: setuptools in /home/ec2-user/anaconda3/envs/python3/lib/python3.6/site-packages (from kiwisolver>=1.0.1->matplotlib~=3.0->gluonts) (39.1.0)\n",
      "\u001b[33mYou are using pip version 10.0.1, however version 19.3.1 is available.\n",
      "You should consider upgrading via the 'pip install --upgrade pip' command.\u001b[0m\n"
     ]
    }
   ],
   "source": [
    "!pip install gluonts"
   ]
  },
  {
   "cell_type": "code",
   "execution_count": 1,
   "metadata": {},
   "outputs": [
    {
     "name": "stdout",
     "output_type": "stream",
     "text": [
      "0.4.2\n",
      "1.4.1\n"
     ]
    },
    {
     "name": "stderr",
     "output_type": "stream",
     "text": [
      "INFO:root:Using CPU\n"
     ]
    }
   ],
   "source": [
    "import gluonts\n",
    "print(gluonts.__version__)\n",
    "\n",
    "import mxnet\n",
    "print(mxnet.__version__)\n",
    "\n",
    "# standard imports\n",
    "import numpy as np\n",
    "import pandas as pd\n",
    "\n",
    "# Vis\n",
    "%matplotlib inline\n",
    "import matplotlib.pyplot as plt\n",
    "from pprint import pprint\n",
    "\n",
    "# mxnet\n",
    "import mxnet as mx\n",
    "\n",
    "# gluonts\n",
    "from gluonts.dataset.util import to_pandas\n",
    "\n",
    "# imports from utility function\n",
    "import utils_gluonts10 as utils\n",
    "from utils_gluonts10 import get_dataset, dataset_recipes\n",
    "from utils_gluonts10_deepar import deepar"
   ]
  },
  {
   "cell_type": "code",
   "execution_count": 2,
   "metadata": {},
   "outputs": [
    {
     "name": "stdout",
     "output_type": "stream",
     "text": [
      "Available datasets: ['m4_daily', 'm4_daily_domain', 'm4_daily_id', 'm4_hourly', 'm4_hourly_id', 'm4_monthly', 'm4_monthly_atm', 'm4_monthly_dates', 'm4_monthly_demographic', 'm4_monthly_domain', 'm4_monthly_end032014', 'm4_monthly_end052015', 'm4_monthly_end092007', 'm4_monthly_finance', 'm4_monthly_id', 'm4_monthly_industry', 'm4_monthly_macro', 'm4_monthly_micro', 'm4_monthly_micro_atm', 'm4_monthly_nonmicro_10975_seed42', 'm4_monthly_nonmicro_10975_seed43', 'm4_monthly_nonmicro_10975_seed44', 'm4_monthly_nonmicro_10975_seed45', 'm4_monthly_nonmicro_10975_seed46', 'm4_monthly_nonmicro_10975_seed47', 'm4_monthly_nonmicro_10975_seed48', 'm4_monthly_nonmicro_10975_seed49', 'm4_monthly_nonmicro_10975_seed50', 'm4_monthly_nonmicro_10975_seed51', 'm4_monthly_other', 'm4_quarterly', 'm4_quarterly_atm', 'm4_quarterly_dates', 'm4_quarterly_demographic', 'm4_quarterly_domain', 'm4_quarterly_end2003q3', 'm4_quarterly_end2013q1', 'm4_quarterly_end2015q1', 'm4_quarterly_finance', 'm4_quarterly_id', 'm4_quarterly_industry', 'm4_quarterly_macro', 'm4_quarterly_micro', 'm4_quarterly_other', 'm4_weekly', 'm4_weekly_domain', 'm4_weekly_id', 'my_weekly_tm', 'm4_yearly', 'm4_yearly_demographic', 'm4_yearly_domain', 'm4_yearly_end1991', 'm4_yearly_end2004', 'm4_yearly_end2009', 'm4_yearly_finance', 'm4_yearly_id', 'm4_yearly_industry', 'm4_yearly_macro', 'm4_yearly_micro', 'm4_yearly_other']\n"
     ]
    }
   ],
   "source": [
    "print(f\"Available datasets: {list(dataset_recipes.keys())}\")"
   ]
  },
  {
   "cell_type": "markdown",
   "metadata": {},
   "source": [
    "## Check datasets"
   ]
  },
  {
   "cell_type": "code",
   "execution_count": 5,
   "metadata": {},
   "outputs": [
    {
     "name": "stderr",
     "output_type": "stream",
     "text": [
      "INFO:root:using dataset already processed in path /home/ec2-user/.mxnet/gluon-ts/datasets/m4_weekly.\n"
     ]
    }
   ],
   "source": [
    "dataname = \"m4_weekly\"\n",
    "dataset = utils.get_dataset(dataname, regenerate=False)"
   ]
  },
  {
   "cell_type": "markdown",
   "metadata": {},
   "source": [
    "**To do:** Transfer the quarterly datasets to the right place: \n",
    "\n",
    "- `mv [data] ../../.mxnet/gluon-ts/datasets"
   ]
  },
  {
   "cell_type": "code",
   "execution_count": 3,
   "metadata": {},
   "outputs": [
    {
     "name": "stderr",
     "output_type": "stream",
     "text": [
      "INFO:root:using dataset already processed in path /home/ec2-user/.mxnet/gluon-ts/datasets/m4_yearly_end2009.\n"
     ]
    },
    {
     "data": {
      "text/plain": [
       "6029"
      ]
     },
     "execution_count": 3,
     "metadata": {},
     "output_type": "execute_result"
    }
   ],
   "source": [
    "dataname = \"m4_yearly_end2009\"\n",
    "dataset = get_dataset(dataname, regenerate=False)\n",
    "len(dataset.train) # 6029"
   ]
  },
  {
   "cell_type": "code",
   "execution_count": 16,
   "metadata": {},
   "outputs": [
    {
     "name": "stderr",
     "output_type": "stream",
     "text": [
      "INFO:root:using dataset already processed in path /home/ec2-user/.mxnet/gluon-ts/datasets/m4_yearly_end1991.\n"
     ]
    },
    {
     "data": {
      "text/plain": [
       "3496"
      ]
     },
     "execution_count": 16,
     "metadata": {},
     "output_type": "execute_result"
    }
   ],
   "source": [
    "dataname = \"m4_yearly_end1991\"\n",
    "dataset = utils.get_dataset(dataname, regenerate=False)\n",
    "len(dataset.train) # 3496"
   ]
  },
  {
   "cell_type": "code",
   "execution_count": 4,
   "metadata": {},
   "outputs": [
    {
     "name": "stderr",
     "output_type": "stream",
     "text": [
      "INFO:root:using dataset already processed in path /home/ec2-user/.mxnet/gluon-ts/datasets/m4_yearly_end2004.\n"
     ]
    },
    {
     "data": {
      "text/plain": [
       "984"
      ]
     },
     "execution_count": 4,
     "metadata": {},
     "output_type": "execute_result"
    }
   ],
   "source": [
    "dataname = \"m4_yearly_end2004\"\n",
    "dataset = utils.get_dataset(dataname, regenerate=False)\n",
    "len(dataset.train) # 984"
   ]
  },
  {
   "cell_type": "code",
   "execution_count": 5,
   "metadata": {},
   "outputs": [
    {
     "name": "stdout",
     "output_type": "stream",
     "text": [
      "dict_keys(['start', 'item_id', 'target', 'feat_static_cat', 'source'])\n",
      "dict_keys(['start', 'item_id', 'target', 'feat_static_cat', 'source'])\n",
      "length train dataset 984\n",
      "length test dataset 984\n"
     ]
    }
   ],
   "source": [
    "# get the first time series in the training set\n",
    "train_entry = next(iter(dataset.train))\n",
    "test_entry = next(iter(dataset.test))\n",
    "\n",
    "# check keys\n",
    "print(train_entry.keys())\n",
    "print(test_entry.keys())\n",
    "\n",
    "# check length of the series\n",
    "print(\"length train dataset\", len(dataset.train))\n",
    "print(\"length test dataset\", len(dataset.train))\n"
   ]
  },
  {
   "cell_type": "code",
   "execution_count": 6,
   "metadata": {},
   "outputs": [
    {
     "data": {
      "text/plain": [
       "{'start': Timestamp('1750-01-31 00:00:00', freq='12M'),\n",
       " 'item_id': 'Y93',\n",
       " 'target': array([6299.2856, 6617.7515, 6646.9556, 6842.242 , 7000.5493, 7203.311 ,\n",
       "        7294.1323, 7729.0674, 7524.5405, 7373.8843, 6889.815 , 6864.537 ,\n",
       "        6739.244 , 6831.9272, 6880.068 , 6516.8657, 7248.7617, 7815.169 ,\n",
       "        8591.859 , 8721.834 , 7833.4243, 7720.185 , 7989.667 , 8207.53  ,\n",
       "        8696.773 , 8662.692 , 8507.0205, 8166.554 , 8199.917 , 8267.792 ,\n",
       "        8477.086 , 8176.0806, 8494.96  , 8766.62  , 8753.1875, 8462.25  ,\n",
       "        7992.9634, 8161.5757, 8084.239 , 8255.591 , 8234.398 , 8303.153 ,\n",
       "        8173.5044, 8284.113 , 8290.9375, 8055.8843], dtype=float32),\n",
       " 'feat_static_cat': array([1], dtype=int32),\n",
       " 'source': SourceContext(source=Span(path=PosixPath('/home/ec2-user/.mxnet/gluon-ts/datasets/m4_yearly_end2004/train/m4_yearly_end2004_train.json'), line=1), row=1)}"
      ]
     },
     "execution_count": 6,
     "metadata": {},
     "output_type": "execute_result"
    }
   ],
   "source": [
    "train_entry"
   ]
  },
  {
   "cell_type": "code",
   "execution_count": 7,
   "metadata": {},
   "outputs": [
    {
     "data": {
      "image/png": "[encoded data removed]",
      "text/plain": [
       "<Figure size 720x504 with 2 Axes>"
      ]
     },
     "metadata": {},
     "output_type": "display_data"
    }
   ],
   "source": [
    "test_series = to_pandas(test_entry)\n",
    "train_series = to_pandas(train_entry)\n",
    "\n",
    "fig, ax = plt.subplots(2, 1, sharex=True, sharey=True, figsize=(10, 7))\n",
    "\n",
    "train_series.plot(ax=ax[0])\n",
    "ax[0].grid(which=\"both\")\n",
    "ax[0].legend([\"train series\"], loc=\"upper left\")\n",
    "\n",
    "test_series.plot(ax=ax[1])\n",
    "ax[1].axvline(train_series.index[-1], color='r') # end of train dataset\n",
    "ax[1].grid(which=\"both\")\n",
    "ax[1].legend([\"test series\", \"end of train series\"], loc=\"upper left\")\n",
    "\n",
    "plt.show()"
   ]
  },
  {
   "cell_type": "code",
   "execution_count": 8,
   "metadata": {},
   "outputs": [],
   "source": [
    "from gluonts.trainer import Trainer\n",
    "from gluonts.evaluation.backtest import make_evaluation_predictions\n",
    "from gluonts.evaluation import Evaluator\n",
    "\n",
    "from gluonts.model.deepar import DeepAREstimator"
   ]
  },
  {
   "cell_type": "code",
   "execution_count": 9,
   "metadata": {},
   "outputs": [],
   "source": [
    "######################\n",
    "### deepar wrapper ###\n",
    "def deepar(data=\"m4_quarterly\", seed=42, epochs=100, batches=50):\n",
    "\n",
    "    dataset = get_dataset(data, regenerate=False)\n",
    "    mx.random.seed(seed)\n",
    "    np.random.seed(seed)\n",
    "\n",
    "    trainer = Trainer(\n",
    "        ctx=mx.cpu(0),\n",
    "        epochs=epochs,\n",
    "        num_batches_per_epoch=batches,\n",
    "        learning_rate=1e-3,\n",
    "    )\n",
    "    \n",
    "    estimator = DeepAREstimator(\n",
    "        trainer=trainer,\n",
    "        cardinality= [\n",
    "            feat_static_cat.cardinality \n",
    "            for feat_static_cat in dataset.metadata.feat_static_cat\n",
    "        ],\n",
    "        context_length=dataset.metadata.prediction_length,\n",
    "        prediction_length=dataset.metadata.prediction_length,\n",
    "        freq=dataset.metadata.freq,\n",
    "        use_feat_static_cat=True\n",
    "    )\n",
    "\n",
    "    # predictor = estimator.train(training_data=dataset.train,\n",
    "    #                             validation_data=dataset.test)\n",
    "    predictor = estimator.train(training_data=dataset.train)\n",
    "\n",
    "    forecast_it, ts_it = make_evaluation_predictions(\n",
    "        dataset.test, predictor=predictor, num_samples=100\n",
    "    )\n",
    "\n",
    "    agg_metrics, item_metrics = Evaluator()(\n",
    "        ts_it, forecast_it, num_series=len(dataset.test)\n",
    "    )\n",
    "\n",
    "    metrics = [\"MASE\", \"sMAPE\", \"MSIS\", \"wQuantileLoss[0.5]\", \"wQuantileLoss[0.9]\"]\n",
    "    output = {key: round(value, 8) for key, value in agg_metrics.items() if key in metrics}\n",
    "\n",
    "    output[\"seed\"] = seed\n",
    "    output[\"epochs\"] = epochs\n",
    "    output[\"num_batches\"] = batches\n",
    "\n",
    "    df = pd.DataFrame([output])\n",
    "\n",
    "    return df"
   ]
  },
  {
   "cell_type": "markdown",
   "metadata": {},
   "source": [
    "## Results"
   ]
  },
  {
   "cell_type": "markdown",
   "metadata": {},
   "source": [
    "## Study 1: `m4_yearly_end2009`"
   ]
  },
  {
   "cell_type": "code",
   "execution_count": null,
   "metadata": {},
   "outputs": [
    {
     "name": "stderr",
     "output_type": "stream",
     "text": [
      "INFO:root:using dataset already processed in path /home/ec2-user/.mxnet/gluon-ts/datasets/m4_yearly_end2009.\n",
      "INFO:root:Start model training\n",
      "INFO:root:Epoch[0] Learning rate is 0.001\n",
      "  0%|          | 0/200 [00:00<?, ?it/s]"
     ]
    },
    {
     "name": "stdout",
     "output_type": "stream",
     "text": [
      "Seed: 45\n"
     ]
    },
    {
     "name": "stderr",
     "output_type": "stream",
     "text": [
      "INFO:root:Number of parameters in DeepARTrainingNetwork: 331173\n",
      "100%|██████████| 200/200 [00:14<00:00, 13.89it/s, avg_epoch_loss=7.69]\n",
      "INFO:root:Epoch[0] Elapsed time 14.401 seconds\n",
      "INFO:root:Epoch[0] Evaluation metric 'epoch_loss'=7.686536\n",
      "INFO:root:Epoch[1] Learning rate is 0.001\n",
      "100%|██████████| 200/200 [00:13<00:00, 15.12it/s, avg_epoch_loss=7.22]\n",
      "INFO:root:Epoch[1] Elapsed time 13.231 seconds\n",
      "INFO:root:Epoch[1] Evaluation metric 'epoch_loss'=7.216629\n",
      "INFO:root:Epoch[2] Learning rate is 0.001\n",
      " 66%|██████▌   | 131/200 [00:10<00:05, 13.00it/s, avg_epoch_loss=7.02]"
     ]
    }
   ],
   "source": [
    "results = pd.DataFrame()\n",
    "\n",
    "for i in range(45, 47):\n",
    "    print(\"Seed:\", i)\n",
    "    df = deepar(data=\"m4_yearly_end2009\", seed=i, epochs=400, batches=200)\n",
    "    pprint(df)\n",
    "    results = results.append(df)\n",
    "\n",
    "results"
   ]
  },
  {
   "cell_type": "markdown",
   "metadata": {},
   "source": [
    "## Study 2: `m4_yearly_end1991`"
   ]
  },
  {
   "cell_type": "code",
   "execution_count": null,
   "metadata": {},
   "outputs": [],
   "source": [
    "# results = pd.DataFrame()\n",
    "\n",
    "# for i in range(42, 52):\n",
    "#     print(\"Seed:\", i)\n",
    "#     df = deepar(data=\"m4_yearly_end1991\", seed=i, epochs=400, batches=200)\n",
    "#     pprint(df)\n",
    "#     results = results.append(df)\n",
    "\n",
    "# results"
   ]
  },
  {
   "cell_type": "markdown",
   "metadata": {},
   "source": [
    "## Study 3: `m4_yearly_end2004`"
   ]
  },
  {
   "cell_type": "code",
   "execution_count": null,
   "metadata": {},
   "outputs": [],
   "source": [
    "results = pd.DataFrame()\n",
    "\n",
    "for i in range(44, 47):\n",
    "    print(\"Seed:\", i)\n",
    "    df = deepar(data=\"m4_yearly_end2004\", seed=i, epochs=400, batches=200)\n",
    "    pprint(df)\n",
    "    results = results.append(df)\n",
    "\n",
    "results"
   ]
  },
  {
   "cell_type": "code",
   "execution_count": null,
   "metadata": {},
   "outputs": [],
   "source": []
  }
 ],
 "metadata": {
  "kernelspec": {
   "display_name": "conda_python3",
   "language": "python",
   "name": "conda_python3"
  },
  "language_info": {
   "codemirror_mode": {
    "name": "ipython",
    "version": 3
   },
   "file_extension": ".py",
   "mimetype": "text/x-python",
   "name": "python",
   "nbconvert_exporter": "python",
   "pygments_lexer": "ipython3",
   "version": "3.6.5"
  }
 },
 "nbformat": 4,
 "nbformat_minor": 2
}
