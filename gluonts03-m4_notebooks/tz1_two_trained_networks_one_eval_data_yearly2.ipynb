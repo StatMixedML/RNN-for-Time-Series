{
 "cells": [
  {
   "cell_type": "markdown",
   "metadata": {},
   "source": [
    "# GluonTS - Transfer Learning Approach (quarterly) \n",
    "\n",
    "- Two datasets: A and B\n",
    "- Dataset A: Dataset subsetted by frequency, i.e. `m4_yearly_atm`\n",
    "- Dataset B: Dataset subsetted by frequency and by domain, i.e. `m4_yearly_industry`\n",
    "- Network A: Trained on dataset A\n",
    "- Network B: Trained on dataset B\n",
    "- Both networks are evaluated on dataset B. \n",
    "\n",
    "- Adjust epochs to account for different size of the datasets\n",
    "\n",
    "Goal: Check TZ1: \"Does the network learn from time series of the same domain or is it helpful to use time series from other domains?\"\n",
    "\n",
    "- Both networks are trained for ten trials (deepar) or three trials (deepstate)\n",
    "\n",
    "Note that there are already results where a network is trained on `m4_frequency_domain` and evaluated on the same network."
   ]
  },
  {
   "cell_type": "code",
   "execution_count": 1,
   "metadata": {},
   "outputs": [
    {
     "name": "stdout",
     "output_type": "stream",
     "text": [
      "Requirement already satisfied: mxnet==1.4.1 in /home/ec2-user/anaconda3/envs/python3/lib/python3.6/site-packages (1.4.1)\n",
      "Requirement already satisfied: numpy<1.15.0,>=1.8.2 in /home/ec2-user/anaconda3/envs/python3/lib/python3.6/site-packages (from mxnet==1.4.1) (1.14.3)\n",
      "Requirement already satisfied: requests>=2.20.0 in /home/ec2-user/anaconda3/envs/python3/lib/python3.6/site-packages (from mxnet==1.4.1) (2.20.0)\n",
      "Requirement already satisfied: graphviz<0.9.0,>=0.8.1 in /home/ec2-user/anaconda3/envs/python3/lib/python3.6/site-packages (from mxnet==1.4.1) (0.8.4)\n",
      "Requirement already satisfied: chardet<3.1.0,>=3.0.2 in /home/ec2-user/anaconda3/envs/python3/lib/python3.6/site-packages (from requests>=2.20.0->mxnet==1.4.1) (3.0.4)\n",
      "Requirement already satisfied: certifi>=2017.4.17 in /home/ec2-user/anaconda3/envs/python3/lib/python3.6/site-packages (from requests>=2.20.0->mxnet==1.4.1) (2019.9.11)\n",
      "Requirement already satisfied: urllib3<1.25,>=1.21.1 in /home/ec2-user/anaconda3/envs/python3/lib/python3.6/site-packages (from requests>=2.20.0->mxnet==1.4.1) (1.23)\n",
      "Requirement already satisfied: idna<2.8,>=2.5 in /home/ec2-user/anaconda3/envs/python3/lib/python3.6/site-packages (from requests>=2.20.0->mxnet==1.4.1) (2.6)\n",
      "\u001b[33mYou are using pip version 10.0.1, however version 19.3.1 is available.\n",
      "You should consider upgrading via the 'pip install --upgrade pip' command.\u001b[0m\n"
     ]
    }
   ],
   "source": [
    "!pip install mxnet==\"1.4.1\""
   ]
  },
  {
   "cell_type": "code",
   "execution_count": 2,
   "metadata": {},
   "outputs": [
    {
     "name": "stdout",
     "output_type": "stream",
     "text": [
      "Requirement already satisfied: gluonts in /home/ec2-user/anaconda3/envs/python3/lib/python3.6/site-packages (0.4.2)\n",
      "Requirement already satisfied: matplotlib~=3.0 in /home/ec2-user/anaconda3/envs/python3/lib/python3.6/site-packages (from gluonts) (3.0.3)\n",
      "Requirement already satisfied: boto3~=1.0 in /home/ec2-user/anaconda3/envs/python3/lib/python3.6/site-packages (from gluonts) (1.10.19)\n",
      "Requirement already satisfied: pandas<0.26,>=0.25 in /home/ec2-user/anaconda3/envs/python3/lib/python3.6/site-packages (from gluonts) (0.25.3)\n",
      "Requirement already satisfied: python-dateutil==2.8.0 in /home/ec2-user/anaconda3/envs/python3/lib/python3.6/site-packages (from gluonts) (2.8.0)\n",
      "Requirement already satisfied: tqdm~=4.23 in /home/ec2-user/anaconda3/envs/python3/lib/python3.6/site-packages (from gluonts) (4.41.0)\n",
      "Requirement already satisfied: pydantic~=1.1 in /home/ec2-user/anaconda3/envs/python3/lib/python3.6/site-packages (from gluonts) (1.3)\n",
      "Requirement already satisfied: holidays<0.10,>=0.9 in /home/ec2-user/anaconda3/envs/python3/lib/python3.6/site-packages (from gluonts) (0.9.12)\n",
      "Requirement already satisfied: numpy~=1.14 in /home/ec2-user/anaconda3/envs/python3/lib/python3.6/site-packages (from gluonts) (1.14.3)\n",
      "Requirement already satisfied: ujson~=1.35 in /home/ec2-user/anaconda3/envs/python3/lib/python3.6/site-packages (from gluonts) (1.35)\n",
      "Requirement already satisfied: cycler>=0.10 in /home/ec2-user/anaconda3/envs/python3/lib/python3.6/site-packages (from matplotlib~=3.0->gluonts) (0.10.0)\n",
      "Requirement already satisfied: kiwisolver>=1.0.1 in /home/ec2-user/anaconda3/envs/python3/lib/python3.6/site-packages (from matplotlib~=3.0->gluonts) (1.0.1)\n",
      "Requirement already satisfied: pyparsing!=2.0.4,!=2.1.2,!=2.1.6,>=2.0.1 in /home/ec2-user/anaconda3/envs/python3/lib/python3.6/site-packages (from matplotlib~=3.0->gluonts) (2.2.0)\n",
      "Requirement already satisfied: botocore<1.14.0,>=1.13.19 in /home/ec2-user/anaconda3/envs/python3/lib/python3.6/site-packages (from boto3~=1.0->gluonts) (1.13.19)\n",
      "Requirement already satisfied: s3transfer<0.3.0,>=0.2.0 in /home/ec2-user/anaconda3/envs/python3/lib/python3.6/site-packages (from boto3~=1.0->gluonts) (0.2.1)\n",
      "Requirement already satisfied: jmespath<1.0.0,>=0.7.1 in /home/ec2-user/anaconda3/envs/python3/lib/python3.6/site-packages (from boto3~=1.0->gluonts) (0.9.4)\n",
      "Requirement already satisfied: pytz>=2017.2 in /home/ec2-user/anaconda3/envs/python3/lib/python3.6/site-packages (from pandas<0.26,>=0.25->gluonts) (2018.4)\n",
      "Requirement already satisfied: six>=1.5 in /home/ec2-user/anaconda3/envs/python3/lib/python3.6/site-packages (from python-dateutil==2.8.0->gluonts) (1.11.0)\n",
      "Requirement already satisfied: dataclasses>=0.6; python_version < \"3.7\" in /home/ec2-user/anaconda3/envs/python3/lib/python3.6/site-packages (from pydantic~=1.1->gluonts) (0.7)\n",
      "Requirement already satisfied: setuptools in /home/ec2-user/anaconda3/envs/python3/lib/python3.6/site-packages (from kiwisolver>=1.0.1->matplotlib~=3.0->gluonts) (39.1.0)\n",
      "Requirement already satisfied: docutils<0.16,>=0.10 in /home/ec2-user/anaconda3/envs/python3/lib/python3.6/site-packages (from botocore<1.14.0,>=1.13.19->boto3~=1.0->gluonts) (0.14)\n",
      "Requirement already satisfied: urllib3<1.26,>=1.20; python_version >= \"3.4\" in /home/ec2-user/anaconda3/envs/python3/lib/python3.6/site-packages (from botocore<1.14.0,>=1.13.19->boto3~=1.0->gluonts) (1.23)\n",
      "\u001b[33mYou are using pip version 10.0.1, however version 19.3.1 is available.\n",
      "You should consider upgrading via the 'pip install --upgrade pip' command.\u001b[0m\n"
     ]
    }
   ],
   "source": [
    "!pip install gluonts"
   ]
  },
  {
   "cell_type": "markdown",
   "metadata": {},
   "source": [
    "## Imports\n",
    "\n"
   ]
  },
  {
   "cell_type": "code",
   "execution_count": 3,
   "metadata": {},
   "outputs": [
    {
     "name": "stdout",
     "output_type": "stream",
     "text": [
      "0.4.2\n",
      "1.4.1\n"
     ]
    }
   ],
   "source": [
    "import gluonts\n",
    "import mxnet\n",
    "\n",
    "print(gluonts.__version__)\n",
    "print(mxnet.__version__)"
   ]
  },
  {
   "cell_type": "code",
   "execution_count": 4,
   "metadata": {},
   "outputs": [
    {
     "name": "stderr",
     "output_type": "stream",
     "text": [
      "INFO:root:Using CPU\n"
     ]
    }
   ],
   "source": [
    "# standard imports\n",
    "import numpy as np\n",
    "import pandas as pd\n",
    "\n",
    "# Vis\n",
    "%matplotlib inline\n",
    "import matplotlib.pyplot as plt\n",
    "from pprint import pprint\n",
    "\n",
    "# mxnet\n",
    "import mxnet as mx\n",
    "\n",
    "# gluonts\n",
    "from gluonts.dataset.util import to_pandas\n",
    "\n",
    "# imports from utility function\n",
    "import utils_gluonts10 as utils\n",
    "from utils_gluonts10 import get_dataset, dataset_recipes\n",
    "from utils_gluonts10_deepar import deepar\n"
   ]
  },
  {
   "cell_type": "code",
   "execution_count": 5,
   "metadata": {},
   "outputs": [
    {
     "name": "stdout",
     "output_type": "stream",
     "text": [
      "Available datasets: ['m4_daily', 'm4_daily_domain', 'm4_daily_id', 'm4_hourly', 'm4_hourly_id', 'm4_monthly', 'm4_monthly_atm', 'm4_monthly_dates', 'm4_monthly_demographic', 'm4_monthly_domain', 'm4_monthly_end032014', 'm4_monthly_end052015', 'm4_monthly_end092007', 'm4_monthly_finance', 'm4_monthly_id', 'm4_monthly_industry', 'm4_monthly_macro', 'm4_monthly_micro', 'm4_monthly_micro_atm', 'm4_monthly_nonmicro_10975_seed42', 'm4_monthly_nonmicro_10975_seed43', 'm4_monthly_nonmicro_10975_seed44', 'm4_monthly_nonmicro_10975_seed45', 'm4_monthly_nonmicro_10975_seed46', 'm4_monthly_nonmicro_10975_seed47', 'm4_monthly_nonmicro_10975_seed48', 'm4_monthly_nonmicro_10975_seed49', 'm4_monthly_nonmicro_10975_seed50', 'm4_monthly_nonmicro_10975_seed51', 'm4_monthly_other', 'm4_quarterly', 'm4_quarterly_atm', 'm4_quarterly_dates', 'm4_quarterly_demographic', 'm4_quarterly_domain', 'm4_quarterly_end2003q3', 'm4_quarterly_end2013q1', 'm4_quarterly_end2015q1', 'm4_quarterly_finance', 'm4_quarterly_id', 'm4_quarterly_industry', 'm4_quarterly_macro', 'm4_quarterly_micro', 'm4_quarterly_other', 'm4_weekly', 'm4_weekly_domain', 'm4_weekly_id', 'my_weekly_tm', 'm4_yearly', 'm4_yearly_demographic', 'm4_yearly_domain', 'm4_yearly_end1991', 'm4_yearly_end2004', 'm4_yearly_end2009', 'm4_yearly_finance', 'm4_yearly_id', 'm4_yearly_industry', 'm4_yearly_macro', 'm4_yearly_micro', 'm4_yearly_other']\n"
     ]
    }
   ],
   "source": [
    "print(f\"Available datasets: {list(dataset_recipes.keys())}\")"
   ]
  },
  {
   "cell_type": "code",
   "execution_count": 6,
   "metadata": {},
   "outputs": [
    {
     "name": "stderr",
     "output_type": "stream",
     "text": [
      "INFO:root:using dataset already processed in path /home/ec2-user/.mxnet/gluon-ts/datasets/m4_weekly.\n"
     ]
    }
   ],
   "source": [
    "dataset = get_dataset(\"m4_weekly\", regenerate=False)"
   ]
  },
  {
   "cell_type": "markdown",
   "metadata": {},
   "source": [
    "### mv the data\n",
    "\n",
    "Before moving on: Move the respective data according the required folder structure. In AWS:\n",
    "\n",
    "- `mv [dataname] ../../.mxnet/gluon-ts/datasets/`"
   ]
  },
  {
   "cell_type": "markdown",
   "metadata": {},
   "source": [
    "## Check the data"
   ]
  },
  {
   "cell_type": "code",
   "execution_count": 7,
   "metadata": {},
   "outputs": [
    {
     "name": "stderr",
     "output_type": "stream",
     "text": [
      "INFO:root:using dataset already processed in path /home/ec2-user/.mxnet/gluon-ts/datasets/m4_yearly.\n"
     ]
    },
    {
     "data": {
      "text/plain": [
       "23000"
      ]
     },
     "execution_count": 7,
     "metadata": {},
     "output_type": "execute_result"
    }
   ],
   "source": [
    "dataname_a = \"m4_yearly\"\n",
    "dataset_a = get_dataset(dataname_a, regenerate=False)\n",
    "len(dataset_a.train)"
   ]
  },
  {
   "cell_type": "code",
   "execution_count": 8,
   "metadata": {},
   "outputs": [
    {
     "name": "stderr",
     "output_type": "stream",
     "text": [
      "INFO:root:using dataset already processed in path /home/ec2-user/.mxnet/gluon-ts/datasets/m4_yearly_industry.\n"
     ]
    },
    {
     "data": {
      "text/plain": [
       "3716"
      ]
     },
     "execution_count": 8,
     "metadata": {},
     "output_type": "execute_result"
    }
   ],
   "source": [
    "dataname_b1 = \"m4_yearly_industry\"\n",
    "dataset_b1 = get_dataset(dataname_b1, regenerate=False)\n",
    "len(dataset_b1.train)"
   ]
  },
  {
   "cell_type": "code",
   "execution_count": 9,
   "metadata": {},
   "outputs": [
    {
     "name": "stderr",
     "output_type": "stream",
     "text": [
      "INFO:root:using dataset already processed in path /home/ec2-user/.mxnet/gluon-ts/datasets/m4_yearly_finance.\n"
     ]
    },
    {
     "data": {
      "text/plain": [
       "6519"
      ]
     },
     "execution_count": 9,
     "metadata": {},
     "output_type": "execute_result"
    }
   ],
   "source": [
    "dataname_b2 = \"m4_yearly_finance\"\n",
    "dataset_b2 = get_dataset(dataname_b2, regenerate=False)\n",
    "len(dataset_b2.train)"
   ]
  },
  {
   "cell_type": "code",
   "execution_count": 10,
   "metadata": {},
   "outputs": [
    {
     "name": "stderr",
     "output_type": "stream",
     "text": [
      "INFO:root:using dataset already processed in path /home/ec2-user/.mxnet/gluon-ts/datasets/m4_yearly_demographic.\n"
     ]
    },
    {
     "data": {
      "text/plain": [
       "1088"
      ]
     },
     "execution_count": 10,
     "metadata": {},
     "output_type": "execute_result"
    }
   ],
   "source": [
    "dataname_b3 = \"m4_yearly_demographic\"\n",
    "dataset_b3 = get_dataset(dataname_b3, regenerate=False)\n",
    "len(dataset_b3.train)"
   ]
  },
  {
   "cell_type": "markdown",
   "metadata": {},
   "source": [
    "### Dataset A\n"
   ]
  },
  {
   "cell_type": "code",
   "execution_count": 11,
   "metadata": {},
   "outputs": [
    {
     "name": "stdout",
     "output_type": "stream",
     "text": [
      "dict_keys(['start', 'target', 'feat_static_cat', 'source'])\n",
      "dict_keys(['start', 'target', 'feat_static_cat', 'source'])\n",
      "length train: 23000\n",
      "length test: 23000\n",
      "\n",
      "start:\n",
      " 1750-01-31 00:00:00\n",
      "target:\n",
      " [5172.1 5133.5 5186.9 5084.6 5182.  5414.3 5576.2 5752.9 5955.2 6087.8]\n",
      "feat_static_cat:\n",
      " [0]\n"
     ]
    },
    {
     "data": {
      "image/png": "[encoded data removed]",
      "text/plain": [
       "<Figure size 720x504 with 2 Axes>"
      ]
     },
     "metadata": {},
     "output_type": "display_data"
    }
   ],
   "source": [
    "train_entry_a = next(iter(dataset_a.train))\n",
    "test_entry_a = next(iter(dataset_a.test))\n",
    "\n",
    "print(train_entry_a.keys())\n",
    "print(test_entry_a.keys())\n",
    "print(\"length train:\", len(dataset_a.train))\n",
    "print(\"length test:\", len(dataset_a.test))\n",
    "\n",
    "\n",
    "print(\"\\nstart:\\n\",train_entry_a[\"start\"])\n",
    "print(\"target:\\n\", train_entry_a[\"target\"][:10])\n",
    "print(\"feat_static_cat:\\n\", train_entry_a[\"feat_static_cat\"])\n",
    "\n",
    "train_series_a = to_pandas(train_entry_a)\n",
    "test_series_a = to_pandas(test_entry_a)\n",
    "\n",
    "fig, ax = plt.subplots(2, 1, sharex=True, sharey=True, figsize=(10, 7))\n",
    "\n",
    "train_series_a.plot(ax=ax[0])\n",
    "ax[0].grid(which=\"both\")\n",
    "ax[0].legend([\"train series\"], loc=\"upper left\")\n",
    "\n",
    "test_series_a.plot(ax=ax[1])\n",
    "ax[1].axvline(train_series_a.index[-1], color='r') # end of train dataset\n",
    "ax[1].grid(which=\"both\")\n",
    "ax[1].legend([\"test series\", \"end of train series\"], loc=\"upper left\")\n",
    "\n",
    "plt.show()"
   ]
  },
  {
   "cell_type": "markdown",
   "metadata": {},
   "source": [
    "## Dataset B"
   ]
  },
  {
   "cell_type": "code",
   "execution_count": 12,
   "metadata": {},
   "outputs": [
    {
     "name": "stdout",
     "output_type": "stream",
     "text": [
      "dict_keys(['start', 'target', 'feat_static_cat', 'source'])\n",
      "dict_keys(['start', 'target', 'feat_static_cat', 'source'])\n",
      "length train: 1088\n",
      "length test: 1088\n",
      "\n",
      "start:\n",
      " 1750-01-31 00:00:00\n",
      "target:\n",
      " [3769.9 3559.  3272.4 2944.5 3094.  3423.8 3557.7 3859.9 3970.1 3832.2]\n",
      "feat_static_cat:\n",
      " [1]\n"
     ]
    },
    {
     "data": {
      "image/png": "[encoded data removed]",
      "text/plain": [
       "<Figure size 720x504 with 2 Axes>"
      ]
     },
     "metadata": {},
     "output_type": "display_data"
    }
   ],
   "source": [
    "dataset_b = dataset_b3\n",
    "\n",
    "train_entry_b = next(iter(dataset_b.train))\n",
    "test_entry_b = next(iter(dataset_b.test))\n",
    "\n",
    "print(train_entry_b.keys())\n",
    "print(test_entry_b.keys())\n",
    "print(\"length train:\", len(dataset_b.train))\n",
    "print(\"length test:\", len(dataset_b.test))\n",
    "\n",
    "print(\"\\nstart:\\n\",train_entry_b[\"start\"])\n",
    "print(\"target:\\n\", train_entry_b[\"target\"][:10])\n",
    "print(\"feat_static_cat:\\n\", train_entry_b[\"feat_static_cat\"])\n",
    "\n",
    "train_series_b = to_pandas(train_entry_b)\n",
    "test_series_b = to_pandas(test_entry_b)\n",
    "\n",
    "fig, ax = plt.subplots(2, 1, sharex=True, sharey=True, figsize=(10, 7))\n",
    "\n",
    "train_series_b.plot(ax=ax[0])\n",
    "ax[0].grid(which=\"both\")\n",
    "ax[0].legend([\"train series\"], loc=\"upper left\")\n",
    "\n",
    "test_series_b.plot(ax=ax[1])\n",
    "ax[1].axvline(train_series_b.index[-1], color='r') # end of train dataset\n",
    "ax[1].grid(which=\"both\")\n",
    "ax[1].legend([\"test series\", \"end of train series\"], loc=\"upper left\")\n",
    "\n",
    "plt.show()"
   ]
  },
  {
   "cell_type": "markdown",
   "metadata": {},
   "source": [
    "## Comparison of both datasets\n",
    "\n",
    "- Compare whether both datasets have the same length\n"
   ]
  },
  {
   "cell_type": "code",
   "execution_count": 13,
   "metadata": {},
   "outputs": [
    {
     "name": "stdout",
     "output_type": "stream",
     "text": [
      "Length test train: False\n",
      "Length test test: False\n",
      "Frequency test: True\n"
     ]
    }
   ],
   "source": [
    "# Check length\n",
    "print(\"Length test train:\", len(dataset_a.train) == len(dataset_b.train))\n",
    "print(\"Length test test:\", len(dataset_a.test) == len(dataset_b.test))\n",
    "\n",
    "# Check frequency\n",
    "print(\"Frequency test:\",(dataset_a.metadata.freq == dataset_b.metadata.freq))\n"
   ]
  },
  {
   "cell_type": "markdown",
   "metadata": {},
   "source": [
    "## Modeling: DeepAR"
   ]
  },
  {
   "cell_type": "code",
   "execution_count": 14,
   "metadata": {},
   "outputs": [],
   "source": [
    "from gluonts.trainer import Trainer\n",
    "from gluonts.evaluation.backtest import make_evaluation_predictions\n",
    "from gluonts.evaluation import Evaluator\n",
    "\n",
    "from gluonts.model.deepar import DeepAREstimator"
   ]
  },
  {
   "cell_type": "code",
   "execution_count": 15,
   "metadata": {},
   "outputs": [
    {
     "name": "stdout",
     "output_type": "stream",
     "text": [
      "TrainDatasets(metadata=MetaData(freq='12M', target=None, feat_static_cat=[CategoricalFeatureInfo(name='feat_static_cat', cardinality='23000')], feat_static_real=[], feat_dynamic_real=[], feat_dynamic_cat=[], prediction_length=6), train=<gluonts.dataset.common.FileDataset object at 0x7f2f18b997b8>, test=<gluonts.dataset.common.FileDataset object at 0x7f2f18b3e358>)\n",
      "\n",
      " TrainDatasets(metadata=MetaData(freq='12M', target=None, feat_static_cat=[CategoricalFeatureInfo(name='feat_static_cat', cardinality='1088')], feat_static_real=[], feat_dynamic_real=[], feat_dynamic_cat=[], prediction_length=6), train=<gluonts.dataset.common.FileDataset object at 0x7f2f18b51240>, test=<gluonts.dataset.common.FileDataset object at 0x7f2f18b3ec50>)\n"
     ]
    }
   ],
   "source": [
    "# A: dataset_a\n",
    "# B: dataset_b\n",
    "print(dataset_a)\n",
    "print(\"\\n\", dataset_b)"
   ]
  },
  {
   "cell_type": "code",
   "execution_count": 16,
   "metadata": {},
   "outputs": [
    {
     "name": "stdout",
     "output_type": "stream",
     "text": [
      "m4_yearly\n",
      "m4_yearly_industry\n"
     ]
    }
   ],
   "source": [
    "print(dataname_a)\n",
    "print(dataname_b1)"
   ]
  },
  {
   "cell_type": "code",
   "execution_count": 17,
   "metadata": {},
   "outputs": [],
   "source": [
    "def deepar_train_eval(dataname_a, dataname_b, seed=42, epochs=100, num_batches=100):\n",
    "    \"\"\"\n",
    "    Function that trains a network using data from dataset B and evaluates the trained network on dataset A.\n",
    "    Dataset A is the dataset of interest for our analysis. \n",
    "    \"\"\"    \n",
    "    \n",
    "    dataset_a = get_dataset(dataname_a, regenerate=False)\n",
    "    dataset_b = get_dataset(dataname_b, regenerate=False)\n",
    "    \n",
    "    # Assert checks\n",
    "    assert (dataset_a.metadata.freq == dataset_b.metadata.freq)\n",
    "#     assert ( len(dataset_a.train)==len(dataset_b.train) )\n",
    "#     assert ( len(dataset_a.test)==len(dataset_b.test))\n",
    "    \n",
    "    mx.random.seed(seed)\n",
    "    np.random.seed(seed)\n",
    "\n",
    "    # define trainer\n",
    "    trainer=Trainer(\n",
    "        ctx=mx.cpu(),\n",
    "        epochs=epochs,\n",
    "        num_batches_per_epoch=num_batches,\n",
    "        learning_rate=1e-3,\n",
    "    )\n",
    "\n",
    "    estimator=DeepAREstimator(\n",
    "        trainer=trainer,\n",
    "        context_length=dataset_a.metadata.prediction_length,\n",
    "        prediction_length=dataset_a.metadata.prediction_length,\n",
    "        freq=dataset_a.metadata.freq,\n",
    "        use_feat_static_cat=False,\n",
    "    )\n",
    "    \n",
    "#     estimator = DeepAREstimator(\n",
    "#         trainer=trainer,\n",
    "#         cardinality= [\n",
    "#             feat_static_cat.cardinality \n",
    "#             for feat_static_cat in dataset_a.metadata.feat_static_cat\n",
    "#         ],\n",
    "#         context_length=dataset_a.metadata.prediction_length,\n",
    "#         prediction_length=dataset_a.metadata.prediction_length,\n",
    "#         freq=dataset_a.metadata.freq,\n",
    "#         use_feat_static_cat=True\n",
    "#     )\n",
    "    \n",
    "    # predictor trained on dataset_a, evaluated on dataset_b\n",
    "    predictor_a=estimator.train(training_data=dataset_a.train)\n",
    "    \n",
    "    forecast_it, ts_it = make_evaluation_predictions(\n",
    "        dataset_b.test, predictor=predictor_a, num_samples=100\n",
    "    )\n",
    "    \n",
    "    agg_metrics, item_metrics = Evaluator()(\n",
    "        ts_it, forecast_it, num_series = len(dataset_b.test))\n",
    "    \n",
    "    metrics=[\"MASE\", \"sMAPE\", \"MSIS\", \"wQuantileLoss[0.5]\", \"wQuantileLoss[0.9]\"]\n",
    "    output = {key: round(value, 8) for key, value in agg_metrics.items() if key in metrics}\n",
    "    \n",
    "    output[\"seed\"]=seed\n",
    "    output[\"epochs\"]=epochs\n",
    "    output[\"num_batches\"]=num_batches\n",
    "    output[\"train data\"]=dataname_a\n",
    "    output[\"eval data\"]=dataname_b\n",
    "    \n",
    "    df=pd.DataFrame([output])\n",
    "\n",
    "    return df\n",
    "\n",
    "    "
   ]
  },
  {
   "cell_type": "markdown",
   "metadata": {},
   "source": [
    "## Subsets"
   ]
  },
  {
   "cell_type": "code",
   "execution_count": 18,
   "metadata": {},
   "outputs": [
    {
     "name": "stdout",
     "output_type": "stream",
     "text": [
      "m4_yearly\n",
      "m4_yearly_industry\n"
     ]
    }
   ],
   "source": [
    "print(dataname_a)\n",
    "print(dataname_b1)"
   ]
  },
  {
   "cell_type": "markdown",
   "metadata": {},
   "source": [
    "## Study 4: `m4_yearly` vs. `m4_yearly_industry`"
   ]
  },
  {
   "cell_type": "code",
   "execution_count": 45,
   "metadata": {},
   "outputs": [],
   "source": [
    "# results = pd.DataFrame()\n",
    "\n",
    "# for i in range(42,52):\n",
    "#     print(\"Next seed:\", i)\n",
    "#     df = deepar_train_eval(dataname_a=\"m4_yearly\", dataname_b=\"m4_yearly_industry\", seed=i, epochs=100, num_batches=50)\n",
    "#     pprint(df)\n",
    "#     results = results.append(df)\n",
    "    \n",
    "# results"
   ]
  },
  {
   "cell_type": "markdown",
   "metadata": {},
   "source": [
    "## Study 5: `m4_yearly` vs. `m4_yearly_finance`"
   ]
  },
  {
   "cell_type": "markdown",
   "metadata": {},
   "source": [
    "## Study 6: `m4_yearly` vs. `m4_yearly_demographic`"
   ]
  },
  {
   "cell_type": "code",
   "execution_count": null,
   "metadata": {},
   "outputs": [],
   "source": [
    "# results = pd.DataFrame()\n",
    "\n",
    "# for i in range(42,52):\n",
    "#     print(\"Next seed:\", i)\n",
    "#     df = deepar_train_eval(dataname_a=\"m4_yearly\", dataname_b=\"m4_yearly_demographic\", seed=i, epochs=100, num_batches=50)\n",
    "#     pprint(df)\n",
    "#     results = results.append(df)\n",
    "    \n",
    "# results"
   ]
  },
  {
   "cell_type": "code",
   "execution_count": null,
   "metadata": {},
   "outputs": [],
   "source": []
  }
 ],
 "metadata": {
  "kernelspec": {
   "display_name": "conda_python3",
   "language": "python",
   "name": "conda_python3"
  },
  "language_info": {
   "codemirror_mode": {
    "name": "ipython",
    "version": 3
   },
   "file_extension": ".py",
   "mimetype": "text/x-python",
   "name": "python",
   "nbconvert_exporter": "python",
   "pygments_lexer": "ipython3",
   "version": "3.6.5"
  }
 },
 "nbformat": 4,
 "nbformat_minor": 2
}
