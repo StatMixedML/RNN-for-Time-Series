{
 "cells": [
  {
   "cell_type": "code",
   "execution_count": 2,
   "metadata": {},
   "outputs": [
    {
     "name": "stdout",
     "output_type": "stream",
     "text": [
      "Requirement already satisfied: mxnet==1.4.1 in /home/ec2-user/anaconda3/envs/python3/lib/python3.6/site-packages (1.4.1)\n",
      "Requirement already satisfied: requests>=2.20.0 in /home/ec2-user/anaconda3/envs/python3/lib/python3.6/site-packages (from mxnet==1.4.1) (2.20.0)\n",
      "Requirement already satisfied: graphviz<0.9.0,>=0.8.1 in /home/ec2-user/anaconda3/envs/python3/lib/python3.6/site-packages (from mxnet==1.4.1) (0.8.4)\n",
      "Requirement already satisfied: numpy<1.15.0,>=1.8.2 in /home/ec2-user/anaconda3/envs/python3/lib/python3.6/site-packages (from mxnet==1.4.1) (1.14.3)\n",
      "Requirement already satisfied: chardet<3.1.0,>=3.0.2 in /home/ec2-user/anaconda3/envs/python3/lib/python3.6/site-packages (from requests>=2.20.0->mxnet==1.4.1) (3.0.4)\n",
      "Requirement already satisfied: certifi>=2017.4.17 in /home/ec2-user/anaconda3/envs/python3/lib/python3.6/site-packages (from requests>=2.20.0->mxnet==1.4.1) (2019.9.11)\n",
      "Requirement already satisfied: urllib3<1.25,>=1.21.1 in /home/ec2-user/anaconda3/envs/python3/lib/python3.6/site-packages (from requests>=2.20.0->mxnet==1.4.1) (1.23)\n",
      "Requirement already satisfied: idna<2.8,>=2.5 in /home/ec2-user/anaconda3/envs/python3/lib/python3.6/site-packages (from requests>=2.20.0->mxnet==1.4.1) (2.6)\n",
      "\u001b[33mYou are using pip version 10.0.1, however version 19.3.1 is available.\n",
      "You should consider upgrading via the 'pip install --upgrade pip' command.\u001b[0m\n"
     ]
    }
   ],
   "source": [
    "!pip install mxnet==\"1.4.1\""
   ]
  },
  {
   "cell_type": "code",
   "execution_count": 3,
   "metadata": {},
   "outputs": [
    {
     "name": "stdout",
     "output_type": "stream",
     "text": [
      "Requirement already satisfied: gluonts in /home/ec2-user/anaconda3/envs/python3/lib/python3.6/site-packages (0.4.2)\n",
      "Requirement already satisfied: boto3~=1.0 in /home/ec2-user/anaconda3/envs/python3/lib/python3.6/site-packages (from gluonts) (1.10.19)\n",
      "Requirement already satisfied: pydantic~=1.1 in /home/ec2-user/anaconda3/envs/python3/lib/python3.6/site-packages (from gluonts) (1.3)\n",
      "Requirement already satisfied: matplotlib~=3.0 in /home/ec2-user/anaconda3/envs/python3/lib/python3.6/site-packages (from gluonts) (3.0.3)\n",
      "Requirement already satisfied: tqdm~=4.23 in /home/ec2-user/anaconda3/envs/python3/lib/python3.6/site-packages (from gluonts) (4.41.0)\n",
      "Requirement already satisfied: python-dateutil==2.8.0 in /home/ec2-user/anaconda3/envs/python3/lib/python3.6/site-packages (from gluonts) (2.8.0)\n",
      "Requirement already satisfied: numpy~=1.14 in /home/ec2-user/anaconda3/envs/python3/lib/python3.6/site-packages (from gluonts) (1.14.3)\n",
      "Requirement already satisfied: pandas<0.26,>=0.25 in /home/ec2-user/anaconda3/envs/python3/lib/python3.6/site-packages (from gluonts) (0.25.3)\n",
      "Requirement already satisfied: ujson~=1.35 in /home/ec2-user/anaconda3/envs/python3/lib/python3.6/site-packages (from gluonts) (1.35)\n",
      "Requirement already satisfied: holidays<0.10,>=0.9 in /home/ec2-user/anaconda3/envs/python3/lib/python3.6/site-packages (from gluonts) (0.9.12)\n",
      "Requirement already satisfied: jmespath<1.0.0,>=0.7.1 in /home/ec2-user/anaconda3/envs/python3/lib/python3.6/site-packages (from boto3~=1.0->gluonts) (0.9.4)\n",
      "Requirement already satisfied: s3transfer<0.3.0,>=0.2.0 in /home/ec2-user/anaconda3/envs/python3/lib/python3.6/site-packages (from boto3~=1.0->gluonts) (0.2.1)\n",
      "Requirement already satisfied: botocore<1.14.0,>=1.13.19 in /home/ec2-user/anaconda3/envs/python3/lib/python3.6/site-packages (from boto3~=1.0->gluonts) (1.13.19)\n",
      "Requirement already satisfied: dataclasses>=0.6; python_version < \"3.7\" in /home/ec2-user/anaconda3/envs/python3/lib/python3.6/site-packages (from pydantic~=1.1->gluonts) (0.7)\n",
      "Requirement already satisfied: kiwisolver>=1.0.1 in /home/ec2-user/anaconda3/envs/python3/lib/python3.6/site-packages (from matplotlib~=3.0->gluonts) (1.0.1)\n",
      "Requirement already satisfied: pyparsing!=2.0.4,!=2.1.2,!=2.1.6,>=2.0.1 in /home/ec2-user/anaconda3/envs/python3/lib/python3.6/site-packages (from matplotlib~=3.0->gluonts) (2.2.0)\n",
      "Requirement already satisfied: cycler>=0.10 in /home/ec2-user/anaconda3/envs/python3/lib/python3.6/site-packages (from matplotlib~=3.0->gluonts) (0.10.0)\n",
      "Requirement already satisfied: six>=1.5 in /home/ec2-user/anaconda3/envs/python3/lib/python3.6/site-packages (from python-dateutil==2.8.0->gluonts) (1.11.0)\n",
      "Requirement already satisfied: pytz>=2017.2 in /home/ec2-user/anaconda3/envs/python3/lib/python3.6/site-packages (from pandas<0.26,>=0.25->gluonts) (2018.4)\n",
      "Requirement already satisfied: docutils<0.16,>=0.10 in /home/ec2-user/anaconda3/envs/python3/lib/python3.6/site-packages (from botocore<1.14.0,>=1.13.19->boto3~=1.0->gluonts) (0.14)\n",
      "Requirement already satisfied: urllib3<1.26,>=1.20; python_version >= \"3.4\" in /home/ec2-user/anaconda3/envs/python3/lib/python3.6/site-packages (from botocore<1.14.0,>=1.13.19->boto3~=1.0->gluonts) (1.23)\n",
      "Requirement already satisfied: setuptools in /home/ec2-user/anaconda3/envs/python3/lib/python3.6/site-packages (from kiwisolver>=1.0.1->matplotlib~=3.0->gluonts) (39.1.0)\n",
      "\u001b[33mYou are using pip version 10.0.1, however version 19.3.1 is available.\n",
      "You should consider upgrading via the 'pip install --upgrade pip' command.\u001b[0m\n"
     ]
    }
   ],
   "source": [
    "!pip install gluonts"
   ]
  },
  {
   "cell_type": "code",
   "execution_count": 4,
   "metadata": {},
   "outputs": [],
   "source": [
    "# !pip install gluonts==\"0.4.1\""
   ]
  },
  {
   "cell_type": "code",
   "execution_count": 5,
   "metadata": {},
   "outputs": [
    {
     "name": "stdout",
     "output_type": "stream",
     "text": [
      "0.4.2\n",
      "1.4.1\n"
     ]
    }
   ],
   "source": [
    "import gluonts\n",
    "import mxnet\n",
    "\n",
    "print(gluonts.__version__)\n",
    "print(mxnet.__version__)"
   ]
  },
  {
   "cell_type": "code",
   "execution_count": 6,
   "metadata": {},
   "outputs": [
    {
     "name": "stderr",
     "output_type": "stream",
     "text": [
      "INFO:root:Using CPU\n"
     ]
    }
   ],
   "source": [
    "# standard imports\n",
    "import numpy as np\n",
    "import pandas as pd\n",
    "\n",
    "# Vis\n",
    "%matplotlib inline\n",
    "import matplotlib.pyplot as plt\n",
    "from pprint import pprint\n",
    "\n",
    "# mxnet\n",
    "import mxnet as mx\n",
    "\n",
    "# gluonts\n",
    "from gluonts.dataset.util import to_pandas\n",
    "\n",
    "# imports from utility function\n",
    "import utils_gluonts10 as utils\n",
    "from utils_gluonts10 import get_dataset, dataset_recipes\n",
    "from utils_gluonts10_deepar import deepar\n",
    "# from utils_gluonts11_deepstate import deep_state\n"
   ]
  },
  {
   "cell_type": "code",
   "execution_count": 7,
   "metadata": {},
   "outputs": [
    {
     "name": "stdout",
     "output_type": "stream",
     "text": [
      "Available datasets: ['m4_daily', 'm4_daily_domain', 'm4_daily_id', 'm4_hourly', 'm4_hourly_id', 'm4_monthly', 'm4_monthly_atm', 'm4_monthly_dates', 'm4_monthly_demographic', 'm4_monthly_domain', 'm4_monthly_end032014', 'm4_monthly_end052015', 'm4_monthly_end092007', 'm4_monthly_finance', 'm4_monthly_id', 'm4_monthly_industry', 'm4_monthly_macro', 'm4_monthly_micro', 'm4_monthly_micro_atm', 'm4_monthly_nonmicro_10975_seed42', 'm4_monthly_nonmicro_10975_seed43', 'm4_monthly_nonmicro_10975_seed44', 'm4_monthly_nonmicro_10975_seed45', 'm4_monthly_nonmicro_10975_seed46', 'm4_monthly_nonmicro_10975_seed47', 'm4_monthly_nonmicro_10975_seed48', 'm4_monthly_nonmicro_10975_seed49', 'm4_monthly_nonmicro_10975_seed50', 'm4_monthly_nonmicro_10975_seed51', 'm4_monthly_other', 'm4_quarterly', 'm4_quarterly_atm', 'm4_quarterly_dates', 'm4_quarterly_demographic', 'm4_quarterly_domain', 'm4_quarterly_end2003q3', 'm4_quarterly_end2013q1', 'm4_quarterly_end2015q1', 'm4_quarterly_finance', 'm4_quarterly_id', 'm4_quarterly_industry', 'm4_quarterly_macro', 'm4_quarterly_micro', 'm4_quarterly_other', 'm4_weekly', 'm4_weekly_domain', 'm4_weekly_id', 'my_weekly_tm', 'm4_yearly', 'm4_yearly_demographic', 'm4_yearly_domain', 'm4_yearly_end1991', 'm4_yearly_end2004', 'm4_yearly_end2009', 'm4_yearly_finance', 'm4_yearly_id', 'm4_yearly_industry', 'm4_yearly_macro', 'm4_yearly_micro', 'm4_yearly_other']\n"
     ]
    }
   ],
   "source": [
    "print(f\"Available datasets: {list(dataset_recipes.keys())}\")"
   ]
  },
  {
   "cell_type": "markdown",
   "metadata": {},
   "source": [
    "#### Note\n",
    "\n",
    "In SageMaker data are saved into the following folders (example shows m4_weekly):\n",
    "\n",
    "```\n",
    "saving time-series into /home/ec2-user/.mxnet/gluon-ts/datasets/m4_weekly/train/data.json\n",
    "saving time-series into /home/ec2-user/.mxnet/gluon-ts/datasets/m4_weekly/test/data.json\n",
    "```"
   ]
  },
  {
   "cell_type": "code",
   "execution_count": 8,
   "metadata": {},
   "outputs": [
    {
     "name": "stderr",
     "output_type": "stream",
     "text": [
      "INFO:root:using dataset already processed in path /home/ec2-user/.mxnet/gluon-ts/datasets/m4_weekly.\n"
     ]
    }
   ],
   "source": [
    "dataname = \"m4_weekly\"\n",
    "dataset = get_dataset(dataname, regenerate=False)"
   ]
  },
  {
   "cell_type": "code",
   "execution_count": 9,
   "metadata": {},
   "outputs": [
    {
     "name": "stdout",
     "output_type": "stream",
     "text": [
      "dict_keys(['start', 'target', 'feat_static_cat', 'source'])\n",
      "dict_keys(['start', 'target', 'feat_static_cat', 'source'])\n",
      "length train dataset: 359\n",
      "length test dataset: 359\n"
     ]
    }
   ],
   "source": [
    "# get the first time series in the training set\n",
    "train_entry = next(iter(dataset.train))\n",
    "test_entry = next(iter(dataset.test))\n",
    "\n",
    "# check keys\n",
    "print(train_entry.keys())\n",
    "print(test_entry.keys())\n",
    "\n",
    "# check length\n",
    "print(\"length train dataset:\", len(dataset.train))\n",
    "print(\"length test dataset:\", len(dataset.test))"
   ]
  },
  {
   "cell_type": "code",
   "execution_count": 10,
   "metadata": {},
   "outputs": [
    {
     "data": {
      "text/plain": [
       "{'start': Timestamp('1750-01-04 00:00:00', freq='W-SUN'),\n",
       " 'target': array([ 1089.2 ,  1078.91,  1079.88, ..., 36565.18, 36565.18, 35397.16],\n",
       "       dtype=float32),\n",
       " 'feat_static_cat': array([0], dtype=int32),\n",
       " 'source': SourceContext(source=Span(path=PosixPath('/home/ec2-user/.mxnet/gluon-ts/datasets/m4_weekly/train/data.json'), line=1), row=1)}"
      ]
     },
     "execution_count": 10,
     "metadata": {},
     "output_type": "execute_result"
    }
   ],
   "source": [
    "train_entry"
   ]
  },
  {
   "cell_type": "markdown",
   "metadata": {},
   "source": [
    "## Plot Series"
   ]
  },
  {
   "cell_type": "code",
   "execution_count": 11,
   "metadata": {},
   "outputs": [
    {
     "data": {
      "image/png": "[encoded data removed]",
      "text/plain": [
       "<Figure size 720x504 with 2 Axes>"
      ]
     },
     "metadata": {},
     "output_type": "display_data"
    }
   ],
   "source": [
    "test_series = to_pandas(test_entry)\n",
    "train_series = to_pandas(train_entry)\n",
    "\n",
    "fig, ax = plt.subplots(2, 1, sharex=True, sharey=True, figsize=(10, 7))\n",
    "\n",
    "train_series.plot(ax=ax[0])\n",
    "ax[0].grid(which=\"both\")\n",
    "ax[0].legend([\"train series\"], loc=\"upper left\")\n",
    "\n",
    "test_series.plot(ax=ax[1])\n",
    "ax[1].axvline(train_series.index[-1], color='r') # end of train dataset\n",
    "ax[1].grid(which=\"both\")\n",
    "ax[1].legend([\"test series\", \"end of train series\"], loc=\"upper left\")\n",
    "\n",
    "plt.show()"
   ]
  },
  {
   "cell_type": "code",
   "execution_count": 12,
   "metadata": {},
   "outputs": [
    {
     "name": "stdout",
     "output_type": "stream",
     "text": [
      "start: 1750-01-04 00:00:00\n",
      "target: [1089.2  1078.91 1079.88 1063.58 1060.61 1056.93 1056.63]\n",
      "feat_static_cat: [0]\n",
      "length: 359\n"
     ]
    }
   ],
   "source": [
    "print(\"start:\", dict(train_entry)[\"start\"])\n",
    "print(\"target:\", dict(train_entry)[\"target\"][:7])\n",
    "print(\"feat_static_cat:\", dict(train_entry)[\"feat_static_cat\"])\n",
    "print(\"length:\", len(dataset.train))"
   ]
  },
  {
   "cell_type": "code",
   "execution_count": 13,
   "metadata": {},
   "outputs": [
    {
     "name": "stderr",
     "output_type": "stream",
     "text": [
      "INFO:root:Using CPU\n"
     ]
    }
   ],
   "source": [
    "from gluonts.trainer import Trainer\n",
    "from gluonts.evaluation.backtest import make_evaluation_predictions\n",
    "from gluonts.evaluation import Evaluator\n",
    "\n",
    "from gluonts.model.deepstate import DeepStateEstimator"
   ]
  },
  {
   "cell_type": "code",
   "execution_count": 14,
   "metadata": {},
   "outputs": [],
   "source": [
    "#########################\n",
    "### deepstate wrapper ###\n",
    "\n",
    "# data = \"m4_yearly_other\"\n",
    "# seed = 44\n",
    "# epochs = 500\n",
    "# num_batches = 100\n",
    "# batch_size = 32\n",
    "\n",
    "def deepstate(dataname, seed=42, epochs=100, num_batches=50):\n",
    "    \n",
    "    mx.random.seed(seed)\n",
    "    np.random.seed(seed)\n",
    "\n",
    "    dataset = get_dataset(dataname, regenerate=False)\n",
    "\n",
    "    trainer = Trainer(\n",
    "        ctx=mx.cpu(0),\n",
    "        epochs=epochs,\n",
    "        num_batches_per_epoch=num_batches,\n",
    "        learning_rate=1e-3,\n",
    "        )\n",
    "\n",
    "    cardinality = int(dataset.metadata.feat_static_cat[0].cardinality)\n",
    "    estimator = DeepStateEstimator(\n",
    "        trainer=trainer,\n",
    "        cardinality=[cardinality],\n",
    "        prediction_length=dataset.metadata.prediction_length,\n",
    "        freq=dataset.metadata.freq,\n",
    "        use_feat_static_cat=True,\n",
    "        )\n",
    "\n",
    "    predictor=estimator.train(dataset.train)\n",
    "\n",
    "    forecast_it, ts_it = make_evaluation_predictions(\n",
    "            dataset.test, predictor=predictor, num_samples=100\n",
    "        )\n",
    "\n",
    "    agg_metrics, item_metrics = Evaluator()(\n",
    "        ts_it, forecast_it, num_series=len(dataset.test)\n",
    "    )\n",
    "\n",
    "    metrics = [\"MASE\", \"sMAPE\", \"MSIS\", \"wQuantileLoss[0.5]\", \"wQuantileLoss[0.9]\"]\n",
    "    output = {key: round(value, 8) for key, value in agg_metrics.items() if key in metrics}\n",
    "\n",
    "    output[\"seed\"] = seed\n",
    "    output[\"epochs\"] = epochs\n",
    "    output[\"num_batches\"] = num_batches\n",
    "    output[\"data\"] = dataname\n",
    "\n",
    "    df = pd.DataFrame([output])\n",
    "    return df"
   ]
  },
  {
   "cell_type": "markdown",
   "metadata": {},
   "source": [
    "## Results"
   ]
  },
  {
   "cell_type": "code",
   "execution_count": 30,
   "metadata": {},
   "outputs": [],
   "source": [
    "# results = pd.DataFrame()\n",
    "\n",
    "# for i in range(42, 45):\n",
    "#     print(\"Seed:\", i)\n",
    "#     df=deepstate(dataname=\"m4_quarterly_industry\", seed=i, epochs=100, num_batches=50)\n",
    "#     pprint(df)\n",
    "#     results = results.append(df)\n",
    "\n",
    "# results"
   ]
  }
 ],
 "metadata": {
  "kernelspec": {
   "display_name": "conda_python3",
   "language": "python",
   "name": "conda_python3"
  },
  "language_info": {
   "codemirror_mode": {
    "name": "ipython",
    "version": 3
   },
   "file_extension": ".py",
   "mimetype": "text/x-python",
   "name": "python",
   "nbconvert_exporter": "python",
   "pygments_lexer": "ipython3",
   "version": "3.6.5"
  }
 },
 "nbformat": 4,
 "nbformat_minor": 4
}
