{
 "cells": [
  {
   "cell_type": "markdown",
   "metadata": {},
   "source": [
    "# GluonTS - Simple model fit and evaluation\n",
    "\n",
    "This example shows how to fit a model and evaluate its predictions. \n",
    "\n",
    "- Based on `model_evaluate.py` from GluonTS examples"
   ]
  },
  {
   "cell_type": "code",
   "execution_count": 1,
   "metadata": {},
   "outputs": [
    {
     "name": "stderr",
     "output_type": "stream",
     "text": [
      "INFO:root:Using CPU\n"
     ]
    },
    {
     "name": "stdout",
     "output_type": "stream",
     "text": [
      "Available datasets:\n",
      "odict_keys(['constant', 'exchange_rate', 'solar-energy', 'electricity', 'traffic', 'm4_hourly', 'm4_daily', 'm4_weekly', 'm4_monthly', 'm4_quarterly', 'm4_yearly'])\n"
     ]
    },
    {
     "name": "stderr",
     "output_type": "stream",
     "text": [
      "INFO:root:using dataset already processed in path C:\\Users\\TM\\.mxnet\\gluon-ts\\datasets\\m4_hourly.\n",
      "INFO:root:Using CPU\n"
     ]
    }
   ],
   "source": [
    "# imports \n",
    "from gluonts.dataset.repository.datasets import get_dataset, dataset_recipes\n",
    "from gluonts.evaluation import Evaluator\n",
    "from gluonts.evaluation.backtest import make_evaluation_predictions\n",
    "from gluonts.model.simple_feedforward import SimpleFeedForwardEstimator\n",
    "from gluonts.trainer import Trainer\n",
    "\n",
    "if __name__ == \"__main__\":\n",
    "    print(\"Available datasets:\")\n",
    "    print(dataset_recipes.keys())\n",
    "    \n",
    "    # get m4_weekly\n",
    "    dataset = get_dataset(\"m4_hourly\", regenerate=False)\n",
    "    \n",
    "# define estimator \n",
    "    estimator = SimpleFeedForwardEstimator(\n",
    "        prediction_length=dataset.metadata.prediction_length,\n",
    "        freq=dataset.metadata.freq,\n",
    "        trainer=Trainer(epochs=10, num_batches_per_epoch=10)\n",
    "    )\n"
   ]
  },
  {
   "cell_type": "code",
   "execution_count": 2,
   "metadata": {},
   "outputs": [
    {
     "name": "stderr",
     "output_type": "stream",
     "text": [
      "INFO:root:Start model training\n",
      "INFO:root:Number of parameters in SimpleFeedForwardTrainingNetwork: 1963\n",
      "INFO:root:Epoch[0] Learning rate is 0.001\n",
      "100%|██████████| 10/10 [00:00<00:00, 58.86it/s, avg_epoch_loss=6.77]\n",
      "INFO:root:Epoch[0] Elapsed time 0.176 seconds\n",
      "INFO:root:Epoch[0] Evaluation metric 'epoch_loss'=6.765577\n",
      "INFO:root:Epoch[1] Learning rate is 0.001\n",
      "100%|██████████| 10/10 [00:00<00:00, 65.83it/s, avg_epoch_loss=6.43]\n",
      "INFO:root:Epoch[1] Elapsed time 0.159 seconds\n",
      "INFO:root:Epoch[1] Evaluation metric 'epoch_loss'=6.429865\n",
      "INFO:root:Epoch[2] Learning rate is 0.001\n",
      "100%|██████████| 10/10 [00:00<00:00, 66.71it/s, avg_epoch_loss=5.01]\n",
      "INFO:root:Epoch[2] Elapsed time 0.157 seconds\n",
      "INFO:root:Epoch[2] Evaluation metric 'epoch_loss'=5.011007\n",
      "INFO:root:Epoch[3] Learning rate is 0.001\n",
      "100%|██████████| 10/10 [00:00<00:00, 57.84it/s, avg_epoch_loss=4.29]\n",
      "INFO:root:Epoch[3] Elapsed time 0.191 seconds\n",
      "INFO:root:Epoch[3] Evaluation metric 'epoch_loss'=4.291459\n",
      "INFO:root:Epoch[4] Learning rate is 0.001\n",
      "100%|██████████| 10/10 [00:00<00:00, 69.49it/s, avg_epoch_loss=5.01]\n",
      "INFO:root:Epoch[4] Elapsed time 0.149 seconds\n",
      "INFO:root:Epoch[4] Evaluation metric 'epoch_loss'=5.010728\n",
      "INFO:root:Epoch[5] Learning rate is 0.001\n",
      "100%|██████████| 10/10 [00:00<00:00, 64.56it/s, avg_epoch_loss=5.85]\n",
      "INFO:root:Epoch[5] Elapsed time 0.160 seconds\n",
      "INFO:root:Epoch[5] Evaluation metric 'epoch_loss'=5.846997\n",
      "INFO:root:Epoch[6] Learning rate is 0.001\n",
      "100%|██████████| 10/10 [00:00<00:00, 62.15it/s, avg_epoch_loss=4.27]\n",
      "INFO:root:Epoch[6] Elapsed time 0.165 seconds\n",
      "INFO:root:Epoch[6] Evaluation metric 'epoch_loss'=4.272758\n",
      "INFO:root:Epoch[7] Learning rate is 0.001\n",
      "100%|██████████| 10/10 [00:00<00:00, 71.99it/s, avg_epoch_loss=3.41]\n",
      "INFO:root:Epoch[7] Elapsed time 0.145 seconds\n",
      "INFO:root:Epoch[7] Evaluation metric 'epoch_loss'=3.409588\n",
      "INFO:root:Epoch[8] Learning rate is 0.001\n",
      "100%|██████████| 10/10 [00:00<00:00, 73.57it/s, avg_epoch_loss=4.65]\n",
      "INFO:root:Epoch[8] Elapsed time 0.142 seconds\n",
      "INFO:root:Epoch[8] Evaluation metric 'epoch_loss'=4.652983\n",
      "INFO:root:Epoch[9] Learning rate is 0.001\n",
      "100%|██████████| 10/10 [00:00<00:00, 69.49it/s, avg_epoch_loss=5.4]\n",
      "INFO:root:Epoch[9] Elapsed time 0.148 seconds\n",
      "INFO:root:Epoch[9] Evaluation metric 'epoch_loss'=5.399398\n",
      "INFO:root:Loading parameters from best epoch (7)\n",
      "INFO:root:Final loss: 3.4095876932144167 (occurred at epoch 7)\n",
      "INFO:root:End model training\n"
     ]
    },
    {
     "name": "stdout",
     "output_type": "stream",
     "text": [
      "Wall time: 1.79 s\n"
     ]
    }
   ],
   "source": [
    "%%time\n",
    "\n",
    "# train estimator\n",
    "predictor=estimator.train(dataset.train)"
   ]
  },
  {
   "cell_type": "code",
   "execution_count": 3,
   "metadata": {},
   "outputs": [
    {
     "name": "stdout",
     "output_type": "stream",
     "text": [
      "Wall time: 998 µs\n"
     ]
    }
   ],
   "source": [
    "%%time\n",
    "\n",
    "# make predictions with model\n",
    "forecast_it, ts_it = make_evaluation_predictions(\n",
    "    dataset.test, predictor=predictor, num_eval_samples=100\n",
    ")\n"
   ]
  },
  {
   "cell_type": "code",
   "execution_count": 4,
   "metadata": {},
   "outputs": [
    {
     "name": "stderr",
     "output_type": "stream",
     "text": [
      "Running evaluation: 100%|██████████| 414/414 [00:03<00:00, 106.99it/s]\n"
     ]
    },
    {
     "name": "stdout",
     "output_type": "stream",
     "text": [
      "Wall time: 3.9 s\n"
     ]
    }
   ],
   "source": [
    "%%time\n",
    "\n",
    "# evalate forecasts\n",
    "evaluator = Evaluator(quantiles=[0.5])\n",
    "agg_metrics, item_metrics = evaluator(\n",
    "    iter(ts_it),\n",
    "    iter(forecast_it),\n",
    "    num_series=len(dataset.test)\n",
    ")"
   ]
  },
  {
   "cell_type": "code",
   "execution_count": 5,
   "metadata": {},
   "outputs": [
    {
     "name": "stdout",
     "output_type": "stream",
     "text": [
      "{\n",
      "    \"MSE\": 6154841.6253044605,\n",
      "    \"abs_error\": 8651116.674880981,\n",
      "    \"abs_target_sum\": 145558863.59960938,\n",
      "    \"abs_target_mean\": 7324.822041043147,\n",
      "    \"seasonal_error\": 336.9046924038302,\n",
      "    \"MASE\": 2.941287154279122,\n",
      "    \"sMAPE\": 0.19852873327463827,\n",
      "    \"MSIS\": 117.65148549229245,\n",
      "    \"QuantileLoss[0.5]\": 8651116.619938374,\n",
      "    \"Coverage[0.5]\": 0.43523550724637655,\n",
      "    \"RMSE\": 2480.895327357537,\n",
      "    \"NRMSE\": 0.3386970104469905,\n",
      "    \"ND\": 0.05943380197497088,\n",
      "    \"wQuantileLoss[0.5]\": 0.05943380159751117,\n",
      "    \"mean_wQuantileLoss\": 0.05943380159751117,\n",
      "    \"MAE_Coverage\": 0.06476449275362345\n",
      "}\n"
     ]
    }
   ],
   "source": [
    "# show forecast metrics \n",
    "import json\n",
    "print(json.dumps(agg_metrics, indent=4))"
   ]
  },
  {
   "cell_type": "code",
   "execution_count": 6,
   "metadata": {},
   "outputs": [
    {
     "data": {
      "text/html": [
       "<div>\n",
       "<style scoped>\n",
       "    .dataframe tbody tr th:only-of-type {\n",
       "        vertical-align: middle;\n",
       "    }\n",
       "\n",
       "    .dataframe tbody tr th {\n",
       "        vertical-align: top;\n",
       "    }\n",
       "\n",
       "    .dataframe thead th {\n",
       "        text-align: right;\n",
       "    }\n",
       "</style>\n",
       "<table border=\"1\" class=\"dataframe\">\n",
       "  <thead>\n",
       "    <tr style=\"text-align: right;\">\n",
       "      <th></th>\n",
       "      <th>item_id</th>\n",
       "      <th>MSE</th>\n",
       "      <th>abs_error</th>\n",
       "      <th>abs_target_sum</th>\n",
       "      <th>abs_target_mean</th>\n",
       "      <th>seasonal_error</th>\n",
       "      <th>MASE</th>\n",
       "      <th>sMAPE</th>\n",
       "      <th>MSIS</th>\n",
       "      <th>QuantileLoss[0.5]</th>\n",
       "      <th>Coverage[0.5]</th>\n",
       "    </tr>\n",
       "  </thead>\n",
       "  <tbody>\n",
       "    <tr>\n",
       "      <td>0</td>\n",
       "      <td>NaN</td>\n",
       "      <td>1530.751953</td>\n",
       "      <td>1509.054565</td>\n",
       "      <td>31644.0</td>\n",
       "      <td>659.250000</td>\n",
       "      <td>42.371302</td>\n",
       "      <td>0.741979</td>\n",
       "      <td>0.046207</td>\n",
       "      <td>29.679178</td>\n",
       "      <td>1509.054565</td>\n",
       "      <td>0.708333</td>\n",
       "    </tr>\n",
       "    <tr>\n",
       "      <td>1</td>\n",
       "      <td>NaN</td>\n",
       "      <td>119231.614583</td>\n",
       "      <td>15254.000000</td>\n",
       "      <td>124149.0</td>\n",
       "      <td>2586.437500</td>\n",
       "      <td>165.107988</td>\n",
       "      <td>1.924750</td>\n",
       "      <td>0.119965</td>\n",
       "      <td>76.990016</td>\n",
       "      <td>15253.999146</td>\n",
       "      <td>1.000000</td>\n",
       "    </tr>\n",
       "    <tr>\n",
       "      <td>2</td>\n",
       "      <td>NaN</td>\n",
       "      <td>29918.789062</td>\n",
       "      <td>6537.868164</td>\n",
       "      <td>65030.0</td>\n",
       "      <td>1354.791667</td>\n",
       "      <td>78.889053</td>\n",
       "      <td>1.726546</td>\n",
       "      <td>0.094940</td>\n",
       "      <td>69.061846</td>\n",
       "      <td>6537.868225</td>\n",
       "      <td>0.208333</td>\n",
       "    </tr>\n",
       "    <tr>\n",
       "      <td>3</td>\n",
       "      <td>NaN</td>\n",
       "      <td>183152.750000</td>\n",
       "      <td>16456.787109</td>\n",
       "      <td>235783.0</td>\n",
       "      <td>4912.145833</td>\n",
       "      <td>258.982249</td>\n",
       "      <td>1.323835</td>\n",
       "      <td>0.068058</td>\n",
       "      <td>52.953396</td>\n",
       "      <td>16456.787109</td>\n",
       "      <td>0.458333</td>\n",
       "    </tr>\n",
       "    <tr>\n",
       "      <td>4</td>\n",
       "      <td>NaN</td>\n",
       "      <td>88222.541667</td>\n",
       "      <td>10659.682617</td>\n",
       "      <td>131088.0</td>\n",
       "      <td>2731.000000</td>\n",
       "      <td>200.494083</td>\n",
       "      <td>1.107647</td>\n",
       "      <td>0.076674</td>\n",
       "      <td>44.305888</td>\n",
       "      <td>10659.682251</td>\n",
       "      <td>0.645833</td>\n",
       "    </tr>\n",
       "  </tbody>\n",
       "</table>\n",
       "</div>"
      ],
      "text/plain": [
       "   item_id            MSE     abs_error  abs_target_sum  abs_target_mean  \\\n",
       "0      NaN    1530.751953   1509.054565         31644.0       659.250000   \n",
       "1      NaN  119231.614583  15254.000000        124149.0      2586.437500   \n",
       "2      NaN   29918.789062   6537.868164         65030.0      1354.791667   \n",
       "3      NaN  183152.750000  16456.787109        235783.0      4912.145833   \n",
       "4      NaN   88222.541667  10659.682617        131088.0      2731.000000   \n",
       "\n",
       "   seasonal_error      MASE     sMAPE       MSIS  QuantileLoss[0.5]  \\\n",
       "0       42.371302  0.741979  0.046207  29.679178        1509.054565   \n",
       "1      165.107988  1.924750  0.119965  76.990016       15253.999146   \n",
       "2       78.889053  1.726546  0.094940  69.061846        6537.868225   \n",
       "3      258.982249  1.323835  0.068058  52.953396       16456.787109   \n",
       "4      200.494083  1.107647  0.076674  44.305888       10659.682251   \n",
       "\n",
       "   Coverage[0.5]  \n",
       "0       0.708333  \n",
       "1       1.000000  \n",
       "2       0.208333  \n",
       "3       0.458333  \n",
       "4       0.645833  "
      ]
     },
     "execution_count": 6,
     "metadata": {},
     "output_type": "execute_result"
    }
   ],
   "source": [
    "# time-series individual metrics\n",
    "item_metrics.head()"
   ]
  }
 ],
 "metadata": {
  "kernelspec": {
   "display_name": "Python 3",
   "language": "python",
   "name": "python3"
  },
  "language_info": {
   "codemirror_mode": {
    "name": "ipython",
    "version": 3
   },
   "file_extension": ".py",
   "mimetype": "text/x-python",
   "name": "python",
   "nbconvert_exporter": "python",
   "pygments_lexer": "ipython3",
   "version": "3.6.9"
  }
 },
 "nbformat": 4,
 "nbformat_minor": 2
}
