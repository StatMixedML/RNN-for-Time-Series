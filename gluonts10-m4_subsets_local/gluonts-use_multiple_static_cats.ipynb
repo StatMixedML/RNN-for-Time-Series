{
 "cells": [
  {
   "cell_type": "code",
   "execution_count": 2,
   "metadata": {},
   "outputs": [
    {
     "name": "stdout",
     "output_type": "stream",
     "text": [
      "0.4.1\n",
      "1.4.1\n"
     ]
    }
   ],
   "source": [
    "import gluonts\n",
    "import mxnet\n",
    "\n",
    "print(gluonts.__version__)\n",
    "print(mxnet.__version__)"
   ]
  },
  {
   "cell_type": "code",
   "execution_count": 3,
   "metadata": {},
   "outputs": [],
   "source": [
    "# standard imports\n",
    "import numpy as np\n",
    "import pandas as pd\n",
    "\n",
    "# Vis\n",
    "%matplotlib inline\n",
    "import matplotlib.pyplot as plt\n",
    "from pprint import pprint\n",
    "\n",
    "# mxnet\n",
    "import mxnet as mx\n",
    "\n",
    "# gluonts\n",
    "from gluonts.dataset.util import to_pandas\n",
    "\n",
    "# imports from utility function\n",
    "import utils_gluonts10 as utils\n",
    "from utils_gluonts10 import get_dataset, dataset_recipes"
   ]
  },
  {
   "cell_type": "code",
   "execution_count": 4,
   "metadata": {},
   "outputs": [
    {
     "name": "stdout",
     "output_type": "stream",
     "text": [
      "Available datasets: ['m4_daily', 'm4_daily_domain', 'm4_hourly', 'm4_monthly', 'm4_monthly_atm', 'm4_monthly_dates', 'm4_monthly_demographic', 'm4_monthly_domain', 'm4_monthly_finance', 'm4_monthly_industry', 'm4_monthly_macro', 'm4_monthly_micro', 'm4_monthly_other', 'm4_quarterly', 'm4_quarterly_atm', 'm4_quarterly_dates', 'm4_quarterly_demographic', 'm4_quarterly_domain', 'm4_quarterly_finance', 'm4_quarterly_industry', 'm4_quarterly_macro', 'm4_quarterly_micro', 'm4_quarterly_other', 'm4_weekly', 'm4_weekly_domain', 'm4_weekly_id', 'my_weekly_tm', 'm4_yearly', 'm4_yearly_demographic', 'm4_yearly_domain', 'm4_yearly_finance', 'm4_yearly_industry', 'm4_yearly_macro', 'm4_yearly_micro', 'm4_yearly_other']\n"
     ]
    }
   ],
   "source": [
    "print(f\"Available datasets: {list(dataset_recipes.keys())}\")"
   ]
  },
  {
   "cell_type": "code",
   "execution_count": 12,
   "metadata": {},
   "outputs": [
    {
     "name": "stderr",
     "output_type": "stream",
     "text": [
      "INFO:root:using dataset already processed in path C:\\Users\\TM\\.mxnet\\gluon-ts\\datasets\\m4_monthly.\n"
     ]
    }
   ],
   "source": [
    "dataname = \"m4_monthly\"\n",
    "dataset = utils.get_dataset(dataname, regenerate=False)"
   ]
  },
  {
   "cell_type": "code",
   "execution_count": 6,
   "metadata": {},
   "outputs": [
    {
     "name": "stderr",
     "output_type": "stream",
     "text": [
      "INFO:root:using dataset already processed in path C:\\Users\\TM\\.mxnet\\gluon-ts\\datasets\\m4_weekly_domain.\n"
     ]
    }
   ],
   "source": [
    "dataname = \"m4_weekly_domain\"\n",
    "dataset = utils.get_dataset(dataname, regenerate=False)"
   ]
  },
  {
   "cell_type": "code",
   "execution_count": 13,
   "metadata": {},
   "outputs": [
    {
     "name": "stdout",
     "output_type": "stream",
     "text": [
      "dict_keys(['start', 'target', 'feat_static_cat', 'source'])\n",
      "dict_keys(['start', 'target', 'feat_static_cat', 'source'])\n"
     ]
    }
   ],
   "source": [
    "# get the first time series in the training set\n",
    "train_entry = next(iter(dataset.train))\n",
    "test_entry = next(iter(dataset.test))\n",
    "\n",
    "# check keys\n",
    "print(train_entry.keys())\n",
    "print(test_entry.keys())"
   ]
  },
  {
   "cell_type": "code",
   "execution_count": 14,
   "metadata": {},
   "outputs": [
    {
     "data": {
      "text/plain": [
       "{'start': Timestamp('1750-01-31 00:00:00', freq='M'),\n",
       " 'target': array([ 8000.,  8350.,  8570.,  7700.,  7080.,  6520.,  6070.,  6650.,\n",
       "         6830.,  5710.,  5260.,  5470.,  7870.,  7360.,  8470.,  7880.,\n",
       "         6750.,  6860.,  6220.,  6650.,  5450.,  5280.,  4970.,  5550.,\n",
       "         7750.,  7760.,  7190.,  7440.,  6590.,  6210.,  6010.,  6390.,\n",
       "         5780.,  5700.,  4680.,  4970.,  6850.,  6740.,  7490.,  6250.,\n",
       "         6900.,  5870.,  5610.,  6310.,  6110.,  6090.,  5810.,  6060.,\n",
       "         6950.,  7820.,  8270.,  7840.,  7850.,  6710.,  6220.,  7430.,\n",
       "         6560.,  7080.,  6680.,  6900.,  8680.,  8450.,  8670.,  8470.,\n",
       "         7910.,  8140.,  7310.,  7860.,  7730.,  7330.,  7430.,  7150.,\n",
       "         8720.,  8340.,  8840.,  8780.,  8250.,  8180.,  7570.,  9280.,\n",
       "         9220.,  9140.,  8950.,  8540.,  9360.,  9750.,  9270.,  8690.,\n",
       "         8200.,  7610.,  7160.,  8280.,  7370.,  7130.,  6840.,  7260.,\n",
       "         7430.,  7950.,  7790.,  8090.,  7480.,  6700.,  6650.,  6960.,\n",
       "         6410.,  6310.,  5930.,  5980.,  6730.,  7410.,  7200.,  6960.,\n",
       "         6780.,  5720.,  6040.,  5990.,  6210.,  6460.,  5490.,  5790.,\n",
       "         6350.,  6230.,  5940.,  6400.,  6610.,  5840.,  5350.,  6160.,\n",
       "         6260.,  5760.,  5450.,  5350.,  6230.,  6520.,  7230.,  6500.,\n",
       "         6230.,  5960.,  4970.,  5350.,  4840.,  4710.,  4670.,  4670.,\n",
       "         5190.,  5800.,  6120.,  5140.,  4670.,  4190.,  4430.,  4840.,\n",
       "         4660.,  4350.,  4390.,  4790.,  5510.,  5760.,  5780.,  5470.,\n",
       "         5020.,  4770.,  4330.,  4330.,  4270.,  3820.,  3550.,  4390.,\n",
       "         5760.,  6030.,  6140.,  5830.,  5420.,  5160.,  4620.,  5420.,\n",
       "         5600.,  5920.,  5190.,  5640.,  5700.,  6110.,  7290.,  7260.,\n",
       "         7040.,  6100.,  6110.,  7090.,  7070.,  6150.,  5630.,  6210.,\n",
       "         7250.,  7480.,  7580.,  7610.,  5970.,  7100.,  6100.,  7040.,\n",
       "         7060.,  6270.,  5670.,  5600.,  7190.,  7590.,  7310.,  5950.,\n",
       "         6220.,  5680.,  5450.,  7160.,  6110.,  6940.,  5660.,  5770.,\n",
       "         8050.,  7450.,  8190.,  6590.,  5920.,  4620.,  5320.,  6060.,\n",
       "         5300.,  5020.,  5010.,  4640.,  6980.,  6090.,  7000.,  5370.,\n",
       "         5230.,  5140.,  4570.,  5360.,  5300.,  4640.,  4740.,  5250.,\n",
       "         6350.,  6860.,  6360.,  5660.,  5270.,  4910.,  5160.,  5620.,\n",
       "         5180.,  4680.,  3860.,  3890.,  6340.,  6210.,  6100.,  4980.,\n",
       "         4260.,  3910.,  3550.,  4680.,  4120.,  4740.,  3100.,  3810.,\n",
       "         4710.,  5700.,  5040.,  4490.,  3930.,  3500.,  3320.,  4400.,\n",
       "         4190.,  3670.,  3780.,  4330.,  5430.,  5610.,  5020.,  4090.,\n",
       "         3680.,  3290.,  3360.,  4300.,  4090.,  3110.,  2690.,  3700.,\n",
       "         6030.,  5450.,  5830.,  4080.,  3910.,  3840.,  3650.,  4630.,\n",
       "         2980.,  3550.,  3690.,  3610.,  5250.,  5480.,  5400.,  4380.,\n",
       "         4290.,  4200.,  4190.,  4860.,  5080.,  4770.,  4470.,  4840.,\n",
       "         5610.,  6450.,  5960.,  5300.,  4990.,  4680.,  4460.,  5710.,\n",
       "         4830.,  5260.,  4400.,  4780.,  7040.,  7490.,  7450.,  5560.,\n",
       "         5000.,  5420.,  5160.,  5110.,  4900.,  5300.,  4330.,  4680.,\n",
       "         5800.,  7410.,  6760.,  5680.,  5610.,  5140.,  4990.,  5550.,\n",
       "         4720.,  4680.,  4780.,  4530.,  6810.,  6830.,  6640.,  5680.,\n",
       "         5020.,  4940.,  3930.,  4570.,  4720.,  4610.,  4140.,  4290.,\n",
       "         5780.,  6590.,  5950.,  3960.,  4240.,  4000.,  3950.,  4760.,\n",
       "         4050.,  4190.,  4080.,  4280.,  5720.,  7040.,  6950.,  5250.,\n",
       "         4920.,  4820.,  4510.,  4710.,  3720.,  4250.,  3730.,  4610.,\n",
       "         6540.,  7700.,  7210.,  5730.,  5520.,  5270.,  5110.,  6520.,\n",
       "         5630.,  5980.,  5750.,  7020.,  9910., 11290., 11180.,  9280.,\n",
       "         7850.,  7480.,  7970.,  9480.,  8800.,  8810.,  7690.,  7710.,\n",
       "         9660., 11870., 12920., 10890.,  9500.,  9490.,  9500., 10880.,\n",
       "         9270.,  8880.,  7780.,  8360., 12320., 13490., 12710., 10130.,\n",
       "         9240.,  9640.,  8920.,  8900.,  8480.,  7870.,  7860.,  8990.,\n",
       "        10790., 11820., 10590.,  9430.,  9070.,  8250.,  8740.,  9120.,\n",
       "         8280.,  7860.,  7150.,  8110., 10860., 10730.,  9610.,  8270.,\n",
       "         9200.,  6660.,  6270.,  7250.,  6830.,  6810.,  5810.,  6220.,\n",
       "         7450.,  9370.,  7980.,  6050.,  5640.,  6220.,  5740.,  6040.,\n",
       "         5130.,  5090.,  5210.,  4910.,  6890.], dtype=float32),\n",
       " 'feat_static_cat': array([0]),\n",
       " 'source': SourceContext(source=Span(path=WindowsPath('C:/Users/TM/.mxnet/gluon-ts/datasets/m4_monthly/train/data.json'), line=1), row=1)}"
      ]
     },
     "execution_count": 14,
     "metadata": {},
     "output_type": "execute_result"
    }
   ],
   "source": [
    "train_entry"
   ]
  },
  {
   "cell_type": "code",
   "execution_count": 15,
   "metadata": {},
   "outputs": [
    {
     "data": {
      "text/plain": [
       "[<CategoricalFeatureInfo name='feat_static_cat' cardinality='48000'>]"
      ]
     },
     "execution_count": 15,
     "metadata": {},
     "output_type": "execute_result"
    }
   ],
   "source": [
    "dataset.metadata.feat_static_cat"
   ]
  },
  {
   "cell_type": "code",
   "execution_count": 16,
   "metadata": {},
   "outputs": [
    {
     "data": {
      "text/plain": [
       "['48000']"
      ]
     },
     "execution_count": 16,
     "metadata": {},
     "output_type": "execute_result"
    }
   ],
   "source": [
    "[feat_static_cat.cardinality for feat_static_cat in dataset.metadata.feat_static_cat]"
   ]
  },
  {
   "cell_type": "markdown",
   "metadata": {},
   "source": [
    "### Plot Series"
   ]
  },
  {
   "cell_type": "code",
   "execution_count": 17,
   "metadata": {},
   "outputs": [
    {
     "ename": "SyntaxError",
     "evalue": "invalid syntax (<ipython-input-17-8a6d39593d1f>, line 13)",
     "output_type": "error",
     "traceback": [
      "\u001b[1;36m  File \u001b[1;32m\"<ipython-input-17-8a6d39593d1f>\"\u001b[1;36m, line \u001b[1;32m13\u001b[0m\n\u001b[1;33m    ax[1].legend([\"test series\",c=\"upper left\")\u001b[0m\n\u001b[1;37m                                 ^\u001b[0m\n\u001b[1;31mSyntaxError\u001b[0m\u001b[1;31m:\u001b[0m invalid syntax\n"
     ]
    }
   ],
   "source": [
    "test_series = to_pandas(test_entry)\n",
    "train_series = to_pandas(train_entry)\n",
    "\n",
    "fig, ax = plt.subplots(2, 1, sharex=True, sharey=True, figsize=(10, 7))\n",
    "\n",
    "train_series.plot(ax=ax[0])\n",
    "ax[0].grid(which=\"both\")\n",
    "ax[0].legend([\"train series\"], loc=\"upper left\")\n",
    "\n",
    "test_series.plot(ax=ax[1])\n",
    "ax[1].axvline(train_series.index[-1], color='r') # end of train dataset\n",
    "ax[1].grid(which=\"both\")\n",
    "ax[1].legend([\"test series\",c=\"upper left\")\n",
    " \"end of train series\"], lo\n",
    "plt.show()"
   ]
  },
  {
   "cell_type": "markdown",
   "metadata": {},
   "source": [
    "## DeepAR - with 2 static features"
   ]
  },
  {
   "cell_type": "code",
   "execution_count": 7,
   "metadata": {},
   "outputs": [],
   "source": [
    "# gluonts\n",
    "from gluonts.trainer import Trainer\n",
    "from gluonts.evaluation.backtest import make_evaluation_predictions\n",
    "from gluonts.evaluation import Evaluator\n",
    "\n",
    "# DeepAREstimator\n",
    "from gluonts.model.deepar import DeepAREstimator"
   ]
  },
  {
   "cell_type": "code",
   "execution_count": 8,
   "metadata": {},
   "outputs": [],
   "source": [
    "######################\n",
    "### deepar wrapper ###\n",
    "def deepar(data=\"m4_quarterly\", seed=42, epochs=100, batches=50):\n",
    "\n",
    "    dataset = get_dataset(data, regenerate=False)\n",
    "    mx.random.seed(seed)\n",
    "    np.random.seed(seed)\n",
    "\n",
    "    trainer = Trainer(\n",
    "        ctx=mx.cpu(0),\n",
    "        epochs=epochs,\n",
    "        num_batches_per_epoch=batches,\n",
    "        learning_rate=1e-3,\n",
    "    )\n",
    "    \n",
    "    estimator = DeepAREstimator(\n",
    "        trainer=trainer,\n",
    "        cardinality= [\n",
    "            feat_static_cat.cardinality \n",
    "            for feat_static_cat in dataset.metadata.feat_static_cat\n",
    "        ],\n",
    "        context_length=dataset.metadata.prediction_length,\n",
    "        prediction_length=dataset.metadata.prediction_length,\n",
    "        freq=dataset.metadata.freq,\n",
    "        use_feat_static_cat=True\n",
    "    )\n",
    "\n",
    "    # predictor = estimator.train(training_data=dataset.train,\n",
    "    #                             validation_data=dataset.test)\n",
    "    predictor = estimator.train(training_data=dataset.train)\n",
    "\n",
    "    forecast_it, ts_it = make_evaluation_predictions(\n",
    "        dataset.test, predictor=predictor, num_samples=100\n",
    "    )\n",
    "\n",
    "    agg_metrics, item_metrics = Evaluator()(\n",
    "        ts_it, forecast_it, num_series=len(dataset.test)\n",
    "    )\n",
    "\n",
    "    metrics = [\"MASE\", \"sMAPE\", \"MSIS\", \"wQuantileLoss[0.5]\", \"wQuantileLoss[0.9]\"]\n",
    "    output = {key: round(value, 8) for key, value in agg_metrics.items() if key in metrics}\n",
    "\n",
    "    output[\"seed\"] = seed\n",
    "    output[\"epochs\"] = epochs\n",
    "    output[\"num_batches\"] = batches\n",
    "\n",
    "    df = pd.DataFrame([output])\n",
    "\n",
    "    return df\n"
   ]
  },
  {
   "cell_type": "code",
   "execution_count": 26,
   "metadata": {},
   "outputs": [
    {
     "name": "stderr",
     "output_type": "stream",
     "text": [
      "INFO:root:downloading and processing m4_weekly\n"
     ]
    },
    {
     "name": "stdout",
     "output_type": "stream",
     "text": [
      "Epochs: 100\n",
      "saving time-series into /home/ec2-user/.mxnet/gluon-ts/datasets/m4_weekly/train/data.json\n"
     ]
    },
    {
     "name": "stderr",
     "output_type": "stream",
     "text": [
      "INFO:root:Start model training\n",
      "INFO:root:Epoch[0] Learning rate is 0.001\n",
      "  0%|          | 0/100 [00:00<?, ?it/s]"
     ]
    },
    {
     "name": "stdout",
     "output_type": "stream",
     "text": [
      "saving time-series into /home/ec2-user/.mxnet/gluon-ts/datasets/m4_weekly/test/data.json\n"
     ]
    },
    {
     "name": "stderr",
     "output_type": "stream",
     "text": [
      "INFO:root:Number of parameters in DeepARTrainingNetwork: 49593\n",
      "100%|██████████| 100/100 [00:03<00:00, 25.30it/s, avg_epoch_loss=7.33]\n",
      "INFO:root:Epoch[0] Elapsed time 3.955 seconds\n",
      "INFO:root:Epoch[0] Evaluation metric 'epoch_loss'=7.333318\n",
      "INFO:root:Epoch[1] Learning rate is 0.001\n",
      "100%|██████████| 100/100 [00:03<00:00, 26.80it/s, avg_epoch_loss=6.83]\n",
      "INFO:root:Epoch[1] Elapsed time 3.733 seconds\n",
      "INFO:root:Epoch[1] Evaluation metric 'epoch_loss'=6.825292\n",
      "INFO:root:Epoch[2] Learning rate is 0.001\n",
      "100%|██████████| 100/100 [00:03<00:00, 26.90it/s, avg_epoch_loss=6.71]\n",
      "INFO:root:Epoch[2] Elapsed time 3.720 seconds\n",
      "INFO:root:Epoch[2] Evaluation metric 'epoch_loss'=6.714796\n",
      "INFO:root:Epoch[3] Learning rate is 0.001\n",
      "100%|██████████| 100/100 [00:03<00:00, 27.30it/s, avg_epoch_loss=6.53]\n",
      "INFO:root:Epoch[3] Elapsed time 3.665 seconds\n",
      "INFO:root:Epoch[3] Evaluation metric 'epoch_loss'=6.526230\n",
      "INFO:root:Epoch[4] Learning rate is 0.001\n",
      "100%|██████████| 100/100 [00:03<00:00, 26.82it/s, avg_epoch_loss=6.42]\n",
      "INFO:root:Epoch[4] Elapsed time 3.731 seconds\n",
      "INFO:root:Epoch[4] Evaluation metric 'epoch_loss'=6.424295\n",
      "INFO:root:Epoch[5] Learning rate is 0.001\n",
      "100%|██████████| 100/100 [00:03<00:00, 26.94it/s, avg_epoch_loss=6.45]\n",
      "INFO:root:Epoch[5] Elapsed time 3.714 seconds\n",
      "INFO:root:Epoch[5] Evaluation metric 'epoch_loss'=6.451696\n",
      "INFO:root:Epoch[6] Learning rate is 0.001\n",
      "100%|██████████| 100/100 [00:03<00:00, 27.04it/s, avg_epoch_loss=6.26]\n",
      "INFO:root:Epoch[6] Elapsed time 3.700 seconds\n",
      "INFO:root:Epoch[6] Evaluation metric 'epoch_loss'=6.257973\n",
      "INFO:root:Epoch[7] Learning rate is 0.001\n",
      "100%|██████████| 100/100 [00:03<00:00, 27.37it/s, avg_epoch_loss=6.37]\n",
      "INFO:root:Epoch[7] Elapsed time 3.656 seconds\n",
      "INFO:root:Epoch[7] Evaluation metric 'epoch_loss'=6.374483\n",
      "INFO:root:Epoch[8] Learning rate is 0.001\n",
      "100%|██████████| 100/100 [00:03<00:00, 26.93it/s, avg_epoch_loss=6.19]\n",
      "INFO:root:Epoch[8] Elapsed time 3.715 seconds\n",
      "INFO:root:Epoch[8] Evaluation metric 'epoch_loss'=6.186481\n",
      "INFO:root:Epoch[9] Learning rate is 0.001\n",
      "100%|██████████| 100/100 [00:03<00:00, 27.09it/s, avg_epoch_loss=6.2]\n",
      "INFO:root:Epoch[9] Elapsed time 3.693 seconds\n",
      "INFO:root:Epoch[9] Evaluation metric 'epoch_loss'=6.195319\n",
      "INFO:root:Epoch[10] Learning rate is 0.001\n",
      "100%|██████████| 100/100 [00:03<00:00, 26.16it/s, avg_epoch_loss=6.16]\n",
      "INFO:root:Epoch[10] Elapsed time 3.826 seconds\n",
      "INFO:root:Epoch[10] Evaluation metric 'epoch_loss'=6.162883\n",
      "INFO:root:Epoch[11] Learning rate is 0.001\n",
      "100%|██████████| 100/100 [00:03<00:00, 27.46it/s, avg_epoch_loss=6.19]\n",
      "INFO:root:Epoch[11] Elapsed time 3.643 seconds\n",
      "INFO:root:Epoch[11] Evaluation metric 'epoch_loss'=6.187264\n",
      "INFO:root:Epoch[12] Learning rate is 0.001\n",
      "100%|██████████| 100/100 [00:03<00:00, 26.34it/s, avg_epoch_loss=6.13]\n",
      "INFO:root:Epoch[12] Elapsed time 3.799 seconds\n",
      "INFO:root:Epoch[12] Evaluation metric 'epoch_loss'=6.126263\n",
      "INFO:root:Epoch[13] Learning rate is 0.001\n",
      "100%|██████████| 100/100 [00:03<00:00, 27.20it/s, avg_epoch_loss=6.09]\n",
      "INFO:root:Epoch[13] Elapsed time 3.679 seconds\n",
      "INFO:root:Epoch[13] Evaluation metric 'epoch_loss'=6.091669\n",
      "INFO:root:Epoch[14] Learning rate is 0.001\n",
      "100%|██████████| 100/100 [00:03<00:00, 27.53it/s, avg_epoch_loss=6.04]\n",
      "INFO:root:Epoch[14] Elapsed time 3.635 seconds\n",
      "INFO:root:Epoch[14] Evaluation metric 'epoch_loss'=6.041431\n",
      "INFO:root:Epoch[15] Learning rate is 0.001\n",
      "100%|██████████| 100/100 [00:03<00:00, 27.37it/s, avg_epoch_loss=6.04]\n",
      "INFO:root:Epoch[15] Elapsed time 3.656 seconds\n",
      "INFO:root:Epoch[15] Evaluation metric 'epoch_loss'=6.035838\n",
      "INFO:root:Epoch[16] Learning rate is 0.001\n",
      "100%|██████████| 100/100 [00:03<00:00, 27.29it/s, avg_epoch_loss=6.05]\n",
      "INFO:root:Epoch[16] Elapsed time 3.666 seconds\n",
      "INFO:root:Epoch[16] Evaluation metric 'epoch_loss'=6.046355\n",
      "INFO:root:Epoch[17] Learning rate is 0.001\n",
      "100%|██████████| 100/100 [00:03<00:00, 26.67it/s, avg_epoch_loss=6.03]\n",
      "INFO:root:Epoch[17] Elapsed time 3.752 seconds\n",
      "INFO:root:Epoch[17] Evaluation metric 'epoch_loss'=6.034489\n",
      "INFO:root:Epoch[18] Learning rate is 0.001\n",
      "100%|██████████| 100/100 [00:03<00:00, 26.83it/s, avg_epoch_loss=6.01]\n",
      "INFO:root:Epoch[18] Elapsed time 3.729 seconds\n",
      "INFO:root:Epoch[18] Evaluation metric 'epoch_loss'=6.007122\n",
      "INFO:root:Epoch[19] Learning rate is 0.001\n",
      "100%|██████████| 100/100 [00:03<00:00, 26.75it/s, avg_epoch_loss=6.02]\n",
      "INFO:root:Epoch[19] Elapsed time 3.740 seconds\n",
      "INFO:root:Epoch[19] Evaluation metric 'epoch_loss'=6.015688\n",
      "INFO:root:Epoch[20] Learning rate is 0.001\n",
      "100%|██████████| 100/100 [00:03<00:00, 27.63it/s, avg_epoch_loss=6.05]\n",
      "INFO:root:Epoch[20] Elapsed time 3.621 seconds\n",
      "INFO:root:Epoch[20] Evaluation metric 'epoch_loss'=6.052169\n",
      "INFO:root:Epoch[21] Learning rate is 0.001\n",
      "100%|██████████| 100/100 [00:03<00:00, 26.64it/s, avg_epoch_loss=5.96]\n",
      "INFO:root:Epoch[21] Elapsed time 3.756 seconds\n",
      "INFO:root:Epoch[21] Evaluation metric 'epoch_loss'=5.957143\n",
      "INFO:root:Epoch[22] Learning rate is 0.001\n",
      "100%|██████████| 100/100 [00:03<00:00, 27.01it/s, avg_epoch_loss=5.96]\n",
      "INFO:root:Epoch[22] Elapsed time 3.704 seconds\n",
      "INFO:root:Epoch[22] Evaluation metric 'epoch_loss'=5.958740\n",
      "INFO:root:Epoch[23] Learning rate is 0.001\n",
      "100%|██████████| 100/100 [00:03<00:00, 27.22it/s, avg_epoch_loss=5.95]\n",
      "INFO:root:Epoch[23] Elapsed time 3.675 seconds\n",
      "INFO:root:Epoch[23] Evaluation metric 'epoch_loss'=5.951538\n",
      "INFO:root:Epoch[24] Learning rate is 0.001\n",
      "100%|██████████| 100/100 [00:03<00:00, 27.86it/s, avg_epoch_loss=5.92]\n",
      "INFO:root:Epoch[24] Elapsed time 3.591 seconds\n",
      "INFO:root:Epoch[24] Evaluation metric 'epoch_loss'=5.923124\n",
      "INFO:root:Epoch[25] Learning rate is 0.001\n",
      "100%|██████████| 100/100 [00:03<00:00, 27.46it/s, avg_epoch_loss=5.97]\n",
      "INFO:root:Epoch[25] Elapsed time 3.644 seconds\n",
      "INFO:root:Epoch[25] Evaluation metric 'epoch_loss'=5.965066\n",
      "INFO:root:Epoch[26] Learning rate is 0.001\n",
      "100%|██████████| 100/100 [00:03<00:00, 27.20it/s, avg_epoch_loss=5.96]\n",
      "INFO:root:Epoch[26] Elapsed time 3.679 seconds\n",
      "INFO:root:Epoch[26] Evaluation metric 'epoch_loss'=5.962367\n",
      "INFO:root:Epoch[27] Learning rate is 0.001\n",
      "100%|██████████| 100/100 [00:03<00:00, 26.70it/s, avg_epoch_loss=5.91]\n",
      "INFO:root:Epoch[27] Elapsed time 3.747 seconds\n",
      "INFO:root:Epoch[27] Evaluation metric 'epoch_loss'=5.911870\n",
      "INFO:root:Epoch[28] Learning rate is 0.001\n",
      "100%|██████████| 100/100 [00:03<00:00, 27.53it/s, avg_epoch_loss=5.91]\n",
      "INFO:root:Epoch[28] Elapsed time 3.634 seconds\n",
      "INFO:root:Epoch[28] Evaluation metric 'epoch_loss'=5.907183\n",
      "INFO:root:Epoch[29] Learning rate is 0.001\n",
      "100%|██████████| 100/100 [00:03<00:00, 27.29it/s, avg_epoch_loss=5.97]\n",
      "INFO:root:Epoch[29] Elapsed time 3.667 seconds\n",
      "INFO:root:Epoch[29] Evaluation metric 'epoch_loss'=5.974045\n",
      "INFO:root:Epoch[30] Learning rate is 0.001\n",
      "100%|██████████| 100/100 [00:03<00:00, 27.10it/s, avg_epoch_loss=5.96]\n",
      "INFO:root:Epoch[30] Elapsed time 3.694 seconds\n",
      "INFO:root:Epoch[30] Evaluation metric 'epoch_loss'=5.955612\n",
      "INFO:root:Epoch[31] Learning rate is 0.001\n",
      "100%|██████████| 100/100 [00:03<00:00, 27.31it/s, avg_epoch_loss=5.89]\n",
      "INFO:root:Epoch[31] Elapsed time 3.669 seconds\n",
      "INFO:root:Epoch[31] Evaluation metric 'epoch_loss'=5.894804\n",
      "INFO:root:Epoch[32] Learning rate is 0.001\n",
      "100%|██████████| 100/100 [00:03<00:00, 27.24it/s, avg_epoch_loss=5.86]\n",
      "INFO:root:Epoch[32] Elapsed time 3.672 seconds\n",
      "INFO:root:Epoch[32] Evaluation metric 'epoch_loss'=5.855158\n",
      "INFO:root:Epoch[33] Learning rate is 0.001\n",
      "100%|██████████| 100/100 [00:03<00:00, 26.94it/s, avg_epoch_loss=5.9]\n",
      "INFO:root:Epoch[33] Elapsed time 3.714 seconds\n",
      "INFO:root:Epoch[33] Evaluation metric 'epoch_loss'=5.899891\n",
      "INFO:root:Epoch[34] Learning rate is 0.001\n",
      "100%|██████████| 100/100 [00:03<00:00, 27.17it/s, avg_epoch_loss=5.86]\n",
      "INFO:root:Epoch[34] Elapsed time 3.683 seconds\n",
      "INFO:root:Epoch[34] Evaluation metric 'epoch_loss'=5.862367\n",
      "INFO:root:Epoch[35] Learning rate is 0.001\n",
      "100%|██████████| 100/100 [00:03<00:00, 27.68it/s, avg_epoch_loss=5.94]\n",
      "INFO:root:Epoch[35] Elapsed time 3.614 seconds\n",
      "INFO:root:Epoch[35] Evaluation metric 'epoch_loss'=5.941474\n",
      "INFO:root:Epoch[36] Learning rate is 0.001\n",
      "100%|██████████| 100/100 [00:03<00:00, 27.68it/s, avg_epoch_loss=5.87]\n",
      "INFO:root:Epoch[36] Elapsed time 3.615 seconds\n",
      "INFO:root:Epoch[36] Evaluation metric 'epoch_loss'=5.867597\n",
      "INFO:root:Epoch[37] Learning rate is 0.001\n"
     ]
    },
    {
     "name": "stderr",
     "output_type": "stream",
     "text": [
      "100%|██████████| 100/100 [00:03<00:00, 27.24it/s, avg_epoch_loss=5.84]\n",
      "INFO:root:Epoch[37] Elapsed time 3.674 seconds\n",
      "INFO:root:Epoch[37] Evaluation metric 'epoch_loss'=5.839576\n",
      "INFO:root:Epoch[38] Learning rate is 0.001\n",
      "100%|██████████| 100/100 [00:03<00:00, 27.23it/s, avg_epoch_loss=5.88]\n",
      "INFO:root:Epoch[38] Elapsed time 3.673 seconds\n",
      "INFO:root:Epoch[38] Evaluation metric 'epoch_loss'=5.882671\n",
      "INFO:root:Epoch[39] Learning rate is 0.001\n",
      "100%|██████████| 100/100 [00:03<00:00, 26.38it/s, avg_epoch_loss=5.85]\n",
      "INFO:root:Epoch[39] Elapsed time 3.792 seconds\n",
      "INFO:root:Epoch[39] Evaluation metric 'epoch_loss'=5.848744\n",
      "INFO:root:Epoch[40] Learning rate is 0.001\n",
      "100%|██████████| 100/100 [00:03<00:00, 27.45it/s, avg_epoch_loss=5.82]\n",
      "INFO:root:Epoch[40] Elapsed time 3.647 seconds\n",
      "INFO:root:Epoch[40] Evaluation metric 'epoch_loss'=5.820178\n",
      "INFO:root:Epoch[41] Learning rate is 0.001\n",
      "100%|██████████| 100/100 [00:03<00:00, 26.68it/s, avg_epoch_loss=5.84]\n",
      "INFO:root:Epoch[41] Elapsed time 3.750 seconds\n",
      "INFO:root:Epoch[41] Evaluation metric 'epoch_loss'=5.839974\n",
      "INFO:root:Epoch[42] Learning rate is 0.001\n",
      "100%|██████████| 100/100 [00:03<00:00, 27.30it/s, avg_epoch_loss=5.84]\n",
      "INFO:root:Epoch[42] Elapsed time 3.665 seconds\n",
      "INFO:root:Epoch[42] Evaluation metric 'epoch_loss'=5.838881\n",
      "INFO:root:Epoch[43] Learning rate is 0.001\n",
      "100%|██████████| 100/100 [00:03<00:00, 27.27it/s, avg_epoch_loss=5.87]\n",
      "INFO:root:Epoch[43] Elapsed time 3.672 seconds\n",
      "INFO:root:Epoch[43] Evaluation metric 'epoch_loss'=5.870110\n",
      "INFO:root:Epoch[44] Learning rate is 0.001\n",
      "100%|██████████| 100/100 [00:04<00:00, 22.45it/s, avg_epoch_loss=5.86]\n",
      "INFO:root:Epoch[44] Elapsed time 4.457 seconds\n",
      "INFO:root:Epoch[44] Evaluation metric 'epoch_loss'=5.862635\n",
      "INFO:root:Epoch[45] Learning rate is 0.001\n",
      "100%|██████████| 100/100 [00:03<00:00, 27.48it/s, avg_epoch_loss=5.78]\n",
      "INFO:root:Epoch[45] Elapsed time 3.644 seconds\n",
      "INFO:root:Epoch[45] Evaluation metric 'epoch_loss'=5.778032\n",
      "INFO:root:Epoch[46] Learning rate is 0.001\n",
      "100%|██████████| 100/100 [00:03<00:00, 27.13it/s, avg_epoch_loss=5.88]\n",
      "INFO:root:Epoch[46] Elapsed time 3.687 seconds\n",
      "INFO:root:Epoch[46] Evaluation metric 'epoch_loss'=5.880450\n",
      "INFO:root:Epoch[47] Learning rate is 0.001\n",
      "100%|██████████| 100/100 [00:03<00:00, 27.23it/s, avg_epoch_loss=5.84]\n",
      "INFO:root:Epoch[47] Elapsed time 3.675 seconds\n",
      "INFO:root:Epoch[47] Evaluation metric 'epoch_loss'=5.840654\n",
      "INFO:root:Epoch[48] Learning rate is 0.001\n",
      "100%|██████████| 100/100 [00:03<00:00, 27.55it/s, avg_epoch_loss=5.86]\n",
      "INFO:root:Epoch[48] Elapsed time 3.632 seconds\n",
      "INFO:root:Epoch[48] Evaluation metric 'epoch_loss'=5.861649\n",
      "INFO:root:Epoch[49] Learning rate is 0.001\n",
      "100%|██████████| 100/100 [00:03<00:00, 27.29it/s, avg_epoch_loss=5.83]\n",
      "INFO:root:Epoch[49] Elapsed time 3.668 seconds\n",
      "INFO:root:Epoch[49] Evaluation metric 'epoch_loss'=5.831367\n",
      "INFO:root:Epoch[50] Learning rate is 0.001\n",
      "100%|██████████| 100/100 [00:03<00:00, 27.45it/s, avg_epoch_loss=5.81]\n",
      "INFO:root:Epoch[50] Elapsed time 3.645 seconds\n",
      "INFO:root:Epoch[50] Evaluation metric 'epoch_loss'=5.812377\n",
      "INFO:root:Epoch[51] Learning rate is 0.001\n",
      "100%|██████████| 100/100 [00:03<00:00, 26.32it/s, avg_epoch_loss=5.81]\n",
      "INFO:root:Epoch[51] Elapsed time 3.802 seconds\n",
      "INFO:root:Epoch[51] Evaluation metric 'epoch_loss'=5.813702\n",
      "INFO:root:Epoch[52] Learning rate is 0.001\n",
      "100%|██████████| 100/100 [00:03<00:00, 27.44it/s, avg_epoch_loss=5.82]\n",
      "INFO:root:Epoch[52] Elapsed time 3.646 seconds\n",
      "INFO:root:Epoch[52] Evaluation metric 'epoch_loss'=5.824074\n",
      "INFO:root:Epoch[53] Learning rate is 0.001\n",
      "100%|██████████| 100/100 [00:03<00:00, 26.30it/s, avg_epoch_loss=5.78]\n",
      "INFO:root:Epoch[53] Elapsed time 3.804 seconds\n",
      "INFO:root:Epoch[53] Evaluation metric 'epoch_loss'=5.778058\n",
      "INFO:root:Epoch[54] Learning rate is 0.001\n",
      "100%|██████████| 100/100 [00:03<00:00, 26.61it/s, avg_epoch_loss=5.81]\n",
      "INFO:root:Epoch[54] Elapsed time 3.760 seconds\n",
      "INFO:root:Epoch[54] Evaluation metric 'epoch_loss'=5.808916\n",
      "INFO:root:Epoch[55] Learning rate is 0.001\n",
      "100%|██████████| 100/100 [00:03<00:00, 27.23it/s, avg_epoch_loss=5.82]\n",
      "INFO:root:Epoch[55] Elapsed time 3.676 seconds\n",
      "INFO:root:Epoch[55] Evaluation metric 'epoch_loss'=5.819514\n",
      "INFO:root:Loading parameters from best epoch (45)\n",
      "INFO:root:Epoch[56] Learning rate is 0.0005\n",
      "100%|██████████| 100/100 [00:03<00:00, 26.64it/s, avg_epoch_loss=5.74]\n",
      "INFO:root:Epoch[56] Elapsed time 3.756 seconds\n",
      "INFO:root:Epoch[56] Evaluation metric 'epoch_loss'=5.736519\n",
      "INFO:root:Epoch[57] Learning rate is 0.0005\n",
      "100%|██████████| 100/100 [00:03<00:00, 27.28it/s, avg_epoch_loss=5.78]\n",
      "INFO:root:Epoch[57] Elapsed time 3.668 seconds\n",
      "INFO:root:Epoch[57] Evaluation metric 'epoch_loss'=5.777873\n",
      "INFO:root:Epoch[58] Learning rate is 0.0005\n",
      "100%|██████████| 100/100 [00:03<00:00, 26.55it/s, avg_epoch_loss=5.75]\n",
      "INFO:root:Epoch[58] Elapsed time 3.769 seconds\n",
      "INFO:root:Epoch[58] Evaluation metric 'epoch_loss'=5.749815\n",
      "INFO:root:Epoch[59] Learning rate is 0.0005\n",
      "100%|██████████| 100/100 [00:03<00:00, 27.81it/s, avg_epoch_loss=5.76]\n",
      "INFO:root:Epoch[59] Elapsed time 3.598 seconds\n",
      "INFO:root:Epoch[59] Evaluation metric 'epoch_loss'=5.759018\n",
      "INFO:root:Epoch[60] Learning rate is 0.0005\n",
      "100%|██████████| 100/100 [00:03<00:00, 27.00it/s, avg_epoch_loss=5.81]\n",
      "INFO:root:Epoch[60] Elapsed time 3.707 seconds\n",
      "INFO:root:Epoch[60] Evaluation metric 'epoch_loss'=5.810299\n",
      "INFO:root:Epoch[61] Learning rate is 0.0005\n",
      "100%|██████████| 100/100 [00:03<00:00, 27.14it/s, avg_epoch_loss=5.76]\n",
      "INFO:root:Epoch[61] Elapsed time 3.686 seconds\n",
      "INFO:root:Epoch[61] Evaluation metric 'epoch_loss'=5.763220\n",
      "INFO:root:Epoch[62] Learning rate is 0.0005\n",
      "100%|██████████| 100/100 [00:03<00:00, 27.49it/s, avg_epoch_loss=5.73]\n",
      "INFO:root:Epoch[62] Elapsed time 3.640 seconds\n",
      "INFO:root:Epoch[62] Evaluation metric 'epoch_loss'=5.734215\n",
      "INFO:root:Epoch[63] Learning rate is 0.0005\n",
      "100%|██████████| 100/100 [00:03<00:00, 26.80it/s, avg_epoch_loss=5.74]\n",
      "INFO:root:Epoch[63] Elapsed time 3.733 seconds\n",
      "INFO:root:Epoch[63] Evaluation metric 'epoch_loss'=5.735936\n",
      "INFO:root:Epoch[64] Learning rate is 0.0005\n",
      "100%|██████████| 100/100 [00:03<00:00, 27.07it/s, avg_epoch_loss=5.74]\n",
      "INFO:root:Epoch[64] Elapsed time 3.697 seconds\n",
      "INFO:root:Epoch[64] Evaluation metric 'epoch_loss'=5.741196\n",
      "INFO:root:Epoch[65] Learning rate is 0.0005\n",
      "100%|██████████| 100/100 [00:03<00:00, 27.09it/s, avg_epoch_loss=5.71]\n",
      "INFO:root:Epoch[65] Elapsed time 3.694 seconds\n",
      "INFO:root:Epoch[65] Evaluation metric 'epoch_loss'=5.714231\n",
      "INFO:root:Epoch[66] Learning rate is 0.0005\n",
      "100%|██████████| 100/100 [00:03<00:00, 26.86it/s, avg_epoch_loss=5.77]\n",
      "INFO:root:Epoch[66] Elapsed time 3.724 seconds\n",
      "INFO:root:Epoch[66] Evaluation metric 'epoch_loss'=5.771409\n",
      "INFO:root:Epoch[67] Learning rate is 0.0005\n",
      "100%|██████████| 100/100 [00:03<00:00, 27.34it/s, avg_epoch_loss=5.76]\n",
      "INFO:root:Epoch[67] Elapsed time 3.661 seconds\n",
      "INFO:root:Epoch[67] Evaluation metric 'epoch_loss'=5.762485\n",
      "INFO:root:Epoch[68] Learning rate is 0.0005\n",
      "100%|██████████| 100/100 [00:03<00:00, 27.18it/s, avg_epoch_loss=5.72]\n",
      "INFO:root:Epoch[68] Elapsed time 3.683 seconds\n",
      "INFO:root:Epoch[68] Evaluation metric 'epoch_loss'=5.716569\n",
      "INFO:root:Epoch[69] Learning rate is 0.0005\n",
      "100%|██████████| 100/100 [00:03<00:00, 27.17it/s, avg_epoch_loss=5.72]\n",
      "INFO:root:Epoch[69] Elapsed time 3.684 seconds\n",
      "INFO:root:Epoch[69] Evaluation metric 'epoch_loss'=5.717975\n",
      "INFO:root:Epoch[70] Learning rate is 0.0005\n",
      "100%|██████████| 100/100 [00:03<00:00, 27.51it/s, avg_epoch_loss=5.69]\n",
      "INFO:root:Epoch[70] Elapsed time 3.639 seconds\n",
      "INFO:root:Epoch[70] Evaluation metric 'epoch_loss'=5.691643\n",
      "INFO:root:Epoch[71] Learning rate is 0.0005\n",
      "100%|██████████| 100/100 [00:03<00:00, 27.57it/s, avg_epoch_loss=5.77]\n",
      "INFO:root:Epoch[71] Elapsed time 3.630 seconds\n",
      "INFO:root:Epoch[71] Evaluation metric 'epoch_loss'=5.767478\n",
      "INFO:root:Epoch[72] Learning rate is 0.0005\n",
      "100%|██████████| 100/100 [00:03<00:00, 27.49it/s, avg_epoch_loss=5.68]\n",
      "INFO:root:Epoch[72] Elapsed time 3.641 seconds\n",
      "INFO:root:Epoch[72] Evaluation metric 'epoch_loss'=5.684739\n",
      "INFO:root:Epoch[73] Learning rate is 0.0005\n",
      "100%|██████████| 100/100 [00:03<00:00, 26.96it/s, avg_epoch_loss=5.74]\n",
      "INFO:root:Epoch[73] Elapsed time 3.711 seconds\n",
      "INFO:root:Epoch[73] Evaluation metric 'epoch_loss'=5.743313\n"
     ]
    },
    {
     "name": "stderr",
     "output_type": "stream",
     "text": [
      "INFO:root:Epoch[74] Learning rate is 0.0005\n",
      "100%|██████████| 100/100 [00:03<00:00, 27.66it/s, avg_epoch_loss=5.71]\n",
      "INFO:root:Epoch[74] Elapsed time 3.617 seconds\n",
      "INFO:root:Epoch[74] Evaluation metric 'epoch_loss'=5.712237\n",
      "INFO:root:Epoch[75] Learning rate is 0.0005\n",
      "100%|██████████| 100/100 [00:03<00:00, 27.43it/s, avg_epoch_loss=5.68]\n",
      "INFO:root:Epoch[75] Elapsed time 3.647 seconds\n",
      "INFO:root:Epoch[75] Evaluation metric 'epoch_loss'=5.683760\n",
      "INFO:root:Epoch[76] Learning rate is 0.0005\n",
      "100%|██████████| 100/100 [00:03<00:00, 27.04it/s, avg_epoch_loss=5.7]\n",
      "INFO:root:Epoch[76] Elapsed time 3.701 seconds\n",
      "INFO:root:Epoch[76] Evaluation metric 'epoch_loss'=5.701236\n",
      "INFO:root:Epoch[77] Learning rate is 0.0005\n",
      "100%|██████████| 100/100 [00:03<00:00, 27.39it/s, avg_epoch_loss=5.7]\n",
      "INFO:root:Epoch[77] Elapsed time 3.655 seconds\n",
      "INFO:root:Epoch[77] Evaluation metric 'epoch_loss'=5.699781\n",
      "INFO:root:Epoch[78] Learning rate is 0.0005\n",
      "100%|██████████| 100/100 [00:03<00:00, 27.11it/s, avg_epoch_loss=5.74]\n",
      "INFO:root:Epoch[78] Elapsed time 3.693 seconds\n",
      "INFO:root:Epoch[78] Evaluation metric 'epoch_loss'=5.736326\n",
      "INFO:root:Epoch[79] Learning rate is 0.0005\n",
      "100%|██████████| 100/100 [00:03<00:00, 27.44it/s, avg_epoch_loss=5.77]\n",
      "INFO:root:Epoch[79] Elapsed time 3.645 seconds\n",
      "INFO:root:Epoch[79] Evaluation metric 'epoch_loss'=5.772881\n",
      "INFO:root:Epoch[80] Learning rate is 0.0005\n",
      "100%|██████████| 100/100 [00:03<00:00, 27.06it/s, avg_epoch_loss=5.69]\n",
      "INFO:root:Epoch[80] Elapsed time 3.699 seconds\n",
      "INFO:root:Epoch[80] Evaluation metric 'epoch_loss'=5.687463\n",
      "INFO:root:Epoch[81] Learning rate is 0.0005\n",
      "100%|██████████| 100/100 [00:03<00:00, 26.28it/s, avg_epoch_loss=5.74]\n",
      "INFO:root:Epoch[81] Elapsed time 3.807 seconds\n",
      "INFO:root:Epoch[81] Evaluation metric 'epoch_loss'=5.735409\n",
      "INFO:root:Epoch[82] Learning rate is 0.0005\n",
      "100%|██████████| 100/100 [00:03<00:00, 26.84it/s, avg_epoch_loss=5.69]\n",
      "INFO:root:Epoch[82] Elapsed time 3.728 seconds\n",
      "INFO:root:Epoch[82] Evaluation metric 'epoch_loss'=5.691208\n",
      "INFO:root:Epoch[83] Learning rate is 0.0005\n",
      "100%|██████████| 100/100 [00:03<00:00, 27.45it/s, avg_epoch_loss=5.7]\n",
      "INFO:root:Epoch[83] Elapsed time 3.645 seconds\n",
      "INFO:root:Epoch[83] Evaluation metric 'epoch_loss'=5.700600\n",
      "INFO:root:Epoch[84] Learning rate is 0.0005\n",
      "100%|██████████| 100/100 [00:03<00:00, 27.54it/s, avg_epoch_loss=5.76]\n",
      "INFO:root:Epoch[84] Elapsed time 3.634 seconds\n",
      "INFO:root:Epoch[84] Evaluation metric 'epoch_loss'=5.763807\n",
      "INFO:root:Epoch[85] Learning rate is 0.0005\n",
      "100%|██████████| 100/100 [00:03<00:00, 27.26it/s, avg_epoch_loss=5.77]\n",
      "INFO:root:Epoch[85] Elapsed time 3.671 seconds\n",
      "INFO:root:Epoch[85] Evaluation metric 'epoch_loss'=5.774336\n",
      "INFO:root:Loading parameters from best epoch (75)\n",
      "INFO:root:Epoch[86] Learning rate is 0.00025\n",
      "100%|██████████| 100/100 [00:03<00:00, 26.96it/s, avg_epoch_loss=5.67]\n",
      "INFO:root:Epoch[86] Elapsed time 3.711 seconds\n",
      "INFO:root:Epoch[86] Evaluation metric 'epoch_loss'=5.672829\n",
      "INFO:root:Epoch[87] Learning rate is 0.00025\n",
      "100%|██████████| 100/100 [00:03<00:00, 27.22it/s, avg_epoch_loss=5.74]\n",
      "INFO:root:Epoch[87] Elapsed time 3.676 seconds\n",
      "INFO:root:Epoch[87] Evaluation metric 'epoch_loss'=5.743607\n",
      "INFO:root:Epoch[88] Learning rate is 0.00025\n",
      "100%|██████████| 100/100 [00:03<00:00, 26.57it/s, avg_epoch_loss=5.71]\n",
      "INFO:root:Epoch[88] Elapsed time 3.765 seconds\n",
      "INFO:root:Epoch[88] Evaluation metric 'epoch_loss'=5.713011\n",
      "INFO:root:Epoch[89] Learning rate is 0.00025\n",
      "100%|██████████| 100/100 [00:03<00:00, 27.52it/s, avg_epoch_loss=5.67]\n",
      "INFO:root:Epoch[89] Elapsed time 3.635 seconds\n",
      "INFO:root:Epoch[89] Evaluation metric 'epoch_loss'=5.668779\n",
      "INFO:root:Epoch[90] Learning rate is 0.00025\n",
      "100%|██████████| 100/100 [00:03<00:00, 26.87it/s, avg_epoch_loss=5.71]\n",
      "INFO:root:Epoch[90] Elapsed time 3.723 seconds\n",
      "INFO:root:Epoch[90] Evaluation metric 'epoch_loss'=5.712216\n",
      "INFO:root:Epoch[91] Learning rate is 0.00025\n",
      "100%|██████████| 100/100 [00:03<00:00, 26.97it/s, avg_epoch_loss=5.73]\n",
      "INFO:root:Epoch[91] Elapsed time 3.710 seconds\n",
      "INFO:root:Epoch[91] Evaluation metric 'epoch_loss'=5.729065\n",
      "INFO:root:Epoch[92] Learning rate is 0.00025\n",
      "100%|██████████| 100/100 [00:03<00:00, 25.82it/s, avg_epoch_loss=5.73]\n",
      "INFO:root:Epoch[92] Elapsed time 3.875 seconds\n",
      "INFO:root:Epoch[92] Evaluation metric 'epoch_loss'=5.731012\n",
      "INFO:root:Epoch[93] Learning rate is 0.00025\n",
      "100%|██████████| 100/100 [00:04<00:00, 24.90it/s, avg_epoch_loss=5.69]\n",
      "INFO:root:Epoch[93] Elapsed time 4.018 seconds\n",
      "INFO:root:Epoch[93] Evaluation metric 'epoch_loss'=5.686194\n",
      "INFO:root:Epoch[94] Learning rate is 0.00025\n",
      "100%|██████████| 100/100 [00:03<00:00, 27.79it/s, avg_epoch_loss=5.68]\n",
      "INFO:root:Epoch[94] Elapsed time 3.600 seconds\n",
      "INFO:root:Epoch[94] Evaluation metric 'epoch_loss'=5.683111\n",
      "INFO:root:Epoch[95] Learning rate is 0.00025\n",
      "100%|██████████| 100/100 [00:03<00:00, 26.99it/s, avg_epoch_loss=5.7]\n",
      "INFO:root:Epoch[95] Elapsed time 3.708 seconds\n",
      "INFO:root:Epoch[95] Evaluation metric 'epoch_loss'=5.699008\n",
      "INFO:root:Epoch[96] Learning rate is 0.00025\n",
      "  0%|          | 0/100 [00:00<?, ?it/s, avg_epoch_loss=5.86]\n"
     ]
    },
    {
     "ename": "KeyboardInterrupt",
     "evalue": "",
     "output_type": "error",
     "traceback": [
      "\u001b[0;31m---------------------------------------------------------------------------\u001b[0m",
      "\u001b[0;31mKeyboardInterrupt\u001b[0m                         Traceback (most recent call last)",
      "\u001b[0;32m<ipython-input-26-04ee4927a9c9>\u001b[0m in \u001b[0;36m<module>\u001b[0;34m()\u001b[0m\n\u001b[1;32m      3\u001b[0m \u001b[0;32mfor\u001b[0m \u001b[0mi\u001b[0m \u001b[0;32min\u001b[0m \u001b[0mrange\u001b[0m\u001b[0;34m(\u001b[0m\u001b[0;36m100\u001b[0m\u001b[0;34m,\u001b[0m \u001b[0;36m501\u001b[0m\u001b[0;34m,\u001b[0m \u001b[0;36m50\u001b[0m\u001b[0;34m)\u001b[0m\u001b[0;34m:\u001b[0m\u001b[0;34m\u001b[0m\u001b[0m\n\u001b[1;32m      4\u001b[0m     \u001b[0mprint\u001b[0m\u001b[0;34m(\u001b[0m\u001b[0;34m\"Epochs:\"\u001b[0m\u001b[0;34m,\u001b[0m \u001b[0mi\u001b[0m\u001b[0;34m)\u001b[0m\u001b[0;34m\u001b[0m\u001b[0m\n\u001b[0;32m----> 5\u001b[0;31m     \u001b[0mdf\u001b[0m \u001b[0;34m=\u001b[0m \u001b[0mdeepar\u001b[0m\u001b[0;34m(\u001b[0m\u001b[0mdata\u001b[0m\u001b[0;34m=\u001b[0m\u001b[0;34m\"m4_weekly\"\u001b[0m\u001b[0;34m,\u001b[0m \u001b[0mseed\u001b[0m\u001b[0;34m=\u001b[0m\u001b[0;36m42\u001b[0m\u001b[0;34m,\u001b[0m \u001b[0mepochs\u001b[0m\u001b[0;34m=\u001b[0m\u001b[0mi\u001b[0m\u001b[0;34m,\u001b[0m \u001b[0mbatches\u001b[0m\u001b[0;34m=\u001b[0m\u001b[0;36m100\u001b[0m\u001b[0;34m)\u001b[0m\u001b[0;34m\u001b[0m\u001b[0m\n\u001b[0m\u001b[1;32m      6\u001b[0m     \u001b[0mpprint\u001b[0m\u001b[0;34m(\u001b[0m\u001b[0mdf\u001b[0m\u001b[0;34m)\u001b[0m\u001b[0;34m\u001b[0m\u001b[0m\n\u001b[1;32m      7\u001b[0m     \u001b[0mresults\u001b[0m \u001b[0;34m=\u001b[0m \u001b[0mresults\u001b[0m\u001b[0;34m.\u001b[0m\u001b[0mappend\u001b[0m\u001b[0;34m(\u001b[0m\u001b[0mdf\u001b[0m\u001b[0;34m)\u001b[0m\u001b[0;34m\u001b[0m\u001b[0m\n",
      "\u001b[0;32m<ipython-input-8-f09460c1fea0>\u001b[0m in \u001b[0;36mdeepar\u001b[0;34m(data, seed, epochs, batches)\u001b[0m\n\u001b[1;32m     28\u001b[0m     \u001b[0;31m# predictor = estimator.train(training_data=dataset.train,\u001b[0m\u001b[0;34m\u001b[0m\u001b[0;34m\u001b[0m\u001b[0m\n\u001b[1;32m     29\u001b[0m     \u001b[0;31m#                             validation_data=dataset.test)\u001b[0m\u001b[0;34m\u001b[0m\u001b[0;34m\u001b[0m\u001b[0m\n\u001b[0;32m---> 30\u001b[0;31m     \u001b[0mpredictor\u001b[0m \u001b[0;34m=\u001b[0m \u001b[0mestimator\u001b[0m\u001b[0;34m.\u001b[0m\u001b[0mtrain\u001b[0m\u001b[0;34m(\u001b[0m\u001b[0mtraining_data\u001b[0m\u001b[0;34m=\u001b[0m\u001b[0mdataset\u001b[0m\u001b[0;34m.\u001b[0m\u001b[0mtrain\u001b[0m\u001b[0;34m)\u001b[0m\u001b[0;34m\u001b[0m\u001b[0m\n\u001b[0m\u001b[1;32m     31\u001b[0m \u001b[0;34m\u001b[0m\u001b[0m\n\u001b[1;32m     32\u001b[0m     forecast_it, ts_it = make_evaluation_predictions(\n",
      "\u001b[0;32m~/anaconda3/envs/python3/lib/python3.6/site-packages/gluonts/model/estimator.py\u001b[0m in \u001b[0;36mtrain\u001b[0;34m(self, training_data, validation_data)\u001b[0m\n\u001b[1;32m    221\u001b[0m         \u001b[0mself\u001b[0m\u001b[0;34m,\u001b[0m \u001b[0mtraining_data\u001b[0m\u001b[0;34m:\u001b[0m \u001b[0mDataset\u001b[0m\u001b[0;34m,\u001b[0m \u001b[0mvalidation_data\u001b[0m\u001b[0;34m:\u001b[0m \u001b[0mOptional\u001b[0m\u001b[0;34m[\u001b[0m\u001b[0mDataset\u001b[0m\u001b[0;34m]\u001b[0m \u001b[0;34m=\u001b[0m \u001b[0;32mNone\u001b[0m\u001b[0;34m\u001b[0m\u001b[0m\n\u001b[1;32m    222\u001b[0m     ) -> Predictor:\n\u001b[0;32m--> 223\u001b[0;31m         \u001b[0;32mreturn\u001b[0m \u001b[0mself\u001b[0m\u001b[0;34m.\u001b[0m\u001b[0mtrain_model\u001b[0m\u001b[0;34m(\u001b[0m\u001b[0mtraining_data\u001b[0m\u001b[0;34m,\u001b[0m \u001b[0mvalidation_data\u001b[0m\u001b[0;34m)\u001b[0m\u001b[0;34m.\u001b[0m\u001b[0mpredictor\u001b[0m\u001b[0;34m\u001b[0m\u001b[0m\n\u001b[0m",
      "\u001b[0;32m~/anaconda3/envs/python3/lib/python3.6/site-packages/gluonts/model/estimator.py\u001b[0m in \u001b[0;36mtrain_model\u001b[0;34m(self, training_data, validation_data)\u001b[0m\n\u001b[1;32m    206\u001b[0m             \u001b[0minput_names\u001b[0m\u001b[0;34m=\u001b[0m\u001b[0mget_hybrid_forward_input_names\u001b[0m\u001b[0;34m(\u001b[0m\u001b[0mtrained_net\u001b[0m\u001b[0;34m)\u001b[0m\u001b[0;34m,\u001b[0m\u001b[0;34m\u001b[0m\u001b[0m\n\u001b[1;32m    207\u001b[0m             \u001b[0mtrain_iter\u001b[0m\u001b[0;34m=\u001b[0m\u001b[0mtraining_data_loader\u001b[0m\u001b[0;34m,\u001b[0m\u001b[0;34m\u001b[0m\u001b[0m\n\u001b[0;32m--> 208\u001b[0;31m             \u001b[0mvalidation_iter\u001b[0m\u001b[0;34m=\u001b[0m\u001b[0mvalidation_data_loader\u001b[0m\u001b[0;34m,\u001b[0m\u001b[0;34m\u001b[0m\u001b[0m\n\u001b[0m\u001b[1;32m    209\u001b[0m         )\n\u001b[1;32m    210\u001b[0m \u001b[0;34m\u001b[0m\u001b[0m\n",
      "\u001b[0;32m~/anaconda3/envs/python3/lib/python3.6/site-packages/gluonts/trainer/_base.py\u001b[0m in \u001b[0;36m__call__\u001b[0;34m(self, net, input_names, train_iter, validation_iter)\u001b[0m\n\u001b[1;32m    295\u001b[0m                     )\n\u001b[1;32m    296\u001b[0m \u001b[0;34m\u001b[0m\u001b[0m\n\u001b[0;32m--> 297\u001b[0;31m                     \u001b[0mepoch_loss\u001b[0m \u001b[0;34m=\u001b[0m \u001b[0mloop\u001b[0m\u001b[0;34m(\u001b[0m\u001b[0mepoch_no\u001b[0m\u001b[0;34m,\u001b[0m \u001b[0mtrain_iter\u001b[0m\u001b[0;34m)\u001b[0m\u001b[0;34m\u001b[0m\u001b[0m\n\u001b[0m\u001b[1;32m    298\u001b[0m                     \u001b[0;32mif\u001b[0m \u001b[0mis_validation_available\u001b[0m\u001b[0;34m:\u001b[0m\u001b[0;34m\u001b[0m\u001b[0m\n\u001b[1;32m    299\u001b[0m                         epoch_loss = loop(\n",
      "\u001b[0;32m~/anaconda3/envs/python3/lib/python3.6/site-packages/gluonts/trainer/_base.py\u001b[0m in \u001b[0;36mloop\u001b[0;34m(epoch_no, batch_iter, is_training)\u001b[0m\n\u001b[1;32m    235\u001b[0m \u001b[0;34m\u001b[0m\u001b[0m\n\u001b[1;32m    236\u001b[0m                             \u001b[0;32mwith\u001b[0m \u001b[0mmx\u001b[0m\u001b[0;34m.\u001b[0m\u001b[0mautograd\u001b[0m\u001b[0;34m.\u001b[0m\u001b[0mrecord\u001b[0m\u001b[0;34m(\u001b[0m\u001b[0;34m)\u001b[0m\u001b[0;34m:\u001b[0m\u001b[0;34m\u001b[0m\u001b[0m\n\u001b[0;32m--> 237\u001b[0;31m                                 \u001b[0moutput\u001b[0m \u001b[0;34m=\u001b[0m \u001b[0mnet\u001b[0m\u001b[0;34m(\u001b[0m\u001b[0;34m*\u001b[0m\u001b[0minputs\u001b[0m\u001b[0;34m)\u001b[0m\u001b[0;34m\u001b[0m\u001b[0m\n\u001b[0m\u001b[1;32m    238\u001b[0m \u001b[0;34m\u001b[0m\u001b[0m\n\u001b[1;32m    239\u001b[0m                                 \u001b[0;31m# network can returns several outputs, the first being always the loss\u001b[0m\u001b[0;34m\u001b[0m\u001b[0;34m\u001b[0m\u001b[0m\n",
      "\u001b[0;32m~/anaconda3/envs/python3/lib/python3.6/site-packages/mxnet/gluon/block.py\u001b[0m in \u001b[0;36m__call__\u001b[0;34m(self, *args)\u001b[0m\n\u001b[1;32m    538\u001b[0m             \u001b[0mhook\u001b[0m\u001b[0;34m(\u001b[0m\u001b[0mself\u001b[0m\u001b[0;34m,\u001b[0m \u001b[0margs\u001b[0m\u001b[0;34m)\u001b[0m\u001b[0;34m\u001b[0m\u001b[0m\n\u001b[1;32m    539\u001b[0m \u001b[0;34m\u001b[0m\u001b[0m\n\u001b[0;32m--> 540\u001b[0;31m         \u001b[0mout\u001b[0m \u001b[0;34m=\u001b[0m \u001b[0mself\u001b[0m\u001b[0;34m.\u001b[0m\u001b[0mforward\u001b[0m\u001b[0;34m(\u001b[0m\u001b[0;34m*\u001b[0m\u001b[0margs\u001b[0m\u001b[0;34m)\u001b[0m\u001b[0;34m\u001b[0m\u001b[0m\n\u001b[0m\u001b[1;32m    541\u001b[0m \u001b[0;34m\u001b[0m\u001b[0m\n\u001b[1;32m    542\u001b[0m         \u001b[0;32mfor\u001b[0m \u001b[0mhook\u001b[0m \u001b[0;32min\u001b[0m \u001b[0mself\u001b[0m\u001b[0;34m.\u001b[0m\u001b[0m_forward_hooks\u001b[0m\u001b[0;34m.\u001b[0m\u001b[0mvalues\u001b[0m\u001b[0;34m(\u001b[0m\u001b[0;34m)\u001b[0m\u001b[0;34m:\u001b[0m\u001b[0;34m\u001b[0m\u001b[0m\n",
      "\u001b[0;32m~/anaconda3/envs/python3/lib/python3.6/site-packages/mxnet/gluon/block.py\u001b[0m in \u001b[0;36mforward\u001b[0;34m(self, x, *args)\u001b[0m\n\u001b[1;32m    905\u001b[0m             \u001b[0;32mwith\u001b[0m \u001b[0mx\u001b[0m\u001b[0;34m.\u001b[0m\u001b[0mcontext\u001b[0m \u001b[0;32mas\u001b[0m \u001b[0mctx\u001b[0m\u001b[0;34m:\u001b[0m\u001b[0;34m\u001b[0m\u001b[0m\n\u001b[1;32m    906\u001b[0m                 \u001b[0;32mif\u001b[0m \u001b[0mself\u001b[0m\u001b[0;34m.\u001b[0m\u001b[0m_active\u001b[0m\u001b[0;34m:\u001b[0m\u001b[0;34m\u001b[0m\u001b[0m\n\u001b[0;32m--> 907\u001b[0;31m                     \u001b[0;32mreturn\u001b[0m \u001b[0mself\u001b[0m\u001b[0;34m.\u001b[0m\u001b[0m_call_cached_op\u001b[0m\u001b[0;34m(\u001b[0m\u001b[0mx\u001b[0m\u001b[0;34m,\u001b[0m \u001b[0;34m*\u001b[0m\u001b[0margs\u001b[0m\u001b[0;34m)\u001b[0m\u001b[0;34m\u001b[0m\u001b[0m\n\u001b[0m\u001b[1;32m    908\u001b[0m \u001b[0;34m\u001b[0m\u001b[0m\n\u001b[1;32m    909\u001b[0m                 \u001b[0;32mtry\u001b[0m\u001b[0;34m:\u001b[0m\u001b[0;34m\u001b[0m\u001b[0m\n",
      "\u001b[0;32m~/anaconda3/envs/python3/lib/python3.6/site-packages/mxnet/gluon/block.py\u001b[0m in \u001b[0;36m_call_cached_op\u001b[0;34m(self, *args)\u001b[0m\n\u001b[1;32m    811\u001b[0m                     \u001b[0mi\u001b[0m\u001b[0;34m.\u001b[0m\u001b[0m_finish_deferred_init\u001b[0m\u001b[0;34m(\u001b[0m\u001b[0;34m)\u001b[0m\u001b[0;34m\u001b[0m\u001b[0m\n\u001b[1;32m    812\u001b[0m                     \u001b[0mcargs\u001b[0m\u001b[0;34m.\u001b[0m\u001b[0mappend\u001b[0m\u001b[0;34m(\u001b[0m\u001b[0mi\u001b[0m\u001b[0;34m.\u001b[0m\u001b[0mdata\u001b[0m\u001b[0;34m(\u001b[0m\u001b[0;34m)\u001b[0m\u001b[0;34m)\u001b[0m\u001b[0;34m\u001b[0m\u001b[0m\n\u001b[0;32m--> 813\u001b[0;31m         \u001b[0mout\u001b[0m \u001b[0;34m=\u001b[0m \u001b[0mself\u001b[0m\u001b[0;34m.\u001b[0m\u001b[0m_cached_op\u001b[0m\u001b[0;34m(\u001b[0m\u001b[0;34m*\u001b[0m\u001b[0mcargs\u001b[0m\u001b[0;34m)\u001b[0m\u001b[0;34m\u001b[0m\u001b[0m\n\u001b[0m\u001b[1;32m    814\u001b[0m         \u001b[0;32mif\u001b[0m \u001b[0misinstance\u001b[0m\u001b[0;34m(\u001b[0m\u001b[0mout\u001b[0m\u001b[0;34m,\u001b[0m \u001b[0mNDArray\u001b[0m\u001b[0;34m)\u001b[0m\u001b[0;34m:\u001b[0m\u001b[0;34m\u001b[0m\u001b[0m\n\u001b[1;32m    815\u001b[0m             \u001b[0mout\u001b[0m \u001b[0;34m=\u001b[0m \u001b[0;34m[\u001b[0m\u001b[0mout\u001b[0m\u001b[0;34m]\u001b[0m\u001b[0;34m\u001b[0m\u001b[0m\n",
      "\u001b[0;32m~/anaconda3/envs/python3/lib/python3.6/site-packages/mxnet/_ctypes/ndarray.py\u001b[0m in \u001b[0;36m__call__\u001b[0;34m(self, *args, **kwargs)\u001b[0m\n\u001b[1;32m    148\u001b[0m             \u001b[0mctypes\u001b[0m\u001b[0;34m.\u001b[0m\u001b[0mbyref\u001b[0m\u001b[0;34m(\u001b[0m\u001b[0mnum_output\u001b[0m\u001b[0;34m)\u001b[0m\u001b[0;34m,\u001b[0m\u001b[0;34m\u001b[0m\u001b[0m\n\u001b[1;32m    149\u001b[0m             \u001b[0mctypes\u001b[0m\u001b[0;34m.\u001b[0m\u001b[0mbyref\u001b[0m\u001b[0;34m(\u001b[0m\u001b[0moutput_vars\u001b[0m\u001b[0;34m)\u001b[0m\u001b[0;34m,\u001b[0m\u001b[0;34m\u001b[0m\u001b[0m\n\u001b[0;32m--> 150\u001b[0;31m             ctypes.byref(out_stypes)))\n\u001b[0m\u001b[1;32m    151\u001b[0m \u001b[0;34m\u001b[0m\u001b[0m\n\u001b[1;32m    152\u001b[0m         \u001b[0;32mif\u001b[0m \u001b[0moriginal_output\u001b[0m \u001b[0;32mis\u001b[0m \u001b[0;32mnot\u001b[0m \u001b[0;32mNone\u001b[0m\u001b[0;34m:\u001b[0m\u001b[0;34m\u001b[0m\u001b[0m\n",
      "\u001b[0;31mKeyboardInterrupt\u001b[0m: "
     ]
    }
   ],
   "source": [
    "results = pd.DataFrame()\n",
    "\n",
    "for i in range(100, 501, 50):\n",
    "    print(\"Epochs:\", i)\n",
    "    df = deepar(data=\"m4_weekly\", seed=42, epochs=i, batches=100)\n",
    "    pprint(df)\n",
    "    results = results.append(df)\n",
    "\n",
    "results"
   ]
  },
  {
   "cell_type": "code",
   "execution_count": null,
   "metadata": {},
   "outputs": [],
   "source": []
  },
  {
   "cell_type": "code",
   "execution_count": null,
   "metadata": {},
   "outputs": [],
   "source": []
  },
  {
   "cell_type": "markdown",
   "metadata": {},
   "source": [
    "### m4_daily vs. m4_daily domain\n",
    "\n",
    "- reload `utils`\n",
    "- test `m4_daily` vs. `m4_daily_domain`\n",
    "- ten trials each, \n",
    " - `epochs=100`, `num_batches_per_epoch=100`"
   ]
  },
  {
   "cell_type": "markdown",
   "metadata": {},
   "source": [
    "..."
   ]
  },
  {
   "cell_type": "markdown",
   "metadata": {},
   "source": [
    "## `m4_monthly_domain` vs. `m4_monthly`"
   ]
  },
  {
   "cell_type": "markdown",
   "metadata": {},
   "source": [
    "..."
   ]
  },
  {
   "cell_type": "markdown",
   "metadata": {},
   "source": [
    "## `m4_quarterly` vs. `m4_quarterly_domain`"
   ]
  },
  {
   "cell_type": "markdown",
   "metadata": {},
   "source": [
    "..."
   ]
  },
  {
   "cell_type": "markdown",
   "metadata": {},
   "source": [
    "## `m4_yearly` vs. `m4_yearly_domain`"
   ]
  },
  {
   "cell_type": "markdown",
   "metadata": {},
   "source": [
    "..."
   ]
  },
  {
   "cell_type": "markdown",
   "metadata": {},
   "source": [
    "## `m4_quarterly` vs `m4_quarterly_domain`"
   ]
  },
  {
   "cell_type": "code",
   "execution_count": null,
   "metadata": {},
   "outputs": [],
   "source": [
    "results = pd.DataFrame()\n",
    "\n",
    "for i in range(42, 52):\n",
    "    print(\"Seed:\", i)\n",
    "    df = deepar(data=\"m4_yearly\", seed=i, epochs=100, batches=100)\n",
    "    pprint(df)\n",
    "    results = results.append(df)\n",
    "\n",
    "results"
   ]
  },
  {
   "cell_type": "markdown",
   "metadata": {},
   "source": [
    "## m4_hourly"
   ]
  },
  {
   "cell_type": "code",
   "execution_count": null,
   "metadata": {},
   "outputs": [],
   "source": [
    "results = pd.DataFrame()\n",
    "\n",
    "for i in range(42, 52):\n",
    "    print(\"Seed:\", i)\n",
    "    df = deepar(data=\"m4_hourly\", seed=i, epochs=100, batches=100)\n",
    "    pprint(df)\n",
    "    results = results.append(df)\n",
    "\n",
    "results"
   ]
  },
  {
   "cell_type": "code",
   "execution_count": null,
   "metadata": {},
   "outputs": [],
   "source": [
    "results = pd.DataFrame()\n",
    "\n",
    "for i in range(42, 52):\n",
    "    print(\"Seed:\", i)\n",
    "    df = deepar(data=\"m4_hourly\", seed=i, epochs=200, batches=100)\n",
    "    pprint(df)\n",
    "    results = results.append(df)\n",
    "\n",
    "results"
   ]
  },
  {
   "cell_type": "code",
   "execution_count": null,
   "metadata": {},
   "outputs": [],
   "source": [
    "!jupyter nbconvert --output-dir=\"../html_outputs\" --to html gluonts-use_multiple_static_feats.ipynb"
   ]
  },
  {
   "cell_type": "code",
   "execution_count": null,
   "metadata": {},
   "outputs": [],
   "source": []
  }
 ],
 "metadata": {
  "kernelspec": {
   "display_name": "Python 3",
   "language": "python",
   "name": "python3"
  },
  "language_info": {
   "codemirror_mode": {
    "name": "ipython",
    "version": 3
   },
   "file_extension": ".py",
   "mimetype": "text/x-python",
   "name": "python",
   "nbconvert_exporter": "python",
   "pygments_lexer": "ipython3",
   "version": "3.6.9"
  }
 },
 "nbformat": 4,
 "nbformat_minor": 2
}
