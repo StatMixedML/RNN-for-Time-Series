{
 "cells": [
  {
   "cell_type": "code",
   "execution_count": 1,
   "metadata": {},
   "outputs": [
    {
     "name": "stderr",
     "output_type": "stream",
     "text": [
      "INFO:root:Using CPU\n"
     ]
    }
   ],
   "source": [
    "# standard imports\n",
    "import numpy as np\n",
    "import pandas as pd\n",
    "\n",
    "# Vis\n",
    "%matplotlib inline\n",
    "import matplotlib.pyplot as plt\n",
    "from pprint import pprint\n",
    "\n",
    "# mxnet\n",
    "import mxnet as mx\n",
    "\n",
    "# gluonts\n",
    "from gluonts.dataset.util import to_pandas\n",
    "\n",
    "# imports from utility function\n",
    "import utils_gluonts10 as utils\n",
    "from utils_gluonts10 import get_dataset, dataset_recipes\n",
    "from utils_gluonts10_deepar import deepar\n"
   ]
  },
  {
   "cell_type": "code",
   "execution_count": 2,
   "metadata": {},
   "outputs": [
    {
     "name": "stderr",
     "output_type": "stream",
     "text": [
      "INFO:root:using dataset already processed in path C:\\Users\\TM\\.mxnet\\gluon-ts\\datasets\\m4_monthly_micro.\n"
     ]
    }
   ],
   "source": [
    "dataname = \"m4_monthly_micro\"\n",
    "dataset = utils.get_dataset(dataname, regenerate=False)"
   ]
  },
  {
   "cell_type": "code",
   "execution_count": 3,
   "metadata": {},
   "outputs": [
    {
     "name": "stdout",
     "output_type": "stream",
     "text": [
      "Available datasets: ['m4_daily', 'm4_hourly', 'm4_monthly', 'm4_monthly_atm', 'm4_monthly_dates', 'm4_monthly_demographic', 'm4_monthly_finance', 'm4_monthly_industry', 'm4_monthly_macro', 'm4_monthly_micro', 'm4_monthly_other', 'm4_quarterly', 'm4_quarterly_atm', 'm4_quarterly_dates', 'm4_quarterly_demographic', 'm4_quarterly_finance', 'm4_quarterly_industry', 'm4_quarterly_macro', 'm4_quarterly_micro', 'm4_quarterly_other', 'm4_weekly', 'my_weekly_tm', 'm4_yearly', 'm4_yearly_industry', 'm4_yearly_macro', 'm4_yearly_micro']\n"
     ]
    }
   ],
   "source": [
    "print(f\"Available datasets: {list(dataset_recipes.keys())}\")"
   ]
  },
  {
   "cell_type": "code",
   "execution_count": 4,
   "metadata": {},
   "outputs": [
    {
     "name": "stdout",
     "output_type": "stream",
     "text": [
      "dict_keys(['start', 'target', 'feat_static_cat', 'source'])\n",
      "dict_keys(['start', 'target', 'feat_static_cat', 'source'])\n"
     ]
    }
   ],
   "source": [
    "# get the first time series in the training set\n",
    "train_entry = next(iter(dataset.train))\n",
    "test_entry = next(iter(dataset.test))\n",
    "\n",
    "# check keys\n",
    "print(train_entry.keys())\n",
    "print(test_entry.keys())"
   ]
  },
  {
   "cell_type": "code",
   "execution_count": 5,
   "metadata": {},
   "outputs": [
    {
     "data": {
      "text/plain": [
       "{'start': Timestamp('1750-01-31 00:00:00', freq='M'),\n",
       " 'target': array([ 3396.89,  3257.99,  3158.49,  3176.81,  3157.27,  3108.64,\n",
       "         3063.8 ,  3098.17,  3106.87,  3096.37,  3193.22,  3230.99,\n",
       "         3329.66,  3278.32,  3228.59,  3196.76,  3178.63,  3210.04,\n",
       "         3236.73,  3281.7 ,  3298.  ,  3292.78,  3283.29,  3283.5 ,\n",
       "         3266.97,  3238.75,  3228.64,  3275.36,  3289.36,  3304.42,\n",
       "         3386.32,  3449.33,  3480.2 ,  3488.49,  3489.8 ,  3514.08,\n",
       "         3509.89,  3507.85,  3535.43,  3557.9 ,  3569.59,  3581.05,\n",
       "         3568.18,  3565.69,  3606.74,  3631.37,  3675.48,  3681.79,\n",
       "         3677.63,  3697.65,  3706.94,  3697.  ,  3702.05,  3703.11,\n",
       "         3677.1 ,  3703.61,  3716.26,  3688.9 ,  3665.12,  3615.87,\n",
       "         3594.32,  3593.57,  3573.24,  3569.07,  3599.18,  3554.01,\n",
       "         3484.06,  3424.86,  3433.06,  3373.05,  3448.19,  3465.57,\n",
       "         3465.6 ,  3485.96,  3497.15,  3530.69,  3557.28,  3557.31,\n",
       "         3504.81,  3521.84,  3527.23,  3572.4 ,  3621.29,  3588.5 ,\n",
       "         3586.  ,  3620.89,  3714.65,  3743.26,  3625.9 ,  3569.22,\n",
       "         3570.21,  3610.26,  3588.11,  3605.36,  3676.53,  3713.58,\n",
       "         3706.37,  3805.  ,  3829.59,  3903.99,  4014.49,  4094.63,\n",
       "         4183.42,  4251.19,  4183.78,  4173.82,  4123.52,  4142.73,\n",
       "         4211.04,  4355.98,  4482.49,  4528.75,  4486.53,  4681.01,\n",
       "         4752.19,  4866.51,  4910.17,  4988.21,  5007.8 ,  4929.39,\n",
       "         4929.86,  5011.62,  5079.47,  5150.31,  5168.1 ,  5272.68,\n",
       "         5325.55,  5425.  ,  5458.8 ,  5436.01,  5513.89,  5596.62,\n",
       "         5665.98,  5648.16,  5627.79,  5701.3 ,  5831.56,  5900.32,\n",
       "         6079.86,  6115.34,  6285.06,  6384.9 ,  6377.35,  6514.75,\n",
       "         6651.87,  6853.37,  6923.67,  6780.08,  6835.59,  6820.42,\n",
       "         6702.58,  6702.63,  6777.18,  6543.88,  6491.68,  6503.81,\n",
       "         6497.83,  6357.47,  6293.31,  6271.22,  6181.18,  6232.51,\n",
       "         6145.61,  6090.89,  6119.42,  6149.34,  6237.02,  6242.67,\n",
       "         6084.62,  6052.91,  6047.73,  5970.43,  5963.25,  6057.82,\n",
       "         6160.28,  6163.8 ,  6093.87,  6103.68,  5947.14,  5864.31,\n",
       "         5910.4 ,  5978.02,  5929.01,  5900.75,  5943.92,  6054.03,\n",
       "         6218.86,  6307.68,  6337.27,  6234.4 ,  6136.02,  6155.91,\n",
       "         6290.25,  6328.56,  6430.96,  6483.69,  6643.  ,  6803.55,\n",
       "         6738.19,  6828.19,  6943.26,  6895.28,  6939.45,  6961.01,\n",
       "         7013.45,  7112.32,  7295.46,  7339.41,  7296.2 ,  7322.49,\n",
       "         7209.06,  7101.47,  7050.77,  6934.48,  6947.16,  7069.34,\n",
       "         7107.38,  7070.05,  7338.24,  7455.44,  7508.27,  7625.85,\n",
       "         7640.8 ,  7589.28,  7511.96,  7510.15,  7447.26,  7412.6 ,\n",
       "         7440.82,  7564.35,  7733.68,  7742.42,  7708.66,  7624.43,\n",
       "         7530.25,  7511.83,  7587.31,  7752.71,  8015.83,  8084.99,\n",
       "         8200.23,  8254.43,  8240.72,  8150.63,  8186.94,  8271.97,\n",
       "         8406.34,  8424.2 ,  8440.05,  8545.85,  8667.15,  8751.8 ,\n",
       "         9038.8 ,  9047.05,  9099.11,  9165.41,  9172.19,  9201.66,\n",
       "         9084.65,  9084.  ,  9000.52,  8954.26,  8996.78,  9204.18,\n",
       "         9408.71,  9362.75,  9273.8 ,  9014.88,  9013.69,  9030.97,\n",
       "         9034.52,  9248.34,  9384.48,  9366.17,  9488.35,  9556.7 ,\n",
       "         9645.01,  9660.93,  9660.07,  9689.03,  9735.37,  9781.28,\n",
       "         9768.23,  9726.  ,  9779.27,  9824.34,  9785.98,  9892.96,\n",
       "        10000.  , 10185.16, 10265.46, 10345.2 , 10244.14, 10209.55,\n",
       "        10329.68, 10517.86, 10566.41, 10627.41, 10800.39, 11223.93,\n",
       "        11599.06, 11444.75, 11417.86, 11393.45, 11482.02, 11736.93,\n",
       "        11768.59, 11960.39, 11820.07, 11506.99, 11505.56, 11430.04,\n",
       "        11446.94, 11606.21, 11745.56, 11685.27, 11662.83, 11726.29,\n",
       "        11734.26, 11628.66, 11560.93, 11509.42, 11537.18, 11543.66,\n",
       "        11523.26, 11668.14, 11667.22, 11733.05, 11992.9 , 11870.24,\n",
       "        11903.28, 11981.87, 12129.28, 12301.9 , 12396.86, 12298.93,\n",
       "        12285.08, 12354.01, 12556.43, 12653.3 , 12639.18, 12724.34,\n",
       "        12766.92, 12557.02, 12592.6 , 12676.64, 12728.59, 12736.3 ,\n",
       "        12894.88, 12968.72, 12894.23, 12856.62, 12700.69, 12556.98,\n",
       "        12380.81, 12523.47, 12615.94, 12706.67, 12578.27, 12513.44,\n",
       "        12358.93, 12343.54, 12296.23, 12198.68, 11801.48, 11737.41,\n",
       "        11858.45, 11989.17, 11855.07, 11620.85, 11607.67, 11450.57,\n",
       "        11260.34, 11314.22, 11425.74, 11506.72, 11693.81, 11582.8 ,\n",
       "        11501.68, 11518.44, 11471.23, 11310.34, 11022.69, 10901.01,\n",
       "        10957.56, 10978.75, 10919.1 , 11011.39, 11059.25, 11167.51,\n",
       "        11211.66, 11068.15, 11058.9 , 11163.14, 11240.71, 11169.55,\n",
       "        11016.41, 11041.09, 11057.59, 10980.32, 10755.93, 10883.42,\n",
       "        10856.4 , 10784.47, 10811.39, 10838.46, 10749.87, 10667.59,\n",
       "        10769.78, 10733.06, 10678.6 , 10543.81, 10454.5 , 10428.37,\n",
       "        10294.7 , 10352.37, 10208.26, 10006.74,  9865.38,  9947.84,\n",
       "         9864.65,  9782.89,  9590.95,  9553.81,  9589.95,  9607.65,\n",
       "         9537.17,  9788.7 , 10030.52, 10695.85, 10964.07, 10849.23,\n",
       "        10916.85, 11185.57, 11234.16, 10955.35, 10640.26, 10504.01,\n",
       "        10464.58, 10339.4 , 10261.45, 10115.04, 10067.  , 10111.94,\n",
       "        10140.6 , 10292.84, 10204.69, 10153.86, 10435.45, 10492.54,\n",
       "        10328.91, 10248.54, 10148.5 ,  9884.69,  9912.99,  9978.85,\n",
       "         9863.53,  9788.3 ,  9694.55,  9533.86,  9530.14,  9527.64,\n",
       "         9462.34,  9516.42,  9801.18,  9891.75,  9955.27, 10049.23,\n",
       "         9986.99,  9813.61,  9873.25,  9905.17, 10077.72, 10222.03,\n",
       "        10173.97, 10085.64,  9927.67,  9899.8 ,  9963.11,  9905.49,\n",
       "         9896.91,  9978.22, 10065.6 , 10029.55, 10073.01, 10154.28,\n",
       "        10209.96, 10198.05, 10176.76, 10074.46, 10163.96, 10180.26,\n",
       "        10277.13, 10302.08, 10293.36, 10254.36, 10221.86, 10236.99,\n",
       "        10212.8 , 10304.65, 10460.18, 10595.11, 10774.82, 11038.85,\n",
       "        11273.95, 11418.13, 11624.78, 11510.96, 11422.39, 11510.57,\n",
       "        11709.83], dtype=float32),\n",
       " 'feat_static_cat': array([1]),\n",
       " 'source': SourceContext(source=Span(path=WindowsPath('C:/Users/TM/.mxnet/gluon-ts/datasets/m4_monthly_micro/train/m4_monthly_micro_train.json'), line=1), row=1)}"
      ]
     },
     "execution_count": 5,
     "metadata": {},
     "output_type": "execute_result"
    }
   ],
   "source": [
    "train_entry"
   ]
  },
  {
   "cell_type": "markdown",
   "metadata": {},
   "source": [
    "## Plot Series"
   ]
  },
  {
   "cell_type": "code",
   "execution_count": 6,
   "metadata": {},
   "outputs": [
    {
     "data": {
      "image/png": "[encoded data removed]",
      "text/plain": [
       "<Figure size 720x504 with 2 Axes>"
      ]
     },
     "metadata": {
      "needs_background": "light"
     },
     "output_type": "display_data"
    }
   ],
   "source": [
    "test_series = to_pandas(test_entry)\n",
    "train_series = to_pandas(train_entry)\n",
    "\n",
    "fig, ax = plt.subplots(2, 1, sharex=True, sharey=True, figsize=(10, 7))\n",
    "\n",
    "train_series.plot(ax=ax[0])\n",
    "ax[0].grid(which=\"both\")\n",
    "ax[0].legend([\"train series\"], loc=\"upper left\")\n",
    "\n",
    "test_series.plot(ax=ax[1])\n",
    "ax[1].axvline(train_series.index[-1], color='r') # end of train dataset\n",
    "ax[1].grid(which=\"both\")\n",
    "ax[1].legend([\"test series\", \"end of train series\"], loc=\"upper left\")\n",
    "\n",
    "plt.show()"
   ]
  },
  {
   "cell_type": "code",
   "execution_count": 8,
   "metadata": {},
   "outputs": [
    {
     "name": "stdout",
     "output_type": "stream",
     "text": [
      "Seed: 42\n"
     ]
    },
    {
     "name": "stderr",
     "output_type": "stream",
     "text": [
      "INFO:root:using dataset already processed in path C:\\Users\\TM\\.mxnet\\gluon-ts\\datasets\\m4_yearly_micro.\n",
      "INFO:root:Start model training\n",
      "INFO:root:Epoch[0] Learning rate is 0.001\n",
      "  0%|          | 0/50 [00:00<?, ?it/s]INFO:root:Number of parameters in DeepARTrainingNetwork: 356623\n",
      "100%|██████████| 50/50 [00:03<00:00, 15.94it/s, avg_epoch_loss=7.57]\n",
      "INFO:root:Epoch[0] Elapsed time 3.152 seconds\n",
      "INFO:root:Epoch[0] Evaluation metric 'epoch_loss'=7.568095\n",
      "INFO:root:Epoch[1] Learning rate is 0.001\n",
      "100%|██████████| 50/50 [00:02<00:00, 18.13it/s, avg_epoch_loss=6.85]\n",
      "INFO:root:Epoch[1] Elapsed time 2.765 seconds\n",
      "INFO:root:Epoch[1] Evaluation metric 'epoch_loss'=6.848611\n",
      "INFO:root:Epoch[2] Learning rate is 0.001\n",
      "100%|██████████| 50/50 [00:03<00:00, 15.95it/s, avg_epoch_loss=7.23]\n",
      "INFO:root:Epoch[2] Elapsed time 3.147 seconds\n",
      "INFO:root:Epoch[2] Evaluation metric 'epoch_loss'=7.232252\n",
      "INFO:root:Epoch[3] Learning rate is 0.001\n",
      "100%|██████████| 50/50 [00:07<00:00,  6.30it/s, avg_epoch_loss=7.5]\n",
      "INFO:root:Epoch[3] Elapsed time 7.951 seconds\n",
      "INFO:root:Epoch[3] Evaluation metric 'epoch_loss'=7.496647\n",
      "INFO:root:Epoch[4] Learning rate is 0.001\n",
      "100%|██████████| 50/50 [00:04<00:00, 10.70it/s, avg_epoch_loss=6.31]\n",
      "INFO:root:Epoch[4] Elapsed time 4.686 seconds\n",
      "INFO:root:Epoch[4] Evaluation metric 'epoch_loss'=6.312213\n",
      "INFO:root:Epoch[5] Learning rate is 0.001\n",
      "100%|██████████| 50/50 [00:04<00:00, 10.88it/s, avg_epoch_loss=6.25]\n",
      "INFO:root:Epoch[5] Elapsed time 4.608 seconds\n",
      "INFO:root:Epoch[5] Evaluation metric 'epoch_loss'=6.252135\n",
      "INFO:root:Epoch[6] Learning rate is 0.001\n",
      "100%|██████████| 50/50 [00:04<00:00, 10.43it/s, avg_epoch_loss=6.73]\n",
      "INFO:root:Epoch[6] Elapsed time 4.810 seconds\n",
      "INFO:root:Epoch[6] Evaluation metric 'epoch_loss'=6.725540\n",
      "INFO:root:Epoch[7] Learning rate is 0.001\n",
      "100%|██████████| 50/50 [00:05<00:00,  9.73it/s, avg_epoch_loss=7.11]\n",
      "INFO:root:Epoch[7] Elapsed time 5.147 seconds\n",
      "INFO:root:Epoch[7] Evaluation metric 'epoch_loss'=7.106339\n",
      "INFO:root:Epoch[8] Learning rate is 0.001\n",
      "100%|██████████| 50/50 [00:05<00:00,  8.59it/s, avg_epoch_loss=6.02]\n",
      "INFO:root:Epoch[8] Elapsed time 5.854 seconds\n",
      "INFO:root:Epoch[8] Evaluation metric 'epoch_loss'=6.015776\n",
      "INFO:root:Epoch[9] Learning rate is 0.001\n",
      "100%|██████████| 50/50 [00:09<00:00,  5.41it/s, avg_epoch_loss=6.08]\n",
      "INFO:root:Epoch[9] Elapsed time 9.258 seconds\n",
      "INFO:root:Epoch[9] Evaluation metric 'epoch_loss'=6.084140\n",
      "INFO:root:Loading parameters from best epoch (8)\n",
      "INFO:root:Final loss: 6.015776081085205 (occurred at epoch 8)\n",
      "INFO:root:End model training\n",
      "Running evaluation: 100%|██████████| 6538/6538 [07:28<00:00, 14.58it/s]\n"
     ]
    },
    {
     "name": "stdout",
     "output_type": "stream",
     "text": [
      "       MASE    sMAPE       MSIS  wQuantileLoss[0.5]  wQuantileLoss[0.9]  seed  \\\n",
      "0  3.642706  0.12389  57.648696            0.126548            0.090292    42   \n",
      "\n",
      "   epochs  num_batches  \n",
      "0      10           50  \n",
      "Seed: 43\n"
     ]
    },
    {
     "name": "stderr",
     "output_type": "stream",
     "text": [
      "INFO:root:using dataset already processed in path C:\\Users\\TM\\.mxnet\\gluon-ts\\datasets\\m4_yearly_micro.\n",
      "INFO:root:Start model training\n",
      "INFO:root:Epoch[0] Learning rate is 0.001\n",
      "  0%|          | 0/50 [00:00<?, ?it/s]INFO:root:Number of parameters in DeepARTrainingNetwork: 356623\n",
      "100%|██████████| 50/50 [00:09<00:00,  5.40it/s, avg_epoch_loss=7.57]\n",
      "INFO:root:Epoch[0] Elapsed time 9.356 seconds\n",
      "INFO:root:Epoch[0] Evaluation metric 'epoch_loss'=7.569396\n",
      "INFO:root:Epoch[1] Learning rate is 0.001\n",
      "100%|██████████| 50/50 [00:06<00:00,  8.01it/s, avg_epoch_loss=6.89]\n",
      "INFO:root:Epoch[1] Elapsed time 6.257 seconds\n",
      "INFO:root:Epoch[1] Evaluation metric 'epoch_loss'=6.887102\n",
      "INFO:root:Epoch[2] Learning rate is 0.001\n",
      "100%|██████████| 50/50 [00:04<00:00, 10.70it/s, avg_epoch_loss=7.17]\n",
      "INFO:root:Epoch[2] Elapsed time 4.688 seconds\n",
      "INFO:root:Epoch[2] Evaluation metric 'epoch_loss'=7.171787\n",
      "INFO:root:Epoch[3] Learning rate is 0.001\n",
      "  0%|          | 0/50 [00:01<?, ?it/s]\n"
     ]
    },
    {
     "ename": "KeyboardInterrupt",
     "evalue": "",
     "output_type": "error",
     "traceback": [
      "\u001b[1;31m---------------------------------------------------------------------------\u001b[0m",
      "\u001b[1;31mKeyboardInterrupt\u001b[0m                         Traceback (most recent call last)",
      "\u001b[1;32m<timed exec>\u001b[0m in \u001b[0;36m<module>\u001b[1;34m\u001b[0m\n",
      "\u001b[1;32m~\\Dropbox\\DS\\RNN-for-TS\\gluonts10-m4_subsets_local\\utils_gluonts10_deepar.py\u001b[0m in \u001b[0;36mdeepar\u001b[1;34m(data, seed, epochs, batches)\u001b[0m\n\u001b[0;32m     42\u001b[0m     \u001b[1;31m# predictor = estimator.train(training_data=dataset.train,\u001b[0m\u001b[1;33m\u001b[0m\u001b[1;33m\u001b[0m\u001b[1;33m\u001b[0m\u001b[0m\n\u001b[0;32m     43\u001b[0m     \u001b[1;31m#                             validation_data=dataset.test)\u001b[0m\u001b[1;33m\u001b[0m\u001b[1;33m\u001b[0m\u001b[1;33m\u001b[0m\u001b[0m\n\u001b[1;32m---> 44\u001b[1;33m     \u001b[0mpredictor\u001b[0m \u001b[1;33m=\u001b[0m \u001b[0mestimator\u001b[0m\u001b[1;33m.\u001b[0m\u001b[0mtrain\u001b[0m\u001b[1;33m(\u001b[0m\u001b[0mtraining_data\u001b[0m\u001b[1;33m=\u001b[0m\u001b[0mdataset\u001b[0m\u001b[1;33m.\u001b[0m\u001b[0mtrain\u001b[0m\u001b[1;33m)\u001b[0m\u001b[1;33m\u001b[0m\u001b[1;33m\u001b[0m\u001b[0m\n\u001b[0m\u001b[0;32m     45\u001b[0m \u001b[1;33m\u001b[0m\u001b[0m\n\u001b[0;32m     46\u001b[0m     forecast_it, ts_it = make_evaluation_predictions(\n",
      "\u001b[1;32m~\\Anaconda3\\lib\\site-packages\\gluonts\\model\\estimator.py\u001b[0m in \u001b[0;36mtrain\u001b[1;34m(self, training_data, validation_data)\u001b[0m\n\u001b[0;32m    221\u001b[0m         \u001b[0mself\u001b[0m\u001b[1;33m,\u001b[0m \u001b[0mtraining_data\u001b[0m\u001b[1;33m:\u001b[0m \u001b[0mDataset\u001b[0m\u001b[1;33m,\u001b[0m \u001b[0mvalidation_data\u001b[0m\u001b[1;33m:\u001b[0m \u001b[0mOptional\u001b[0m\u001b[1;33m[\u001b[0m\u001b[0mDataset\u001b[0m\u001b[1;33m]\u001b[0m \u001b[1;33m=\u001b[0m \u001b[1;32mNone\u001b[0m\u001b[1;33m\u001b[0m\u001b[1;33m\u001b[0m\u001b[0m\n\u001b[0;32m    222\u001b[0m     ) -> Predictor:\n\u001b[1;32m--> 223\u001b[1;33m         \u001b[1;32mreturn\u001b[0m \u001b[0mself\u001b[0m\u001b[1;33m.\u001b[0m\u001b[0mtrain_model\u001b[0m\u001b[1;33m(\u001b[0m\u001b[0mtraining_data\u001b[0m\u001b[1;33m,\u001b[0m \u001b[0mvalidation_data\u001b[0m\u001b[1;33m)\u001b[0m\u001b[1;33m.\u001b[0m\u001b[0mpredictor\u001b[0m\u001b[1;33m\u001b[0m\u001b[1;33m\u001b[0m\u001b[0m\n\u001b[0m",
      "\u001b[1;32m~\\Anaconda3\\lib\\site-packages\\gluonts\\model\\estimator.py\u001b[0m in \u001b[0;36mtrain_model\u001b[1;34m(self, training_data, validation_data)\u001b[0m\n\u001b[0;32m    206\u001b[0m             \u001b[0minput_names\u001b[0m\u001b[1;33m=\u001b[0m\u001b[0mget_hybrid_forward_input_names\u001b[0m\u001b[1;33m(\u001b[0m\u001b[0mtrained_net\u001b[0m\u001b[1;33m)\u001b[0m\u001b[1;33m,\u001b[0m\u001b[1;33m\u001b[0m\u001b[1;33m\u001b[0m\u001b[0m\n\u001b[0;32m    207\u001b[0m             \u001b[0mtrain_iter\u001b[0m\u001b[1;33m=\u001b[0m\u001b[0mtraining_data_loader\u001b[0m\u001b[1;33m,\u001b[0m\u001b[1;33m\u001b[0m\u001b[1;33m\u001b[0m\u001b[0m\n\u001b[1;32m--> 208\u001b[1;33m             \u001b[0mvalidation_iter\u001b[0m\u001b[1;33m=\u001b[0m\u001b[0mvalidation_data_loader\u001b[0m\u001b[1;33m,\u001b[0m\u001b[1;33m\u001b[0m\u001b[1;33m\u001b[0m\u001b[0m\n\u001b[0m\u001b[0;32m    209\u001b[0m         )\n\u001b[0;32m    210\u001b[0m \u001b[1;33m\u001b[0m\u001b[0m\n",
      "\u001b[1;32m~\\Anaconda3\\lib\\site-packages\\gluonts\\trainer\\_base.py\u001b[0m in \u001b[0;36m__call__\u001b[1;34m(self, net, input_names, train_iter, validation_iter)\u001b[0m\n\u001b[0;32m    295\u001b[0m                     )\n\u001b[0;32m    296\u001b[0m \u001b[1;33m\u001b[0m\u001b[0m\n\u001b[1;32m--> 297\u001b[1;33m                     \u001b[0mepoch_loss\u001b[0m \u001b[1;33m=\u001b[0m \u001b[0mloop\u001b[0m\u001b[1;33m(\u001b[0m\u001b[0mepoch_no\u001b[0m\u001b[1;33m,\u001b[0m \u001b[0mtrain_iter\u001b[0m\u001b[1;33m)\u001b[0m\u001b[1;33m\u001b[0m\u001b[1;33m\u001b[0m\u001b[0m\n\u001b[0m\u001b[0;32m    298\u001b[0m                     \u001b[1;32mif\u001b[0m \u001b[0mis_validation_available\u001b[0m\u001b[1;33m:\u001b[0m\u001b[1;33m\u001b[0m\u001b[1;33m\u001b[0m\u001b[0m\n\u001b[0;32m    299\u001b[0m                         epoch_loss = loop(\n",
      "\u001b[1;32m~\\Anaconda3\\lib\\site-packages\\gluonts\\trainer\\_base.py\u001b[0m in \u001b[0;36mloop\u001b[1;34m(epoch_no, batch_iter, is_training)\u001b[0m\n\u001b[0;32m    228\u001b[0m \u001b[1;33m\u001b[0m\u001b[0m\n\u001b[0;32m    229\u001b[0m                     \u001b[1;32mwith\u001b[0m \u001b[0mtqdm\u001b[0m\u001b[1;33m(\u001b[0m\u001b[0mbatch_iter\u001b[0m\u001b[1;33m)\u001b[0m \u001b[1;32mas\u001b[0m \u001b[0mit\u001b[0m\u001b[1;33m:\u001b[0m\u001b[1;33m\u001b[0m\u001b[1;33m\u001b[0m\u001b[0m\n\u001b[1;32m--> 230\u001b[1;33m                         \u001b[1;32mfor\u001b[0m \u001b[0mbatch_no\u001b[0m\u001b[1;33m,\u001b[0m \u001b[0mdata_entry\u001b[0m \u001b[1;32min\u001b[0m \u001b[0menumerate\u001b[0m\u001b[1;33m(\u001b[0m\u001b[0mit\u001b[0m\u001b[1;33m,\u001b[0m \u001b[0mstart\u001b[0m\u001b[1;33m=\u001b[0m\u001b[1;36m1\u001b[0m\u001b[1;33m)\u001b[0m\u001b[1;33m:\u001b[0m\u001b[1;33m\u001b[0m\u001b[1;33m\u001b[0m\u001b[0m\n\u001b[0m\u001b[0;32m    231\u001b[0m                             \u001b[1;32mif\u001b[0m \u001b[0mself\u001b[0m\u001b[1;33m.\u001b[0m\u001b[0mhalt\u001b[0m\u001b[1;33m:\u001b[0m\u001b[1;33m\u001b[0m\u001b[1;33m\u001b[0m\u001b[0m\n\u001b[0;32m    232\u001b[0m                                 \u001b[1;32mbreak\u001b[0m\u001b[1;33m\u001b[0m\u001b[1;33m\u001b[0m\u001b[0m\n",
      "\u001b[1;32m~\\Anaconda3\\lib\\site-packages\\tqdm\\std.py\u001b[0m in \u001b[0;36m__iter__\u001b[1;34m(self)\u001b[0m\n\u001b[0;32m   1079\u001b[0m             \"\"\"), fp_write=getattr(self.fp, 'write', sys.stderr.write))\n\u001b[0;32m   1080\u001b[0m \u001b[1;33m\u001b[0m\u001b[0m\n\u001b[1;32m-> 1081\u001b[1;33m         \u001b[1;32mfor\u001b[0m \u001b[0mobj\u001b[0m \u001b[1;32min\u001b[0m \u001b[0miterable\u001b[0m\u001b[1;33m:\u001b[0m\u001b[1;33m\u001b[0m\u001b[1;33m\u001b[0m\u001b[0m\n\u001b[0m\u001b[0;32m   1082\u001b[0m             \u001b[1;32myield\u001b[0m \u001b[0mobj\u001b[0m\u001b[1;33m\u001b[0m\u001b[1;33m\u001b[0m\u001b[0m\n\u001b[0;32m   1083\u001b[0m             \u001b[1;31m# Update and possibly print the progressbar.\u001b[0m\u001b[1;33m\u001b[0m\u001b[1;33m\u001b[0m\u001b[1;33m\u001b[0m\u001b[0m\n",
      "\u001b[1;32m~\\Anaconda3\\lib\\site-packages\\gluonts\\dataset\\loader.py\u001b[0m in \u001b[0;36m__iter__\u001b[1;34m(self)\u001b[0m\n\u001b[0;32m    190\u001b[0m         \u001b[1;32massert\u001b[0m \u001b[0mself\u001b[0m\u001b[1;33m.\u001b[0m\u001b[0m_cur_iter\u001b[0m \u001b[1;32mis\u001b[0m \u001b[1;32mnot\u001b[0m \u001b[1;32mNone\u001b[0m\u001b[1;33m\u001b[0m\u001b[1;33m\u001b[0m\u001b[0m\n\u001b[0;32m    191\u001b[0m         \u001b[1;32mwhile\u001b[0m \u001b[1;32mTrue\u001b[0m\u001b[1;33m:\u001b[0m\u001b[1;33m\u001b[0m\u001b[1;33m\u001b[0m\u001b[0m\n\u001b[1;32m--> 192\u001b[1;33m             \u001b[0mdata_entry\u001b[0m \u001b[1;33m=\u001b[0m \u001b[0mnext\u001b[0m\u001b[1;33m(\u001b[0m\u001b[0mself\u001b[0m\u001b[1;33m.\u001b[0m\u001b[0m_cur_iter\u001b[0m\u001b[1;33m)\u001b[0m\u001b[1;33m\u001b[0m\u001b[1;33m\u001b[0m\u001b[0m\n\u001b[0m\u001b[0;32m    193\u001b[0m             \u001b[0mself\u001b[0m\u001b[1;33m.\u001b[0m\u001b[0m_buffer\u001b[0m\u001b[1;33m.\u001b[0m\u001b[0madd\u001b[0m\u001b[1;33m(\u001b[0m\u001b[0mdata_entry\u001b[0m\u001b[1;33m)\u001b[0m\u001b[1;33m\u001b[0m\u001b[1;33m\u001b[0m\u001b[0m\n\u001b[0;32m    194\u001b[0m             if (\n",
      "\u001b[1;32m~\\Anaconda3\\lib\\site-packages\\gluonts\\transform.py\u001b[0m in \u001b[0;36m__call__\u001b[1;34m(self, data_it, is_train)\u001b[0m\n\u001b[0;32m    322\u001b[0m     ) -> Iterator:\n\u001b[0;32m    323\u001b[0m         \u001b[0mnum_idle_transforms\u001b[0m \u001b[1;33m=\u001b[0m \u001b[1;36m0\u001b[0m\u001b[1;33m\u001b[0m\u001b[1;33m\u001b[0m\u001b[0m\n\u001b[1;32m--> 324\u001b[1;33m         \u001b[1;32mfor\u001b[0m \u001b[0mdata_entry\u001b[0m \u001b[1;32min\u001b[0m \u001b[0mdata_it\u001b[0m\u001b[1;33m:\u001b[0m\u001b[1;33m\u001b[0m\u001b[1;33m\u001b[0m\u001b[0m\n\u001b[0m\u001b[0;32m    325\u001b[0m             \u001b[0mnum_idle_transforms\u001b[0m \u001b[1;33m+=\u001b[0m \u001b[1;36m1\u001b[0m\u001b[1;33m\u001b[0m\u001b[1;33m\u001b[0m\u001b[0m\n\u001b[0;32m    326\u001b[0m             \u001b[1;32mtry\u001b[0m\u001b[1;33m:\u001b[0m\u001b[1;33m\u001b[0m\u001b[1;33m\u001b[0m\u001b[0m\n",
      "\u001b[1;32m~\\Anaconda3\\lib\\site-packages\\gluonts\\transform.py\u001b[0m in \u001b[0;36m__call__\u001b[1;34m(self, data_it, is_train)\u001b[0m\n\u001b[0;32m    273\u001b[0m         \u001b[0mself\u001b[0m\u001b[1;33m,\u001b[0m \u001b[0mdata_it\u001b[0m\u001b[1;33m:\u001b[0m \u001b[0mIterator\u001b[0m\u001b[1;33m[\u001b[0m\u001b[0mDataEntry\u001b[0m\u001b[1;33m]\u001b[0m\u001b[1;33m,\u001b[0m \u001b[0mis_train\u001b[0m\u001b[1;33m:\u001b[0m \u001b[0mbool\u001b[0m\u001b[1;33m\u001b[0m\u001b[1;33m\u001b[0m\u001b[0m\n\u001b[0;32m    274\u001b[0m     ) -> Iterator:\n\u001b[1;32m--> 275\u001b[1;33m         \u001b[1;32mfor\u001b[0m \u001b[0mdata_entry\u001b[0m \u001b[1;32min\u001b[0m \u001b[0mdata_it\u001b[0m\u001b[1;33m:\u001b[0m\u001b[1;33m\u001b[0m\u001b[1;33m\u001b[0m\u001b[0m\n\u001b[0m\u001b[0;32m    276\u001b[0m             \u001b[1;32mtry\u001b[0m\u001b[1;33m:\u001b[0m\u001b[1;33m\u001b[0m\u001b[1;33m\u001b[0m\u001b[0m\n\u001b[0;32m    277\u001b[0m                 \u001b[1;32myield\u001b[0m \u001b[0mself\u001b[0m\u001b[1;33m.\u001b[0m\u001b[0mmap_transform\u001b[0m\u001b[1;33m(\u001b[0m\u001b[0mdata_entry\u001b[0m\u001b[1;33m.\u001b[0m\u001b[0mcopy\u001b[0m\u001b[1;33m(\u001b[0m\u001b[1;33m)\u001b[0m\u001b[1;33m,\u001b[0m \u001b[0mis_train\u001b[0m\u001b[1;33m)\u001b[0m\u001b[1;33m\u001b[0m\u001b[1;33m\u001b[0m\u001b[0m\n",
      "\u001b[1;32m~\\Anaconda3\\lib\\site-packages\\gluonts\\transform.py\u001b[0m in \u001b[0;36m__call__\u001b[1;34m(self, data_it, is_train)\u001b[0m\n\u001b[0;32m    273\u001b[0m         \u001b[0mself\u001b[0m\u001b[1;33m,\u001b[0m \u001b[0mdata_it\u001b[0m\u001b[1;33m:\u001b[0m \u001b[0mIterator\u001b[0m\u001b[1;33m[\u001b[0m\u001b[0mDataEntry\u001b[0m\u001b[1;33m]\u001b[0m\u001b[1;33m,\u001b[0m \u001b[0mis_train\u001b[0m\u001b[1;33m:\u001b[0m \u001b[0mbool\u001b[0m\u001b[1;33m\u001b[0m\u001b[1;33m\u001b[0m\u001b[0m\n\u001b[0;32m    274\u001b[0m     ) -> Iterator:\n\u001b[1;32m--> 275\u001b[1;33m         \u001b[1;32mfor\u001b[0m \u001b[0mdata_entry\u001b[0m \u001b[1;32min\u001b[0m \u001b[0mdata_it\u001b[0m\u001b[1;33m:\u001b[0m\u001b[1;33m\u001b[0m\u001b[1;33m\u001b[0m\u001b[0m\n\u001b[0m\u001b[0;32m    276\u001b[0m             \u001b[1;32mtry\u001b[0m\u001b[1;33m:\u001b[0m\u001b[1;33m\u001b[0m\u001b[1;33m\u001b[0m\u001b[0m\n\u001b[0;32m    277\u001b[0m                 \u001b[1;32myield\u001b[0m \u001b[0mself\u001b[0m\u001b[1;33m.\u001b[0m\u001b[0mmap_transform\u001b[0m\u001b[1;33m(\u001b[0m\u001b[0mdata_entry\u001b[0m\u001b[1;33m.\u001b[0m\u001b[0mcopy\u001b[0m\u001b[1;33m(\u001b[0m\u001b[1;33m)\u001b[0m\u001b[1;33m,\u001b[0m \u001b[0mis_train\u001b[0m\u001b[1;33m)\u001b[0m\u001b[1;33m\u001b[0m\u001b[1;33m\u001b[0m\u001b[0m\n",
      "\u001b[1;32m~\\Anaconda3\\lib\\site-packages\\gluonts\\transform.py\u001b[0m in \u001b[0;36m__call__\u001b[1;34m(self, data_it, is_train)\u001b[0m\n\u001b[0;32m    273\u001b[0m         \u001b[0mself\u001b[0m\u001b[1;33m,\u001b[0m \u001b[0mdata_it\u001b[0m\u001b[1;33m:\u001b[0m \u001b[0mIterator\u001b[0m\u001b[1;33m[\u001b[0m\u001b[0mDataEntry\u001b[0m\u001b[1;33m]\u001b[0m\u001b[1;33m,\u001b[0m \u001b[0mis_train\u001b[0m\u001b[1;33m:\u001b[0m \u001b[0mbool\u001b[0m\u001b[1;33m\u001b[0m\u001b[1;33m\u001b[0m\u001b[0m\n\u001b[0;32m    274\u001b[0m     ) -> Iterator:\n\u001b[1;32m--> 275\u001b[1;33m         \u001b[1;32mfor\u001b[0m \u001b[0mdata_entry\u001b[0m \u001b[1;32min\u001b[0m \u001b[0mdata_it\u001b[0m\u001b[1;33m:\u001b[0m\u001b[1;33m\u001b[0m\u001b[1;33m\u001b[0m\u001b[0m\n\u001b[0m\u001b[0;32m    276\u001b[0m             \u001b[1;32mtry\u001b[0m\u001b[1;33m:\u001b[0m\u001b[1;33m\u001b[0m\u001b[1;33m\u001b[0m\u001b[0m\n\u001b[0;32m    277\u001b[0m                 \u001b[1;32myield\u001b[0m \u001b[0mself\u001b[0m\u001b[1;33m.\u001b[0m\u001b[0mmap_transform\u001b[0m\u001b[1;33m(\u001b[0m\u001b[0mdata_entry\u001b[0m\u001b[1;33m.\u001b[0m\u001b[0mcopy\u001b[0m\u001b[1;33m(\u001b[0m\u001b[1;33m)\u001b[0m\u001b[1;33m,\u001b[0m \u001b[0mis_train\u001b[0m\u001b[1;33m)\u001b[0m\u001b[1;33m\u001b[0m\u001b[1;33m\u001b[0m\u001b[0m\n",
      "\u001b[1;32m~\\Anaconda3\\lib\\site-packages\\gluonts\\transform.py\u001b[0m in \u001b[0;36m__call__\u001b[1;34m(self, data_it, is_train)\u001b[0m\n\u001b[0;32m    275\u001b[0m         \u001b[1;32mfor\u001b[0m \u001b[0mdata_entry\u001b[0m \u001b[1;32min\u001b[0m \u001b[0mdata_it\u001b[0m\u001b[1;33m:\u001b[0m\u001b[1;33m\u001b[0m\u001b[1;33m\u001b[0m\u001b[0m\n\u001b[0;32m    276\u001b[0m             \u001b[1;32mtry\u001b[0m\u001b[1;33m:\u001b[0m\u001b[1;33m\u001b[0m\u001b[1;33m\u001b[0m\u001b[0m\n\u001b[1;32m--> 277\u001b[1;33m                 \u001b[1;32myield\u001b[0m \u001b[0mself\u001b[0m\u001b[1;33m.\u001b[0m\u001b[0mmap_transform\u001b[0m\u001b[1;33m(\u001b[0m\u001b[0mdata_entry\u001b[0m\u001b[1;33m.\u001b[0m\u001b[0mcopy\u001b[0m\u001b[1;33m(\u001b[0m\u001b[1;33m)\u001b[0m\u001b[1;33m,\u001b[0m \u001b[0mis_train\u001b[0m\u001b[1;33m)\u001b[0m\u001b[1;33m\u001b[0m\u001b[1;33m\u001b[0m\u001b[0m\n\u001b[0m\u001b[0;32m    278\u001b[0m             \u001b[1;32mexcept\u001b[0m \u001b[0mException\u001b[0m \u001b[1;32mas\u001b[0m \u001b[0me\u001b[0m\u001b[1;33m:\u001b[0m\u001b[1;33m\u001b[0m\u001b[1;33m\u001b[0m\u001b[0m\n\u001b[0;32m    279\u001b[0m                 \u001b[1;32mraise\u001b[0m \u001b[0me\u001b[0m\u001b[1;33m\u001b[0m\u001b[1;33m\u001b[0m\u001b[0m\n",
      "\u001b[1;32m~\\Anaconda3\\lib\\site-packages\\gluonts\\transform.py\u001b[0m in \u001b[0;36mmap_transform\u001b[1;34m(self, data, is_train)\u001b[0m\n\u001b[0;32m    290\u001b[0m \u001b[1;33m\u001b[0m\u001b[0m\n\u001b[0;32m    291\u001b[0m     \u001b[1;32mdef\u001b[0m \u001b[0mmap_transform\u001b[0m\u001b[1;33m(\u001b[0m\u001b[0mself\u001b[0m\u001b[1;33m,\u001b[0m \u001b[0mdata\u001b[0m\u001b[1;33m:\u001b[0m \u001b[0mDataEntry\u001b[0m\u001b[1;33m,\u001b[0m \u001b[0mis_train\u001b[0m\u001b[1;33m:\u001b[0m \u001b[0mbool\u001b[0m\u001b[1;33m)\u001b[0m \u001b[1;33m->\u001b[0m \u001b[0mDataEntry\u001b[0m\u001b[1;33m:\u001b[0m\u001b[1;33m\u001b[0m\u001b[1;33m\u001b[0m\u001b[0m\n\u001b[1;32m--> 292\u001b[1;33m         \u001b[1;32mreturn\u001b[0m \u001b[0mself\u001b[0m\u001b[1;33m.\u001b[0m\u001b[0mtransform\u001b[0m\u001b[1;33m(\u001b[0m\u001b[0mdata\u001b[0m\u001b[1;33m)\u001b[0m\u001b[1;33m\u001b[0m\u001b[1;33m\u001b[0m\u001b[0m\n\u001b[0m\u001b[0;32m    293\u001b[0m \u001b[1;33m\u001b[0m\u001b[0m\n\u001b[0;32m    294\u001b[0m     \u001b[1;33m@\u001b[0m\u001b[0mabc\u001b[0m\u001b[1;33m.\u001b[0m\u001b[0mabstractmethod\u001b[0m\u001b[1;33m\u001b[0m\u001b[1;33m\u001b[0m\u001b[0m\n",
      "\u001b[1;32m~\\Anaconda3\\lib\\site-packages\\gluonts\\transform.py\u001b[0m in \u001b[0;36mtransform\u001b[1;34m(self, data)\u001b[0m\n\u001b[0;32m    695\u001b[0m         \u001b[0mdata\u001b[0m\u001b[1;33m[\u001b[0m\u001b[0mself\u001b[0m\u001b[1;33m.\u001b[0m\u001b[0mtarget_field\u001b[0m\u001b[1;33m]\u001b[0m \u001b[1;33m=\u001b[0m \u001b[0mvalue\u001b[0m\u001b[1;33m\u001b[0m\u001b[1;33m\u001b[0m\u001b[0m\n\u001b[0;32m    696\u001b[0m         \u001b[1;31m# Invert bool array so that missing values are zeros and store as float\u001b[0m\u001b[1;33m\u001b[0m\u001b[1;33m\u001b[0m\u001b[1;33m\u001b[0m\u001b[0m\n\u001b[1;32m--> 697\u001b[1;33m         \u001b[0mdata\u001b[0m\u001b[1;33m[\u001b[0m\u001b[0mself\u001b[0m\u001b[1;33m.\u001b[0m\u001b[0moutput_field\u001b[0m\u001b[1;33m]\u001b[0m \u001b[1;33m=\u001b[0m \u001b[0mnp\u001b[0m\u001b[1;33m.\u001b[0m\u001b[0minvert\u001b[0m\u001b[1;33m(\u001b[0m\u001b[0mnan_entries\u001b[0m\u001b[1;33m)\u001b[0m\u001b[1;33m.\u001b[0m\u001b[0mastype\u001b[0m\u001b[1;33m(\u001b[0m\u001b[0mself\u001b[0m\u001b[1;33m.\u001b[0m\u001b[0mdtype\u001b[0m\u001b[1;33m)\u001b[0m\u001b[1;33m\u001b[0m\u001b[1;33m\u001b[0m\u001b[0m\n\u001b[0m\u001b[0;32m    698\u001b[0m         \u001b[1;32mreturn\u001b[0m \u001b[0mdata\u001b[0m\u001b[1;33m\u001b[0m\u001b[1;33m\u001b[0m\u001b[0m\n\u001b[0;32m    699\u001b[0m \u001b[1;33m\u001b[0m\u001b[0m\n",
      "\u001b[1;31mKeyboardInterrupt\u001b[0m: "
     ]
    }
   ],
   "source": [
    "%%time\n",
    "results = pd.DataFrame()\n",
    "\n",
    "for i in range(42, 45):\n",
    "    print(\"Seed:\", i)\n",
    "    df = deepar(data=\"m4_yearly_micro\", seed=i, epochs=10, batches=50)\n",
    "    pprint(df)\n",
    "    results = results.append(df)\n",
    "\n",
    "results"
   ]
  },
  {
   "cell_type": "code",
   "execution_count": null,
   "metadata": {},
   "outputs": [],
   "source": []
  },
  {
   "cell_type": "code",
   "execution_count": null,
   "metadata": {},
   "outputs": [],
   "source": [
    "results = pd.DataFrame()\n",
    "df = deepar(data=\"m4_monthly_industry\", seed=44, epochs=314, batches=200)\n",
    "pprint(df)\n",
    "results = results.append(df)\n",
    "\n",
    "results"
   ]
  },
  {
   "cell_type": "code",
   "execution_count": 17,
   "metadata": {},
   "outputs": [],
   "source": [
    "%%time\n",
    "results = pd.DataFrame()\n",
    "\n",
    "for i in range(42, 45):\n",
    "    print(\"Seed:\", i)\n",
    "    df = deepar(data=\"m4_monthly_micro\", seed=i, epochs=343, batches=200)\n",
    "    pprint(df)\n",
    "    results = results.append(df)\n",
    "\n",
    "results"
   ]
  },
  {
   "cell_type": "code",
   "execution_count": 16,
   "metadata": {},
   "outputs": [],
   "source": [
    "%%time\n",
    "results = pd.DataFrame()\n",
    "\n",
    "for i in range(42, 45):\n",
    "    print(\"Seed:\", i)\n",
    "    df = deepar(data=\"m4_monthly_micro\", seed=i, epochs=172, batches=200)\n",
    "    pprint(df)\n",
    "    results = results.append(df)\n",
    "\n",
    "results"
   ]
  },
  {
   "cell_type": "code",
   "execution_count": 15,
   "metadata": {},
   "outputs": [],
   "source": [
    "%%time\n",
    "results = pd.DataFrame()\n",
    "\n",
    "for i in range(42, 45):\n",
    "    print(\"Seed:\", i)\n",
    "    df = deepar(data=\"m4_monthly_micro\", seed=i, epochs=343, batches=100)\n",
    "    pprint(df)\n",
    "    results = results.append(df)\n",
    "\n",
    "results"
   ]
  },
  {
   "cell_type": "code",
   "execution_count": null,
   "metadata": {},
   "outputs": [],
   "source": []
  }
 ],
 "metadata": {
  "kernelspec": {
   "display_name": "Python 3",
   "language": "python",
   "name": "python3"
  },
  "language_info": {
   "codemirror_mode": {
    "name": "ipython",
    "version": 3
   },
   "file_extension": ".py",
   "mimetype": "text/x-python",
   "name": "python",
   "nbconvert_exporter": "python",
   "pygments_lexer": "ipython3",
   "version": "3.6.9"
  }
 },
 "nbformat": 4,
 "nbformat_minor": 2
}
