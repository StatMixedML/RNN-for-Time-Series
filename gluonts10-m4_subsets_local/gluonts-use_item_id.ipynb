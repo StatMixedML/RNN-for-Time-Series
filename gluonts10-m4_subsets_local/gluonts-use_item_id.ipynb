{
 "cells": [
  {
   "cell_type": "code",
   "execution_count": 1,
   "metadata": {},
   "outputs": [
    {
     "name": "stdout",
     "output_type": "stream",
     "text": [
      "0.4.1\n",
      "1.4.1\n"
     ]
    }
   ],
   "source": [
    "import gluonts\n",
    "import mxnet\n",
    "\n",
    "print(gluonts.__version__)\n",
    "print(mxnet.__version__)"
   ]
  },
  {
   "cell_type": "code",
   "execution_count": 2,
   "metadata": {},
   "outputs": [],
   "source": [
    "# standard imports\n",
    "import numpy as np\n",
    "import pandas as pd\n",
    "\n",
    "# Vis\n",
    "%matplotlib inline\n",
    "import matplotlib.pyplot as plt\n",
    "from pprint import pprint\n",
    "\n",
    "# mxnet\n",
    "import mxnet as mx\n",
    "\n",
    "# gluonts\n",
    "from gluonts.dataset.util import to_pandas\n",
    "\n",
    "# imports from utility function\n",
    "import utils_gluonts10 as utils\n",
    "from utils_gluonts10 import get_dataset, dataset_recipes"
   ]
  },
  {
   "cell_type": "code",
   "execution_count": 3,
   "metadata": {},
   "outputs": [
    {
     "name": "stdout",
     "output_type": "stream",
     "text": [
      "Available datasets: ['m4_daily', 'm4_daily_domain', 'm4_hourly', 'm4_monthly', 'm4_monthly_atm', 'm4_monthly_dates', 'm4_monthly_demographic', 'm4_monthly_domain', 'm4_monthly_finance', 'm4_monthly_industry', 'm4_monthly_macro', 'm4_monthly_micro', 'm4_monthly_other', 'm4_quarterly', 'm4_quarterly_atm', 'm4_quarterly_dates', 'm4_quarterly_demographic', 'm4_quarterly_domain', 'm4_quarterly_finance', 'm4_quarterly_industry', 'm4_quarterly_macro', 'm4_quarterly_micro', 'm4_quarterly_other', 'm4_weekly', 'm4_weekly_domain', 'm4_weekly_id', 'my_weekly_tm', 'm4_yearly', 'm4_yearly_demographic', 'm4_yearly_domain', 'm4_yearly_finance', 'm4_yearly_industry', 'm4_yearly_macro', 'm4_yearly_micro', 'm4_yearly_other']\n"
     ]
    }
   ],
   "source": [
    "print(f\"Available datasets: {list(dataset_recipes.keys())}\")"
   ]
  },
  {
   "cell_type": "code",
   "execution_count": 4,
   "metadata": {},
   "outputs": [
    {
     "name": "stderr",
     "output_type": "stream",
     "text": [
      "INFO:root:using dataset already processed in path C:\\Users\\TM\\.mxnet\\gluon-ts\\datasets\\m4_weekly_id.\n"
     ]
    }
   ],
   "source": [
    "dataname = \"m4_weekly_id\"\n",
    "dataset = utils.get_dataset(dataname, regenerate=False)"
   ]
  },
  {
   "cell_type": "code",
   "execution_count": 5,
   "metadata": {},
   "outputs": [
    {
     "name": "stdout",
     "output_type": "stream",
     "text": [
      "dict_keys(['start', 'item_id', 'target', 'feat_static_cat', 'source'])\n",
      "dict_keys(['start', 'item_id', 'target', 'feat_static_cat', 'source'])\n"
     ]
    }
   ],
   "source": [
    "# get the first time series in the training set\n",
    "train_entry = next(iter(dataset.train))\n",
    "test_entry = next(iter(dataset.test))\n",
    "\n",
    "# check keys\n",
    "print(train_entry.keys())\n",
    "print(test_entry.keys())"
   ]
  },
  {
   "cell_type": "code",
   "execution_count": 9,
   "metadata": {},
   "outputs": [
    {
     "data": {
      "text/plain": [
       "{'start': Timestamp('1750-01-04 00:00:00', freq='W-SUN'),\n",
       " 'item_id': 'W1',\n",
       " 'target': array([ 1089.2 ,  1078.91,  1079.88, ..., 36565.18, 36565.18, 35397.16],\n",
       "       dtype=float32),\n",
       " 'feat_static_cat': array([1]),\n",
       " 'source': SourceContext(source=Span(path=WindowsPath('C:/Users/TM/.mxnet/gluon-ts/datasets/m4_weekly_id/train/m4_weekly_id_train.json'), line=1), row=1)}"
      ]
     },
     "execution_count": 9,
     "metadata": {},
     "output_type": "execute_result"
    }
   ],
   "source": [
    "train_entry"
   ]
  },
  {
   "cell_type": "code",
   "execution_count": 11,
   "metadata": {},
   "outputs": [
    {
     "data": {
      "text/plain": [
       "[<CategoricalFeatureInfo name='feat_static_cat' cardinality='359'>]"
      ]
     },
     "execution_count": 11,
     "metadata": {},
     "output_type": "execute_result"
    }
   ],
   "source": [
    "dataset.metadata.feat_static_cat"
   ]
  },
  {
   "cell_type": "code",
   "execution_count": 12,
   "metadata": {},
   "outputs": [
    {
     "data": {
      "text/plain": [
       "['359']"
      ]
     },
     "execution_count": 12,
     "metadata": {},
     "output_type": "execute_result"
    }
   ],
   "source": [
    "[feat_static_cat.cardinality for feat_static_cat in dataset.metadata.feat_static_cat]"
   ]
  },
  {
   "cell_type": "code",
   "execution_count": 14,
   "metadata": {},
   "outputs": [
    {
     "ename": "SyntaxError",
     "evalue": "invalid syntax (<ipython-input-14-8a6d39593d1f>, line 13)",
     "output_type": "error",
     "traceback": [
      "\u001b[1;36m  File \u001b[1;32m\"<ipython-input-14-8a6d39593d1f>\"\u001b[1;36m, line \u001b[1;32m13\u001b[0m\n\u001b[1;33m    ax[1].legend([\"test series\",c=\"upper left\")\u001b[0m\n\u001b[1;37m                                 ^\u001b[0m\n\u001b[1;31mSyntaxError\u001b[0m\u001b[1;31m:\u001b[0m invalid syntax\n"
     ]
    }
   ],
   "source": [
    "test_series = to_pandas(test_entry)\n",
    "train_series = to_pandas(train_entry)\n",
    "\n",
    "fig, ax = plt.subplots(2, 1, sharex=True, sharey=True, figsize=(10, 7))\n",
    "\n",
    "train_series.plot(ax=ax[0])\n",
    "ax[0].grid(which=\"both\")\n",
    "ax[0].legend([\"train series\"], loc=\"upper left\")\n",
    "\n",
    "test_series.plot(ax=ax[1])\n",
    "ax[1].axvline(train_series.index[-1], color='r') # end of train dataset\n",
    "ax[1].grid(which=\"both\")\n",
    "ax[1].legend([\"test series\",c=\"upper left\")\n",
    " \"end of train series\"], lo\n",
    "plt.show()"
   ]
  },
  {
   "cell_type": "code",
   "execution_count": 16,
   "metadata": {},
   "outputs": [],
   "source": [
    "# gluonts\n",
    "from gluonts.trainer import Trainer\n",
    "from gluonts.evaluation.backtest import make_evaluation_predictions\n",
    "from gluonts.evaluation import Evaluator\n",
    "\n",
    "# DeepAREstimator\n",
    "from gluonts.model.deepar import DeepAREstimator"
   ]
  },
  {
   "cell_type": "code",
   "execution_count": 20,
   "metadata": {},
   "outputs": [
    {
     "name": "stderr",
     "output_type": "stream",
     "text": [
      "INFO:root:Start model training\n",
      "INFO:root:Epoch[0] Learning rate is 0.001\n",
      "  0%|          | 0/50 [00:00<?, ?it/s]INFO:root:Number of parameters in DeepARTrainingNetwork: 49593\n",
      "100%|██████████| 50/50 [00:04<00:00, 10.05it/s, avg_epoch_loss=8.05]\n",
      "INFO:root:Epoch[0] Elapsed time 5.009 seconds\n",
      "INFO:root:Epoch[0] Evaluation metric 'epoch_loss'=8.049834\n",
      "INFO:root:Loading parameters from best epoch (0)\n",
      "INFO:root:Final loss: 8.049834442138671 (occurred at epoch 0)\n",
      "INFO:root:End model training\n"
     ]
    }
   ],
   "source": [
    "epochs=1\n",
    "num_batches = 50\n",
    "\n",
    "\n",
    "trainer = Trainer(\n",
    "    ctx=mx.cpu(0),\n",
    "    epochs=epochs,\n",
    "    num_batches_per_epoch=num_batches,\n",
    "    learning_rate=1e-3,\n",
    ")\n",
    "\n",
    "estimator = DeepAREstimator(\n",
    "    trainer=trainer,\n",
    "    cardinality= [\n",
    "        feat_static_cat.cardinality \n",
    "        for feat_static_cat in dataset.metadata.feat_static_cat\n",
    "    ],\n",
    "    context_length=dataset.metadata.prediction_length,\n",
    "    prediction_length=dataset.metadata.prediction_length,\n",
    "    freq=dataset.metadata.freq,\n",
    "    use_feat_static_cat=True\n",
    ")\n",
    "\n",
    "predictor = estimator.train(training_data=dataset.train)\n",
    "\n",
    "forecast_it, ts_it = make_evaluation_predictions(\n",
    "    dataset.test, predictor=predictor, num_samples=100\n",
    "    )"
   ]
  },
  {
   "cell_type": "code",
   "execution_count": 21,
   "metadata": {},
   "outputs": [
    {
     "name": "stderr",
     "output_type": "stream",
     "text": [
      "Running evaluation: 100%|██████████| 359/359 [00:28<00:00, 12.43it/s]\n"
     ]
    }
   ],
   "source": [
    "agg_metrics, item_metrics = Evaluator()(\n",
    "    ts_it, forecast_it, num_series=len(dataset.test)\n",
    ")"
   ]
  },
  {
   "cell_type": "code",
   "execution_count": 24,
   "metadata": {},
   "outputs": [
    {
     "data": {
      "text/html": [
       "<div>\n",
       "<style scoped>\n",
       "    .dataframe tbody tr th:only-of-type {\n",
       "        vertical-align: middle;\n",
       "    }\n",
       "\n",
       "    .dataframe tbody tr th {\n",
       "        vertical-align: top;\n",
       "    }\n",
       "\n",
       "    .dataframe thead th {\n",
       "        text-align: right;\n",
       "    }\n",
       "</style>\n",
       "<table border=\"1\" class=\"dataframe\">\n",
       "  <thead>\n",
       "    <tr style=\"text-align: right;\">\n",
       "      <th></th>\n",
       "      <th>item_id</th>\n",
       "      <th>MSE</th>\n",
       "      <th>abs_error</th>\n",
       "      <th>abs_target_sum</th>\n",
       "      <th>abs_target_mean</th>\n",
       "      <th>seasonal_error</th>\n",
       "      <th>MASE</th>\n",
       "      <th>sMAPE</th>\n",
       "      <th>MSIS</th>\n",
       "      <th>QuantileLoss[0.1]</th>\n",
       "      <th>...</th>\n",
       "      <th>QuantileLoss[0.5]</th>\n",
       "      <th>Coverage[0.5]</th>\n",
       "      <th>QuantileLoss[0.6]</th>\n",
       "      <th>Coverage[0.6]</th>\n",
       "      <th>QuantileLoss[0.7]</th>\n",
       "      <th>Coverage[0.7]</th>\n",
       "      <th>QuantileLoss[0.8]</th>\n",
       "      <th>Coverage[0.8]</th>\n",
       "      <th>QuantileLoss[0.9]</th>\n",
       "      <th>Coverage[0.9]</th>\n",
       "    </tr>\n",
       "  </thead>\n",
       "  <tbody>\n",
       "    <tr>\n",
       "      <td>0</td>\n",
       "      <td>W1</td>\n",
       "      <td>4.538236e+06</td>\n",
       "      <td>24788.652344</td>\n",
       "      <td>464329.437500</td>\n",
       "      <td>35717.649038</td>\n",
       "      <td>63.683045</td>\n",
       "      <td>29.942340</td>\n",
       "      <td>0.052180</td>\n",
       "      <td>137.420366</td>\n",
       "      <td>6887.323438</td>\n",
       "      <td>...</td>\n",
       "      <td>24788.652344</td>\n",
       "      <td>1.000000</td>\n",
       "      <td>26460.190625</td>\n",
       "      <td>1.000000</td>\n",
       "      <td>26350.694531</td>\n",
       "      <td>1.000000</td>\n",
       "      <td>22363.709375</td>\n",
       "      <td>1.000000</td>\n",
       "      <td>15866.180469</td>\n",
       "      <td>1.000000</td>\n",
       "    </tr>\n",
       "    <tr>\n",
       "      <td>1</td>\n",
       "      <td>W2</td>\n",
       "      <td>1.503622e+05</td>\n",
       "      <td>4802.731445</td>\n",
       "      <td>46501.820312</td>\n",
       "      <td>3577.063101</td>\n",
       "      <td>12.059746</td>\n",
       "      <td>30.634218</td>\n",
       "      <td>0.098446</td>\n",
       "      <td>147.796364</td>\n",
       "      <td>729.338525</td>\n",
       "      <td>...</td>\n",
       "      <td>4802.731934</td>\n",
       "      <td>1.000000</td>\n",
       "      <td>4488.651172</td>\n",
       "      <td>1.000000</td>\n",
       "      <td>3962.851904</td>\n",
       "      <td>1.000000</td>\n",
       "      <td>3153.945020</td>\n",
       "      <td>1.000000</td>\n",
       "      <td>1952.472949</td>\n",
       "      <td>1.000000</td>\n",
       "    </tr>\n",
       "    <tr>\n",
       "      <td>2</td>\n",
       "      <td>W3</td>\n",
       "      <td>3.805391e+04</td>\n",
       "      <td>1433.019531</td>\n",
       "      <td>128300.796875</td>\n",
       "      <td>9869.292067</td>\n",
       "      <td>33.355166</td>\n",
       "      <td>3.304804</td>\n",
       "      <td>0.011207</td>\n",
       "      <td>59.711390</td>\n",
       "      <td>2569.758008</td>\n",
       "      <td>...</td>\n",
       "      <td>1433.019531</td>\n",
       "      <td>0.384615</td>\n",
       "      <td>1834.119922</td>\n",
       "      <td>0.923077</td>\n",
       "      <td>2719.716211</td>\n",
       "      <td>1.000000</td>\n",
       "      <td>3036.350000</td>\n",
       "      <td>1.000000</td>\n",
       "      <td>2608.618945</td>\n",
       "      <td>1.000000</td>\n",
       "    </tr>\n",
       "    <tr>\n",
       "      <td>3</td>\n",
       "      <td>W4</td>\n",
       "      <td>7.526712e+05</td>\n",
       "      <td>8785.753906</td>\n",
       "      <td>38126.421875</td>\n",
       "      <td>2932.801683</td>\n",
       "      <td>353.363468</td>\n",
       "      <td>1.912555</td>\n",
       "      <td>0.241198</td>\n",
       "      <td>53.789792</td>\n",
       "      <td>2385.204175</td>\n",
       "      <td>...</td>\n",
       "      <td>8785.753662</td>\n",
       "      <td>0.076923</td>\n",
       "      <td>10030.333789</td>\n",
       "      <td>0.076923</td>\n",
       "      <td>10944.186035</td>\n",
       "      <td>0.076923</td>\n",
       "      <td>11307.123340</td>\n",
       "      <td>0.230769</td>\n",
       "      <td>10949.039746</td>\n",
       "      <td>0.307692</td>\n",
       "    </tr>\n",
       "    <tr>\n",
       "      <td>4</td>\n",
       "      <td>W5</td>\n",
       "      <td>1.684677e+05</td>\n",
       "      <td>4366.634766</td>\n",
       "      <td>23475.000000</td>\n",
       "      <td>1805.769231</td>\n",
       "      <td>705.777154</td>\n",
       "      <td>0.475922</td>\n",
       "      <td>0.191872</td>\n",
       "      <td>10.996876</td>\n",
       "      <td>1186.253516</td>\n",
       "      <td>...</td>\n",
       "      <td>4366.635010</td>\n",
       "      <td>0.230769</td>\n",
       "      <td>4849.282617</td>\n",
       "      <td>0.230769</td>\n",
       "      <td>5131.259888</td>\n",
       "      <td>0.230769</td>\n",
       "      <td>5026.207471</td>\n",
       "      <td>0.307692</td>\n",
       "      <td>4480.213965</td>\n",
       "      <td>0.307692</td>\n",
       "    </tr>\n",
       "  </tbody>\n",
       "</table>\n",
       "<p>5 rows × 27 columns</p>\n",
       "</div>"
      ],
      "text/plain": [
       "  item_id           MSE     abs_error  abs_target_sum  abs_target_mean  \\\n",
       "0      W1  4.538236e+06  24788.652344   464329.437500     35717.649038   \n",
       "1      W2  1.503622e+05   4802.731445    46501.820312      3577.063101   \n",
       "2      W3  3.805391e+04   1433.019531   128300.796875      9869.292067   \n",
       "3      W4  7.526712e+05   8785.753906    38126.421875      2932.801683   \n",
       "4      W5  1.684677e+05   4366.634766    23475.000000      1805.769231   \n",
       "\n",
       "   seasonal_error       MASE     sMAPE        MSIS  QuantileLoss[0.1]  ...  \\\n",
       "0       63.683045  29.942340  0.052180  137.420366        6887.323438  ...   \n",
       "1       12.059746  30.634218  0.098446  147.796364         729.338525  ...   \n",
       "2       33.355166   3.304804  0.011207   59.711390        2569.758008  ...   \n",
       "3      353.363468   1.912555  0.241198   53.789792        2385.204175  ...   \n",
       "4      705.777154   0.475922  0.191872   10.996876        1186.253516  ...   \n",
       "\n",
       "   QuantileLoss[0.5]  Coverage[0.5]  QuantileLoss[0.6]  Coverage[0.6]  \\\n",
       "0       24788.652344       1.000000       26460.190625       1.000000   \n",
       "1        4802.731934       1.000000        4488.651172       1.000000   \n",
       "2        1433.019531       0.384615        1834.119922       0.923077   \n",
       "3        8785.753662       0.076923       10030.333789       0.076923   \n",
       "4        4366.635010       0.230769        4849.282617       0.230769   \n",
       "\n",
       "   QuantileLoss[0.7]  Coverage[0.7]  QuantileLoss[0.8]  Coverage[0.8]  \\\n",
       "0       26350.694531       1.000000       22363.709375       1.000000   \n",
       "1        3962.851904       1.000000        3153.945020       1.000000   \n",
       "2        2719.716211       1.000000        3036.350000       1.000000   \n",
       "3       10944.186035       0.076923       11307.123340       0.230769   \n",
       "4        5131.259888       0.230769        5026.207471       0.307692   \n",
       "\n",
       "   QuantileLoss[0.9]  Coverage[0.9]  \n",
       "0       15866.180469       1.000000  \n",
       "1        1952.472949       1.000000  \n",
       "2        2608.618945       1.000000  \n",
       "3       10949.039746       0.307692  \n",
       "4        4480.213965       0.307692  \n",
       "\n",
       "[5 rows x 27 columns]"
      ]
     },
     "execution_count": 24,
     "metadata": {},
     "output_type": "execute_result"
    }
   ],
   "source": [
    "item_metrics.head()"
   ]
  },
  {
   "cell_type": "code",
   "execution_count": null,
   "metadata": {},
   "outputs": [],
   "source": []
  }
 ],
 "metadata": {
  "kernelspec": {
   "display_name": "Python 3",
   "language": "python",
   "name": "python3"
  },
  "language_info": {
   "codemirror_mode": {
    "name": "ipython",
    "version": 3
   },
   "file_extension": ".py",
   "mimetype": "text/x-python",
   "name": "python",
   "nbconvert_exporter": "python",
   "pygments_lexer": "ipython3",
   "version": "3.6.9"
  }
 },
 "nbformat": 4,
 "nbformat_minor": 2
}
