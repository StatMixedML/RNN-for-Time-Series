{
 "cells": [
  {
   "cell_type": "markdown",
   "metadata": {},
   "source": [
    "# DeepState - Experiments\n",
    "\n",
    "- Using DeepState with gluonts to run some experiments\n",
    "- Follow this installation guide: http://gluon-ts-staging.s3-accelerate.dualstack.amazonaws.com/PR-271/4/install.html\n",
    "\n",
    "Important note! Some of these models are not yet released in version \"0.3.3\" which is currently the most recent version on pypi from where you install packages via `pip install`. Hence, you should follow **Install from Source Code** (which I did) **Install from Github**\n",
    "\n",
    "### Deep State Space Models (Rangapuram et al., 2018)\n",
    "\n",
    "**DeepState** combines state space models (SSM) with a recurrent neural network (RNN). The SSM is applied *locally* to the individual time series that is parametrized using a *global* representation in form of a RNN. The RNN is trained on the entire dataset. \n",
    "\n",
    "- [`DeepStateEstimator`](http://gluon-ts.mxnet.io/master/api/gluonts/gluonts.model.deepstate.html#gluonts.model.deepstate.DeepStateEstimator)\n"
   ]
  },
  {
   "cell_type": "code",
   "execution_count": 2,
   "metadata": {},
   "outputs": [
    {
     "name": "stdout",
     "output_type": "stream",
     "text": [
      "0.4.0\n"
     ]
    }
   ],
   "source": [
    "import gluonts\n",
    "print(gluonts.__version__)"
   ]
  },
  {
   "cell_type": "code",
   "execution_count": 3,
   "metadata": {},
   "outputs": [
    {
     "name": "stderr",
     "output_type": "stream",
     "text": [
      "INFO:root:Using CPU\n"
     ]
    }
   ],
   "source": [
    "# if version does not include DeepState, uncomment the following:\n",
    "# !pip install git+https://github.com/awslabs/gluon-ts.git\n",
    "\n",
    "\n",
    "# standard imports\n",
    "import numpy as np\n",
    "import pandas as pd\n",
    "\n",
    "# vis imports \n",
    "%matplotlib inline\n",
    "import matplotlib.pyplot as plt\n",
    "\n",
    "# json\n",
    "import json\n",
    "\n",
    "# gluon data \n",
    "from gluonts.dataset.repository.datasets import get_dataset, dataset_recipes\n",
    "from gluonts.dataset.util import to_pandas\n",
    "\n",
    "# gluon imports\n",
    "from gluonts.trainer import Trainer\n",
    "from gluonts.evaluation.backtest import make_evaluation_predictions\n",
    "from gluonts.evaluation import Evaluator\n",
    "\n",
    "# model imports \n",
    "from gluonts.model.deepstate import DeepStateEstimator\n",
    "# from gluonts.model.deep_factor import DeepFactorEstimator\n",
    "# from gluonts.model.deepar import DeepAREstimator\n",
    "\n",
    "import mxnet as mx\n",
    "from pprint import pprint"
   ]
  },
  {
   "cell_type": "code",
   "execution_count": 4,
   "metadata": {},
   "outputs": [],
   "source": [
    "def deep_state(seed=42, data=\"m4_quarterly\", epochs=100, batches=50):\n",
    "    dataset = get_dataset(data)\n",
    "\n",
    "    mx.random.seed(seed)\n",
    "    np.random.seed(seed)\n",
    "    \n",
    "    trainer = Trainer(\n",
    "#         ctx=mx.cpu(0),\n",
    "#         ctx=mx.gpu(0),\n",
    "        epochs=epochs,\n",
    "        num_batches_per_epoch=batches,\n",
    "        learning_rate=1e-3,\n",
    "    )\n",
    "\n",
    "    cardinality = int(dataset.metadata.feat_static_cat[0].cardinality)\n",
    "    estimator = DeepStateEstimator(\n",
    "        trainer=trainer,\n",
    "        prediction_length=dataset.metadata.prediction_length,\n",
    "        freq=dataset.metadata.freq,\n",
    "#         past_length=48,\n",
    "        use_feat_static_cat=True,\n",
    "        cardinality=[cardinality],\n",
    "    )\n",
    "\n",
    "    predictor = estimator.train(dataset.train)\n",
    "\n",
    "    forecast_it, ts_it = make_evaluation_predictions(\n",
    "        dataset.test, predictor=predictor, num_samples=100\n",
    "    )\n",
    "\n",
    "    agg_metrics, item_metrics = Evaluator()(\n",
    "        ts_it, forecast_it, num_series=len(dataset.test)\n",
    "    )\n",
    "    metrics = [\"MASE\", \"sMAPE\", \"MSIS\", \"wQuantileLoss[0.5]\", \"wQuantileLoss[0.9]\"]\n",
    "    output = {key: round(value, 8) for key, value in agg_metrics.items() if key in metrics}\n",
    "    output[\"epochs\"] = epochs\n",
    "    output[\"seed\"] = seed\n",
    "\n",
    "    pprint(output)\n"
   ]
  },
  {
   "cell_type": "code",
   "execution_count": 5,
   "metadata": {},
   "outputs": [
    {
     "name": "stderr",
     "output_type": "stream",
     "text": [
      "INFO:root:using dataset already processed in path C:\\Users\\TM\\.mxnet\\gluon-ts\\datasets\\m4_weekly.\n",
      "INFO:root:Using CPU\n",
      "INFO:root:Start model training\n",
      "INFO:root:Epoch[0] Learning rate is 0.001\n",
      "  0%|          | 0/50 [00:00<?, ?it/s]INFO:root:Number of parameters in DeepStateTrainingNetwork: 50821\n",
      "100%|██████████| 50/50 [10:25<00:00, 12.52s/it, avg_epoch_loss=0.0381]\n",
      "INFO:root:Epoch[0] Elapsed time 625.833 seconds\n",
      "INFO:root:Epoch[0] Evaluation metric 'epoch_loss'=0.038141\n",
      "INFO:root:Epoch[1] Learning rate is 0.001\n",
      "100%|██████████| 50/50 [13:00<00:00, 15.62s/it, avg_epoch_loss=-.403]\n",
      "INFO:root:Epoch[1] Elapsed time 781.038 seconds\n",
      "INFO:root:Epoch[1] Evaluation metric 'epoch_loss'=-0.402955\n",
      "INFO:root:Epoch[2] Learning rate is 0.001\n",
      "100%|██████████| 50/50 [09:39<00:00, 11.60s/it, avg_epoch_loss=-.806]\n",
      "INFO:root:Epoch[2] Elapsed time 579.946 seconds\n",
      "INFO:root:Epoch[2] Evaluation metric 'epoch_loss'=-0.806100\n",
      "INFO:root:Epoch[3] Learning rate is 0.001\n",
      "100%|██████████| 50/50 [12:14<00:00, 14.70s/it, avg_epoch_loss=-.972]\n",
      "INFO:root:Epoch[3] Elapsed time 735.000 seconds\n",
      "INFO:root:Epoch[3] Evaluation metric 'epoch_loss'=-0.972448\n",
      "INFO:root:Epoch[4] Learning rate is 0.001\n",
      "100%|██████████| 50/50 [08:45<00:00, 10.51s/it, avg_epoch_loss=-1.04]\n",
      "INFO:root:Epoch[4] Elapsed time 525.533 seconds\n",
      "INFO:root:Epoch[4] Evaluation metric 'epoch_loss'=-1.035251\n",
      "INFO:root:Epoch[5] Learning rate is 0.001\n",
      "100%|██████████| 50/50 [08:28<00:00, 10.18s/it, avg_epoch_loss=-1.4] \n",
      "INFO:root:Epoch[5] Elapsed time 508.911 seconds\n",
      "INFO:root:Epoch[5] Evaluation metric 'epoch_loss'=-1.400258\n",
      "INFO:root:Epoch[6] Learning rate is 0.001\n",
      "100%|██████████| 50/50 [08:40<00:00, 10.40s/it, avg_epoch_loss=-1.41]\n",
      "INFO:root:Epoch[6] Elapsed time 520.230 seconds\n",
      "INFO:root:Epoch[6] Evaluation metric 'epoch_loss'=-1.410588\n",
      "INFO:root:Epoch[7] Learning rate is 0.001\n",
      "100%|██████████| 50/50 [08:37<00:00, 10.34s/it, avg_epoch_loss=-1.58]\n",
      "INFO:root:Epoch[7] Elapsed time 517.032 seconds\n",
      "INFO:root:Epoch[7] Evaluation metric 'epoch_loss'=-1.577966\n",
      "INFO:root:Epoch[8] Learning rate is 0.001\n",
      "100%|██████████| 50/50 [10:44<00:00, 12.90s/it, avg_epoch_loss=-1.53]\n",
      "INFO:root:Epoch[8] Elapsed time 644.985 seconds\n",
      "INFO:root:Epoch[8] Evaluation metric 'epoch_loss'=-1.526957\n",
      "INFO:root:Epoch[9] Learning rate is 0.001\n",
      "100%|██████████| 50/50 [07:13<00:00,  8.68s/it, avg_epoch_loss=-1.62]\n",
      "INFO:root:Epoch[9] Elapsed time 433.927 seconds\n",
      "INFO:root:Epoch[9] Evaluation metric 'epoch_loss'=-1.618901\n",
      "INFO:root:Epoch[10] Learning rate is 0.001\n",
      "100%|██████████| 50/50 [09:39<00:00, 11.59s/it, avg_epoch_loss=-1.62]\n",
      "INFO:root:Epoch[10] Elapsed time 579.625 seconds\n",
      "INFO:root:Epoch[10] Evaluation metric 'epoch_loss'=-1.621460\n",
      "INFO:root:Epoch[11] Learning rate is 0.001\n",
      "100%|██████████| 50/50 [12:11<00:00, 14.63s/it, avg_epoch_loss=-1.63]\n",
      "INFO:root:Epoch[11] Elapsed time 731.873 seconds\n",
      "INFO:root:Epoch[11] Evaluation metric 'epoch_loss'=-1.629691\n",
      "INFO:root:Epoch[12] Learning rate is 0.001\n",
      "100%|██████████| 50/50 [08:33<00:00, 10.26s/it, avg_epoch_loss=-1.69]\n",
      "INFO:root:Epoch[12] Elapsed time 513.142 seconds\n",
      "INFO:root:Epoch[12] Evaluation metric 'epoch_loss'=-1.690451\n",
      "INFO:root:Epoch[13] Learning rate is 0.001\n",
      "100%|██████████| 50/50 [07:56<00:00,  9.54s/it, avg_epoch_loss=-1.63]\n",
      "INFO:root:Epoch[13] Elapsed time 476.777 seconds\n",
      "INFO:root:Epoch[13] Evaluation metric 'epoch_loss'=-1.625868\n",
      "INFO:root:Epoch[14] Learning rate is 0.001\n",
      "100%|██████████| 50/50 [08:15<00:00,  9.90s/it, avg_epoch_loss=-1.74]\n",
      "INFO:root:Epoch[14] Elapsed time 495.289 seconds\n",
      "INFO:root:Epoch[14] Evaluation metric 'epoch_loss'=-1.737424\n",
      "INFO:root:Epoch[15] Learning rate is 0.001\n",
      "100%|██████████| 50/50 [10:29<00:00, 12.59s/it, avg_epoch_loss=-1.65]\n",
      "INFO:root:Epoch[15] Elapsed time 629.998 seconds\n",
      "INFO:root:Epoch[15] Evaluation metric 'epoch_loss'=-1.648217\n",
      "INFO:root:Epoch[16] Learning rate is 0.001\n",
      "100%|██████████| 50/50 [09:14<00:00, 11.08s/it, avg_epoch_loss=-1.76]\n",
      "INFO:root:Epoch[16] Elapsed time 554.171 seconds\n",
      "INFO:root:Epoch[16] Evaluation metric 'epoch_loss'=-1.764318\n",
      "INFO:root:Epoch[17] Learning rate is 0.001\n",
      "100%|██████████| 50/50 [08:41<00:00, 10.43s/it, avg_epoch_loss=-1.69]\n",
      "INFO:root:Epoch[17] Elapsed time 521.326 seconds\n",
      "INFO:root:Epoch[17] Evaluation metric 'epoch_loss'=-1.688523\n",
      "INFO:root:Epoch[18] Learning rate is 0.001\n",
      "100%|██████████| 50/50 [08:35<00:00, 10.32s/it, avg_epoch_loss=-1.75]\n",
      "INFO:root:Epoch[18] Elapsed time 516.017 seconds\n",
      "INFO:root:Epoch[18] Evaluation metric 'epoch_loss'=-1.750841\n",
      "INFO:root:Epoch[19] Learning rate is 0.001\n",
      "100%|██████████| 50/50 [10:07<00:00, 12.14s/it, avg_epoch_loss=-1.75]\n",
      "INFO:root:Epoch[19] Elapsed time 607.276 seconds\n",
      "INFO:root:Epoch[19] Evaluation metric 'epoch_loss'=-1.745444\n",
      "INFO:root:Epoch[20] Learning rate is 0.001\n",
      "100%|██████████| 50/50 [07:42<00:00,  9.25s/it, avg_epoch_loss=-1.74]\n",
      "INFO:root:Epoch[20] Elapsed time 462.748 seconds\n",
      "INFO:root:Epoch[20] Evaluation metric 'epoch_loss'=-1.738468\n",
      "INFO:root:Epoch[21] Learning rate is 0.001\n",
      "100%|██████████| 50/50 [08:01<00:00,  9.63s/it, avg_epoch_loss=-1.8] \n",
      "INFO:root:Epoch[21] Elapsed time 481.714 seconds\n",
      "INFO:root:Epoch[21] Evaluation metric 'epoch_loss'=-1.797790\n",
      "INFO:root:Epoch[22] Learning rate is 0.001\n",
      "100%|██████████| 50/50 [08:59<00:00, 10.78s/it, avg_epoch_loss=-1.72]\n",
      "INFO:root:Epoch[22] Elapsed time 539.110 seconds\n",
      "INFO:root:Epoch[22] Evaluation metric 'epoch_loss'=-1.724423\n",
      "INFO:root:Epoch[23] Learning rate is 0.001\n",
      "100%|██████████| 50/50 [11:59<00:00, 14.38s/it, avg_epoch_loss=-1.83]\n",
      "INFO:root:Epoch[23] Elapsed time 719.266 seconds\n",
      "INFO:root:Epoch[23] Evaluation metric 'epoch_loss'=-1.834430\n",
      "INFO:root:Epoch[24] Learning rate is 0.001\n",
      "100%|██████████| 50/50 [08:54<00:00, 10.70s/it, avg_epoch_loss=-1.72]\n",
      "INFO:root:Epoch[24] Elapsed time 534.869 seconds\n",
      "INFO:root:Epoch[24] Evaluation metric 'epoch_loss'=-1.721679\n",
      "INFO:root:Epoch[25] Learning rate is 0.001\n",
      "100%|██████████| 50/50 [09:40<00:00, 11.61s/it, avg_epoch_loss=-1.85]\n",
      "INFO:root:Epoch[25] Elapsed time 580.570 seconds\n",
      "INFO:root:Epoch[25] Evaluation metric 'epoch_loss'=-1.853489\n",
      "INFO:root:Epoch[26] Learning rate is 0.001\n",
      "100%|██████████| 50/50 [09:07<00:00, 10.95s/it, avg_epoch_loss=-1.75]\n",
      "INFO:root:Epoch[26] Elapsed time 548.098 seconds\n",
      "INFO:root:Epoch[26] Evaluation metric 'epoch_loss'=-1.746677\n",
      "INFO:root:Epoch[27] Learning rate is 0.001\n",
      " 94%|█████████▍| 47/50 [08:17<00:31, 10.59s/it, avg_epoch_loss=-1.83]\n"
     ]
    },
    {
     "ename": "KeyboardInterrupt",
     "evalue": "",
     "output_type": "error",
     "traceback": [
      "\u001b[1;31m---------------------------------------------------------------------------\u001b[0m",
      "\u001b[1;31mKeyboardInterrupt\u001b[0m                         Traceback (most recent call last)",
      "\u001b[1;32m<timed exec>\u001b[0m in \u001b[0;36m<module>\u001b[1;34m\u001b[0m\n",
      "\u001b[1;32m<ipython-input-4-f84e8a9cd8d4>\u001b[0m in \u001b[0;36mdeep_state\u001b[1;34m(seed, data, epochs, batches)\u001b[0m\n\u001b[0;32m     23\u001b[0m     )\n\u001b[0;32m     24\u001b[0m \u001b[1;33m\u001b[0m\u001b[0m\n\u001b[1;32m---> 25\u001b[1;33m     \u001b[0mpredictor\u001b[0m \u001b[1;33m=\u001b[0m \u001b[0mestimator\u001b[0m\u001b[1;33m.\u001b[0m\u001b[0mtrain\u001b[0m\u001b[1;33m(\u001b[0m\u001b[0mdataset\u001b[0m\u001b[1;33m.\u001b[0m\u001b[0mtrain\u001b[0m\u001b[1;33m)\u001b[0m\u001b[1;33m\u001b[0m\u001b[1;33m\u001b[0m\u001b[0m\n\u001b[0m\u001b[0;32m     26\u001b[0m \u001b[1;33m\u001b[0m\u001b[0m\n\u001b[0;32m     27\u001b[0m     forecast_it, ts_it = make_evaluation_predictions(\n",
      "\u001b[1;32m~\\Anaconda3\\lib\\site-packages\\gluonts\\model\\estimator.py\u001b[0m in \u001b[0;36mtrain\u001b[1;34m(self, training_data)\u001b[0m\n\u001b[0;32m    199\u001b[0m     \u001b[1;32mdef\u001b[0m \u001b[0mtrain\u001b[0m\u001b[1;33m(\u001b[0m\u001b[0mself\u001b[0m\u001b[1;33m,\u001b[0m \u001b[0mtraining_data\u001b[0m\u001b[1;33m:\u001b[0m \u001b[0mDataset\u001b[0m\u001b[1;33m)\u001b[0m \u001b[1;33m->\u001b[0m \u001b[0mPredictor\u001b[0m\u001b[1;33m:\u001b[0m\u001b[1;33m\u001b[0m\u001b[1;33m\u001b[0m\u001b[0m\n\u001b[0;32m    200\u001b[0m \u001b[1;33m\u001b[0m\u001b[0m\n\u001b[1;32m--> 201\u001b[1;33m         \u001b[1;32mreturn\u001b[0m \u001b[0mself\u001b[0m\u001b[1;33m.\u001b[0m\u001b[0mtrain_model\u001b[0m\u001b[1;33m(\u001b[0m\u001b[0mtraining_data\u001b[0m\u001b[1;33m)\u001b[0m\u001b[1;33m.\u001b[0m\u001b[0mpredictor\u001b[0m\u001b[1;33m\u001b[0m\u001b[1;33m\u001b[0m\u001b[0m\n\u001b[0m",
      "\u001b[1;32m~\\Anaconda3\\lib\\site-packages\\gluonts\\model\\estimator.py\u001b[0m in \u001b[0;36mtrain_model\u001b[1;34m(self, training_data)\u001b[0m\n\u001b[0;32m    185\u001b[0m             \u001b[0mnet\u001b[0m\u001b[1;33m=\u001b[0m\u001b[0mtrained_net\u001b[0m\u001b[1;33m,\u001b[0m\u001b[1;33m\u001b[0m\u001b[1;33m\u001b[0m\u001b[0m\n\u001b[0;32m    186\u001b[0m             \u001b[0minput_names\u001b[0m\u001b[1;33m=\u001b[0m\u001b[0mget_hybrid_forward_input_names\u001b[0m\u001b[1;33m(\u001b[0m\u001b[0mtrained_net\u001b[0m\u001b[1;33m)\u001b[0m\u001b[1;33m,\u001b[0m\u001b[1;33m\u001b[0m\u001b[1;33m\u001b[0m\u001b[0m\n\u001b[1;32m--> 187\u001b[1;33m             \u001b[0mtrain_iter\u001b[0m\u001b[1;33m=\u001b[0m\u001b[0mtraining_data_loader\u001b[0m\u001b[1;33m,\u001b[0m\u001b[1;33m\u001b[0m\u001b[1;33m\u001b[0m\u001b[0m\n\u001b[0m\u001b[0;32m    188\u001b[0m         )\n\u001b[0;32m    189\u001b[0m \u001b[1;33m\u001b[0m\u001b[0m\n",
      "\u001b[1;32m~\\Anaconda3\\lib\\site-packages\\gluonts\\trainer\\_base.py\u001b[0m in \u001b[0;36m__call__\u001b[1;34m(self, net, input_names, train_iter)\u001b[0m\n\u001b[0;32m    258\u001b[0m                             \u001b[0mtrainer\u001b[0m\u001b[1;33m.\u001b[0m\u001b[0mstep\u001b[0m\u001b[1;33m(\u001b[0m\u001b[0mbatch_size\u001b[0m\u001b[1;33m)\u001b[0m\u001b[1;33m\u001b[0m\u001b[1;33m\u001b[0m\u001b[0m\n\u001b[0;32m    259\u001b[0m \u001b[1;33m\u001b[0m\u001b[0m\n\u001b[1;32m--> 260\u001b[1;33m                             \u001b[0mepoch_loss\u001b[0m\u001b[1;33m.\u001b[0m\u001b[0mupdate\u001b[0m\u001b[1;33m(\u001b[0m\u001b[1;32mNone\u001b[0m\u001b[1;33m,\u001b[0m \u001b[0mpreds\u001b[0m\u001b[1;33m=\u001b[0m\u001b[0mloss\u001b[0m\u001b[1;33m)\u001b[0m\u001b[1;33m\u001b[0m\u001b[1;33m\u001b[0m\u001b[0m\n\u001b[0m\u001b[0;32m    261\u001b[0m                             it.set_postfix(\n\u001b[0;32m    262\u001b[0m                                 ordered_dict={\n",
      "\u001b[1;32m~\\Anaconda3\\lib\\site-packages\\mxnet\\metric.py\u001b[0m in \u001b[0;36mupdate\u001b[1;34m(self, _, preds)\u001b[0m\n\u001b[0;32m   1287\u001b[0m \u001b[1;33m\u001b[0m\u001b[0m\n\u001b[0;32m   1288\u001b[0m         \u001b[1;32mfor\u001b[0m \u001b[0mpred\u001b[0m \u001b[1;32min\u001b[0m \u001b[0mpreds\u001b[0m\u001b[1;33m:\u001b[0m\u001b[1;33m\u001b[0m\u001b[1;33m\u001b[0m\u001b[0m\n\u001b[1;32m-> 1289\u001b[1;33m             \u001b[0mself\u001b[0m\u001b[1;33m.\u001b[0m\u001b[0msum_metric\u001b[0m \u001b[1;33m+=\u001b[0m \u001b[0mndarray\u001b[0m\u001b[1;33m.\u001b[0m\u001b[0msum\u001b[0m\u001b[1;33m(\u001b[0m\u001b[0mpred\u001b[0m\u001b[1;33m)\u001b[0m\u001b[1;33m.\u001b[0m\u001b[0masscalar\u001b[0m\u001b[1;33m(\u001b[0m\u001b[1;33m)\u001b[0m\u001b[1;33m\u001b[0m\u001b[1;33m\u001b[0m\u001b[0m\n\u001b[0m\u001b[0;32m   1290\u001b[0m             \u001b[0mself\u001b[0m\u001b[1;33m.\u001b[0m\u001b[0mnum_inst\u001b[0m \u001b[1;33m+=\u001b[0m \u001b[0mpred\u001b[0m\u001b[1;33m.\u001b[0m\u001b[0msize\u001b[0m\u001b[1;33m\u001b[0m\u001b[1;33m\u001b[0m\u001b[0m\n\u001b[0;32m   1291\u001b[0m \u001b[1;33m\u001b[0m\u001b[0m\n",
      "\u001b[1;32m~\\Anaconda3\\lib\\site-packages\\mxnet\\ndarray\\ndarray.py\u001b[0m in \u001b[0;36masscalar\u001b[1;34m(self)\u001b[0m\n\u001b[0;32m   1996\u001b[0m         \u001b[1;32mif\u001b[0m \u001b[0mself\u001b[0m\u001b[1;33m.\u001b[0m\u001b[0mshape\u001b[0m \u001b[1;33m!=\u001b[0m \u001b[1;33m(\u001b[0m\u001b[1;36m1\u001b[0m\u001b[1;33m,\u001b[0m\u001b[1;33m)\u001b[0m\u001b[1;33m:\u001b[0m\u001b[1;33m\u001b[0m\u001b[1;33m\u001b[0m\u001b[0m\n\u001b[0;32m   1997\u001b[0m             \u001b[1;32mraise\u001b[0m \u001b[0mValueError\u001b[0m\u001b[1;33m(\u001b[0m\u001b[1;34m\"The current array is not a scalar\"\u001b[0m\u001b[1;33m)\u001b[0m\u001b[1;33m\u001b[0m\u001b[1;33m\u001b[0m\u001b[0m\n\u001b[1;32m-> 1998\u001b[1;33m         \u001b[1;32mreturn\u001b[0m \u001b[0mself\u001b[0m\u001b[1;33m.\u001b[0m\u001b[0masnumpy\u001b[0m\u001b[1;33m(\u001b[0m\u001b[1;33m)\u001b[0m\u001b[1;33m[\u001b[0m\u001b[1;36m0\u001b[0m\u001b[1;33m]\u001b[0m\u001b[1;33m\u001b[0m\u001b[1;33m\u001b[0m\u001b[0m\n\u001b[0m\u001b[0;32m   1999\u001b[0m \u001b[1;33m\u001b[0m\u001b[0m\n\u001b[0;32m   2000\u001b[0m     \u001b[1;32mdef\u001b[0m \u001b[0mastype\u001b[0m\u001b[1;33m(\u001b[0m\u001b[0mself\u001b[0m\u001b[1;33m,\u001b[0m \u001b[0mdtype\u001b[0m\u001b[1;33m,\u001b[0m \u001b[0mcopy\u001b[0m\u001b[1;33m=\u001b[0m\u001b[1;32mTrue\u001b[0m\u001b[1;33m)\u001b[0m\u001b[1;33m:\u001b[0m\u001b[1;33m\u001b[0m\u001b[1;33m\u001b[0m\u001b[0m\n",
      "\u001b[1;32m~\\Anaconda3\\lib\\site-packages\\mxnet\\ndarray\\ndarray.py\u001b[0m in \u001b[0;36masnumpy\u001b[1;34m(self)\u001b[0m\n\u001b[0;32m   1978\u001b[0m             \u001b[0mself\u001b[0m\u001b[1;33m.\u001b[0m\u001b[0mhandle\u001b[0m\u001b[1;33m,\u001b[0m\u001b[1;33m\u001b[0m\u001b[1;33m\u001b[0m\u001b[0m\n\u001b[0;32m   1979\u001b[0m             \u001b[0mdata\u001b[0m\u001b[1;33m.\u001b[0m\u001b[0mctypes\u001b[0m\u001b[1;33m.\u001b[0m\u001b[0mdata_as\u001b[0m\u001b[1;33m(\u001b[0m\u001b[0mctypes\u001b[0m\u001b[1;33m.\u001b[0m\u001b[0mc_void_p\u001b[0m\u001b[1;33m)\u001b[0m\u001b[1;33m,\u001b[0m\u001b[1;33m\u001b[0m\u001b[1;33m\u001b[0m\u001b[0m\n\u001b[1;32m-> 1980\u001b[1;33m             ctypes.c_size_t(data.size)))\n\u001b[0m\u001b[0;32m   1981\u001b[0m         \u001b[1;32mreturn\u001b[0m \u001b[0mdata\u001b[0m\u001b[1;33m\u001b[0m\u001b[1;33m\u001b[0m\u001b[0m\n\u001b[0;32m   1982\u001b[0m \u001b[1;33m\u001b[0m\u001b[0m\n",
      "\u001b[1;31mKeyboardInterrupt\u001b[0m: "
     ]
    }
   ],
   "source": [
    "%%time\n",
    "res = deep_state(data=\"m4_weekly\", seed=42, epochs=100, batches=50)\n",
    "pprint(res)"
   ]
  },
  {
   "cell_type": "code",
   "execution_count": 6,
   "metadata": {},
   "outputs": [
    {
     "name": "stderr",
     "output_type": "stream",
     "text": [
      "[NbConvertApp] Converting notebook DeepState01-DeepState_experiments_with_gluonts.ipynb to html\n",
      "[NbConvertApp] Writing 318474 bytes to ./html_outputs\\DeepState01-DeepState_experiments_with_gluonts.html\n"
     ]
    }
   ],
   "source": [
    "!jupyter nbconvert --output-dir=\"./html_outputs\" --to html DeepState01-DeepState_experiments_with_gluonts.ipynb"
   ]
  },
  {
   "cell_type": "code",
   "execution_count": 7,
   "metadata": {},
   "outputs": [],
   "source": [
    "# %%time\n",
    "# results = []\n",
    "\n",
    "# if __name__ == \"__main__\":\n",
    "#     for i in range(42, 45):\n",
    "#         print(\"Seed:\", i)\n",
    "#         res = deep_state(data=\"m4_weekly\", seed=i, epochs=1, batches=25)\n",
    "#         pprint(res)\n",
    "#         results.append(res)\n",
    "    \n",
    "# results"
   ]
  }
 ],
 "metadata": {
  "kernelspec": {
   "display_name": "Python 3",
   "language": "python",
   "name": "python3"
  },
  "language_info": {
   "codemirror_mode": {
    "name": "ipython",
    "version": 3
   },
   "file_extension": ".py",
   "mimetype": "text/x-python",
   "name": "python",
   "nbconvert_exporter": "python",
   "pygments_lexer": "ipython3",
   "version": "3.6.9"
  }
 },
 "nbformat": 4,
 "nbformat_minor": 4
}
